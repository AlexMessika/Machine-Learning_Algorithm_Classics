{
 "cells": [
  {
   "cell_type": "markdown",
   "source": "# Java vs Python\n\n\n\nContrairement à java les variables en python sont typées dynamiquement. \nElles ont bien un type, mais ce n'est pas au développeur de le spécifier à la création de variables : c'est python qui devine du mieux qu'il peut le type des variables lors de leur création. \n\n\n![sd.s](python_vs_java.png)",
   "metadata": {
    "tags": [],
    "cell_id": "00001-80080fcd-856e-42ac-87a1-4af6c7fd492f",
    "deepnote_cell_type": "markdown"
   }
  },
  {
   "cell_type": "code",
   "metadata": {
    "tags": [],
    "cell_id": "00002-a2e33f0b-9ba4-4ef7-9a19-7868678f0e74",
    "deepnote_to_be_reexecuted": false,
    "source_hash": "4834deb2",
    "execution_millis": 119,
    "execution_start": 1613744024576,
    "deepnote_cell_type": "code"
   },
   "source": "a = 2 #typage dynamique\n\nprint(type(a))\n",
   "execution_count": null,
   "outputs": [
    {
     "name": "stdout",
     "text": "<class 'int'>\n",
     "output_type": "stream"
    }
   ]
  },
  {
   "cell_type": "markdown",
   "source": "",
   "metadata": {
    "tags": [],
    "cell_id": "00002-8bfd1c48-2153-4852-b59f-a77f8f3e31de",
    "deepnote_cell_type": "markdown"
   }
  },
  {
   "cell_type": "code",
   "metadata": {
    "tags": [],
    "cell_id": "00003-8089a645-31e0-4dd8-83b6-dc1d529d5c83",
    "deepnote_to_be_reexecuted": false,
    "source_hash": "cc76fc92",
    "execution_millis": 0,
    "execution_start": 1613386338091,
    "deepnote_cell_type": "code"
   },
   "source": "b = 52.1\nprint(type(b))",
   "execution_count": null,
   "outputs": [
    {
     "name": "stdout",
     "text": "<class 'float'>\n",
     "output_type": "stream"
    }
   ]
  },
  {
   "cell_type": "code",
   "metadata": {
    "tags": [],
    "cell_id": "00004-91ddffe1-862d-4902-bfad-92f1bdd232f5",
    "deepnote_to_be_reexecuted": false,
    "source_hash": "9e17b3e2",
    "execution_millis": 9,
    "execution_start": 1613386347232,
    "deepnote_cell_type": "code"
   },
   "source": "message = \"coucou\"\nprint(type(message))",
   "execution_count": null,
   "outputs": [
    {
     "name": "stdout",
     "text": "<class 'str'>\n",
     "output_type": "stream"
    }
   ]
  },
  {
   "cell_type": "code",
   "metadata": {
    "tags": [],
    "cell_id": "00005-73a81ddc-e999-4fcd-8d39-c18e90d71f24",
    "deepnote_to_be_reexecuted": false,
    "source_hash": "829fa5ae",
    "execution_millis": 1,
    "execution_start": 1613576165731,
    "deepnote_cell_type": "code"
   },
   "source": "# les fonctions peuvent exister d'elle même en python\n#pas besoin de classe\n#on utilise le mot clé def\n\ndef ma_premiere_fonction(argument1, argument2):# # convention de nommage snake_case : standard python\n    \n    #les instructions décalées sont dans la fonction\n    print(\"dans la fonction\")\n    return argument1 + argument2 # pas {} ??? comment python sait que la fonction débute et s'arrête\n\n#les instructions sans décalage sont en dehors de la fonction\nprint(\"en dehors de la fonction\")\nresult = ma_premiere_fonction(3, 5)\nresult2 = ma_premiere_fonction(1, 1)\nprint(result, result2)\n",
   "execution_count": null,
   "outputs": [
    {
     "name": "stdout",
     "text": "en dehors de la fonction\ndans la fonction\ndans la fonction\n8 2\n",
     "output_type": "stream"
    }
   ]
  },
  {
   "cell_type": "code",
   "metadata": {
    "tags": [],
    "cell_id": "00006-36f3cbeb-a3d8-45cd-ae69-eaadda9e0db1",
    "deepnote_cell_type": "code"
   },
   "source": "",
   "execution_count": null,
   "outputs": []
  },
  {
   "cell_type": "markdown",
   "source": "Pas d'accolade en python ! \nPour savoir quand une fonction s'arrête\nPour savoir si une instruction est dans une fonction ou non : c'est l'indentation\n\nAvantage : ça vous force à indenter le code",
   "metadata": {
    "tags": [],
    "cell_id": "00007-7b22caa1-678b-4453-84ad-2666676b5232",
    "deepnote_cell_type": "markdown"
   }
  },
  {
   "cell_type": "code",
   "metadata": {
    "tags": [],
    "cell_id": "00008-55d4b187-ec07-4775-b0ae-3b52c88e73e4",
    "deepnote_to_be_reexecuted": false,
    "source_hash": "8a638946",
    "execution_millis": 13,
    "execution_start": 1613386542499,
    "deepnote_cell_type": "code"
   },
   "source": "#code incorrect\ndef ma_premiere_fonction(argument1, argument2): # convention de nommage snake_case : standard python\n    \n    #les instructions décalées sont dans la fonction\nprint(\"dans la fonction\")\n    return argument1 + argument2 # pas {} ??? comment python sait que la fonction débute et s'arrête",
   "execution_count": null,
   "outputs": [
    {
     "output_type": "error",
     "ename": "IndentationError",
     "evalue": "expected an indented block (<ipython-input-23-99940091c6fc>, line 5)",
     "traceback": [
      "\u001b[0;36m  File \u001b[0;32m\"<ipython-input-23-99940091c6fc>\"\u001b[0;36m, line \u001b[0;32m5\u001b[0m\n\u001b[0;31m    print(\"dans la fonction\")\u001b[0m\n\u001b[0m        ^\u001b[0m\n\u001b[0;31mIndentationError\u001b[0m\u001b[0;31m:\u001b[0m expected an indented block\n"
     ]
    }
   ]
  },
  {
   "cell_type": "markdown",
   "source": "IndentationError: expected an indented block\n\nsignifie qu'il y a un problème d'indentation",
   "metadata": {
    "tags": [],
    "cell_id": "00009-8fd4ed1f-bb19-48e3-98f7-8c9785050d5a",
    "deepnote_cell_type": "markdown"
   }
  },
  {
   "cell_type": "markdown",
   "source": "# Les conditions ou également branchement conditionnel ! \n\npermet d'executer des instructions uniquement si une condition est respectée\n\n\n",
   "metadata": {
    "tags": [],
    "cell_id": "00010-f31a08d9-bd53-4e1b-9e64-33e554ff33b8",
    "deepnote_cell_type": "markdown"
   }
  },
  {
   "cell_type": "code",
   "metadata": {
    "tags": [],
    "cell_id": "00009-148bb620-5858-4ffc-b21c-170f836412c3",
    "deepnote_to_be_reexecuted": false,
    "source_hash": "6f0298c",
    "execution_millis": 7,
    "execution_start": 1613386575623,
    "deepnote_cell_type": "code"
   },
   "source": "age = 65\nif age > 75:\n    #pareil pas d'accolade, c'est l'indentation qui permet de savoir\n    #si une instruction est dans un if ou non\n    print(\"tu as le droit au vaccin\")\nelif age>55: #else if    \n    print(\"bientôôt\")\nelse: \n    print('pas le droit')\n",
   "execution_count": null,
   "outputs": [
    {
     "name": "stdout",
     "text": "bientôôt\n",
     "output_type": "stream"
    }
   ]
  },
  {
   "cell_type": "code",
   "metadata": {
    "tags": [],
    "cell_id": "00012-84cc8e3a-5dde-4c3f-9d2a-72c9c935a141",
    "deepnote_to_be_reexecuted": false,
    "source_hash": "4b2651a9",
    "execution_start": 1613378733443,
    "execution_millis": 8,
    "deepnote_cell_type": "code"
   },
   "source": "age = 54\nmaladie_grave = True #booléen True ou False\nif age > 75:\n    print(\"ok vaccin\")\n\nelif age > 55 and maladie_grave:\n    print(\"ok\")\nelse:\n    print(\"attend\")\n",
   "execution_count": null,
   "outputs": [
    {
     "name": "stdout",
     "text": "attend\n",
     "output_type": "stream"
    }
   ]
  },
  {
   "cell_type": "code",
   "metadata": {
    "tags": [],
    "cell_id": "00013-7dd40e22-587e-490a-8474-f7c1af2ef700",
    "deepnote_to_be_reexecuted": false,
    "source_hash": "9f36911f",
    "execution_start": 1613378755131,
    "execution_millis": 7,
    "deepnote_cell_type": "code"
   },
   "source": "maladie_grave = True #T majuscule. False : F majuscule\nprint(not maladie_grave)",
   "execution_count": null,
   "outputs": [
    {
     "name": "stdout",
     "text": "False\n",
     "output_type": "stream"
    }
   ]
  },
  {
   "cell_type": "code",
   "metadata": {
    "tags": [],
    "cell_id": "00014-c92ab6ce-9c2f-49db-ac32-e19e39d39a1f",
    "deepnote_to_be_reexecuted": false,
    "source_hash": "5fc4399d",
    "execution_start": 1613378778539,
    "execution_millis": 440,
    "deepnote_cell_type": "code"
   },
   "source": "a = true #il faut la majuscule sinon il croit que c'est une variable",
   "execution_count": null,
   "outputs": [
    {
     "output_type": "error",
     "ename": "NameError",
     "evalue": "name 'true' is not defined",
     "traceback": [
      "\u001b[0;31m---------------------------------------------------------------------------\u001b[0m",
      "\u001b[0;31mNameError\u001b[0m                                 Traceback (most recent call last)",
      "\u001b[0;32m<ipython-input-11-1045d4065890>\u001b[0m in \u001b[0;36m<module>\u001b[0;34m\u001b[0m\n\u001b[0;32m----> 1\u001b[0;31m \u001b[0ma\u001b[0m \u001b[0;34m=\u001b[0m \u001b[0mtrue\u001b[0m \u001b[0;31m#il faut la majuscule\u001b[0m\u001b[0;34m\u001b[0m\u001b[0;34m\u001b[0m\u001b[0m\n\u001b[0m",
      "\u001b[0;31mNameError\u001b[0m: name 'true' is not defined"
     ]
    }
   ]
  },
  {
   "cell_type": "code",
   "metadata": {
    "tags": [],
    "cell_id": "00015-58adf69c-e65f-4655-846c-4ba2a7d0ac22",
    "deepnote_to_be_reexecuted": false,
    "source_hash": "448bbf2d",
    "execution_start": 1613378809576,
    "execution_millis": 1,
    "deepnote_cell_type": "code"
   },
   "source": "true = True\nprint(true)",
   "execution_count": null,
   "outputs": [
    {
     "name": "stdout",
     "text": "True\n",
     "output_type": "stream"
    }
   ]
  },
  {
   "cell_type": "code",
   "metadata": {
    "tags": [],
    "cell_id": "00015-40a6eaa8-9737-4337-97c9-d2c8794f9c4a",
    "deepnote_to_be_reexecuted": false,
    "source_hash": "99a92283",
    "execution_millis": 13,
    "execution_start": 1613378842424,
    "deepnote_cell_type": "code"
   },
   "source": "sum = 2 #ne pas utiliser des nom de fonction sstandard comme nom de variable\nprint(sum)",
   "execution_count": null,
   "outputs": [
    {
     "name": "stdout",
     "text": "2\n",
     "output_type": "stream"
    }
   ]
  },
  {
   "cell_type": "code",
   "metadata": {
    "tags": [],
    "cell_id": "00017-ecf3b557-ffed-4680-8c9d-ce31b2e5fc50",
    "deepnote_to_be_reexecuted": false,
    "source_hash": "43b0762c",
    "execution_start": 1613378855267,
    "execution_millis": 5,
    "deepnote_cell_type": "code"
   },
   "source": "sum([1, 2, 3]) #ne marche plus, jai cassé la fonction sum",
   "execution_count": null,
   "outputs": [
    {
     "output_type": "error",
     "ename": "TypeError",
     "evalue": "'int' object is not callable",
     "traceback": [
      "\u001b[0;31m---------------------------------------------------------------------------\u001b[0m",
      "\u001b[0;31mTypeError\u001b[0m                                 Traceback (most recent call last)",
      "\u001b[0;32m<ipython-input-15-5b30f1e835bd>\u001b[0m in \u001b[0;36m<module>\u001b[0;34m\u001b[0m\n\u001b[0;32m----> 1\u001b[0;31m \u001b[0msum\u001b[0m\u001b[0;34m(\u001b[0m\u001b[0;34m[\u001b[0m\u001b[0;36m1\u001b[0m\u001b[0;34m,\u001b[0m \u001b[0;36m2\u001b[0m\u001b[0;34m,\u001b[0m \u001b[0;36m3\u001b[0m\u001b[0;34m]\u001b[0m\u001b[0;34m)\u001b[0m\u001b[0;34m\u001b[0m\u001b[0;34m\u001b[0m\u001b[0m\n\u001b[0m",
      "\u001b[0;31mTypeError\u001b[0m: 'int' object is not callable"
     ]
    }
   ]
  },
  {
   "cell_type": "code",
   "metadata": {
    "tags": [],
    "cell_id": "00018-1cdd84b9-6fe8-4b30-b037-2e82322e76eb",
    "deepnote_to_be_reexecuted": false,
    "source_hash": "2226bd83",
    "execution_start": 1613378951415,
    "execution_millis": 8,
    "deepnote_cell_type": "code"
   },
   "source": "def can_i_get_vaccinated(age):\n\n    if age > 75:\n        return True #double décalage\n    else:\n        return False #double décalage avec tab\n\nresult = can_i_get_vaccinated(55)\nprint(result)\n",
   "execution_count": null,
   "outputs": [
    {
     "name": "stdout",
     "text": "False\n",
     "output_type": "stream"
    }
   ]
  },
  {
   "cell_type": "code",
   "metadata": {
    "tags": [],
    "cell_id": "00019-9388f84e-7392-4dee-91c0-841ef418542c",
    "deepnote_to_be_reexecuted": false,
    "source_hash": "f70d81ae",
    "execution_millis": 10,
    "execution_start": 1613489462056,
    "deepnote_cell_type": "code"
   },
   "source": "a = 42\nprint(type(a))\nprint(type(a) == int)\n\nb = \"coucou\"\nprint(type(b))\nprint(type(b) == str)\n\n\nis_b_str = isinstance(b, str)\nprint(is_b_str)",
   "execution_count": null,
   "outputs": [
    {
     "name": "stdout",
     "text": "<class 'int'>\nTrue\n<class 'str'>\nTrue\nTrue\n",
     "output_type": "stream"
    }
   ]
  },
  {
   "cell_type": "code",
   "metadata": {
    "tags": [],
    "cell_id": "00020-16b44aea-1ada-4cab-bb15-3f83b8adef01",
    "deepnote_cell_type": "code"
   },
   "source": "",
   "execution_count": null,
   "outputs": []
  },
  {
   "cell_type": "markdown",
   "source": "<a style='text-decoration:none;line-height:16px;display:flex;color:#5B5B62;padding:10px;justify-content:end;' href='https://deepnote.com?utm_source=created-in-deepnote-cell&projectId=25ad01f7-ec4b-4ac8-bce6-a3745ef02c96' target=\"_blank\">\n<img alt='Created in deepnote.com' style='display:inline;max-height:16px;margin:0px;margin-right:7.5px;' src='data:image/svg+xml;base64,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' > </img>\nCreated in <span style='font-weight:600;margin-left:4px;'>Deepnote</span></a>",
   "metadata": {
    "tags": [],
    "created_in_deepnote_cell": true,
    "deepnote_cell_type": "markdown"
   }
  }
 ],
 "nbformat": 4,
 "nbformat_minor": 2,
 "metadata": {
  "orig_nbformat": 2,
  "deepnote_notebook_id": "515f1acf-b74c-4f7d-a86d-8cbe4c1d2e22",
  "deepnote": {},
  "deepnote_execution_queue": []
 }
}