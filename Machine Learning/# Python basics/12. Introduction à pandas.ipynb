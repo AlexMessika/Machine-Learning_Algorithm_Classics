{
 "cells": [
  {
   "cell_type": "markdown",
   "source": "# Introduction à pandas\n\nPandas est une librairie qui se base sur numpy et qui permet de manipuler et analyser des données tabulaires issues de csv, table sql ou autres. \n\nOn va retrouver les concepts d'opération vectorisés et mask.\n\nSi il y a une chose où vous devez être à l'aise dans ce cours, c'est pandas. \n\nCar pas de data : pas d'IA \n",
   "metadata": {
    "tags": [],
    "cell_id": "00000-3cad97f6-5b8d-4bd9-97b1-fa8c0c0d6ada",
    "deepnote_cell_type": "markdown"
   }
  },
  {
   "cell_type": "markdown",
   "source": "L'objet de base qui permet de représenter les données tabulaire est le DataFrame. Pour l'obtenir on a deux métohdes : \n\n- Le créer soit même \n- Le charger à partir d'une source externe",
   "metadata": {
    "tags": [],
    "cell_id": "00001-d6bd122a-2b3c-41a0-b257-385ee632be75",
    "deepnote_cell_type": "markdown"
   }
  },
  {
   "cell_type": "code",
   "metadata": {
    "cell_id": "00014-5003e2fd-4054-4e51-aaaa-b415bc1a3391",
    "deepnote_to_be_reexecuted": false,
    "source_hash": "ef4640c8",
    "execution_start": 1623048432500,
    "execution_millis": 1,
    "deepnote_cell_type": "code"
   },
   "source": "# création d'un dataframe soit même à l'aide d'un dictionnaire\nimport pandas as pd\n\ndf = pd.DataFrame({\n    'age': [22, 55, 11, 99, -30, -10], \n    \"salary\": [1000, 1120, 2000, None, 4000, 2000],\n    'ville': ['Aix', \"Aix\", \"Paris\", \"Paris\", \"Lyon\", \"Lyon\"]\n})",
   "execution_count": null,
   "outputs": []
  },
  {
   "cell_type": "code",
   "metadata": {
    "cell_id": "00016-4c80443f-2c4d-4259-aba7-540e62e19fdb",
    "deepnote_to_be_reexecuted": false,
    "source_hash": "61a12043",
    "execution_start": 1623048434878,
    "execution_millis": 6,
    "deepnote_cell_type": "code"
   },
   "source": "type(df)",
   "execution_count": null,
   "outputs": [
    {
     "output_type": "execute_result",
     "execution_count": 20,
     "data": {
      "text/plain": "pandas.core.frame.DataFrame"
     },
     "metadata": {}
    }
   ]
  },
  {
   "cell_type": "code",
   "metadata": {
    "cell_id": "00017-dc7f2c0e-2404-46e9-89a7-6059c01c8c24",
    "deepnote_to_be_reexecuted": false,
    "source_hash": "f804c160",
    "execution_start": 1623048439691,
    "execution_millis": 9,
    "deepnote_cell_type": "code"
   },
   "source": "df",
   "execution_count": null,
   "outputs": [
    {
     "output_type": "execute_result",
     "execution_count": 21,
     "data": {
      "application/vnd.deepnote.dataframe.v2+json": {
       "row_count": 6,
       "column_count": 3,
       "columns": [
        {
         "name": "age",
         "dtype": "int64",
         "stats": {
          "unique_count": 6,
          "nan_count": 0,
          "min": "-30",
          "max": "99",
          "histogram": [
           {
            "bin_start": -30,
            "bin_end": -17.1,
            "count": 1
           },
           {
            "bin_start": -17.1,
            "bin_end": -4.199999999999999,
            "count": 1
           },
           {
            "bin_start": -4.199999999999999,
            "bin_end": 8.700000000000003,
            "count": 0
           },
           {
            "bin_start": 8.700000000000003,
            "bin_end": 21.6,
            "count": 1
           },
           {
            "bin_start": 21.6,
            "bin_end": 34.5,
            "count": 1
           },
           {
            "bin_start": 34.5,
            "bin_end": 47.400000000000006,
            "count": 0
           },
           {
            "bin_start": 47.400000000000006,
            "bin_end": 60.3,
            "count": 1
           },
           {
            "bin_start": 60.3,
            "bin_end": 73.2,
            "count": 0
           },
           {
            "bin_start": 73.2,
            "bin_end": 86.10000000000001,
            "count": 0
           },
           {
            "bin_start": 86.10000000000001,
            "bin_end": 99,
            "count": 1
           }
          ]
         }
        },
        {
         "name": "salary",
         "dtype": "float64",
         "stats": {
          "unique_count": 4,
          "nan_count": 1,
          "min": "1000.0",
          "max": "4000.0",
          "histogram": [
           {
            "bin_start": 1000,
            "bin_end": 1300,
            "count": 2
           },
           {
            "bin_start": 1300,
            "bin_end": 1600,
            "count": 0
           },
           {
            "bin_start": 1600,
            "bin_end": 1900,
            "count": 0
           },
           {
            "bin_start": 1900,
            "bin_end": 2200,
            "count": 2
           },
           {
            "bin_start": 2200,
            "bin_end": 2500,
            "count": 0
           },
           {
            "bin_start": 2500,
            "bin_end": 2800,
            "count": 0
           },
           {
            "bin_start": 2800,
            "bin_end": 3100,
            "count": 0
           },
           {
            "bin_start": 3100,
            "bin_end": 3400,
            "count": 0
           },
           {
            "bin_start": 3400,
            "bin_end": 3700,
            "count": 0
           },
           {
            "bin_start": 3700,
            "bin_end": 4000,
            "count": 1
           }
          ]
         }
        },
        {
         "name": "ville",
         "dtype": "object",
         "stats": {
          "unique_count": 3,
          "nan_count": 0,
          "categories": [
           {
            "name": "Aix",
            "count": 2
           },
           {
            "name": "Paris",
            "count": 2
           },
           {
            "name": "Lyon",
            "count": 2
           }
          ]
         }
        },
        {
         "name": "_deepnote_index_column",
         "dtype": "int64"
        }
       ],
       "rows_top": [
        {
         "age": 22,
         "salary": 1000,
         "ville": "Aix",
         "_deepnote_index_column": 0
        },
        {
         "age": 55,
         "salary": 1120,
         "ville": "Aix",
         "_deepnote_index_column": 1
        },
        {
         "age": 11,
         "salary": 2000,
         "ville": "Paris",
         "_deepnote_index_column": 2
        },
        {
         "age": 99,
         "salary": "nan",
         "ville": "Paris",
         "_deepnote_index_column": 3
        },
        {
         "age": -30,
         "salary": 4000,
         "ville": "Lyon",
         "_deepnote_index_column": 4
        },
        {
         "age": -10,
         "salary": 2000,
         "ville": "Lyon",
         "_deepnote_index_column": 5
        }
       ],
       "rows_bottom": null
      },
      "text/plain": "   age  salary  ville\n0   22  1000.0    Aix\n1   55  1120.0    Aix\n2   11  2000.0  Paris\n3   99     NaN  Paris\n4  -30  4000.0   Lyon\n5  -10  2000.0   Lyon",
      "text/html": "<div>\n<style scoped>\n    .dataframe tbody tr th:only-of-type {\n        vertical-align: middle;\n    }\n\n    .dataframe tbody tr th {\n        vertical-align: top;\n    }\n\n    .dataframe thead th {\n        text-align: right;\n    }\n</style>\n<table border=\"1\" class=\"dataframe\">\n  <thead>\n    <tr style=\"text-align: right;\">\n      <th></th>\n      <th>age</th>\n      <th>salary</th>\n      <th>ville</th>\n    </tr>\n  </thead>\n  <tbody>\n    <tr>\n      <th>0</th>\n      <td>22</td>\n      <td>1000.0</td>\n      <td>Aix</td>\n    </tr>\n    <tr>\n      <th>1</th>\n      <td>55</td>\n      <td>1120.0</td>\n      <td>Aix</td>\n    </tr>\n    <tr>\n      <th>2</th>\n      <td>11</td>\n      <td>2000.0</td>\n      <td>Paris</td>\n    </tr>\n    <tr>\n      <th>3</th>\n      <td>99</td>\n      <td>NaN</td>\n      <td>Paris</td>\n    </tr>\n    <tr>\n      <th>4</th>\n      <td>-30</td>\n      <td>4000.0</td>\n      <td>Lyon</td>\n    </tr>\n    <tr>\n      <th>5</th>\n      <td>-10</td>\n      <td>2000.0</td>\n      <td>Lyon</td>\n    </tr>\n  </tbody>\n</table>\n</div>"
     },
     "metadata": {}
    }
   ]
  },
  {
   "cell_type": "code",
   "metadata": {
    "cell_id": "00018-9df2a8b2-6400-4008-977a-5587e20f73c0",
    "deepnote_to_be_reexecuted": false,
    "source_hash": "10ab21ca",
    "execution_start": 1623048441534,
    "execution_millis": 9,
    "deepnote_cell_type": "code"
   },
   "source": "# describe permet d'avoir des statistiques sur les colonnes numériques\ndf.describe()",
   "execution_count": null,
   "outputs": [
    {
     "output_type": "execute_result",
     "execution_count": 22,
     "data": {
      "application/vnd.deepnote.dataframe.v2+json": {
       "row_count": 8,
       "column_count": 2,
       "columns": [
        {
         "name": "age",
         "dtype": "float64",
         "stats": {
          "unique_count": 8,
          "nan_count": 0,
          "min": "-30.0",
          "max": "99.0",
          "histogram": [
           {
            "bin_start": -30,
            "bin_end": -17.1,
            "count": 1
           },
           {
            "bin_start": -17.1,
            "bin_end": -4.199999999999999,
            "count": 1
           },
           {
            "bin_start": -4.199999999999999,
            "bin_end": 8.700000000000003,
            "count": 1
           },
           {
            "bin_start": 8.700000000000003,
            "bin_end": 21.6,
            "count": 1
           },
           {
            "bin_start": 21.6,
            "bin_end": 34.5,
            "count": 1
           },
           {
            "bin_start": 34.5,
            "bin_end": 47.400000000000006,
            "count": 2
           },
           {
            "bin_start": 47.400000000000006,
            "bin_end": 60.3,
            "count": 0
           },
           {
            "bin_start": 60.3,
            "bin_end": 73.2,
            "count": 0
           },
           {
            "bin_start": 73.2,
            "bin_end": 86.10000000000001,
            "count": 0
           },
           {
            "bin_start": 86.10000000000001,
            "bin_end": 99,
            "count": 1
           }
          ]
         }
        },
        {
         "name": "salary",
         "dtype": "float64",
         "stats": {
          "unique_count": 7,
          "nan_count": 0,
          "min": "5.0",
          "max": "4000.0",
          "histogram": [
           {
            "bin_start": 5,
            "bin_end": 404.5,
            "count": 1
           },
           {
            "bin_start": 404.5,
            "bin_end": 804,
            "count": 0
           },
           {
            "bin_start": 804,
            "bin_end": 1203.5,
            "count": 3
           },
           {
            "bin_start": 1203.5,
            "bin_end": 1603,
            "count": 0
           },
           {
            "bin_start": 1603,
            "bin_end": 2002.5,
            "count": 2
           },
           {
            "bin_start": 2002.5,
            "bin_end": 2402,
            "count": 1
           },
           {
            "bin_start": 2402,
            "bin_end": 2801.5,
            "count": 0
           },
           {
            "bin_start": 2801.5,
            "bin_end": 3201,
            "count": 0
           },
           {
            "bin_start": 3201,
            "bin_end": 3600.5,
            "count": 0
           },
           {
            "bin_start": 3600.5,
            "bin_end": 4000,
            "count": 1
           }
          ]
         }
        },
        {
         "name": "_deepnote_index_column",
         "dtype": "object"
        }
       ],
       "rows_top": [
        {
         "age": 6,
         "salary": 5,
         "_deepnote_index_column": "count"
        },
        {
         "age": 24.5,
         "salary": 2024,
         "_deepnote_index_column": "mean"
        },
        {
         "age": 46.53923076287359,
         "salary": 1201.199400599251,
         "_deepnote_index_column": "std"
        },
        {
         "age": -30,
         "salary": 1000,
         "_deepnote_index_column": "min"
        },
        {
         "age": -4.75,
         "salary": 1120,
         "_deepnote_index_column": "25%"
        },
        {
         "age": 16.5,
         "salary": 2000,
         "_deepnote_index_column": "50%"
        },
        {
         "age": 46.75,
         "salary": 2000,
         "_deepnote_index_column": "75%"
        },
        {
         "age": 99,
         "salary": 4000,
         "_deepnote_index_column": "max"
        }
       ],
       "rows_bottom": null
      },
      "text/plain": "             age       salary\ncount   6.000000     5.000000\nmean   24.500000  2024.000000\nstd    46.539231  1201.199401\nmin   -30.000000  1000.000000\n25%    -4.750000  1120.000000\n50%    16.500000  2000.000000\n75%    46.750000  2000.000000\nmax    99.000000  4000.000000",
      "text/html": "<div>\n<style scoped>\n    .dataframe tbody tr th:only-of-type {\n        vertical-align: middle;\n    }\n\n    .dataframe tbody tr th {\n        vertical-align: top;\n    }\n\n    .dataframe thead th {\n        text-align: right;\n    }\n</style>\n<table border=\"1\" class=\"dataframe\">\n  <thead>\n    <tr style=\"text-align: right;\">\n      <th></th>\n      <th>age</th>\n      <th>salary</th>\n    </tr>\n  </thead>\n  <tbody>\n    <tr>\n      <th>count</th>\n      <td>6.000000</td>\n      <td>5.000000</td>\n    </tr>\n    <tr>\n      <th>mean</th>\n      <td>24.500000</td>\n      <td>2024.000000</td>\n    </tr>\n    <tr>\n      <th>std</th>\n      <td>46.539231</td>\n      <td>1201.199401</td>\n    </tr>\n    <tr>\n      <th>min</th>\n      <td>-30.000000</td>\n      <td>1000.000000</td>\n    </tr>\n    <tr>\n      <th>25%</th>\n      <td>-4.750000</td>\n      <td>1120.000000</td>\n    </tr>\n    <tr>\n      <th>50%</th>\n      <td>16.500000</td>\n      <td>2000.000000</td>\n    </tr>\n    <tr>\n      <th>75%</th>\n      <td>46.750000</td>\n      <td>2000.000000</td>\n    </tr>\n    <tr>\n      <th>max</th>\n      <td>99.000000</td>\n      <td>4000.000000</td>\n    </tr>\n  </tbody>\n</table>\n</div>"
     },
     "metadata": {}
    }
   ]
  },
  {
   "cell_type": "code",
   "metadata": {
    "tags": [],
    "cell_id": "00006-779b483d-bc62-49d3-af91-3787349e393a",
    "deepnote_to_be_reexecuted": false,
    "source_hash": "4f8181e5",
    "execution_start": 1623048443464,
    "execution_millis": 6,
    "deepnote_cell_type": "code"
   },
   "source": "#df.info() permet d'avoir des informations sur les données manquantes\ndf.info()# Ici on voit qu'on a une donnée manquante",
   "execution_count": null,
   "outputs": [
    {
     "name": "stdout",
     "text": "<class 'pandas.core.frame.DataFrame'>\nRangeIndex: 6 entries, 0 to 5\nData columns (total 3 columns):\n #   Column  Non-Null Count  Dtype  \n---  ------  --------------  -----  \n 0   age     6 non-null      int64  \n 1   salary  5 non-null      float64\n 2   ville   6 non-null      object \ndtypes: float64(1), int64(1), object(1)\nmemory usage: 272.0+ bytes\n",
     "output_type": "stream"
    }
   ]
  },
  {
   "cell_type": "code",
   "metadata": {
    "cell_id": "00019-3a70eb77-05d5-43d0-b484-15c5158fe1db",
    "deepnote_to_be_reexecuted": false,
    "source_hash": "5b626bdd",
    "execution_start": 1623048444201,
    "execution_millis": 159,
    "deepnote_cell_type": "code"
   },
   "source": "# Pandas utilise matplotlib pour faire des graphes du dataframe\ndf.plot() ",
   "execution_count": null,
   "outputs": [
    {
     "output_type": "execute_result",
     "execution_count": 24,
     "data": {
      "text/plain": "<AxesSubplot:>"
     },
     "metadata": {}
    },
    {
     "data": {
      "text/plain": "<Figure size 432x288 with 1 Axes>",
      "image/png": "[encoded data removed]"
     },
     "metadata": {
      "needs_background": "light",
      "image/png": {
       "width": 381,
       "height": 248
      }
     },
     "output_type": "display_data"
    }
   ]
  },
  {
   "cell_type": "code",
   "metadata": {
    "cell_id": "00020-de6dd837-57b0-420b-88f5-51f9e0f2d346",
    "deepnote_to_be_reexecuted": false,
    "source_hash": "25d43fa0",
    "execution_start": 1623048446466,
    "execution_millis": 10,
    "deepnote_cell_type": "code"
   },
   "source": "df.columns",
   "execution_count": null,
   "outputs": [
    {
     "output_type": "execute_result",
     "execution_count": 25,
     "data": {
      "text/plain": "Index(['age', 'salary', 'ville'], dtype='object')"
     },
     "metadata": {}
    }
   ]
  },
  {
   "cell_type": "code",
   "metadata": {
    "cell_id": "00021-0e8f6904-4e7e-4dd1-8efe-cdd893f37a0c",
    "allow_embed": "code_output",
    "deepnote_to_be_reexecuted": false,
    "source_hash": "22275c3b",
    "execution_start": 1623048447259,
    "execution_millis": 5,
    "deepnote_cell_type": "code"
   },
   "source": "# Selection d'une colonne\n\ncolumn_age = df['age']\ntype(column_age)",
   "execution_count": null,
   "outputs": [
    {
     "output_type": "execute_result",
     "execution_count": 26,
     "data": {
      "text/plain": "pandas.core.series.Series"
     },
     "metadata": {}
    }
   ]
  },
  {
   "cell_type": "code",
   "metadata": {
    "tags": [],
    "cell_id": "00010-e598dc00-4f4e-4e2f-8406-d66c4e81eb41",
    "deepnote_to_be_reexecuted": false,
    "source_hash": "df44c773",
    "execution_start": 1623048452151,
    "execution_millis": 4,
    "deepnote_cell_type": "code"
   },
   "source": "## selection de plusieurs colonnes \n\ndata = df[['age', 'salary']]\ntype(data)\n\n#On note que si on sélectionne qu'une seule colonne on a une series\n# et si on note plusieurs colonnes on a un dataframe à nouveau\n",
   "execution_count": null,
   "outputs": [
    {
     "output_type": "execute_result",
     "execution_count": 27,
     "data": {
      "text/plain": "pandas.core.frame.DataFrame"
     },
     "metadata": {}
    }
   ]
  },
  {
   "cell_type": "markdown",
   "source": "## Retour sur les masques\n\nLes masques existent également en pandas et vont nous permetre de selectionne des données qui nous intéressent ou modifier des données spécifiques. Par exemple cela peut nous permettre de nous débarasser des données abhérentes\n\nEn pandas les masques se créent en faisant des conditions sur les colonnes \nUne fois qu'on a fait un mask on l'applique sur un dataframe ou une series. Prenons un exemple\n",
   "metadata": {
    "tags": [],
    "cell_id": "00011-9370f79f-7a2c-4a6f-84de-7c2f25375e92",
    "deepnote_cell_type": "markdown"
   }
  },
  {
   "cell_type": "code",
   "metadata": {
    "cell_id": "00022-7fc3f6d4-0379-4be0-8b9a-611d4a2c9e7a",
    "deepnote_to_be_reexecuted": false,
    "source_hash": "84dfc0d8",
    "execution_start": 1623048788204,
    "execution_millis": 8,
    "deepnote_cell_type": "code"
   },
   "source": "#on peut faire des mask comme en numpy\n\n#Création d'un masque : \"je veux tous les lignes où l'age est plus grand que 0\"\nmask = df['age'] > 0\n\n\nprint(mask)\n\n#application du mask \"je veux toutes les données du dataframe original à part les lignes ou l'age est négatif\"\ndf_cleaned = df[mask]\nprint(df_cleaned)",
   "execution_count": null,
   "outputs": [
    {
     "name": "stdout",
     "text": "0     True\n1     True\n2     True\n3     True\n4    False\n5    False\nName: age, dtype: bool\n   age  salary  ville\n0   22  1000.0    Aix\n1   55  1120.0    Aix\n2   11  2000.0  Paris\n3   99     NaN  Paris\n",
     "output_type": "stream"
    }
   ]
  },
  {
   "cell_type": "markdown",
   "source": "## Chargement depuis une source de donnée externe\n\nPandas permet de créer des dataframe à partir de source de données externes : \n- fichier csv\n- json\n- table sql\n- fichier excecl\n- etc. \n\nVoyons comment charger un fichier csv dans pandas. Si on regarde la documentation : https://pandas.pydata.org/pandas-docs/stable/reference/api/pandas.read_csv.html\n\non voit qu'il y a la méthode read_csv qui permet de faire ça. \n\nOn remarque qu'il y a plein d'options : \n- charger un nombre limité de lignes (nrows)\n- dire si il y a des headers\n- changer le séparateur de valeur  \n- etc",
   "metadata": {
    "tags": [],
    "cell_id": "00013-ff8611ba-e926-4e50-9d3f-6c8d421cec6c",
    "deepnote_cell_type": "markdown"
   }
  },
  {
   "cell_type": "code",
   "metadata": {
    "cell_id": "00023-e93c16e1-d48d-4632-a199-732a114af477",
    "deepnote_to_be_reexecuted": false,
    "source_hash": "fff0d389",
    "execution_start": 1623055824622,
    "execution_millis": 92,
    "deepnote_cell_type": "code"
   },
   "source": "df = pd.read_csv('house_size_bedrooms_orientation_garden.csv')\ndf",
   "execution_count": null,
   "outputs": [
    {
     "output_type": "execute_result",
     "execution_count": 36,
     "data": {
      "application/vnd.deepnote.dataframe.v2+json": {
       "row_count": 950,
       "column_count": 5,
       "columns": [
        {
         "name": "size",
         "dtype": "float64",
         "stats": {
          "unique_count": 950,
          "nan_count": 0,
          "min": "0.8132887687",
          "max": "296.0941136305",
          "histogram": [
           {
            "bin_start": 0.8132887687,
            "bin_end": 30.341371254880002,
            "count": 12
           },
           {
            "bin_start": 30.341371254880002,
            "bin_end": 59.86945374106,
            "count": 21
           },
           {
            "bin_start": 59.86945374106,
            "bin_end": 89.39753622724001,
            "count": 79
           },
           {
            "bin_start": 89.39753622724001,
            "bin_end": 118.92561871342001,
            "count": 132
           },
           {
            "bin_start": 118.92561871342001,
            "bin_end": 148.4537011996,
            "count": 200
           },
           {
            "bin_start": 148.4537011996,
            "bin_end": 177.98178368578002,
            "count": 219
           },
           {
            "bin_start": 177.98178368578002,
            "bin_end": 207.50986617196,
            "count": 188
           },
           {
            "bin_start": 207.50986617196,
            "bin_end": 237.03794865814,
            "count": 71
           },
           {
            "bin_start": 237.03794865814,
            "bin_end": 266.56603114432,
            "count": 22
           },
           {
            "bin_start": 266.56603114432,
            "bin_end": 296.0941136305,
            "count": 6
           }
          ]
         }
        },
        {
         "name": "nb_rooms",
         "dtype": "int64",
         "stats": {
          "unique_count": 3,
          "nan_count": 0,
          "min": "1",
          "max": "3",
          "histogram": [
           {
            "bin_start": 1,
            "bin_end": 1.2,
            "count": 347
           },
           {
            "bin_start": 1.2,
            "bin_end": 1.4,
            "count": 0
           },
           {
            "bin_start": 1.4,
            "bin_end": 1.6,
            "count": 0
           },
           {
            "bin_start": 1.6,
            "bin_end": 1.8,
            "count": 0
           },
           {
            "bin_start": 1.8,
            "bin_end": 2,
            "count": 0
           },
           {
            "bin_start": 2,
            "bin_end": 2.2,
            "count": 302
           },
           {
            "bin_start": 2.2,
            "bin_end": 2.4000000000000004,
            "count": 0
           },
           {
            "bin_start": 2.4000000000000004,
            "bin_end": 2.6,
            "count": 0
           },
           {
            "bin_start": 2.6,
            "bin_end": 2.8,
            "count": 0
           },
           {
            "bin_start": 2.8,
            "bin_end": 3,
            "count": 301
           }
          ]
         }
        },
        {
         "name": "garden",
         "dtype": "int64",
         "stats": {
          "unique_count": 2,
          "nan_count": 0,
          "min": "0",
          "max": "1",
          "histogram": [
           {
            "bin_start": 0,
            "bin_end": 0.1,
            "count": 459
           },
           {
            "bin_start": 0.1,
            "bin_end": 0.2,
            "count": 0
           },
           {
            "bin_start": 0.2,
            "bin_end": 0.30000000000000004,
            "count": 0
           },
           {
            "bin_start": 0.30000000000000004,
            "bin_end": 0.4,
            "count": 0
           },
           {
            "bin_start": 0.4,
            "bin_end": 0.5,
            "count": 0
           },
           {
            "bin_start": 0.5,
            "bin_end": 0.6000000000000001,
            "count": 0
           },
           {
            "bin_start": 0.6000000000000001,
            "bin_end": 0.7000000000000001,
            "count": 0
           },
           {
            "bin_start": 0.7000000000000001,
            "bin_end": 0.8,
            "count": 0
           },
           {
            "bin_start": 0.8,
            "bin_end": 0.9,
            "count": 0
           },
           {
            "bin_start": 0.9,
            "bin_end": 1,
            "count": 491
           }
          ]
         }
        },
        {
         "name": "orientation",
         "dtype": "object",
         "stats": {
          "unique_count": 4,
          "nan_count": 0,
          "categories": [
           {
            "name": "Est",
            "count": 259
           },
           {
            "name": "Ouest",
            "count": 236
           },
           {
            "name": "2 others",
            "count": 455
           }
          ]
         }
        },
        {
         "name": "price",
         "dtype": "float64",
         "stats": {
          "unique_count": 950,
          "nan_count": 0,
          "min": "-6887751.10905626",
          "max": "19854527.36752",
          "histogram": [
           {
            "bin_start": -6887751.10905626,
            "bin_end": -4213523.261398634,
            "count": 9
           },
           {
            "bin_start": -4213523.261398634,
            "bin_end": -1539295.4137410084,
            "count": 54
           },
           {
            "bin_start": -1539295.4137410084,
            "bin_end": 1134932.4339166172,
            "count": 189
           },
           {
            "bin_start": 1134932.4339166172,
            "bin_end": 3809160.2815742437,
            "count": 333
           },
           {
            "bin_start": 3809160.2815742437,
            "bin_end": 6483388.12923187,
            "count": 240
           },
           {
            "bin_start": 6483388.12923187,
            "bin_end": 9157615.976889495,
            "count": 99
           },
           {
            "bin_start": 9157615.976889495,
            "bin_end": 11831843.824547123,
            "count": 23
           },
           {
            "bin_start": 11831843.824547123,
            "bin_end": 14506071.672204748,
            "count": 2
           },
           {
            "bin_start": 14506071.672204748,
            "bin_end": 17180299.519862372,
            "count": 0
           },
           {
            "bin_start": 17180299.519862372,
            "bin_end": 19854527.36752,
            "count": 1
           }
          ]
         }
        },
        {
         "name": "_deepnote_index_column",
         "dtype": "int64"
        }
       ],
       "rows_top": [
        {
         "size": 197.3304778359,
         "nb_rooms": 1,
         "garden": 0,
         "orientation": "Sud",
         "price": -515655.088016659,
         "_deepnote_index_column": 0
        },
        {
         "size": 185.3610364926,
         "nb_rooms": 2,
         "garden": 0,
         "orientation": "Sud",
         "price": 934141.593796699,
         "_deepnote_index_column": 1
        },
        {
         "size": 195.1132857371,
         "nb_rooms": 3,
         "garden": 0,
         "orientation": "Est",
         "price": 6894268.85300374,
         "_deepnote_index_column": 2
        },
        {
         "size": 139.9201443059,
         "nb_rooms": 3,
         "garden": 1,
         "orientation": "Ouest",
         "price": 4307298.29335903,
         "_deepnote_index_column": 3
        },
        {
         "size": 167.9174662542,
         "nb_rooms": 1,
         "garden": 0,
         "orientation": "Nord",
         "price": 1267890.30960321,
         "_deepnote_index_column": 4
        },
        {
         "size": 117.6970935502,
         "nb_rooms": 1,
         "garden": 0,
         "orientation": "Nord",
         "price": 2224093.17202741,
         "_deepnote_index_column": 5
        },
        {
         "size": 102.9087242148,
         "nb_rooms": 1,
         "garden": 1,
         "orientation": "Sud",
         "price": 3651072.72854528,
         "_deepnote_index_column": 6
        },
        {
         "size": 146.8109611064,
         "nb_rooms": 3,
         "garden": 1,
         "orientation": "Ouest",
         "price": 5485964.59846437,
         "_deepnote_index_column": 7
        },
        {
         "size": 117.6617938028,
         "nb_rooms": 2,
         "garden": 0,
         "orientation": "Est",
         "price": 3519094.24853907,
         "_deepnote_index_column": 8
        },
        {
         "size": 170.1354296178,
         "nb_rooms": 1,
         "garden": 0,
         "orientation": "Est",
         "price": -350961.633966944,
         "_deepnote_index_column": 9
        },
        {
         "size": 101.6933254415,
         "nb_rooms": 1,
         "garden": 0,
         "orientation": "Sud",
         "price": 3464383.12962199,
         "_deepnote_index_column": 10
        },
        {
         "size": 227.5855674413,
         "nb_rooms": 3,
         "garden": 1,
         "orientation": "Nord",
         "price": 12023439.3391032,
         "_deepnote_index_column": 11
        },
        {
         "size": 215.1443961023,
         "nb_rooms": 3,
         "garden": 0,
         "orientation": "Nord",
         "price": 1199721.38065979,
         "_deepnote_index_column": 12
        },
        {
         "size": 130.6616334539,
         "nb_rooms": 3,
         "garden": 1,
         "orientation": "Sud",
         "price": 5411534.59022882,
         "_deepnote_index_column": 13
        },
        {
         "size": 141.3481139639,
         "nb_rooms": 2,
         "garden": 0,
         "orientation": "Est",
         "price": 2781342.54368882,
         "_deepnote_index_column": 14
        },
        {
         "size": 221.5242405297,
         "nb_rooms": 1,
         "garden": 0,
         "orientation": "Est",
         "price": 10282973.9722688,
         "_deepnote_index_column": 15
        },
        {
         "size": 174.4360971515,
         "nb_rooms": 3,
         "garden": 0,
         "orientation": "Est",
         "price": 319081.439879682,
         "_deepnote_index_column": 16
        },
        {
         "size": 79.8084096624,
         "nb_rooms": 3,
         "garden": 0,
         "orientation": "Est",
         "price": 562790.024785698,
         "_deepnote_index_column": 17
        },
        {
         "size": 112.7358704132,
         "nb_rooms": 3,
         "garden": 1,
         "orientation": "Sud",
         "price": -3093947.08670148,
         "_deepnote_index_column": 18
        },
        {
         "size": 85.9744689164,
         "nb_rooms": 1,
         "garden": 0,
         "orientation": "Ouest",
         "price": 3338831.93161588,
         "_deepnote_index_column": 19
        },
        {
         "size": 190.927276236,
         "nb_rooms": 1,
         "garden": 1,
         "orientation": "Sud",
         "price": 4812118.31505235,
         "_deepnote_index_column": 20
        },
        {
         "size": 197.4424934491,
         "nb_rooms": 2,
         "garden": 1,
         "orientation": "Est",
         "price": -6887751.10905626,
         "_deepnote_index_column": 21
        },
        {
         "size": 113.6336560257,
         "nb_rooms": 2,
         "garden": 1,
         "orientation": "Ouest",
         "price": 1467974.11997919,
         "_deepnote_index_column": 22
        },
        {
         "size": 194.1001110977,
         "nb_rooms": 3,
         "garden": 1,
         "orientation": "Ouest",
         "price": 4092537.68080218,
         "_deepnote_index_column": 23
        },
        {
         "size": 266.5554098702,
         "nb_rooms": 2,
         "garden": 1,
         "orientation": "Sud",
         "price": 7355004.13827896,
         "_deepnote_index_column": 24
        },
        {
         "size": 56.0475725145,
         "nb_rooms": 1,
         "garden": 0,
         "orientation": "Nord",
         "price": -2030788.20151098,
         "_deepnote_index_column": 25
        },
        {
         "size": 226.2000050794,
         "nb_rooms": 3,
         "garden": 1,
         "orientation": "Est",
         "price": 1380271.88388536,
         "_deepnote_index_column": 26
        },
        {
         "size": 80.8983287658,
         "nb_rooms": 2,
         "garden": 1,
         "orientation": "Sud",
         "price": 4965248.02165666,
         "_deepnote_index_column": 27
        },
        {
         "size": 201.7389541574,
         "nb_rooms": 3,
         "garden": 0,
         "orientation": "Est",
         "price": 2948412.36949081,
         "_deepnote_index_column": 28
        },
        {
         "size": 184.5402933437,
         "nb_rooms": 2,
         "garden": 0,
         "orientation": "Sud",
         "price": 3712178.26967696,
         "_deepnote_index_column": 29
        },
        {
         "size": 11.3806111562,
         "nb_rooms": 2,
         "garden": 0,
         "orientation": "Sud",
         "price": 2491821.56960747,
         "_deepnote_index_column": 30
        },
        {
         "size": 142.6198807026,
         "nb_rooms": 1,
         "garden": 0,
         "orientation": "Nord",
         "price": 890841.76236162,
         "_deepnote_index_column": 31
        },
        {
         "size": 231.9733626335,
         "nb_rooms": 3,
         "garden": 1,
         "orientation": "Nord",
         "price": 381855.898193765,
         "_deepnote_index_column": 32
        },
        {
         "size": 201.2292625441,
         "nb_rooms": 3,
         "garden": 0,
         "orientation": "Est",
         "price": -37470.696541759,
         "_deepnote_index_column": 33
        },
        {
         "size": 126.3777222896,
         "nb_rooms": 1,
         "garden": 0,
         "orientation": "Nord",
         "price": 6388731.84644116,
         "_deepnote_index_column": 34
        },
        {
         "size": 104.59815867,
         "nb_rooms": 3,
         "garden": 1,
         "orientation": "Sud",
         "price": 4899522.49304203,
         "_deepnote_index_column": 35
        },
        {
         "size": 215.2063562317,
         "nb_rooms": 2,
         "garden": 0,
         "orientation": "Nord",
         "price": 3900599.122243,
         "_deepnote_index_column": 36
        },
        {
         "size": 155.2128271369,
         "nb_rooms": 3,
         "garden": 1,
         "orientation": "Sud",
         "price": 5885804.56607854,
         "_deepnote_index_column": 37
        },
        {
         "size": 251.0869079215,
         "nb_rooms": 2,
         "garden": 0,
         "orientation": "Est",
         "price": 3341065.42609868,
         "_deepnote_index_column": 38
        },
        {
         "size": 97.1051679882,
         "nb_rooms": 3,
         "garden": 1,
         "orientation": "Sud",
         "price": 508955.290592238,
         "_deepnote_index_column": 39
        },
        {
         "size": 92.4630712295,
         "nb_rooms": 3,
         "garden": 1,
         "orientation": "Est",
         "price": 3821005.10342175,
         "_deepnote_index_column": 40
        },
        {
         "size": 65.6906741723,
         "nb_rooms": 3,
         "garden": 0,
         "orientation": "Est",
         "price": 4517191.01335608,
         "_deepnote_index_column": 41
        },
        {
         "size": 126.9808476719,
         "nb_rooms": 2,
         "garden": 1,
         "orientation": "Nord",
         "price": 3076413.15841211,
         "_deepnote_index_column": 42
        },
        {
         "size": 142.0816298366,
         "nb_rooms": 1,
         "garden": 0,
         "orientation": "Est",
         "price": 4119902.04635688,
         "_deepnote_index_column": 43
        },
        {
         "size": 133.4796164695,
         "nb_rooms": 1,
         "garden": 0,
         "orientation": "Nord",
         "price": -431569.472949077,
         "_deepnote_index_column": 44
        },
        {
         "size": 138.5121493318,
         "nb_rooms": 2,
         "garden": 1,
         "orientation": "Sud",
         "price": 2920982.19817418,
         "_deepnote_index_column": 45
        },
        {
         "size": 173.7706096464,
         "nb_rooms": 3,
         "garden": 0,
         "orientation": "Est",
         "price": 3488143.26167622,
         "_deepnote_index_column": 46
        },
        {
         "size": 87.4820077881,
         "nb_rooms": 2,
         "garden": 0,
         "orientation": "Est",
         "price": 3565246.25779219,
         "_deepnote_index_column": 47
        },
        {
         "size": 203.2421401216,
         "nb_rooms": 1,
         "garden": 1,
         "orientation": "Nord",
         "price": 1582901.3272714,
         "_deepnote_index_column": 48
        },
        {
         "size": 209.0432660397,
         "nb_rooms": 1,
         "garden": 1,
         "orientation": "Est",
         "price": 2331783.33183438,
         "_deepnote_index_column": 49
        },
        {
         "size": 249.3334439664,
         "nb_rooms": 1,
         "garden": 1,
         "orientation": "Ouest",
         "price": 8656210.93055509,
         "_deepnote_index_column": 50
        },
        {
         "size": 147.2393100259,
         "nb_rooms": 2,
         "garden": 0,
         "orientation": "Ouest",
         "price": 4627684.08613428,
         "_deepnote_index_column": 51
        },
        {
         "size": 226.5961767818,
         "nb_rooms": 3,
         "garden": 0,
         "orientation": "Sud",
         "price": 9416840.31784363,
         "_deepnote_index_column": 52
        },
        {
         "size": 187.9525496568,
         "nb_rooms": 3,
         "garden": 1,
         "orientation": "Est",
         "price": -949971.957390106,
         "_deepnote_index_column": 53
        },
        {
         "size": 25.8675965279,
         "nb_rooms": 2,
         "garden": 0,
         "orientation": "Sud",
         "price": 6814694.96196377,
         "_deepnote_index_column": 54
        },
        {
         "size": 139.2751752055,
         "nb_rooms": 3,
         "garden": 1,
         "orientation": "Est",
         "price": 7142704.42080722,
         "_deepnote_index_column": 55
        },
        {
         "size": 241.9370662999,
         "nb_rooms": 2,
         "garden": 1,
         "orientation": "Est",
         "price": -1331860.4394429,
         "_deepnote_index_column": 56
        },
        {
         "size": 151.4792976752,
         "nb_rooms": 2,
         "garden": 0,
         "orientation": "Sud",
         "price": 1959230.67071694,
         "_deepnote_index_column": 57
        },
        {
         "size": 159.6198761487,
         "nb_rooms": 3,
         "garden": 0,
         "orientation": "Est",
         "price": 2905452.79432596,
         "_deepnote_index_column": 58
        },
        {
         "size": 162.1946729348,
         "nb_rooms": 3,
         "garden": 0,
         "orientation": "Sud",
         "price": 1281232.39030708,
         "_deepnote_index_column": 59
        },
        {
         "size": 173.0605218258,
         "nb_rooms": 1,
         "garden": 1,
         "orientation": "Sud",
         "price": -4987.3295709003,
         "_deepnote_index_column": 60
        },
        {
         "size": 144.5511738109,
         "nb_rooms": 3,
         "garden": 1,
         "orientation": "Est",
         "price": -942363.76242747,
         "_deepnote_index_column": 61
        },
        {
         "size": 171.2179991666,
         "nb_rooms": 3,
         "garden": 1,
         "orientation": "Ouest",
         "price": 1399514.81601078,
         "_deepnote_index_column": 62
        },
        {
         "size": 139.6219370538,
         "nb_rooms": 1,
         "garden": 1,
         "orientation": "Est",
         "price": 4515067.77269647,
         "_deepnote_index_column": 63
        },
        {
         "size": 144.9411434505,
         "nb_rooms": 1,
         "garden": 0,
         "orientation": "Ouest",
         "price": -440158.431652518,
         "_deepnote_index_column": 64
        },
        {
         "size": 99.4114815593,
         "nb_rooms": 1,
         "garden": 1,
         "orientation": "Ouest",
         "price": 2107177.07600998,
         "_deepnote_index_column": 65
        },
        {
         "size": 141.707680132,
         "nb_rooms": 1,
         "garden": 0,
         "orientation": "Nord",
         "price": 3491736.39392195,
         "_deepnote_index_column": 66
        },
        {
         "size": 140.5799241056,
         "nb_rooms": 1,
         "garden": 0,
         "orientation": "Nord",
         "price": 4335450.14286578,
         "_deepnote_index_column": 67
        },
        {
         "size": 201.5625256714,
         "nb_rooms": 2,
         "garden": 1,
         "orientation": "Est",
         "price": 4608009.16692131,
         "_deepnote_index_column": 68
        },
        {
         "size": 208.3923711465,
         "nb_rooms": 1,
         "garden": 0,
         "orientation": "Est",
         "price": 6815960.75324343,
         "_deepnote_index_column": 69
        },
        {
         "size": 100.6908020794,
         "nb_rooms": 2,
         "garden": 1,
         "orientation": "Sud",
         "price": 1667303.05737415,
         "_deepnote_index_column": 70
        },
        {
         "size": 137.7100195623,
         "nb_rooms": 3,
         "garden": 0,
         "orientation": "Nord",
         "price": 3364749.44117172,
         "_deepnote_index_column": 71
        },
        {
         "size": 149.0829574422,
         "nb_rooms": 1,
         "garden": 0,
         "orientation": "Ouest",
         "price": -460109.356365019,
         "_deepnote_index_column": 72
        },
        {
         "size": 78.9375793831,
         "nb_rooms": 3,
         "garden": 1,
         "orientation": "Ouest",
         "price": 3967359.84431498,
         "_deepnote_index_column": 73
        },
        {
         "size": 83.324002866,
         "nb_rooms": 1,
         "garden": 1,
         "orientation": "Nord",
         "price": 7313817.55436939,
         "_deepnote_index_column": 74
        },
        {
         "size": 197.8739648955,
         "nb_rooms": 1,
         "garden": 0,
         "orientation": "Est",
         "price": 3390830.13882886,
         "_deepnote_index_column": 75
        },
        {
         "size": 131.9655464357,
         "nb_rooms": 3,
         "garden": 0,
         "orientation": "Est",
         "price": 7584949.86482346,
         "_deepnote_index_column": 76
        },
        {
         "size": 171.8253463863,
         "nb_rooms": 3,
         "garden": 1,
         "orientation": "Nord",
         "price": 3529813.8448074,
         "_deepnote_index_column": 77
        },
        {
         "size": 131.9950759241,
         "nb_rooms": 3,
         "garden": 0,
         "orientation": "Est",
         "price": 1148882.13818527,
         "_deepnote_index_column": 78
        },
        {
         "size": 144.3562874155,
         "nb_rooms": 3,
         "garden": 0,
         "orientation": "Ouest",
         "price": 1421141.79989515,
         "_deepnote_index_column": 79
        },
        {
         "size": 162.9207457027,
         "nb_rooms": 1,
         "garden": 1,
         "orientation": "Est",
         "price": 2967093.9396938,
         "_deepnote_index_column": 80
        },
        {
         "size": 175.0958314845,
         "nb_rooms": 2,
         "garden": 0,
         "orientation": "Sud",
         "price": 10580732.1945064,
         "_deepnote_index_column": 81
        },
        {
         "size": 162.2245672261,
         "nb_rooms": 1,
         "garden": 1,
         "orientation": "Sud",
         "price": 794679.443549098,
         "_deepnote_index_column": 82
        },
        {
         "size": 101.6746438293,
         "nb_rooms": 1,
         "garden": 1,
         "orientation": "Nord",
         "price": 1669188.98415452,
         "_deepnote_index_column": 83
        },
        {
         "size": 169.9784175877,
         "nb_rooms": 2,
         "garden": 1,
         "orientation": "Nord",
         "price": 6661771.41233116,
         "_deepnote_index_column": 84
        },
        {
         "size": 148.3085035644,
         "nb_rooms": 3,
         "garden": 1,
         "orientation": "Sud",
         "price": 3780336.53838745,
         "_deepnote_index_column": 85
        },
        {
         "size": 143.411471468,
         "nb_rooms": 2,
         "garden": 0,
         "orientation": "Sud",
         "price": 6779868.03266708,
         "_deepnote_index_column": 86
        },
        {
         "size": 97.3369678701,
         "nb_rooms": 1,
         "garden": 0,
         "orientation": "Sud",
         "price": 4439243.86251892,
         "_deepnote_index_column": 87
        },
        {
         "size": 127.1593324666,
         "nb_rooms": 1,
         "garden": 0,
         "orientation": "Ouest",
         "price": 2562142.03049132,
         "_deepnote_index_column": 88
        },
        {
         "size": 145.0394982739,
         "nb_rooms": 1,
         "garden": 0,
         "orientation": "Est",
         "price": 6636618.94833397,
         "_deepnote_index_column": 89
        },
        {
         "size": 217.4088441863,
         "nb_rooms": 2,
         "garden": 0,
         "orientation": "Sud",
         "price": 3615476.29785488,
         "_deepnote_index_column": 90
        },
        {
         "size": 200.7406638476,
         "nb_rooms": 3,
         "garden": 1,
         "orientation": "Nord",
         "price": 2150193.67164855,
         "_deepnote_index_column": 91
        },
        {
         "size": 155.3663895019,
         "nb_rooms": 2,
         "garden": 1,
         "orientation": "Est",
         "price": 6603853.93074605,
         "_deepnote_index_column": 92
        },
        {
         "size": 121.0709317949,
         "nb_rooms": 1,
         "garden": 0,
         "orientation": "Ouest",
         "price": 1309825.61163994,
         "_deepnote_index_column": 93
        },
        {
         "size": 60.6695217066,
         "nb_rooms": 3,
         "garden": 0,
         "orientation": "Ouest",
         "price": 3513238.49110323,
         "_deepnote_index_column": 94
        },
        {
         "size": 145.6947002969,
         "nb_rooms": 3,
         "garden": 0,
         "orientation": "Sud",
         "price": 3547619.82116927,
         "_deepnote_index_column": 95
        },
        {
         "size": 111.5228146583,
         "nb_rooms": 3,
         "garden": 0,
         "orientation": "Est",
         "price": 3886373.85483358,
         "_deepnote_index_column": 96
        },
        {
         "size": 181.7185450698,
         "nb_rooms": 3,
         "garden": 0,
         "orientation": "Est",
         "price": 715210.380738864,
         "_deepnote_index_column": 97
        },
        {
         "size": 200.841071455,
         "nb_rooms": 1,
         "garden": 0,
         "orientation": "Ouest",
         "price": 6640291.27906474,
         "_deepnote_index_column": 98
        },
        {
         "size": 123.4149318152,
         "nb_rooms": 2,
         "garden": 0,
         "orientation": "Est",
         "price": 8888394.2066021,
         "_deepnote_index_column": 99
        }
       ],
       "rows_bottom": [
        {
         "size": 176.3182017611,
         "nb_rooms": 2,
         "garden": 0,
         "orientation": "Ouest",
         "price": 1239932.39060053,
         "_deepnote_index_column": 850
        },
        {
         "size": 194.5884599435,
         "nb_rooms": 2,
         "garden": 0,
         "orientation": "Ouest",
         "price": 1834333.01824619,
         "_deepnote_index_column": 851
        },
        {
         "size": 89.5124056119,
         "nb_rooms": 1,
         "garden": 0,
         "orientation": "Sud",
         "price": 2634602.62133218,
         "_deepnote_index_column": 852
        },
        {
         "size": 165.8465569116,
         "nb_rooms": 1,
         "garden": 0,
         "orientation": "Ouest",
         "price": 6554558.12211427,
         "_deepnote_index_column": 853
        },
        {
         "size": 222.8273284548,
         "nb_rooms": 1,
         "garden": 1,
         "orientation": "Ouest",
         "price": 1494333.8781646,
         "_deepnote_index_column": 854
        },
        {
         "size": 226.8401067898,
         "nb_rooms": 2,
         "garden": 0,
         "orientation": "Ouest",
         "price": -862333.007548618,
         "_deepnote_index_column": 855
        },
        {
         "size": 128.2457842942,
         "nb_rooms": 2,
         "garden": 1,
         "orientation": "Est",
         "price": 1273058.32106833,
         "_deepnote_index_column": 856
        },
        {
         "size": 112.6025688231,
         "nb_rooms": 2,
         "garden": 1,
         "orientation": "Sud",
         "price": 4270669.88675075,
         "_deepnote_index_column": 857
        },
        {
         "size": 108.7199536769,
         "nb_rooms": 2,
         "garden": 1,
         "orientation": "Est",
         "price": -3414607.86798465,
         "_deepnote_index_column": 858
        },
        {
         "size": 206.3279508887,
         "nb_rooms": 1,
         "garden": 0,
         "orientation": "Est",
         "price": 4030727.37511923,
         "_deepnote_index_column": 859
        },
        {
         "size": 68.783667263,
         "nb_rooms": 3,
         "garden": 1,
         "orientation": "Est",
         "price": 2492743.38271522,
         "_deepnote_index_column": 860
        },
        {
         "size": 217.9294060649,
         "nb_rooms": 3,
         "garden": 0,
         "orientation": "Sud",
         "price": 2930989.35299707,
         "_deepnote_index_column": 861
        },
        {
         "size": 178.940542378,
         "nb_rooms": 2,
         "garden": 0,
         "orientation": "Est",
         "price": 5313614.1603165,
         "_deepnote_index_column": 862
        },
        {
         "size": 203.6018070645,
         "nb_rooms": 1,
         "garden": 1,
         "orientation": "Sud",
         "price": 10454314.9939186,
         "_deepnote_index_column": 863
        },
        {
         "size": 100.3284217864,
         "nb_rooms": 3,
         "garden": 1,
         "orientation": "Ouest",
         "price": 1252447.24749604,
         "_deepnote_index_column": 864
        },
        {
         "size": 200.5525639184,
         "nb_rooms": 2,
         "garden": 0,
         "orientation": "Nord",
         "price": 6321271.22437334,
         "_deepnote_index_column": 865
        },
        {
         "size": 145.7541366119,
         "nb_rooms": 3,
         "garden": 1,
         "orientation": "Ouest",
         "price": -2371511.45329261,
         "_deepnote_index_column": 866
        },
        {
         "size": 59.3118520681,
         "nb_rooms": 2,
         "garden": 1,
         "orientation": "Sud",
         "price": -521818.987096792,
         "_deepnote_index_column": 867
        },
        {
         "size": 116.9330881693,
         "nb_rooms": 1,
         "garden": 1,
         "orientation": "Sud",
         "price": 4556362.80068576,
         "_deepnote_index_column": 868
        },
        {
         "size": 169.0783691558,
         "nb_rooms": 1,
         "garden": 1,
         "orientation": "Ouest",
         "price": 7042689.25217028,
         "_deepnote_index_column": 869
        },
        {
         "size": 172.7840109329,
         "nb_rooms": 3,
         "garden": 1,
         "orientation": "Est",
         "price": 1086845.26713709,
         "_deepnote_index_column": 870
        },
        {
         "size": 44.6474218173,
         "nb_rooms": 2,
         "garden": 0,
         "orientation": "Sud",
         "price": -1532213.61218994,
         "_deepnote_index_column": 871
        },
        {
         "size": 163.9791425425,
         "nb_rooms": 1,
         "garden": 0,
         "orientation": "Est",
         "price": 5859192.66009364,
         "_deepnote_index_column": 872
        },
        {
         "size": 204.2471252014,
         "nb_rooms": 2,
         "garden": 1,
         "orientation": "Est",
         "price": 7195583.88583123,
         "_deepnote_index_column": 873
        },
        {
         "size": 207.2489501497,
         "nb_rooms": 1,
         "garden": 0,
         "orientation": "Sud",
         "price": -506730.234351709,
         "_deepnote_index_column": 874
        },
        {
         "size": 122.7079057485,
         "nb_rooms": 2,
         "garden": 1,
         "orientation": "Nord",
         "price": 5646275.34437305,
         "_deepnote_index_column": 875
        },
        {
         "size": 2.9106465922,
         "nb_rooms": 3,
         "garden": 1,
         "orientation": "Ouest",
         "price": 557775.916721506,
         "_deepnote_index_column": 876
        },
        {
         "size": 130.7358589402,
         "nb_rooms": 3,
         "garden": 1,
         "orientation": "Sud",
         "price": 2630625.32701163,
         "_deepnote_index_column": 877
        },
        {
         "size": 144.8691031833,
         "nb_rooms": 1,
         "garden": 0,
         "orientation": "Nord",
         "price": 6060205.76452112,
         "_deepnote_index_column": 878
        },
        {
         "size": 128.3145183205,
         "nb_rooms": 2,
         "garden": 0,
         "orientation": "Sud",
         "price": 398421.611275107,
         "_deepnote_index_column": 879
        },
        {
         "size": 215.2161987559,
         "nb_rooms": 1,
         "garden": 0,
         "orientation": "Nord",
         "price": 4725155.62420461,
         "_deepnote_index_column": 880
        },
        {
         "size": 199.9290319879,
         "nb_rooms": 2,
         "garden": 0,
         "orientation": "Nord",
         "price": 6686556.66106714,
         "_deepnote_index_column": 881
        },
        {
         "size": 235.9653469967,
         "nb_rooms": 1,
         "garden": 0,
         "orientation": "Sud",
         "price": 8141779.85233469,
         "_deepnote_index_column": 882
        },
        {
         "size": 149.3045368494,
         "nb_rooms": 3,
         "garden": 1,
         "orientation": "Est",
         "price": -2302431.18568567,
         "_deepnote_index_column": 883
        },
        {
         "size": 67.0068624646,
         "nb_rooms": 3,
         "garden": 0,
         "orientation": "Sud",
         "price": 2204152.30160881,
         "_deepnote_index_column": 884
        },
        {
         "size": 167.6519941849,
         "nb_rooms": 2,
         "garden": 0,
         "orientation": "Ouest",
         "price": 1647055.60507406,
         "_deepnote_index_column": 885
        },
        {
         "size": 140.6989059077,
         "nb_rooms": 2,
         "garden": 0,
         "orientation": "Est",
         "price": 1823370.02588406,
         "_deepnote_index_column": 886
        },
        {
         "size": 142.8183731761,
         "nb_rooms": 3,
         "garden": 1,
         "orientation": "Nord",
         "price": -3664032.62919358,
         "_deepnote_index_column": 887
        },
        {
         "size": 91.6323906041,
         "nb_rooms": 2,
         "garden": 1,
         "orientation": "Est",
         "price": 3654880.73893152,
         "_deepnote_index_column": 888
        },
        {
         "size": 20.2757876917,
         "nb_rooms": 1,
         "garden": 1,
         "orientation": "Sud",
         "price": 3965437.50226671,
         "_deepnote_index_column": 889
        },
        {
         "size": 69.9390638136,
         "nb_rooms": 1,
         "garden": 1,
         "orientation": "Est",
         "price": 1892123.53952018,
         "_deepnote_index_column": 890
        },
        {
         "size": 188.798451772,
         "nb_rooms": 1,
         "garden": 1,
         "orientation": "Nord",
         "price": 3305459.21549725,
         "_deepnote_index_column": 891
        },
        {
         "size": 161.9158563392,
         "nb_rooms": 3,
         "garden": 1,
         "orientation": "Ouest",
         "price": -2785710.57305964,
         "_deepnote_index_column": 892
        },
        {
         "size": 170.7090389434,
         "nb_rooms": 2,
         "garden": 0,
         "orientation": "Sud",
         "price": 7606001.78021438,
         "_deepnote_index_column": 893
        },
        {
         "size": 84.6481312407,
         "nb_rooms": 2,
         "garden": 1,
         "orientation": "Sud",
         "price": 2736633.51096425,
         "_deepnote_index_column": 894
        },
        {
         "size": 71.8826192466,
         "nb_rooms": 1,
         "garden": 1,
         "orientation": "Est",
         "price": 5034581.40675139,
         "_deepnote_index_column": 895
        },
        {
         "size": 196.5313962694,
         "nb_rooms": 2,
         "garden": 1,
         "orientation": "Ouest",
         "price": -6805008.53969109,
         "_deepnote_index_column": 896
        },
        {
         "size": 198.6105998753,
         "nb_rooms": 3,
         "garden": 1,
         "orientation": "Nord",
         "price": 7911576.39626809,
         "_deepnote_index_column": 897
        },
        {
         "size": 114.2416646836,
         "nb_rooms": 3,
         "garden": 0,
         "orientation": "Nord",
         "price": 1537504.17705885,
         "_deepnote_index_column": 898
        },
        {
         "size": 238.603453117,
         "nb_rooms": 3,
         "garden": 0,
         "orientation": "Est",
         "price": 3171852.93223047,
         "_deepnote_index_column": 899
        },
        {
         "size": 133.505711721,
         "nb_rooms": 1,
         "garden": 1,
         "orientation": "Sud",
         "price": 1069751.58572763,
         "_deepnote_index_column": 900
        },
        {
         "size": 189.522997672,
         "nb_rooms": 2,
         "garden": 0,
         "orientation": "Nord",
         "price": 6601301.66912905,
         "_deepnote_index_column": 901
        },
        {
         "size": 128.011070897,
         "nb_rooms": 2,
         "garden": 1,
         "orientation": "Est",
         "price": 6414870.61476242,
         "_deepnote_index_column": 902
        },
        {
         "size": 131.4943980215,
         "nb_rooms": 2,
         "garden": 1,
         "orientation": "Nord",
         "price": -534515.163242843,
         "_deepnote_index_column": 903
        },
        {
         "size": 61.2215869853,
         "nb_rooms": 1,
         "garden": 0,
         "orientation": "Nord",
         "price": 2879442.74126841,
         "_deepnote_index_column": 904
        },
        {
         "size": 180.1408873013,
         "nb_rooms": 2,
         "garden": 0,
         "orientation": "Est",
         "price": 5313591.80072985,
         "_deepnote_index_column": 905
        },
        {
         "size": 180.7844411751,
         "nb_rooms": 2,
         "garden": 0,
         "orientation": "Est",
         "price": -2369969.32422456,
         "_deepnote_index_column": 906
        },
        {
         "size": 121.879364182,
         "nb_rooms": 1,
         "garden": 1,
         "orientation": "Sud",
         "price": 4871993.64034584,
         "_deepnote_index_column": 907
        },
        {
         "size": 140.8508538467,
         "nb_rooms": 3,
         "garden": 0,
         "orientation": "Nord",
         "price": 2463373.31238015,
         "_deepnote_index_column": 908
        },
        {
         "size": 123.3509631686,
         "nb_rooms": 3,
         "garden": 0,
         "orientation": "Est",
         "price": 986749.994619031,
         "_deepnote_index_column": 909
        },
        {
         "size": 128.668696366,
         "nb_rooms": 1,
         "garden": 1,
         "orientation": "Sud",
         "price": 9171814.50231973,
         "_deepnote_index_column": 910
        },
        {
         "size": 192.1944798803,
         "nb_rooms": 1,
         "garden": 1,
         "orientation": "Sud",
         "price": 3664782.12549589,
         "_deepnote_index_column": 911
        },
        {
         "size": 118.539760571,
         "nb_rooms": 2,
         "garden": 1,
         "orientation": "Est",
         "price": 679305.73160817,
         "_deepnote_index_column": 912
        },
        {
         "size": 124.6123055072,
         "nb_rooms": 1,
         "garden": 0,
         "orientation": "Est",
         "price": 3193584.99684069,
         "_deepnote_index_column": 913
        },
        {
         "size": 214.179435581,
         "nb_rooms": 1,
         "garden": 1,
         "orientation": "Nord",
         "price": 1983239.88123951,
         "_deepnote_index_column": 914
        },
        {
         "size": 66.1204006952,
         "nb_rooms": 3,
         "garden": 1,
         "orientation": "Sud",
         "price": 1245681.54173642,
         "_deepnote_index_column": 915
        },
        {
         "size": 90.4696321795,
         "nb_rooms": 1,
         "garden": 1,
         "orientation": "Est",
         "price": 4823991.5369071,
         "_deepnote_index_column": 916
        },
        {
         "size": 225.4126253694,
         "nb_rooms": 3,
         "garden": 0,
         "orientation": "Ouest",
         "price": 7674723.86479291,
         "_deepnote_index_column": 917
        },
        {
         "size": 116.8084576299,
         "nb_rooms": 3,
         "garden": 1,
         "orientation": "Est",
         "price": 3801038.48787019,
         "_deepnote_index_column": 918
        },
        {
         "size": 93.7367076953,
         "nb_rooms": 2,
         "garden": 0,
         "orientation": "Est",
         "price": 1503207.37770909,
         "_deepnote_index_column": 919
        },
        {
         "size": 215.758153964,
         "nb_rooms": 3,
         "garden": 0,
         "orientation": "Est",
         "price": 1914054.13976505,
         "_deepnote_index_column": 920
        },
        {
         "size": 146.5786340711,
         "nb_rooms": 3,
         "garden": 1,
         "orientation": "Sud",
         "price": 5222266.35406444,
         "_deepnote_index_column": 921
        },
        {
         "size": 61.0063052997,
         "nb_rooms": 1,
         "garden": 0,
         "orientation": "Nord",
         "price": 4029358.7159069,
         "_deepnote_index_column": 922
        },
        {
         "size": 163.4167240969,
         "nb_rooms": 3,
         "garden": 1,
         "orientation": "Ouest",
         "price": 2923677.51536931,
         "_deepnote_index_column": 923
        },
        {
         "size": 179.5664200142,
         "nb_rooms": 2,
         "garden": 1,
         "orientation": "Est",
         "price": 8092197.20286598,
         "_deepnote_index_column": 924
        },
        {
         "size": 153.0930290608,
         "nb_rooms": 1,
         "garden": 1,
         "orientation": "Nord",
         "price": 4163414.23106909,
         "_deepnote_index_column": 925
        },
        {
         "size": 101.0919694018,
         "nb_rooms": 1,
         "garden": 1,
         "orientation": "Ouest",
         "price": -2482365.59389961,
         "_deepnote_index_column": 926
        },
        {
         "size": 174.3059298661,
         "nb_rooms": 2,
         "garden": 0,
         "orientation": "Ouest",
         "price": -1607167.59776086,
         "_deepnote_index_column": 927
        },
        {
         "size": 162.3608300325,
         "nb_rooms": 1,
         "garden": 0,
         "orientation": "Nord",
         "price": 4494553.25769102,
         "_deepnote_index_column": 928
        },
        {
         "size": 201.2505979835,
         "nb_rooms": 2,
         "garden": 1,
         "orientation": "Sud",
         "price": 5242461.38715248,
         "_deepnote_index_column": 929
        },
        {
         "size": 187.5441932783,
         "nb_rooms": 1,
         "garden": 1,
         "orientation": "Sud",
         "price": 5653138.10084037,
         "_deepnote_index_column": 930
        },
        {
         "size": 110.2032841478,
         "nb_rooms": 3,
         "garden": 0,
         "orientation": "Ouest",
         "price": 2049440.48699665,
         "_deepnote_index_column": 931
        },
        {
         "size": 117.8720017978,
         "nb_rooms": 2,
         "garden": 1,
         "orientation": "Nord",
         "price": 2468790.9855599,
         "_deepnote_index_column": 932
        },
        {
         "size": 177.4565319617,
         "nb_rooms": 3,
         "garden": 1,
         "orientation": "Est",
         "price": 875721.931968844,
         "_deepnote_index_column": 933
        },
        {
         "size": 252.0101877483,
         "nb_rooms": 1,
         "garden": 1,
         "orientation": "Ouest",
         "price": 19854527.36752,
         "_deepnote_index_column": 934
        },
        {
         "size": 80.0888525646,
         "nb_rooms": 3,
         "garden": 0,
         "orientation": "Nord",
         "price": -3552663.91592769,
         "_deepnote_index_column": 935
        },
        {
         "size": 180.543428913,
         "nb_rooms": 1,
         "garden": 1,
         "orientation": "Nord",
         "price": 7989758.80695303,
         "_deepnote_index_column": 936
        },
        {
         "size": 172.1066417602,
         "nb_rooms": 1,
         "garden": 0,
         "orientation": "Nord",
         "price": 5941945.42732184,
         "_deepnote_index_column": 937
        },
        {
         "size": 243.220564482,
         "nb_rooms": 2,
         "garden": 0,
         "orientation": "Sud",
         "price": 1251468.40779329,
         "_deepnote_index_column": 938
        },
        {
         "size": 164.4781963846,
         "nb_rooms": 1,
         "garden": 0,
         "orientation": "Nord",
         "price": -554341.876813343,
         "_deepnote_index_column": 939
        },
        {
         "size": 83.4386675187,
         "nb_rooms": 1,
         "garden": 1,
         "orientation": "Est",
         "price": 1715788.58783041,
         "_deepnote_index_column": 940
        },
        {
         "size": 163.6308375296,
         "nb_rooms": 2,
         "garden": 0,
         "orientation": "Ouest",
         "price": -1095331.91383255,
         "_deepnote_index_column": 941
        },
        {
         "size": 15.3458377766,
         "nb_rooms": 3,
         "garden": 0,
         "orientation": "Ouest",
         "price": 798573.84802193,
         "_deepnote_index_column": 942
        },
        {
         "size": 180.4875865646,
         "nb_rooms": 2,
         "garden": 0,
         "orientation": "Ouest",
         "price": 6356166.03246304,
         "_deepnote_index_column": 943
        },
        {
         "size": 93.5845519609,
         "nb_rooms": 3,
         "garden": 0,
         "orientation": "Nord",
         "price": 1244085.36620627,
         "_deepnote_index_column": 944
        },
        {
         "size": 154.6594765241,
         "nb_rooms": 3,
         "garden": 1,
         "orientation": "Sud",
         "price": 5587810.76451492,
         "_deepnote_index_column": 945
        },
        {
         "size": 276.866561771,
         "nb_rooms": 1,
         "garden": 1,
         "orientation": "Sud",
         "price": -134929.156487844,
         "_deepnote_index_column": 946
        },
        {
         "size": 184.6791989729,
         "nb_rooms": 1,
         "garden": 1,
         "orientation": "Ouest",
         "price": 2839957.23465991,
         "_deepnote_index_column": 947
        },
        {
         "size": 82.281477331,
         "nb_rooms": 1,
         "garden": 0,
         "orientation": "Nord",
         "price": 3114214.96736777,
         "_deepnote_index_column": 948
        },
        {
         "size": 125.0810788708,
         "nb_rooms": 3,
         "garden": 1,
         "orientation": "Sud",
         "price": 5414860.09091391,
         "_deepnote_index_column": 949
        }
       ]
      },
      "text/plain": "           size  nb_rooms  garden orientation         price\n0    197.330478         1       0         Sud -5.156551e+05\n1    185.361036         2       0         Sud  9.341416e+05\n2    195.113286         3       0         Est  6.894269e+06\n3    139.920144         3       1       Ouest  4.307298e+06\n4    167.917466         1       0        Nord  1.267890e+06\n..          ...       ...     ...         ...           ...\n945  154.659477         3       1         Sud  5.587811e+06\n946  276.866562         1       1         Sud -1.349292e+05\n947  184.679199         1       1       Ouest  2.839957e+06\n948   82.281477         1       0        Nord  3.114215e+06\n949  125.081079         3       1         Sud  5.414860e+06\n\n[950 rows x 5 columns]",
      "text/html": "<div>\n<style scoped>\n    .dataframe tbody tr th:only-of-type {\n        vertical-align: middle;\n    }\n\n    .dataframe tbody tr th {\n        vertical-align: top;\n    }\n\n    .dataframe thead th {\n        text-align: right;\n    }\n</style>\n<table border=\"1\" class=\"dataframe\">\n  <thead>\n    <tr style=\"text-align: right;\">\n      <th></th>\n      <th>size</th>\n      <th>nb_rooms</th>\n      <th>garden</th>\n      <th>orientation</th>\n      <th>price</th>\n    </tr>\n  </thead>\n  <tbody>\n    <tr>\n      <th>0</th>\n      <td>197.330478</td>\n      <td>1</td>\n      <td>0</td>\n      <td>Sud</td>\n      <td>-5.156551e+05</td>\n    </tr>\n    <tr>\n      <th>1</th>\n      <td>185.361036</td>\n      <td>2</td>\n      <td>0</td>\n      <td>Sud</td>\n      <td>9.341416e+05</td>\n    </tr>\n    <tr>\n      <th>2</th>\n      <td>195.113286</td>\n      <td>3</td>\n      <td>0</td>\n      <td>Est</td>\n      <td>6.894269e+06</td>\n    </tr>\n    <tr>\n      <th>3</th>\n      <td>139.920144</td>\n      <td>3</td>\n      <td>1</td>\n      <td>Ouest</td>\n      <td>4.307298e+06</td>\n    </tr>\n    <tr>\n      <th>4</th>\n      <td>167.917466</td>\n      <td>1</td>\n      <td>0</td>\n      <td>Nord</td>\n      <td>1.267890e+06</td>\n    </tr>\n    <tr>\n      <th>...</th>\n      <td>...</td>\n      <td>...</td>\n      <td>...</td>\n      <td>...</td>\n      <td>...</td>\n    </tr>\n    <tr>\n      <th>945</th>\n      <td>154.659477</td>\n      <td>3</td>\n      <td>1</td>\n      <td>Sud</td>\n      <td>5.587811e+06</td>\n    </tr>\n    <tr>\n      <th>946</th>\n      <td>276.866562</td>\n      <td>1</td>\n      <td>1</td>\n      <td>Sud</td>\n      <td>-1.349292e+05</td>\n    </tr>\n    <tr>\n      <th>947</th>\n      <td>184.679199</td>\n      <td>1</td>\n      <td>1</td>\n      <td>Ouest</td>\n      <td>2.839957e+06</td>\n    </tr>\n    <tr>\n      <th>948</th>\n      <td>82.281477</td>\n      <td>1</td>\n      <td>0</td>\n      <td>Nord</td>\n      <td>3.114215e+06</td>\n    </tr>\n    <tr>\n      <th>949</th>\n      <td>125.081079</td>\n      <td>3</td>\n      <td>1</td>\n      <td>Sud</td>\n      <td>5.414860e+06</td>\n    </tr>\n  </tbody>\n</table>\n<p>950 rows × 5 columns</p>\n</div>"
     },
     "metadata": {}
    }
   ]
  },
  {
   "cell_type": "code",
   "metadata": {
    "cell_id": "00024-73857fe4-ab6e-4860-aee1-2e6642d228ac",
    "deepnote_cell_type": "code"
   },
   "source": "mask_room_2 = df['bedrooms'] == 2\ndf[mask_room_2]",
   "execution_count": null,
   "outputs": [
    {
     "data": {
      "text/html": "<div>\n<style scoped>\n    .dataframe tbody tr th:only-of-type {\n        vertical-align: middle;\n    }\n\n    .dataframe tbody tr th {\n        vertical-align: top;\n    }\n\n    .dataframe thead th {\n        text-align: right;\n    }\n</style>\n<table border=\"1\" class=\"dataframe\">\n  <thead>\n    <tr style=\"text-align: right;\">\n      <th></th>\n      <th>size</th>\n      <th>bedrooms</th>\n      <th>orientation</th>\n    </tr>\n  </thead>\n  <tbody>\n    <tr>\n      <th>3</th>\n      <td>55.728780</td>\n      <td>2</td>\n      <td>North</td>\n    </tr>\n    <tr>\n      <th>5</th>\n      <td>77.714337</td>\n      <td>2</td>\n      <td>West</td>\n    </tr>\n    <tr>\n      <th>13</th>\n      <td>59.595308</td>\n      <td>2</td>\n      <td>North</td>\n    </tr>\n    <tr>\n      <th>15</th>\n      <td>142.483424</td>\n      <td>2</td>\n      <td>North</td>\n    </tr>\n    <tr>\n      <th>29</th>\n      <td>101.320632</td>\n      <td>2</td>\n      <td>North</td>\n    </tr>\n    <tr>\n      <th>30</th>\n      <td>82.156832</td>\n      <td>2</td>\n      <td>West</td>\n    </tr>\n    <tr>\n      <th>31</th>\n      <td>83.860972</td>\n      <td>2</td>\n      <td>South</td>\n    </tr>\n    <tr>\n      <th>32</th>\n      <td>40.537405</td>\n      <td>2</td>\n      <td>West</td>\n    </tr>\n    <tr>\n      <th>35</th>\n      <td>43.758943</td>\n      <td>2</td>\n      <td>East</td>\n    </tr>\n    <tr>\n      <th>38</th>\n      <td>104.330867</td>\n      <td>2</td>\n      <td>East</td>\n    </tr>\n    <tr>\n      <th>43</th>\n      <td>45.316126</td>\n      <td>2</td>\n      <td>North</td>\n    </tr>\n    <tr>\n      <th>46</th>\n      <td>71.151879</td>\n      <td>2</td>\n      <td>West</td>\n    </tr>\n    <tr>\n      <th>47</th>\n      <td>123.463192</td>\n      <td>2</td>\n      <td>West</td>\n    </tr>\n    <tr>\n      <th>48</th>\n      <td>110.134747</td>\n      <td>2</td>\n      <td>East</td>\n    </tr>\n    <tr>\n      <th>49</th>\n      <td>18.611069</td>\n      <td>2</td>\n      <td>South</td>\n    </tr>\n    <tr>\n      <th>56</th>\n      <td>79.285122</td>\n      <td>2</td>\n      <td>South</td>\n    </tr>\n    <tr>\n      <th>58</th>\n      <td>99.945699</td>\n      <td>2</td>\n      <td>South</td>\n    </tr>\n    <tr>\n      <th>59</th>\n      <td>92.469073</td>\n      <td>2</td>\n      <td>West</td>\n    </tr>\n    <tr>\n      <th>60</th>\n      <td>76.581761</td>\n      <td>2</td>\n      <td>East</td>\n    </tr>\n    <tr>\n      <th>67</th>\n      <td>75.145403</td>\n      <td>2</td>\n      <td>North</td>\n    </tr>\n    <tr>\n      <th>70</th>\n      <td>136.258471</td>\n      <td>2</td>\n      <td>North</td>\n    </tr>\n    <tr>\n      <th>71</th>\n      <td>114.280316</td>\n      <td>2</td>\n      <td>North</td>\n    </tr>\n    <tr>\n      <th>72</th>\n      <td>112.863635</td>\n      <td>2</td>\n      <td>North</td>\n    </tr>\n    <tr>\n      <th>84</th>\n      <td>116.178905</td>\n      <td>2</td>\n      <td>North</td>\n    </tr>\n    <tr>\n      <th>87</th>\n      <td>96.644387</td>\n      <td>2</td>\n      <td>South</td>\n    </tr>\n    <tr>\n      <th>88</th>\n      <td>40.149744</td>\n      <td>2</td>\n      <td>West</td>\n    </tr>\n    <tr>\n      <th>92</th>\n      <td>85.877643</td>\n      <td>2</td>\n      <td>South</td>\n    </tr>\n    <tr>\n      <th>97</th>\n      <td>93.000013</td>\n      <td>2</td>\n      <td>West</td>\n    </tr>\n    <tr>\n      <th>98</th>\n      <td>94.863742</td>\n      <td>2</td>\n      <td>North</td>\n    </tr>\n    <tr>\n      <th>99</th>\n      <td>140.162640</td>\n      <td>2</td>\n      <td>West</td>\n    </tr>\n    <tr>\n      <th>...</th>\n      <td>...</td>\n      <td>...</td>\n      <td>...</td>\n    </tr>\n    <tr>\n      <th>216</th>\n      <td>87.354078</td>\n      <td>2</td>\n      <td>West</td>\n    </tr>\n    <tr>\n      <th>217</th>\n      <td>67.301958</td>\n      <td>2</td>\n      <td>North</td>\n    </tr>\n    <tr>\n      <th>221</th>\n      <td>51.465388</td>\n      <td>2</td>\n      <td>North</td>\n    </tr>\n    <tr>\n      <th>222</th>\n      <td>63.593214</td>\n      <td>2</td>\n      <td>West</td>\n    </tr>\n    <tr>\n      <th>225</th>\n      <td>108.750584</td>\n      <td>2</td>\n      <td>West</td>\n    </tr>\n    <tr>\n      <th>229</th>\n      <td>60.433623</td>\n      <td>2</td>\n      <td>East</td>\n    </tr>\n    <tr>\n      <th>230</th>\n      <td>55.060822</td>\n      <td>2</td>\n      <td>North</td>\n    </tr>\n    <tr>\n      <th>231</th>\n      <td>55.705864</td>\n      <td>2</td>\n      <td>East</td>\n    </tr>\n    <tr>\n      <th>243</th>\n      <td>89.102202</td>\n      <td>2</td>\n      <td>South</td>\n    </tr>\n    <tr>\n      <th>246</th>\n      <td>149.575684</td>\n      <td>2</td>\n      <td>South</td>\n    </tr>\n    <tr>\n      <th>247</th>\n      <td>105.412307</td>\n      <td>2</td>\n      <td>East</td>\n    </tr>\n    <tr>\n      <th>251</th>\n      <td>106.674347</td>\n      <td>2</td>\n      <td>East</td>\n    </tr>\n    <tr>\n      <th>252</th>\n      <td>144.482526</td>\n      <td>2</td>\n      <td>West</td>\n    </tr>\n    <tr>\n      <th>253</th>\n      <td>79.849074</td>\n      <td>2</td>\n      <td>West</td>\n    </tr>\n    <tr>\n      <th>255</th>\n      <td>114.178222</td>\n      <td>2</td>\n      <td>North</td>\n    </tr>\n    <tr>\n      <th>257</th>\n      <td>84.271364</td>\n      <td>2</td>\n      <td>West</td>\n    </tr>\n    <tr>\n      <th>258</th>\n      <td>61.387674</td>\n      <td>2</td>\n      <td>West</td>\n    </tr>\n    <tr>\n      <th>259</th>\n      <td>148.572746</td>\n      <td>2</td>\n      <td>North</td>\n    </tr>\n    <tr>\n      <th>260</th>\n      <td>107.231175</td>\n      <td>2</td>\n      <td>South</td>\n    </tr>\n    <tr>\n      <th>263</th>\n      <td>78.637126</td>\n      <td>2</td>\n      <td>East</td>\n    </tr>\n    <tr>\n      <th>264</th>\n      <td>97.947836</td>\n      <td>2</td>\n      <td>East</td>\n    </tr>\n    <tr>\n      <th>267</th>\n      <td>104.126542</td>\n      <td>2</td>\n      <td>East</td>\n    </tr>\n    <tr>\n      <th>269</th>\n      <td>69.170605</td>\n      <td>2</td>\n      <td>South</td>\n    </tr>\n    <tr>\n      <th>273</th>\n      <td>88.470986</td>\n      <td>2</td>\n      <td>East</td>\n    </tr>\n    <tr>\n      <th>274</th>\n      <td>81.120865</td>\n      <td>2</td>\n      <td>North</td>\n    </tr>\n    <tr>\n      <th>276</th>\n      <td>100.100508</td>\n      <td>2</td>\n      <td>East</td>\n    </tr>\n    <tr>\n      <th>286</th>\n      <td>94.297464</td>\n      <td>2</td>\n      <td>East</td>\n    </tr>\n    <tr>\n      <th>289</th>\n      <td>105.363811</td>\n      <td>2</td>\n      <td>South</td>\n    </tr>\n    <tr>\n      <th>295</th>\n      <td>50.265679</td>\n      <td>2</td>\n      <td>North</td>\n    </tr>\n    <tr>\n      <th>296</th>\n      <td>110.661600</td>\n      <td>2</td>\n      <td>West</td>\n    </tr>\n  </tbody>\n</table>\n<p>106 rows × 3 columns</p>\n</div>",
      "text/plain": "           size  bedrooms orientation\n3     55.728780         2       North\n5     77.714337         2        West\n13    59.595308         2       North\n15   142.483424         2       North\n29   101.320632         2       North\n30    82.156832         2        West\n31    83.860972         2       South\n32    40.537405         2        West\n35    43.758943         2        East\n38   104.330867         2        East\n43    45.316126         2       North\n46    71.151879         2        West\n47   123.463192         2        West\n48   110.134747         2        East\n49    18.611069         2       South\n56    79.285122         2       South\n58    99.945699         2       South\n59    92.469073         2        West\n60    76.581761         2        East\n67    75.145403         2       North\n70   136.258471         2       North\n71   114.280316         2       North\n72   112.863635         2       North\n84   116.178905         2       North\n87    96.644387         2       South\n88    40.149744         2        West\n92    85.877643         2       South\n97    93.000013         2        West\n98    94.863742         2       North\n99   140.162640         2        West\n..          ...       ...         ...\n216   87.354078         2        West\n217   67.301958         2       North\n221   51.465388         2       North\n222   63.593214         2        West\n225  108.750584         2        West\n229   60.433623         2        East\n230   55.060822         2       North\n231   55.705864         2        East\n243   89.102202         2       South\n246  149.575684         2       South\n247  105.412307         2        East\n251  106.674347         2        East\n252  144.482526         2        West\n253   79.849074         2        West\n255  114.178222         2       North\n257   84.271364         2        West\n258   61.387674         2        West\n259  148.572746         2       North\n260  107.231175         2       South\n263   78.637126         2        East\n264   97.947836         2        East\n267  104.126542         2        East\n269   69.170605         2       South\n273   88.470986         2        East\n274   81.120865         2       North\n276  100.100508         2        East\n286   94.297464         2        East\n289  105.363811         2       South\n295   50.265679         2       North\n296  110.661600         2        West\n\n[106 rows x 3 columns]"
     },
     "execution_count": 62,
     "metadata": {},
     "output_type": "execute_result"
    }
   ]
  },
  {
   "cell_type": "markdown",
   "source": "## Création de colonne et mise à jour de données\n\nOn peut également créer de nouvelles colonnes ou mettre à jour des données dans un\ndataframe pandas. On notera que les opérations sont vectorisées (pas besoin de boucle) dans ce cas également",
   "metadata": {
    "tags": [],
    "cell_id": "00016-88cd91b1-d2e3-4c98-bc0a-bcbbcebb02ab",
    "deepnote_cell_type": "markdown"
   }
  },
  {
   "cell_type": "code",
   "metadata": {
    "cell_id": "00027-cd4cdfe3-3ad9-496b-914c-bd136b6687f4",
    "deepnote_to_be_reexecuted": false,
    "source_hash": "4833258f",
    "execution_start": 1623049452674,
    "execution_millis": 90,
    "deepnote_cell_type": "code"
   },
   "source": "df['size_au_carre'] = df['size'] ** 2\ndf",
   "execution_count": null,
   "outputs": [
    {
     "output_type": "error",
     "ename": "KeyError",
     "evalue": "'size'",
     "traceback": [
      "\u001b[0;31m---------------------------------------------------------------------------\u001b[0m",
      "\u001b[0;31mKeyError\u001b[0m                                  Traceback (most recent call last)",
      "\u001b[0;32m/shared-libs/python3.7/py/lib/python3.7/site-packages/pandas/core/indexes/base.py\u001b[0m in \u001b[0;36mget_loc\u001b[0;34m(self, key, method, tolerance)\u001b[0m\n\u001b[1;32m   3079\u001b[0m             \u001b[0;32mtry\u001b[0m\u001b[0;34m:\u001b[0m\u001b[0;34m\u001b[0m\u001b[0;34m\u001b[0m\u001b[0m\n\u001b[0;32m-> 3080\u001b[0;31m                 \u001b[0;32mreturn\u001b[0m \u001b[0mself\u001b[0m\u001b[0;34m.\u001b[0m\u001b[0m_engine\u001b[0m\u001b[0;34m.\u001b[0m\u001b[0mget_loc\u001b[0m\u001b[0;34m(\u001b[0m\u001b[0mcasted_key\u001b[0m\u001b[0;34m)\u001b[0m\u001b[0;34m\u001b[0m\u001b[0;34m\u001b[0m\u001b[0m\n\u001b[0m\u001b[1;32m   3081\u001b[0m             \u001b[0;32mexcept\u001b[0m \u001b[0mKeyError\u001b[0m \u001b[0;32mas\u001b[0m \u001b[0merr\u001b[0m\u001b[0;34m:\u001b[0m\u001b[0;34m\u001b[0m\u001b[0;34m\u001b[0m\u001b[0m\n",
      "\u001b[0;32mpandas/_libs/index.pyx\u001b[0m in \u001b[0;36mpandas._libs.index.IndexEngine.get_loc\u001b[0;34m()\u001b[0m\n",
      "\u001b[0;32mpandas/_libs/index.pyx\u001b[0m in \u001b[0;36mpandas._libs.index.IndexEngine.get_loc\u001b[0;34m()\u001b[0m\n",
      "\u001b[0;32mpandas/_libs/hashtable_class_helper.pxi\u001b[0m in \u001b[0;36mpandas._libs.hashtable.PyObjectHashTable.get_item\u001b[0;34m()\u001b[0m\n",
      "\u001b[0;32mpandas/_libs/hashtable_class_helper.pxi\u001b[0m in \u001b[0;36mpandas._libs.hashtable.PyObjectHashTable.get_item\u001b[0;34m()\u001b[0m\n",
      "\u001b[0;31mKeyError\u001b[0m: 'size'",
      "\nThe above exception was the direct cause of the following exception:\n",
      "\u001b[0;31mKeyError\u001b[0m                                  Traceback (most recent call last)",
      "\u001b[0;32m<ipython-input-30-4fe1574a73d5>\u001b[0m in \u001b[0;36m<module>\u001b[0;34m\u001b[0m\n\u001b[0;32m----> 1\u001b[0;31m \u001b[0mdf\u001b[0m\u001b[0;34m[\u001b[0m\u001b[0;34m'size_au_carre'\u001b[0m\u001b[0;34m]\u001b[0m \u001b[0;34m=\u001b[0m \u001b[0mdf\u001b[0m\u001b[0;34m[\u001b[0m\u001b[0;34m'size'\u001b[0m\u001b[0;34m]\u001b[0m \u001b[0;34m**\u001b[0m \u001b[0;36m2\u001b[0m\u001b[0;34m\u001b[0m\u001b[0;34m\u001b[0m\u001b[0m\n\u001b[0m\u001b[1;32m      2\u001b[0m \u001b[0mdf\u001b[0m\u001b[0;34m\u001b[0m\u001b[0;34m\u001b[0m\u001b[0m\n",
      "\u001b[0;32m/shared-libs/python3.7/py/lib/python3.7/site-packages/pandas/core/frame.py\u001b[0m in \u001b[0;36m__getitem__\u001b[0;34m(self, key)\u001b[0m\n\u001b[1;32m   3022\u001b[0m             \u001b[0;32mif\u001b[0m \u001b[0mself\u001b[0m\u001b[0;34m.\u001b[0m\u001b[0mcolumns\u001b[0m\u001b[0;34m.\u001b[0m\u001b[0mnlevels\u001b[0m \u001b[0;34m>\u001b[0m \u001b[0;36m1\u001b[0m\u001b[0;34m:\u001b[0m\u001b[0;34m\u001b[0m\u001b[0;34m\u001b[0m\u001b[0m\n\u001b[1;32m   3023\u001b[0m                 \u001b[0;32mreturn\u001b[0m \u001b[0mself\u001b[0m\u001b[0;34m.\u001b[0m\u001b[0m_getitem_multilevel\u001b[0m\u001b[0;34m(\u001b[0m\u001b[0mkey\u001b[0m\u001b[0;34m)\u001b[0m\u001b[0;34m\u001b[0m\u001b[0;34m\u001b[0m\u001b[0m\n\u001b[0;32m-> 3024\u001b[0;31m             \u001b[0mindexer\u001b[0m \u001b[0;34m=\u001b[0m \u001b[0mself\u001b[0m\u001b[0;34m.\u001b[0m\u001b[0mcolumns\u001b[0m\u001b[0;34m.\u001b[0m\u001b[0mget_loc\u001b[0m\u001b[0;34m(\u001b[0m\u001b[0mkey\u001b[0m\u001b[0;34m)\u001b[0m\u001b[0;34m\u001b[0m\u001b[0;34m\u001b[0m\u001b[0m\n\u001b[0m\u001b[1;32m   3025\u001b[0m             \u001b[0;32mif\u001b[0m \u001b[0mis_integer\u001b[0m\u001b[0;34m(\u001b[0m\u001b[0mindexer\u001b[0m\u001b[0;34m)\u001b[0m\u001b[0;34m:\u001b[0m\u001b[0;34m\u001b[0m\u001b[0;34m\u001b[0m\u001b[0m\n\u001b[1;32m   3026\u001b[0m                 \u001b[0mindexer\u001b[0m \u001b[0;34m=\u001b[0m \u001b[0;34m[\u001b[0m\u001b[0mindexer\u001b[0m\u001b[0;34m]\u001b[0m\u001b[0;34m\u001b[0m\u001b[0;34m\u001b[0m\u001b[0m\n",
      "\u001b[0;32m/shared-libs/python3.7/py/lib/python3.7/site-packages/pandas/core/indexes/base.py\u001b[0m in \u001b[0;36mget_loc\u001b[0;34m(self, key, method, tolerance)\u001b[0m\n\u001b[1;32m   3080\u001b[0m                 \u001b[0;32mreturn\u001b[0m \u001b[0mself\u001b[0m\u001b[0;34m.\u001b[0m\u001b[0m_engine\u001b[0m\u001b[0;34m.\u001b[0m\u001b[0mget_loc\u001b[0m\u001b[0;34m(\u001b[0m\u001b[0mcasted_key\u001b[0m\u001b[0;34m)\u001b[0m\u001b[0;34m\u001b[0m\u001b[0;34m\u001b[0m\u001b[0m\n\u001b[1;32m   3081\u001b[0m             \u001b[0;32mexcept\u001b[0m \u001b[0mKeyError\u001b[0m \u001b[0;32mas\u001b[0m \u001b[0merr\u001b[0m\u001b[0;34m:\u001b[0m\u001b[0;34m\u001b[0m\u001b[0;34m\u001b[0m\u001b[0m\n\u001b[0;32m-> 3082\u001b[0;31m                 \u001b[0;32mraise\u001b[0m \u001b[0mKeyError\u001b[0m\u001b[0;34m(\u001b[0m\u001b[0mkey\u001b[0m\u001b[0;34m)\u001b[0m \u001b[0;32mfrom\u001b[0m \u001b[0merr\u001b[0m\u001b[0;34m\u001b[0m\u001b[0;34m\u001b[0m\u001b[0m\n\u001b[0m\u001b[1;32m   3083\u001b[0m \u001b[0;34m\u001b[0m\u001b[0m\n\u001b[1;32m   3084\u001b[0m         \u001b[0;32mif\u001b[0m \u001b[0mtolerance\u001b[0m \u001b[0;32mis\u001b[0m \u001b[0;32mnot\u001b[0m \u001b[0;32mNone\u001b[0m\u001b[0;34m:\u001b[0m\u001b[0;34m\u001b[0m\u001b[0;34m\u001b[0m\u001b[0m\n",
      "\u001b[0;31mKeyError\u001b[0m: 'size'"
     ]
    }
   ]
  },
  {
   "cell_type": "code",
   "metadata": {
    "cell_id": "00028-b643a424-e3c1-4e45-8cb9-bb45812482a2",
    "deepnote_cell_type": "code"
   },
   "source": "#df['log_size'] = np.log(1 + df['size'])\ndf",
   "execution_count": null,
   "outputs": [
    {
     "data": {
      "text/html": "<div>\n<style scoped>\n    .dataframe tbody tr th:only-of-type {\n        vertical-align: middle;\n    }\n\n    .dataframe tbody tr th {\n        vertical-align: top;\n    }\n\n    .dataframe thead th {\n        text-align: right;\n    }\n</style>\n<table border=\"1\" class=\"dataframe\">\n  <thead>\n    <tr style=\"text-align: right;\">\n      <th></th>\n      <th>size</th>\n      <th>bedrooms</th>\n      <th>orientation</th>\n      <th>nom_nouvelle_col</th>\n      <th>size_au_carre</th>\n      <th>log_size</th>\n    </tr>\n  </thead>\n  <tbody>\n    <tr>\n      <th>0</th>\n      <td>131.672450</td>\n      <td>1</td>\n      <td>South</td>\n      <td>4</td>\n      <td>17337.633972</td>\n      <td>4.887883</td>\n    </tr>\n    <tr>\n      <th>1</th>\n      <td>179.464732</td>\n      <td>1</td>\n      <td>East</td>\n      <td>4</td>\n      <td>32207.590018</td>\n      <td>5.195535</td>\n    </tr>\n    <tr>\n      <th>2</th>\n      <td>122.635992</td>\n      <td>3</td>\n      <td>East</td>\n      <td>4</td>\n      <td>15039.586634</td>\n      <td>4.817342</td>\n    </tr>\n    <tr>\n      <th>3</th>\n      <td>55.728780</td>\n      <td>2</td>\n      <td>North</td>\n      <td>4</td>\n      <td>3105.696909</td>\n      <td>4.038282</td>\n    </tr>\n    <tr>\n      <th>4</th>\n      <td>79.907682</td>\n      <td>1</td>\n      <td>South</td>\n      <td>4</td>\n      <td>6385.237574</td>\n      <td>4.393309</td>\n    </tr>\n    <tr>\n      <th>5</th>\n      <td>77.714337</td>\n      <td>2</td>\n      <td>West</td>\n      <td>4</td>\n      <td>6039.518131</td>\n      <td>4.365825</td>\n    </tr>\n    <tr>\n      <th>6</th>\n      <td>114.381967</td>\n      <td>3</td>\n      <td>North</td>\n      <td>4</td>\n      <td>13083.234318</td>\n      <td>4.748248</td>\n    </tr>\n    <tr>\n      <th>7</th>\n      <td>107.921679</td>\n      <td>3</td>\n      <td>North</td>\n      <td>4</td>\n      <td>11647.088707</td>\n      <td>4.690629</td>\n    </tr>\n    <tr>\n      <th>8</th>\n      <td>127.863334</td>\n      <td>1</td>\n      <td>West</td>\n      <td>4</td>\n      <td>16349.032193</td>\n      <td>4.858752</td>\n    </tr>\n    <tr>\n      <th>9</th>\n      <td>66.212258</td>\n      <td>1</td>\n      <td>North</td>\n      <td>4</td>\n      <td>4384.063065</td>\n      <td>4.207856</td>\n    </tr>\n    <tr>\n      <th>10</th>\n      <td>37.889033</td>\n      <td>1</td>\n      <td>East</td>\n      <td>4</td>\n      <td>1435.578810</td>\n      <td>3.660712</td>\n    </tr>\n    <tr>\n      <th>11</th>\n      <td>106.626440</td>\n      <td>3</td>\n      <td>South</td>\n      <td>4</td>\n      <td>11369.197730</td>\n      <td>4.678666</td>\n    </tr>\n    <tr>\n      <th>12</th>\n      <td>16.246812</td>\n      <td>1</td>\n      <td>North</td>\n      <td>4</td>\n      <td>263.958896</td>\n      <td>2.847627</td>\n    </tr>\n    <tr>\n      <th>13</th>\n      <td>59.595308</td>\n      <td>2</td>\n      <td>North</td>\n      <td>4</td>\n      <td>3551.600724</td>\n      <td>4.104217</td>\n    </tr>\n    <tr>\n      <th>14</th>\n      <td>53.761235</td>\n      <td>1</td>\n      <td>West</td>\n      <td>4</td>\n      <td>2890.270425</td>\n      <td>4.002983</td>\n    </tr>\n    <tr>\n      <th>15</th>\n      <td>142.483424</td>\n      <td>2</td>\n      <td>North</td>\n      <td>4</td>\n      <td>20301.526241</td>\n      <td>4.966220</td>\n    </tr>\n    <tr>\n      <th>16</th>\n      <td>47.718108</td>\n      <td>1</td>\n      <td>North</td>\n      <td>4</td>\n      <td>2277.017866</td>\n      <td>3.886051</td>\n    </tr>\n    <tr>\n      <th>17</th>\n      <td>13.667976</td>\n      <td>1</td>\n      <td>West</td>\n      <td>4</td>\n      <td>186.813567</td>\n      <td>2.685667</td>\n    </tr>\n    <tr>\n      <th>18</th>\n      <td>91.342650</td>\n      <td>1</td>\n      <td>West</td>\n      <td>4</td>\n      <td>8343.479627</td>\n      <td>4.525506</td>\n    </tr>\n    <tr>\n      <th>19</th>\n      <td>118.982100</td>\n      <td>1</td>\n      <td>East</td>\n      <td>4</td>\n      <td>14156.740194</td>\n      <td>4.787343</td>\n    </tr>\n    <tr>\n      <th>20</th>\n      <td>128.261628</td>\n      <td>3</td>\n      <td>East</td>\n      <td>4</td>\n      <td>16451.045318</td>\n      <td>4.861838</td>\n    </tr>\n    <tr>\n      <th>21</th>\n      <td>95.617302</td>\n      <td>3</td>\n      <td>North</td>\n      <td>4</td>\n      <td>9142.668413</td>\n      <td>4.570758</td>\n    </tr>\n    <tr>\n      <th>22</th>\n      <td>76.339844</td>\n      <td>3</td>\n      <td>East</td>\n      <td>4</td>\n      <td>5827.771858</td>\n      <td>4.348209</td>\n    </tr>\n    <tr>\n      <th>23</th>\n      <td>103.466945</td>\n      <td>3</td>\n      <td>West</td>\n      <td>4</td>\n      <td>10705.408745</td>\n      <td>4.648871</td>\n    </tr>\n    <tr>\n      <th>24</th>\n      <td>88.342922</td>\n      <td>3</td>\n      <td>North</td>\n      <td>4</td>\n      <td>7804.471900</td>\n      <td>4.492482</td>\n    </tr>\n    <tr>\n      <th>25</th>\n      <td>47.448398</td>\n      <td>1</td>\n      <td>East</td>\n      <td>4</td>\n      <td>2251.350468</td>\n      <td>3.880499</td>\n    </tr>\n    <tr>\n      <th>26</th>\n      <td>98.239750</td>\n      <td>1</td>\n      <td>South</td>\n      <td>4</td>\n      <td>9651.048400</td>\n      <td>4.597539</td>\n    </tr>\n    <tr>\n      <th>27</th>\n      <td>110.300153</td>\n      <td>1</td>\n      <td>West</td>\n      <td>4</td>\n      <td>12166.123787</td>\n      <td>4.712231</td>\n    </tr>\n    <tr>\n      <th>28</th>\n      <td>140.343059</td>\n      <td>1</td>\n      <td>West</td>\n      <td>4</td>\n      <td>19696.174189</td>\n      <td>4.951190</td>\n    </tr>\n    <tr>\n      <th>29</th>\n      <td>101.320632</td>\n      <td>2</td>\n      <td>North</td>\n      <td>4</td>\n      <td>10265.870370</td>\n      <td>4.628111</td>\n    </tr>\n    <tr>\n      <th>...</th>\n      <td>...</td>\n      <td>...</td>\n      <td>...</td>\n      <td>...</td>\n      <td>...</td>\n      <td>...</td>\n    </tr>\n    <tr>\n      <th>270</th>\n      <td>63.228341</td>\n      <td>1</td>\n      <td>South</td>\n      <td>4</td>\n      <td>3997.823107</td>\n      <td>4.162445</td>\n    </tr>\n    <tr>\n      <th>271</th>\n      <td>131.248942</td>\n      <td>1</td>\n      <td>North</td>\n      <td>4</td>\n      <td>17226.284677</td>\n      <td>4.884686</td>\n    </tr>\n    <tr>\n      <th>272</th>\n      <td>42.783247</td>\n      <td>3</td>\n      <td>East</td>\n      <td>4</td>\n      <td>1830.406182</td>\n      <td>3.779251</td>\n    </tr>\n    <tr>\n      <th>273</th>\n      <td>88.470986</td>\n      <td>2</td>\n      <td>East</td>\n      <td>4</td>\n      <td>7827.115334</td>\n      <td>4.493914</td>\n    </tr>\n    <tr>\n      <th>274</th>\n      <td>81.120865</td>\n      <td>2</td>\n      <td>North</td>\n      <td>4</td>\n      <td>6580.594809</td>\n      <td>4.408192</td>\n    </tr>\n    <tr>\n      <th>275</th>\n      <td>121.201981</td>\n      <td>3</td>\n      <td>West</td>\n      <td>4</td>\n      <td>14689.920207</td>\n      <td>4.805675</td>\n    </tr>\n    <tr>\n      <th>276</th>\n      <td>100.100508</td>\n      <td>2</td>\n      <td>East</td>\n      <td>4</td>\n      <td>10020.111677</td>\n      <td>4.616115</td>\n    </tr>\n    <tr>\n      <th>277</th>\n      <td>123.281799</td>\n      <td>1</td>\n      <td>North</td>\n      <td>4</td>\n      <td>15198.402053</td>\n      <td>4.822552</td>\n    </tr>\n    <tr>\n      <th>278</th>\n      <td>88.394278</td>\n      <td>1</td>\n      <td>East</td>\n      <td>4</td>\n      <td>7813.548297</td>\n      <td>4.493057</td>\n    </tr>\n    <tr>\n      <th>279</th>\n      <td>87.687486</td>\n      <td>1</td>\n      <td>West</td>\n      <td>4</td>\n      <td>7689.095183</td>\n      <td>4.485119</td>\n    </tr>\n    <tr>\n      <th>280</th>\n      <td>64.073678</td>\n      <td>3</td>\n      <td>West</td>\n      <td>4</td>\n      <td>4105.436209</td>\n      <td>4.175520</td>\n    </tr>\n    <tr>\n      <th>281</th>\n      <td>90.619118</td>\n      <td>1</td>\n      <td>East</td>\n      <td>4</td>\n      <td>8211.824508</td>\n      <td>4.517640</td>\n    </tr>\n    <tr>\n      <th>282</th>\n      <td>83.872177</td>\n      <td>3</td>\n      <td>North</td>\n      <td>4</td>\n      <td>7034.542033</td>\n      <td>4.441146</td>\n    </tr>\n    <tr>\n      <th>283</th>\n      <td>139.823167</td>\n      <td>1</td>\n      <td>East</td>\n      <td>4</td>\n      <td>19550.517941</td>\n      <td>4.947505</td>\n    </tr>\n    <tr>\n      <th>284</th>\n      <td>22.583175</td>\n      <td>3</td>\n      <td>South</td>\n      <td>4</td>\n      <td>509.999782</td>\n      <td>3.160534</td>\n    </tr>\n    <tr>\n      <th>285</th>\n      <td>93.070312</td>\n      <td>1</td>\n      <td>South</td>\n      <td>4</td>\n      <td>8662.082941</td>\n      <td>4.544043</td>\n    </tr>\n    <tr>\n      <th>286</th>\n      <td>94.297464</td>\n      <td>2</td>\n      <td>East</td>\n      <td>4</td>\n      <td>8892.011673</td>\n      <td>4.557003</td>\n    </tr>\n    <tr>\n      <th>287</th>\n      <td>81.027051</td>\n      <td>1</td>\n      <td>North</td>\n      <td>4</td>\n      <td>6565.383007</td>\n      <td>4.407049</td>\n    </tr>\n    <tr>\n      <th>288</th>\n      <td>114.580174</td>\n      <td>1</td>\n      <td>North</td>\n      <td>4</td>\n      <td>13128.616269</td>\n      <td>4.749964</td>\n    </tr>\n    <tr>\n      <th>289</th>\n      <td>105.363811</td>\n      <td>2</td>\n      <td>South</td>\n      <td>4</td>\n      <td>11101.532665</td>\n      <td>4.666865</td>\n    </tr>\n    <tr>\n      <th>290</th>\n      <td>96.550605</td>\n      <td>1</td>\n      <td>West</td>\n      <td>4</td>\n      <td>9322.019350</td>\n      <td>4.580371</td>\n    </tr>\n    <tr>\n      <th>291</th>\n      <td>81.163799</td>\n      <td>1</td>\n      <td>North</td>\n      <td>4</td>\n      <td>6587.562331</td>\n      <td>4.408715</td>\n    </tr>\n    <tr>\n      <th>292</th>\n      <td>77.679685</td>\n      <td>1</td>\n      <td>North</td>\n      <td>4</td>\n      <td>6034.133443</td>\n      <td>4.365385</td>\n    </tr>\n    <tr>\n      <th>293</th>\n      <td>57.573673</td>\n      <td>1</td>\n      <td>South</td>\n      <td>4</td>\n      <td>3314.727874</td>\n      <td>4.070285</td>\n    </tr>\n    <tr>\n      <th>294</th>\n      <td>116.679144</td>\n      <td>1</td>\n      <td>South</td>\n      <td>4</td>\n      <td>13614.022563</td>\n      <td>4.767962</td>\n    </tr>\n    <tr>\n      <th>295</th>\n      <td>50.265679</td>\n      <td>2</td>\n      <td>North</td>\n      <td>4</td>\n      <td>2526.638449</td>\n      <td>3.937021</td>\n    </tr>\n    <tr>\n      <th>296</th>\n      <td>110.661600</td>\n      <td>2</td>\n      <td>West</td>\n      <td>4</td>\n      <td>12245.989677</td>\n      <td>4.715473</td>\n    </tr>\n    <tr>\n      <th>297</th>\n      <td>55.949022</td>\n      <td>3</td>\n      <td>North</td>\n      <td>4</td>\n      <td>3130.293008</td>\n      <td>4.042157</td>\n    </tr>\n    <tr>\n      <th>298</th>\n      <td>110.550957</td>\n      <td>1</td>\n      <td>North</td>\n      <td>4</td>\n      <td>12221.514192</td>\n      <td>4.714482</td>\n    </tr>\n    <tr>\n      <th>299</th>\n      <td>21.085404</td>\n      <td>1</td>\n      <td>South</td>\n      <td>4</td>\n      <td>444.594255</td>\n      <td>3.094917</td>\n    </tr>\n  </tbody>\n</table>\n<p>300 rows × 6 columns</p>\n</div>",
      "text/plain": "           size  bedrooms orientation  nom_nouvelle_col  size_au_carre  \\\n0    131.672450         1       South                 4   17337.633972   \n1    179.464732         1        East                 4   32207.590018   \n2    122.635992         3        East                 4   15039.586634   \n3     55.728780         2       North                 4    3105.696909   \n4     79.907682         1       South                 4    6385.237574   \n5     77.714337         2        West                 4    6039.518131   \n6    114.381967         3       North                 4   13083.234318   \n7    107.921679         3       North                 4   11647.088707   \n8    127.863334         1        West                 4   16349.032193   \n9     66.212258         1       North                 4    4384.063065   \n10    37.889033         1        East                 4    1435.578810   \n11   106.626440         3       South                 4   11369.197730   \n12    16.246812         1       North                 4     263.958896   \n13    59.595308         2       North                 4    3551.600724   \n14    53.761235         1        West                 4    2890.270425   \n15   142.483424         2       North                 4   20301.526241   \n16    47.718108         1       North                 4    2277.017866   \n17    13.667976         1        West                 4     186.813567   \n18    91.342650         1        West                 4    8343.479627   \n19   118.982100         1        East                 4   14156.740194   \n20   128.261628         3        East                 4   16451.045318   \n21    95.617302         3       North                 4    9142.668413   \n22    76.339844         3        East                 4    5827.771858   \n23   103.466945         3        West                 4   10705.408745   \n24    88.342922         3       North                 4    7804.471900   \n25    47.448398         1        East                 4    2251.350468   \n26    98.239750         1       South                 4    9651.048400   \n27   110.300153         1        West                 4   12166.123787   \n28   140.343059         1        West                 4   19696.174189   \n29   101.320632         2       North                 4   10265.870370   \n..          ...       ...         ...               ...            ...   \n270   63.228341         1       South                 4    3997.823107   \n271  131.248942         1       North                 4   17226.284677   \n272   42.783247         3        East                 4    1830.406182   \n273   88.470986         2        East                 4    7827.115334   \n274   81.120865         2       North                 4    6580.594809   \n275  121.201981         3        West                 4   14689.920207   \n276  100.100508         2        East                 4   10020.111677   \n277  123.281799         1       North                 4   15198.402053   \n278   88.394278         1        East                 4    7813.548297   \n279   87.687486         1        West                 4    7689.095183   \n280   64.073678         3        West                 4    4105.436209   \n281   90.619118         1        East                 4    8211.824508   \n282   83.872177         3       North                 4    7034.542033   \n283  139.823167         1        East                 4   19550.517941   \n284   22.583175         3       South                 4     509.999782   \n285   93.070312         1       South                 4    8662.082941   \n286   94.297464         2        East                 4    8892.011673   \n287   81.027051         1       North                 4    6565.383007   \n288  114.580174         1       North                 4   13128.616269   \n289  105.363811         2       South                 4   11101.532665   \n290   96.550605         1        West                 4    9322.019350   \n291   81.163799         1       North                 4    6587.562331   \n292   77.679685         1       North                 4    6034.133443   \n293   57.573673         1       South                 4    3314.727874   \n294  116.679144         1       South                 4   13614.022563   \n295   50.265679         2       North                 4    2526.638449   \n296  110.661600         2        West                 4   12245.989677   \n297   55.949022         3       North                 4    3130.293008   \n298  110.550957         1       North                 4   12221.514192   \n299   21.085404         1       South                 4     444.594255   \n\n     log_size  \n0    4.887883  \n1    5.195535  \n2    4.817342  \n3    4.038282  \n4    4.393309  \n5    4.365825  \n6    4.748248  \n7    4.690629  \n8    4.858752  \n9    4.207856  \n10   3.660712  \n11   4.678666  \n12   2.847627  \n13   4.104217  \n14   4.002983  \n15   4.966220  \n16   3.886051  \n17   2.685667  \n18   4.525506  \n19   4.787343  \n20   4.861838  \n21   4.570758  \n22   4.348209  \n23   4.648871  \n24   4.492482  \n25   3.880499  \n26   4.597539  \n27   4.712231  \n28   4.951190  \n29   4.628111  \n..        ...  \n270  4.162445  \n271  4.884686  \n272  3.779251  \n273  4.493914  \n274  4.408192  \n275  4.805675  \n276  4.616115  \n277  4.822552  \n278  4.493057  \n279  4.485119  \n280  4.175520  \n281  4.517640  \n282  4.441146  \n283  4.947505  \n284  3.160534  \n285  4.544043  \n286  4.557003  \n287  4.407049  \n288  4.749964  \n289  4.666865  \n290  4.580371  \n291  4.408715  \n292  4.365385  \n293  4.070285  \n294  4.767962  \n295  3.937021  \n296  4.715473  \n297  4.042157  \n298  4.714482  \n299  3.094917  \n\n[300 rows x 6 columns]"
     },
     "execution_count": 72,
     "metadata": {},
     "output_type": "execute_result"
    }
   ]
  },
  {
   "cell_type": "markdown",
   "source": "## iloc \n\nSupposons que l'ont veuille modifier un sous ensemble d'un dataframe après avoir fait un mask. \nOn pourrait avoir envie de faire la méthode suivante : \n\n\n\n",
   "metadata": {
    "tags": [],
    "cell_id": "00019-90c378c9-5ad4-4ef8-8a74-feeb67802218",
    "deepnote_cell_type": "markdown"
   }
  },
  {
   "cell_type": "code",
   "metadata": {
    "tags": [],
    "cell_id": "00020-82a176b1-940f-4c3c-9525-5f1118961ff0",
    "deepnote_to_be_reexecuted": false,
    "source_hash": "ee764af0",
    "execution_start": 1623049600850,
    "execution_millis": 24,
    "deepnote_cell_type": "code"
   },
   "source": "import pandas as pd\n\ndf = pd.DataFrame({\n    'age': [22, 55, 11, 99, -30, -10], \n    \"salary\": [1000, 1120, 2000, None, 4000, 2000],\n    'ville': ['Aix', \"Aix\", \"Paris\", \"Paris\", \"Lyon\", \"Lyon\"]\n})\n\n\nmask = df['age'] < 0\ndf[mask]['age'] = 0",
   "execution_count": null,
   "outputs": [
    {
     "name": "stderr",
     "text": "/shared-libs/python3.7/py-core/lib/python3.7/site-packages/ipykernel_launcher.py:11: SettingWithCopyWarning: \nA value is trying to be set on a copy of a slice from a DataFrame.\nTry using .loc[row_indexer,col_indexer] = value instead\n\nSee the caveats in the documentation: https://pandas.pydata.org/pandas-docs/stable/user_guide/indexing.html#returning-a-view-versus-a-copy\n  # This is added back by InteractiveShellApp.init_path()\n",
     "output_type": "stream"
    }
   ]
  },
  {
   "cell_type": "code",
   "metadata": {
    "tags": [],
    "cell_id": "00021-0dd21ee3-2b38-4510-9875-86cf02d79a71",
    "deepnote_to_be_reexecuted": false,
    "source_hash": "f804c160",
    "execution_start": 1623049605015,
    "execution_millis": 55,
    "deepnote_cell_type": "code"
   },
   "source": "df",
   "execution_count": null,
   "outputs": [
    {
     "output_type": "execute_result",
     "execution_count": 32,
     "data": {
      "application/vnd.deepnote.dataframe.v2+json": {
       "row_count": 6,
       "column_count": 3,
       "columns": [
        {
         "name": "age",
         "dtype": "int64",
         "stats": {
          "unique_count": 6,
          "nan_count": 0,
          "min": "-30",
          "max": "99",
          "histogram": [
           {
            "bin_start": -30,
            "bin_end": -17.1,
            "count": 1
           },
           {
            "bin_start": -17.1,
            "bin_end": -4.199999999999999,
            "count": 1
           },
           {
            "bin_start": -4.199999999999999,
            "bin_end": 8.700000000000003,
            "count": 0
           },
           {
            "bin_start": 8.700000000000003,
            "bin_end": 21.6,
            "count": 1
           },
           {
            "bin_start": 21.6,
            "bin_end": 34.5,
            "count": 1
           },
           {
            "bin_start": 34.5,
            "bin_end": 47.400000000000006,
            "count": 0
           },
           {
            "bin_start": 47.400000000000006,
            "bin_end": 60.3,
            "count": 1
           },
           {
            "bin_start": 60.3,
            "bin_end": 73.2,
            "count": 0
           },
           {
            "bin_start": 73.2,
            "bin_end": 86.10000000000001,
            "count": 0
           },
           {
            "bin_start": 86.10000000000001,
            "bin_end": 99,
            "count": 1
           }
          ]
         }
        },
        {
         "name": "salary",
         "dtype": "float64",
         "stats": {
          "unique_count": 4,
          "nan_count": 1,
          "min": "1000.0",
          "max": "4000.0",
          "histogram": [
           {
            "bin_start": 1000,
            "bin_end": 1300,
            "count": 2
           },
           {
            "bin_start": 1300,
            "bin_end": 1600,
            "count": 0
           },
           {
            "bin_start": 1600,
            "bin_end": 1900,
            "count": 0
           },
           {
            "bin_start": 1900,
            "bin_end": 2200,
            "count": 2
           },
           {
            "bin_start": 2200,
            "bin_end": 2500,
            "count": 0
           },
           {
            "bin_start": 2500,
            "bin_end": 2800,
            "count": 0
           },
           {
            "bin_start": 2800,
            "bin_end": 3100,
            "count": 0
           },
           {
            "bin_start": 3100,
            "bin_end": 3400,
            "count": 0
           },
           {
            "bin_start": 3400,
            "bin_end": 3700,
            "count": 0
           },
           {
            "bin_start": 3700,
            "bin_end": 4000,
            "count": 1
           }
          ]
         }
        },
        {
         "name": "ville",
         "dtype": "object",
         "stats": {
          "unique_count": 3,
          "nan_count": 0,
          "categories": [
           {
            "name": "Aix",
            "count": 2
           },
           {
            "name": "Paris",
            "count": 2
           },
           {
            "name": "Lyon",
            "count": 2
           }
          ]
         }
        },
        {
         "name": "_deepnote_index_column",
         "dtype": "int64"
        }
       ],
       "rows_top": [
        {
         "age": 22,
         "salary": 1000,
         "ville": "Aix",
         "_deepnote_index_column": 0
        },
        {
         "age": 55,
         "salary": 1120,
         "ville": "Aix",
         "_deepnote_index_column": 1
        },
        {
         "age": 11,
         "salary": 2000,
         "ville": "Paris",
         "_deepnote_index_column": 2
        },
        {
         "age": 99,
         "salary": "nan",
         "ville": "Paris",
         "_deepnote_index_column": 3
        },
        {
         "age": -30,
         "salary": 4000,
         "ville": "Lyon",
         "_deepnote_index_column": 4
        },
        {
         "age": -10,
         "salary": 2000,
         "ville": "Lyon",
         "_deepnote_index_column": 5
        }
       ],
       "rows_bottom": null
      },
      "text/plain": "   age  salary  ville\n0   22  1000.0    Aix\n1   55  1120.0    Aix\n2   11  2000.0  Paris\n3   99     NaN  Paris\n4  -30  4000.0   Lyon\n5  -10  2000.0   Lyon",
      "text/html": "<div>\n<style scoped>\n    .dataframe tbody tr th:only-of-type {\n        vertical-align: middle;\n    }\n\n    .dataframe tbody tr th {\n        vertical-align: top;\n    }\n\n    .dataframe thead th {\n        text-align: right;\n    }\n</style>\n<table border=\"1\" class=\"dataframe\">\n  <thead>\n    <tr style=\"text-align: right;\">\n      <th></th>\n      <th>age</th>\n      <th>salary</th>\n      <th>ville</th>\n    </tr>\n  </thead>\n  <tbody>\n    <tr>\n      <th>0</th>\n      <td>22</td>\n      <td>1000.0</td>\n      <td>Aix</td>\n    </tr>\n    <tr>\n      <th>1</th>\n      <td>55</td>\n      <td>1120.0</td>\n      <td>Aix</td>\n    </tr>\n    <tr>\n      <th>2</th>\n      <td>11</td>\n      <td>2000.0</td>\n      <td>Paris</td>\n    </tr>\n    <tr>\n      <th>3</th>\n      <td>99</td>\n      <td>NaN</td>\n      <td>Paris</td>\n    </tr>\n    <tr>\n      <th>4</th>\n      <td>-30</td>\n      <td>4000.0</td>\n      <td>Lyon</td>\n    </tr>\n    <tr>\n      <th>5</th>\n      <td>-10</td>\n      <td>2000.0</td>\n      <td>Lyon</td>\n    </tr>\n  </tbody>\n</table>\n</div>"
     },
     "metadata": {}
    }
   ]
  },
  {
   "cell_type": "markdown",
   "source": "On voit que pandas affiche un warning et que le dataframe n'est pas modifié ! \n\nPour faire ce que l'on veut il faut utiliser l'attribut loc",
   "metadata": {
    "tags": [],
    "cell_id": "00022-20705930-5e77-48eb-964e-5dc79eedfbfb",
    "deepnote_cell_type": "markdown"
   }
  },
  {
   "cell_type": "code",
   "metadata": {
    "tags": [],
    "cell_id": "00022-eb658cef-4590-4169-a303-8cfdb59f3880",
    "deepnote_to_be_reexecuted": false,
    "source_hash": "2ed1f15a",
    "execution_start": 1623049669128,
    "execution_millis": 45,
    "deepnote_cell_type": "code"
   },
   "source": "df.loc[mask, 'age'] = 0\ndf",
   "execution_count": null,
   "outputs": [
    {
     "output_type": "execute_result",
     "execution_count": 33,
     "data": {
      "application/vnd.deepnote.dataframe.v2+json": {
       "row_count": 6,
       "column_count": 3,
       "columns": [
        {
         "name": "age",
         "dtype": "int64",
         "stats": {
          "unique_count": 5,
          "nan_count": 0,
          "min": "0",
          "max": "99",
          "histogram": [
           {
            "bin_start": 0,
            "bin_end": 9.9,
            "count": 2
           },
           {
            "bin_start": 9.9,
            "bin_end": 19.8,
            "count": 1
           },
           {
            "bin_start": 19.8,
            "bin_end": 29.700000000000003,
            "count": 1
           },
           {
            "bin_start": 29.700000000000003,
            "bin_end": 39.6,
            "count": 0
           },
           {
            "bin_start": 39.6,
            "bin_end": 49.5,
            "count": 0
           },
           {
            "bin_start": 49.5,
            "bin_end": 59.400000000000006,
            "count": 1
           },
           {
            "bin_start": 59.400000000000006,
            "bin_end": 69.3,
            "count": 0
           },
           {
            "bin_start": 69.3,
            "bin_end": 79.2,
            "count": 0
           },
           {
            "bin_start": 79.2,
            "bin_end": 89.10000000000001,
            "count": 0
           },
           {
            "bin_start": 89.10000000000001,
            "bin_end": 99,
            "count": 1
           }
          ]
         }
        },
        {
         "name": "salary",
         "dtype": "float64",
         "stats": {
          "unique_count": 4,
          "nan_count": 1,
          "min": "1000.0",
          "max": "4000.0",
          "histogram": [
           {
            "bin_start": 1000,
            "bin_end": 1300,
            "count": 2
           },
           {
            "bin_start": 1300,
            "bin_end": 1600,
            "count": 0
           },
           {
            "bin_start": 1600,
            "bin_end": 1900,
            "count": 0
           },
           {
            "bin_start": 1900,
            "bin_end": 2200,
            "count": 2
           },
           {
            "bin_start": 2200,
            "bin_end": 2500,
            "count": 0
           },
           {
            "bin_start": 2500,
            "bin_end": 2800,
            "count": 0
           },
           {
            "bin_start": 2800,
            "bin_end": 3100,
            "count": 0
           },
           {
            "bin_start": 3100,
            "bin_end": 3400,
            "count": 0
           },
           {
            "bin_start": 3400,
            "bin_end": 3700,
            "count": 0
           },
           {
            "bin_start": 3700,
            "bin_end": 4000,
            "count": 1
           }
          ]
         }
        },
        {
         "name": "ville",
         "dtype": "object",
         "stats": {
          "unique_count": 3,
          "nan_count": 0,
          "categories": [
           {
            "name": "Aix",
            "count": 2
           },
           {
            "name": "Paris",
            "count": 2
           },
           {
            "name": "Lyon",
            "count": 2
           }
          ]
         }
        },
        {
         "name": "_deepnote_index_column",
         "dtype": "int64"
        }
       ],
       "rows_top": [
        {
         "age": 22,
         "salary": 1000,
         "ville": "Aix",
         "_deepnote_index_column": 0
        },
        {
         "age": 55,
         "salary": 1120,
         "ville": "Aix",
         "_deepnote_index_column": 1
        },
        {
         "age": 11,
         "salary": 2000,
         "ville": "Paris",
         "_deepnote_index_column": 2
        },
        {
         "age": 99,
         "salary": "nan",
         "ville": "Paris",
         "_deepnote_index_column": 3
        },
        {
         "age": 0,
         "salary": 4000,
         "ville": "Lyon",
         "_deepnote_index_column": 4
        },
        {
         "age": 0,
         "salary": 2000,
         "ville": "Lyon",
         "_deepnote_index_column": 5
        }
       ],
       "rows_bottom": null
      },
      "text/plain": "   age  salary  ville\n0   22  1000.0    Aix\n1   55  1120.0    Aix\n2   11  2000.0  Paris\n3   99     NaN  Paris\n4    0  4000.0   Lyon\n5    0  2000.0   Lyon",
      "text/html": "<div>\n<style scoped>\n    .dataframe tbody tr th:only-of-type {\n        vertical-align: middle;\n    }\n\n    .dataframe tbody tr th {\n        vertical-align: top;\n    }\n\n    .dataframe thead th {\n        text-align: right;\n    }\n</style>\n<table border=\"1\" class=\"dataframe\">\n  <thead>\n    <tr style=\"text-align: right;\">\n      <th></th>\n      <th>age</th>\n      <th>salary</th>\n      <th>ville</th>\n    </tr>\n  </thead>\n  <tbody>\n    <tr>\n      <th>0</th>\n      <td>22</td>\n      <td>1000.0</td>\n      <td>Aix</td>\n    </tr>\n    <tr>\n      <th>1</th>\n      <td>55</td>\n      <td>1120.0</td>\n      <td>Aix</td>\n    </tr>\n    <tr>\n      <th>2</th>\n      <td>11</td>\n      <td>2000.0</td>\n      <td>Paris</td>\n    </tr>\n    <tr>\n      <th>3</th>\n      <td>99</td>\n      <td>NaN</td>\n      <td>Paris</td>\n    </tr>\n    <tr>\n      <th>4</th>\n      <td>0</td>\n      <td>4000.0</td>\n      <td>Lyon</td>\n    </tr>\n    <tr>\n      <th>5</th>\n      <td>0</td>\n      <td>2000.0</td>\n      <td>Lyon</td>\n    </tr>\n  </tbody>\n</table>\n</div>"
     },
     "metadata": {}
    }
   ]
  },
  {
   "cell_type": "code",
   "metadata": {
    "tags": [],
    "cell_id": "00024-94fda9ec-ec17-4c10-89d6-7459be31534c",
    "deepnote_cell_type": "code"
   },
   "source": "",
   "execution_count": null,
   "outputs": []
  },
  {
   "cell_type": "markdown",
   "source": "<a style='text-decoration:none;line-height:16px;display:flex;color:#5B5B62;padding:10px;justify-content:end;' href='https://deepnote.com?utm_source=created-in-deepnote-cell&projectId=25ad01f7-ec4b-4ac8-bce6-a3745ef02c96' target=\"_blank\">\n<img alt='Created in deepnote.com' style='display:inline;max-height:16px;margin:0px;margin-right:7.5px;' src='data:image/svg+xml;base64,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' > </img>\nCreated in <span style='font-weight:600;margin-left:4px;'>Deepnote</span></a>",
   "metadata": {
    "tags": [],
    "created_in_deepnote_cell": true,
    "deepnote_cell_type": "markdown"
   }
  }
 ],
 "nbformat": 4,
 "nbformat_minor": 4,
 "metadata": {
  "kernelspec": {
   "display_name": "Python 3",
   "language": "python",
   "name": "python3"
  },
  "language_info": {
   "codemirror_mode": {
    "name": "ipython",
    "version": 3
   },
   "file_extension": ".py",
   "mimetype": "text/x-python",
   "name": "python",
   "nbconvert_exporter": "python",
   "pygments_lexer": "ipython3",
   "version": "3.6.10"
  },
  "deepnote_notebook_id": "d8e17dce-49eb-4dd9-8985-07d03bb5057f",
  "deepnote": {},
  "deepnote_execution_queue": []
 }
}