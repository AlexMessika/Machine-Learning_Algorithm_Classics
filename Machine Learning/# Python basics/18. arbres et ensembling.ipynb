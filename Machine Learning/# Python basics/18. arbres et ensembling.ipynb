{
 "cells": [
  {
   "cell_type": "markdown",
   "source": "# Arbre de décision et ensembling\n\n## Les arbres de décision \n\nContrairement à la régression linéaire ou logistique, les arbres de décision n'utilisent pas de paramètre $\\theta$ ajustable. \n\nUn arbre est simplement un empilement de conditions binaires, un peu comme akinator\n\n![exemple_arbre_decision.pn](exemple_arbre_decision.png)[exemple_arbre_decision.png]\n",
   "metadata": {
    "cell_id": "00000-6d82b21b-1980-4acc-90bb-00942c9cb215",
    "deepnote_cell_type": "markdown"
   }
  },
  {
   "cell_type": "code",
   "metadata": {
    "cell_id": "00001-b730081e-15db-40b6-b413-5bee524c81b8",
    "deepnote_cell_type": "code"
   },
   "source": "def predict_simple_tree(X):\n    \n    poids = X[0]\n    \n    if poids > 120: \n        return True\n    else: \n        taille = X[1]\n        if taille > 190:\n            return False\n        else:\n            return True\n        \n        \nX = [110, 155]\n\nheart_risk = predict_simple_tree(X)\nprint(heart_risk)\n    ",
   "execution_count": null,
   "outputs": [
    {
     "name": "stdout",
     "output_type": "stream",
     "text": "True\n"
    }
   ]
  },
  {
   "cell_type": "markdown",
   "source": "La question alors c'est comment trouver les questions à poser ? \n\nL'idée est de trouver la question qui va permettre de séparer un groupe en deux sous groupe le plus homogène possible\n\nSupposons qu'on veuille faire de la classification de risque cardiaque. On dispose d'un dataset avec la taille, le poids et le risque. On a le choix entre poser des questions sur le poisd ou sur la taille. \n\n![decision_tree.png](decision_tree.png)\n\nUtiliser la question du poids, permet de mieux séparer les personnes à risque des personnes qui ne le sont pas : les sous groupes sont plus homogène. \n\nOn va donc choisir d'utiliser le poids comme question à poser. Bien sur il est tout à fait possible de poser la question de la taille pour le groupe qui n'est pas complétement trié. ",
   "metadata": {
    "cell_id": "00002-a97c27ce-f515-40e7-85c1-7cd384128365",
    "deepnote_cell_type": "markdown"
   }
  },
  {
   "cell_type": "markdown",
   "source": "Sklearn propose bien sur des classes pour les arbres de décision (pour la classification et la régression)",
   "metadata": {
    "cell_id": "00004-139e0869-668e-4e50-b1d6-3fecbf70e715",
    "deepnote_cell_type": "markdown"
   }
  },
  {
   "cell_type": "code",
   "metadata": {
    "cell_id": "00006-8b4604b3-aff3-49cf-9b87-7304316a1fb2",
    "execution_millis": 2,
    "execution_start": 1606914880019,
    "output_cleared": false,
    "source_hash": "a0da907e",
    "tags": [],
    "deepnote_cell_type": "code"
   },
   "source": "from sklearn.tree import DecisionTreeClassifier, plot_tree\n\nmodel = DecisionTreeClassifier(max_depth=3)\n\nX = df[['size', 'nb_room']]\n#astuce : on récupère toutes les colonnes sauf le label\nX = df.drop(columns=['soldinsixmonth'])\n\n\ny = df['soldinsixmonth']\nmodel.fit(X, y) #dans le fit : la magic happens : pendant l'entraînement les questions binaires sont choisies",
   "execution_count": null,
   "outputs": [
    {
     "data": {
      "text/plain": "DecisionTreeClassifier(max_depth=3)"
     },
     "execution_count": 10,
     "metadata": {},
     "output_type": "execute_result"
    }
   ]
  },
  {
   "cell_type": "code",
   "metadata": {
    "cell_id": "00008-c6073a29-f7c4-49c5-a1ce-3988f22d847b",
    "execution_millis": 1,
    "execution_start": 1606914826543,
    "output_cleared": false,
    "source_hash": "f6683a68",
    "tags": [],
    "deepnote_cell_type": "code"
   },
   "source": "predictions = model.predict(X) #pas besoin du y : pas besoin des labels pour faire les prédictions\nprint(predictions) ",
   "execution_count": null,
   "outputs": [
    {
     "name": "stdout",
     "output_type": "stream",
     "text": "[0 1 0]\n"
    }
   ]
  },
  {
   "cell_type": "code",
   "metadata": {
    "cell_id": "00009-a065635b-f41d-42ae-84a4-2548eab0758f",
    "execution_millis": 147,
    "execution_start": 1606914905058,
    "output_cleared": false,
    "source_hash": "cf0e0ee3",
    "tags": [],
    "deepnote_cell_type": "code"
   },
   "source": "plot_tree(model, feature_names=df.columns.values)",
   "execution_count": null,
   "outputs": [
    {
     "data": {
      "text/plain": "[Text(167.4, 163.07999999999998, 'nb_room <= 1.5\\ngini = 0.444\\nsamples = 3\\nvalue = [2, 1]'),\n Text(83.7, 54.360000000000014, 'gini = 0.0\\nsamples = 2\\nvalue = [2, 0]'),\n Text(251.10000000000002, 54.360000000000014, 'gini = 0.0\\nsamples = 1\\nvalue = [0, 1]')]"
     },
     "execution_count": 12,
     "metadata": {},
     "output_type": "execute_result"
    },
    {
     "data": {
      "image/png": "[encoded data removed]",
      "text/plain": "<Figure size 432x288 with 1 Axes>"
     },
     "metadata": {
      "needs_background": "light",
      "image/png": {
       "width": 349,
       "height": 231
      }
     },
     "output_type": "display_data"
    }
   ]
  },
  {
   "cell_type": "markdown",
   "source": "## Ensembling\n\nL'ensembling consiste à combiner plusieurs modèles afin d'avoir des performances plus élevées que chaque modèle individuel. C'est un peu comme le principe de la sagesse de la foulle. \n\nIl existe trois principales méthodes combiner plusieurs modèles ensemble\n\n\n1. Bagging (bootstrap aggregation)\n2. Boosting\n3. Stacking\n",
   "metadata": {
    "cell_id": "00006-f3f7329c-05d5-464a-bead-e1acb73277f9",
    "tags": [],
    "deepnote_cell_type": "markdown"
   }
  },
  {
   "cell_type": "markdown",
   "source": "### bagging\n\nLe bagging consiste à générer plusieurs dataset de train à partir du dataset de train original en utilisant de l'échantillonage avec remise. Sur chacun des dataset\n\n![bagging.png](bagging.png)",
   "metadata": {
    "cell_id": "00009-9d759bac-a587-4620-985b-600a1dc55641",
    "deepnote_cell_type": "markdown"
   }
  },
  {
   "cell_type": "markdown",
   "source": "## le boosting \n\nContrairement au bagging, chaque modèle de l'ensemble est entraîné sur le même dataset. \n\n\n![boosting.png](boosting.png)",
   "metadata": {
    "tags": [],
    "cell_id": "00009-9a7dcfce-fa2f-4672-a7d0-0ad927413047",
    "deepnote_cell_type": "markdown"
   }
  },
  {
   "cell_type": "markdown",
   "source": "Pour combiner les prédictions, il y a plusieurs manières selon qu'on fasse de la régression ou de la classification\n\n\n",
   "metadata": {
    "cell_id": "00010-4c7df5ad-050f-40ba-935d-5c8ca488de71",
    "deepnote_cell_type": "markdown"
   }
  },
  {
   "cell_type": "code",
   "metadata": {
    "cell_id": "00013-bc6abd7d-ea6e-435c-a6aa-240827aa48cd",
    "execution_millis": 106,
    "execution_start": 1606915135161,
    "output_cleared": false,
    "source_hash": "2bf2d38a",
    "tags": [],
    "deepnote_cell_type": "code"
   },
   "source": "from sklearn.ensemble import RandomForestClassifier\n\nmodel = RandomForestClassifier(n_estimators=100) # il faut imaginer qu'à l'interieur il y 100 arbre de déisions différents\nmodel.fit(X, y) # entraîîne 100 arbre de décision différentb\nmodel.predict(X)",
   "execution_count": null,
   "outputs": [
    {
     "data": {
      "text/plain": "array([0, 1, 0])"
     },
     "execution_count": 13,
     "metadata": {},
     "output_type": "execute_result"
    }
   ]
  },
  {
   "cell_type": "code",
   "metadata": {
    "cell_id": "00012-f71fd4ed-3905-40fa-b411-60ff1bd87740",
    "deepnote_cell_type": "code"
   },
   "source": "",
   "execution_count": null,
   "outputs": []
  },
  {
   "cell_type": "markdown",
   "source": "## Exemple de stacking en python \n\nLe stacking consiste à faire un modèle de modèle. On entraîne les modèles de notre ensemble. \n\nPuis on va entraîner un modèle supplémentaire qui utilisera en feature les prédictions des modèles de l'ensemble\n\nOn peut voir les réseaux de neurones comme du stacking de neurone (on en reparlera)\n",
   "metadata": {
    "tags": [],
    "cell_id": "00013-75fc2103-bfef-47a6-ba73-9846af9617d3",
    "deepnote_cell_type": "markdown"
   }
  },
  {
   "cell_type": "markdown",
   "source": "",
   "metadata": {
    "tags": [],
    "cell_id": "00015-47adfb35-e85b-45b9-b0af-defdbd37282c",
    "deepnote_cell_type": "markdown"
   }
  },
  {
   "cell_type": "code",
   "metadata": {
    "tags": [],
    "cell_id": "00016-902e6b16-8a16-4b67-a9f7-10a9566d6cdc",
    "deepnote_to_be_reexecuted": false,
    "source_hash": "ded0008f",
    "execution_start": 1623319872636,
    "execution_millis": 4,
    "deepnote_cell_type": "code"
   },
   "source": "import pandas as pd\ntrain = pd.DataFrame({\n    'taille': [0.1, 0.3, 0.5],\n    'cancerous': [0, 1, 1]\n})\n",
   "execution_count": null,
   "outputs": []
  },
  {
   "cell_type": "markdown",
   "source": "Entraînons trois modèles",
   "metadata": {
    "tags": [],
    "cell_id": "00016-3d8aaec9-38d7-4476-8868-799f1ae80f04",
    "deepnote_cell_type": "markdown"
   }
  },
  {
   "cell_type": "code",
   "metadata": {
    "tags": [],
    "cell_id": "00016-f95be91c-847e-4575-812b-7ac77894420a",
    "deepnote_to_be_reexecuted": false,
    "source_hash": "9f8fbe97",
    "execution_start": 1623319874197,
    "execution_millis": 64,
    "deepnote_cell_type": "code"
   },
   "source": "from sklearn.tree import DecisionTreeClassifier\nfrom sklearn.linear_model import LogisticRegression\nfrom sklearn.naive_bayes import GaussianNB\n\nmodel1 = DecisionTreeClassifier()\nmodel1.fit(train[['taille']], train['cancerous'])\n\nmodel2 = LogisticRegression()\nmodel2.fit(train[['taille']], train['cancerous'])\n\nmodel3 = GaussianNB()\nmodel3.fit(train[['taille']], train['cancerous'])\n",
   "execution_count": null,
   "outputs": [
    {
     "output_type": "execute_result",
     "execution_count": 5,
     "data": {
      "text/plain": "GaussianNB()"
     },
     "metadata": {}
    }
   ]
  },
  {
   "cell_type": "markdown",
   "source": "Une fois que les modèles sont entraînés, calculons leur prédictions et utilisons cela pour générer un nouveau dataset",
   "metadata": {
    "tags": [],
    "cell_id": "00018-4df0c6f6-4e91-47db-ac25-b39ca150babe",
    "deepnote_cell_type": "markdown"
   }
  },
  {
   "cell_type": "code",
   "metadata": {
    "tags": [],
    "cell_id": "00018-4fd04010-c6ba-4de1-a35a-fed41fc0a298",
    "deepnote_to_be_reexecuted": false,
    "source_hash": "3f9abda4",
    "execution_start": 1623319875990,
    "execution_millis": 31,
    "deepnote_cell_type": "code"
   },
   "source": "pred_model1 = model1.predict(train[['taille']])\npred_model2 = model2.predict(train[['taille']])\npred_model3 = model3.predict(train[['taille']])\n\ntrain_2 = pd.DataFrame({\n    'pred1': pred_model1,\n    'pred2': pred_model2,\n    'pred3': pred_model3\n})\ntrain_2",
   "execution_count": null,
   "outputs": [
    {
     "output_type": "execute_result",
     "execution_count": 6,
     "data": {
      "application/vnd.deepnote.dataframe.v2+json": {
       "row_count": 3,
       "column_count": 3,
       "columns": [
        {
         "name": "pred1",
         "dtype": "int64",
         "stats": {
          "unique_count": 2,
          "nan_count": 0,
          "min": "0",
          "max": "1",
          "histogram": [
           {
            "bin_start": 0,
            "bin_end": 0.1,
            "count": 1
           },
           {
            "bin_start": 0.1,
            "bin_end": 0.2,
            "count": 0
           },
           {
            "bin_start": 0.2,
            "bin_end": 0.30000000000000004,
            "count": 0
           },
           {
            "bin_start": 0.30000000000000004,
            "bin_end": 0.4,
            "count": 0
           },
           {
            "bin_start": 0.4,
            "bin_end": 0.5,
            "count": 0
           },
           {
            "bin_start": 0.5,
            "bin_end": 0.6000000000000001,
            "count": 0
           },
           {
            "bin_start": 0.6000000000000001,
            "bin_end": 0.7000000000000001,
            "count": 0
           },
           {
            "bin_start": 0.7000000000000001,
            "bin_end": 0.8,
            "count": 0
           },
           {
            "bin_start": 0.8,
            "bin_end": 0.9,
            "count": 0
           },
           {
            "bin_start": 0.9,
            "bin_end": 1,
            "count": 2
           }
          ]
         }
        },
        {
         "name": "pred2",
         "dtype": "int64",
         "stats": {
          "unique_count": 1,
          "nan_count": 0,
          "min": "1",
          "max": "1",
          "histogram": [
           {
            "bin_start": 0.5,
            "bin_end": 0.6,
            "count": 0
           },
           {
            "bin_start": 0.6,
            "bin_end": 0.7,
            "count": 0
           },
           {
            "bin_start": 0.7,
            "bin_end": 0.8,
            "count": 0
           },
           {
            "bin_start": 0.8,
            "bin_end": 0.9,
            "count": 0
           },
           {
            "bin_start": 0.9,
            "bin_end": 1,
            "count": 0
           },
           {
            "bin_start": 1,
            "bin_end": 1.1,
            "count": 3
           },
           {
            "bin_start": 1.1,
            "bin_end": 1.2000000000000002,
            "count": 0
           },
           {
            "bin_start": 1.2000000000000002,
            "bin_end": 1.3,
            "count": 0
           },
           {
            "bin_start": 1.3,
            "bin_end": 1.4,
            "count": 0
           },
           {
            "bin_start": 1.4,
            "bin_end": 1.5,
            "count": 0
           }
          ]
         }
        },
        {
         "name": "pred3",
         "dtype": "int64",
         "stats": {
          "unique_count": 2,
          "nan_count": 0,
          "min": "0",
          "max": "1",
          "histogram": [
           {
            "bin_start": 0,
            "bin_end": 0.1,
            "count": 1
           },
           {
            "bin_start": 0.1,
            "bin_end": 0.2,
            "count": 0
           },
           {
            "bin_start": 0.2,
            "bin_end": 0.30000000000000004,
            "count": 0
           },
           {
            "bin_start": 0.30000000000000004,
            "bin_end": 0.4,
            "count": 0
           },
           {
            "bin_start": 0.4,
            "bin_end": 0.5,
            "count": 0
           },
           {
            "bin_start": 0.5,
            "bin_end": 0.6000000000000001,
            "count": 0
           },
           {
            "bin_start": 0.6000000000000001,
            "bin_end": 0.7000000000000001,
            "count": 0
           },
           {
            "bin_start": 0.7000000000000001,
            "bin_end": 0.8,
            "count": 0
           },
           {
            "bin_start": 0.8,
            "bin_end": 0.9,
            "count": 0
           },
           {
            "bin_start": 0.9,
            "bin_end": 1,
            "count": 2
           }
          ]
         }
        },
        {
         "name": "_deepnote_index_column",
         "dtype": "int64"
        }
       ],
       "rows_top": [
        {
         "pred1": 0,
         "pred2": 1,
         "pred3": 0,
         "_deepnote_index_column": 0
        },
        {
         "pred1": 1,
         "pred2": 1,
         "pred3": 1,
         "_deepnote_index_column": 1
        },
        {
         "pred1": 1,
         "pred2": 1,
         "pred3": 1,
         "_deepnote_index_column": 2
        }
       ],
       "rows_bottom": null
      },
      "text/plain": "   pred1  pred2  pred3\n0      0      1      0\n1      1      1      1\n2      1      1      1",
      "text/html": "<div>\n<style scoped>\n    .dataframe tbody tr th:only-of-type {\n        vertical-align: middle;\n    }\n\n    .dataframe tbody tr th {\n        vertical-align: top;\n    }\n\n    .dataframe thead th {\n        text-align: right;\n    }\n</style>\n<table border=\"1\" class=\"dataframe\">\n  <thead>\n    <tr style=\"text-align: right;\">\n      <th></th>\n      <th>pred1</th>\n      <th>pred2</th>\n      <th>pred3</th>\n    </tr>\n  </thead>\n  <tbody>\n    <tr>\n      <th>0</th>\n      <td>0</td>\n      <td>1</td>\n      <td>0</td>\n    </tr>\n    <tr>\n      <th>1</th>\n      <td>1</td>\n      <td>1</td>\n      <td>1</td>\n    </tr>\n    <tr>\n      <th>2</th>\n      <td>1</td>\n      <td>1</td>\n      <td>1</td>\n    </tr>\n  </tbody>\n</table>\n</div>"
     },
     "metadata": {}
    }
   ]
  },
  {
   "cell_type": "markdown",
   "source": "Utilisons ce dataset de prediction pour entraîner un nouveau modèle qui doit prédire si la tumeur est cancereuse à partir des prédictions de chaque modèle",
   "metadata": {
    "tags": [],
    "cell_id": "00020-f35b28cb-ec80-49ed-a925-359076dd5bd7",
    "deepnote_cell_type": "markdown"
   }
  },
  {
   "cell_type": "code",
   "metadata": {
    "tags": [],
    "cell_id": "00020-19f6d6b6-4e56-455f-9c9b-1b64240f3df3",
    "deepnote_to_be_reexecuted": false,
    "source_hash": "488c9f28",
    "execution_start": 1623319878675,
    "execution_millis": 20,
    "deepnote_cell_type": "code"
   },
   "source": "model_combinant = DecisionTreeClassifier()\n\nmodel_combinant.fit(train_2, train['cancerous'])\n\nmodel_combinant.predict(train_2)",
   "execution_count": null,
   "outputs": [
    {
     "output_type": "execute_result",
     "execution_count": 7,
     "data": {
      "text/plain": "array([0, 1, 1])"
     },
     "metadata": {}
    }
   ]
  },
  {
   "cell_type": "code",
   "metadata": {
    "tags": [],
    "cell_id": "00022-bbb6556d-e725-4cea-afe2-3bc6292e5438",
    "deepnote_cell_type": "code"
   },
   "source": "",
   "execution_count": null,
   "outputs": []
  },
  {
   "cell_type": "markdown",
   "source": "<a style='text-decoration:none;line-height:16px;display:flex;color:#5B5B62;padding:10px;justify-content:end;' href='https://deepnote.com?utm_source=created-in-deepnote-cell&projectId=25ad01f7-ec4b-4ac8-bce6-a3745ef02c96' target=\"_blank\">\n<img alt='Created in deepnote.com' style='display:inline;max-height:16px;margin:0px;margin-right:7.5px;' src='data:image/svg+xml;base64,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' > </img>\nCreated in <span style='font-weight:600;margin-left:4px;'>Deepnote</span></a>",
   "metadata": {
    "tags": [],
    "created_in_deepnote_cell": true,
    "deepnote_cell_type": "markdown"
   }
  }
 ],
 "nbformat": 4,
 "nbformat_minor": 2,
 "metadata": {
  "deepnote_execution_queue": [],
  "deepnote_notebook_id": "cf1b7798-99f9-4b32-b4cd-f53044601054",
  "kernelspec": {
   "display_name": "Python 3",
   "language": "python",
   "name": "python3"
  },
  "language_info": {
   "codemirror_mode": {
    "name": "ipython",
    "version": 3
   },
   "file_extension": ".py",
   "mimetype": "text/x-python",
   "name": "python",
   "nbconvert_exporter": "python",
   "pygments_lexer": "ipython3",
   "version": "3.6.10"
  },
  "deepnote": {}
 }
}