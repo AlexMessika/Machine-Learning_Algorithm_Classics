{
 "cells": [
  {
   "cell_type": "markdown",
   "source": "# Introduction au machine learning : Utiliser un modèle entraîné\n\nLaurent Cetinsoy\n\nAvant d'entraîner nos propres modèles, on va essayer de comprendre comment utiliser un modèle de machine learning déjà entraîné. Cela nous permettra de mieux saisir ce que calcule un modèle. \n\nRappel : Un modèle de machine learning est une fonction souvent notée $ X \\rightarrow f_\\theta(X) $ qui produit une prédiction. \n\nDans le cas du machine learning supervisé on peut avoir deux types de prédictions :\n\n- quand les valeurs sont des nombres réels: la température, un montant, la pression, etc. Il s'agit alors de régression\n- quand les valeurs sont des nombres discrets et représentent des catégories : il s'agit de classification \n\n",
   "metadata": {
    "cell_id": "00000-da92784f-4711-423b-8dec-111ff4dd4101",
    "deepnote_cell_type": "markdown"
   }
  },
  {
   "cell_type": "markdown",
   "source": "## utilisation d'une modèle de régression linéaire pour la prédiction du prix d'une maison\n\nOn va charger un fichier qui contient une modèle de prédiction de prix déjà entraîné avec la librairie joblib\n",
   "metadata": {
    "cell_id": "00001-5b276cbb-3025-49b4-83ab-a1ab95ac7d1a",
    "deepnote_cell_type": "markdown"
   }
  },
  {
   "cell_type": "code",
   "metadata": {
    "cell_id": "00003-d984b473-b52a-4efd-8a98-ec80ab0d9ffd",
    "deepnote_to_be_reexecuted": false,
    "source_hash": "34c4d298",
    "execution_start": 1623139193864,
    "execution_millis": 3671,
    "deepnote_cell_type": "code"
   },
   "source": "import joblib\n\nmodel = joblib.load('regression.joblib')\n\ntype(model)",
   "execution_count": null,
   "outputs": [
    {
     "output_type": "execute_result",
     "execution_count": 1,
     "data": {
      "text/plain": "sklearn.linear_model._base.LinearRegression"
     },
     "metadata": {}
    }
   ]
  },
  {
   "cell_type": "markdown",
   "source": "Maintenant qu'on a chargé le modèle on va pouvoir calculer le prix des prédictions de prix de maisons à partir de ses caractéristiques. \n\nLe modèle utilise les caractéristiques suivantes pour prédire le prix d'une maison : \n\n- la taille\n- le nombre de chambre\n- si la maison a un jardin ou non\n\nil faut donc lui donner les informations pour avoir la prédiction \n",
   "metadata": {
    "cell_id": "00004-f5a328f4-cd13-45a2-85e1-71c65b3ba9bf",
    "deepnote_cell_type": "markdown"
   }
  },
  {
   "cell_type": "code",
   "metadata": {
    "cell_id": "00005-6380440c-fd8c-4509-a073-c74a086f89b9",
    "deepnote_cell_type": "code"
   },
   "source": "X = np.array([[\n    110, 3, 0 #maison de 110 metre carré avec trois chambre et pas de jardin\n]])\n\n\nprix_predits = model.predict(X)\nprix_predits",
   "execution_count": null,
   "outputs": [
    {
     "data": {
      "text/plain": "array([140000.])"
     },
     "execution_count": 21,
     "metadata": {},
     "output_type": "execute_result"
    }
   ]
  },
  {
   "cell_type": "markdown",
   "source": "On peut faire plusieurs prédictions d'un coup si on veut \n",
   "metadata": {
    "cell_id": "00006-ca08f9c1-4249-409b-9bd3-adf39f40d82c",
    "deepnote_cell_type": "markdown"
   }
  },
  {
   "cell_type": "code",
   "metadata": {
    "cell_id": "00007-d19ff5a5-964d-4ab3-a9e2-56f389138a00",
    "deepnote_cell_type": "code"
   },
   "source": "X = np.array([\n    [110, 3, 0], #maison de 110 metre carré avec trois chambre et pas de jardin\n    [80, 2, 1],\n    [150, 4, 1]\n])\n\nprix_predits = model.predict(X)\nprix_predits",
   "execution_count": null,
   "outputs": [
    {
     "data": {
      "text/plain": "array([140000., 120000., 210000.])"
     },
     "execution_count": 22,
     "metadata": {},
     "output_type": "execute_result"
    }
   ]
  },
  {
   "cell_type": "markdown",
   "source": "## Evaluer la performance d'un modele \n\nOk notre modèle fait des prédictions, mais sont-elles bonnes ? \n\n\nSupposons qu'on dispose pour certaines maisons des vrais prix. On va comparer\n\n",
   "metadata": {
    "cell_id": "00008-dc30f156-6b5f-4e0c-adeb-a723106d18a6",
    "deepnote_cell_type": "markdown"
   }
  },
  {
   "cell_type": "code",
   "metadata": {
    "cell_id": "00009-0a2eb7f9-a04f-4e12-b9e7-9f2f71b48d9d",
    "deepnote_cell_type": "code"
   },
   "source": "prix_reels = np.array([\n    139000, 120001, 220000\n])",
   "execution_count": null,
   "outputs": []
  },
  {
   "cell_type": "code",
   "metadata": {
    "cell_id": "00010-2f59fe30-813c-46ba-ae5f-070f78750071",
    "deepnote_cell_type": "code"
   },
   "source": "#calculons les écarts\n\necart = prix_predits - prix_reels\nprint(ecart)\necart_carre = ecart ** 2\n\necart_moyen = ecart_carre.mean()\necart_moyen\nnp.sqrt(ecart_moyen)",
   "execution_count": null,
   "outputs": [
    {
     "name": "stdout",
     "output_type": "stream",
     "text": "[ 1.e+03 -1.e+00 -1.e+04]\n"
    },
    {
     "data": {
      "text/plain": "5802.298423900589"
     },
     "execution_count": 29,
     "metadata": {},
     "output_type": "execute_result"
    }
   ]
  },
  {
   "cell_type": "markdown",
   "source": "On constate que les prédictions ne sont pas trop éloignée et cela se traduit par le fait que la Mean squared error est faible. \n\nEn général la racine carrée de la mean square error permet d'avoir un écart qui soit dans la même dimension que les prédictions. Ainsi une écart de 5000 € pour des maisons à plus de 100 000 € est raisonnable. \n\nUn bon modèle est un modèle qui fait des bonnes prédictions\n\nNous reviendrons sur ce sujet. \n\nMaintenant qu'on qu'on a un bon modèle on va l'utiliser dans une application \n\nInstructions : \n\n1. installer streamlit : pip install streamlit\n2. récupérer le fichier 14.1 application_prediction_prix.py et le fichier regression.joblib\n3. Lancer avec l'application avec la commande streamlit run 14.1 application_prediction_prix.py\n4. Appreciez cette belle application\n5. Regarder le code du fichier et tacher de comprendre ce que ça fait\n",
   "metadata": {
    "cell_id": "00011-02a0a535-28e3-4f73-b903-7ed936523c70",
    "deepnote_cell_type": "markdown"
   }
  },
  {
   "cell_type": "markdown",
   "source": "",
   "metadata": {
    "tags": [],
    "cell_id": "00012-2fe308d6-0fd5-4b7e-90df-02632174c60c",
    "deepnote_cell_type": "markdown"
   }
  },
  {
   "cell_type": "markdown",
   "source": "<a style='text-decoration:none;line-height:16px;display:flex;color:#5B5B62;padding:10px;justify-content:end;' href='https://deepnote.com?utm_source=created-in-deepnote-cell&projectId=25ad01f7-ec4b-4ac8-bce6-a3745ef02c96' target=\"_blank\">\n<img alt='Created in deepnote.com' style='display:inline;max-height:16px;margin:0px;margin-right:7.5px;' src='data:image/svg+xml;base64,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' > </img>\nCreated in <span style='font-weight:600;margin-left:4px;'>Deepnote</span></a>",
   "metadata": {
    "tags": [],
    "created_in_deepnote_cell": true,
    "deepnote_cell_type": "markdown"
   }
  }
 ],
 "nbformat": 4,
 "nbformat_minor": 4,
 "metadata": {
  "kernelspec": {
   "display_name": "Python 3",
   "language": "python",
   "name": "python3"
  },
  "language_info": {
   "codemirror_mode": {
    "name": "ipython",
    "version": 3
   },
   "file_extension": ".py",
   "mimetype": "text/x-python",
   "name": "python",
   "nbconvert_exporter": "python",
   "pygments_lexer": "ipython3",
   "version": "3.6.10"
  },
  "deepnote_notebook_id": "8c6c0227-4403-4b26-80ae-d898364ab695",
  "deepnote": {},
  "deepnote_execution_queue": []
 }
}