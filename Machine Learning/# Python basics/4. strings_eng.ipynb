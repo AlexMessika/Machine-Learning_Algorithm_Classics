{
 "cells": [
  {
   "cell_type": "code",
   "metadata": {
    "tags": [],
    "cell_id": "00000-1aaa8aee-4e89-47af-a6a4-8f589f1d9cb5",
    "deepnote_cell_type": "code"
   },
   "source": "a = \"here is sentence\"\nb = 'here are another sentence'\nc = \"\"\"hejehrjehrje\"\"\"\na,b, c",
   "execution_count": null,
   "outputs": []
  },
  {
   "cell_type": "code",
   "metadata": {
    "tags": [],
    "cell_id": "00001-f496c1c4-1d2a-4fa2-a33d-89ab4c1d4978",
    "deepnote_to_be_reexecuted": false,
    "source_hash": "ab2c4163",
    "execution_start": 1622812620861,
    "execution_millis": 25,
    "deepnote_cell_type": "code"
   },
   "source": "s = 'bonjour je suis l\\'ainé'\ns = \"\"\"\ni can have a sentence\nover multiline \n\" need not to be escaped\n' need not to be escaped\n\"\"\"\n",
   "execution_count": null,
   "outputs": []
  },
  {
   "cell_type": "code",
   "metadata": {
    "tags": [],
    "cell_id": "00002-d4cdff04-f04f-4281-a42e-1f092da28d16",
    "deepnote_to_be_reexecuted": false,
    "source_hash": "465dd177",
    "execution_start": 1622812626236,
    "execution_millis": 23,
    "deepnote_cell_type": "code"
   },
   "source": "s",
   "execution_count": null,
   "outputs": [
    {
     "output_type": "execute_result",
     "execution_count": 2,
     "data": {
      "text/plain": "'\\ni can have a sentence\\nover multiline \\n\" need not to be escaped\\n\\' need not to be escaped\\n'"
     },
     "metadata": {}
    }
   ]
  },
  {
   "cell_type": "code",
   "metadata": {
    "tags": [],
    "cell_id": "00003-765387c9-30e3-438b-aaf6-689ef96ffd46",
    "deepnote_to_be_reexecuted": false,
    "source_hash": "1edf98a6",
    "execution_start": 1622812687959,
    "execution_millis": 17,
    "deepnote_cell_type": "code"
   },
   "source": "s = \"hello the sentence\"\ns[:5], s[10], s[6:], s[-3]",
   "execution_count": null,
   "outputs": [
    {
     "output_type": "execute_result",
     "execution_count": 6,
     "data": {
      "text/plain": "('hello', 's', 'the sentence', 'n')"
     },
     "metadata": {}
    }
   ]
  },
  {
   "cell_type": "code",
   "metadata": {
    "tags": [],
    "cell_id": "00004-445d55d6-e7b0-437d-aa15-f58952fd8a2f",
    "deepnote_to_be_reexecuted": false,
    "source_hash": "5b7ee991",
    "execution_start": 1622812714139,
    "execution_millis": 0,
    "deepnote_cell_type": "code"
   },
   "source": "s1 = \"coucou \"\ns2 = \"les loulous\"\ns1 + s2 ",
   "execution_count": null,
   "outputs": [
    {
     "output_type": "execute_result",
     "execution_count": 7,
     "data": {
      "text/plain": "'coucou les loulous'"
     },
     "metadata": {}
    }
   ]
  },
  {
   "cell_type": "code",
   "metadata": {
    "tags": [],
    "cell_id": "00005-b12ff320-ceca-4412-9bc2-59461b6d9a26",
    "deepnote_to_be_reexecuted": false,
    "source_hash": "d5fcb3be",
    "execution_start": 1622812808013,
    "execution_millis": 18,
    "deepnote_cell_type": "code"
   },
   "source": "#in python: all basic types are objects\n# they have methods : \n\ndir(s)",
   "execution_count": null,
   "outputs": [
    {
     "output_type": "execute_result",
     "execution_count": 8,
     "data": {
      "text/plain": "['__add__',\n '__class__',\n '__contains__',\n '__delattr__',\n '__dir__',\n '__doc__',\n '__eq__',\n '__format__',\n '__ge__',\n '__getattribute__',\n '__getitem__',\n '__getnewargs__',\n '__gt__',\n '__hash__',\n '__init__',\n '__init_subclass__',\n '__iter__',\n '__le__',\n '__len__',\n '__lt__',\n '__mod__',\n '__mul__',\n '__ne__',\n '__new__',\n '__reduce__',\n '__reduce_ex__',\n '__repr__',\n '__rmod__',\n '__rmul__',\n '__setattr__',\n '__sizeof__',\n '__str__',\n '__subclasshook__',\n 'capitalize',\n 'casefold',\n 'center',\n 'count',\n 'encode',\n 'endswith',\n 'expandtabs',\n 'find',\n 'format',\n 'format_map',\n 'index',\n 'isalnum',\n 'isalpha',\n 'isascii',\n 'isdecimal',\n 'isdigit',\n 'isidentifier',\n 'islower',\n 'isnumeric',\n 'isprintable',\n 'isspace',\n 'istitle',\n 'isupper',\n 'join',\n 'ljust',\n 'lower',\n 'lstrip',\n 'maketrans',\n 'partition',\n 'replace',\n 'rfind',\n 'rindex',\n 'rjust',\n 'rpartition',\n 'rsplit',\n 'rstrip',\n 'split',\n 'splitlines',\n 'startswith',\n 'strip',\n 'swapcase',\n 'title',\n 'translate',\n 'upper',\n 'zfill']"
     },
     "metadata": {}
    }
   ]
  },
  {
   "cell_type": "code",
   "metadata": {
    "tags": [],
    "cell_id": "00006-0618e2df-be8d-476c-9e75-f8636a769a26",
    "deepnote_to_be_reexecuted": false,
    "source_hash": "282ba948",
    "execution_start": 1622812839758,
    "execution_millis": 10,
    "deepnote_cell_type": "code"
   },
   "source": "s.islower(), s",
   "execution_count": null,
   "outputs": [
    {
     "output_type": "execute_result",
     "execution_count": 10,
     "data": {
      "text/plain": "(True, 'hello the sentence')"
     },
     "metadata": {}
    }
   ]
  },
  {
   "cell_type": "code",
   "metadata": {
    "tags": [],
    "cell_id": "00007-998b6c9a-414d-44fc-a39e-2f1c79a353e6",
    "deepnote_to_be_reexecuted": false,
    "source_hash": "ad1b5b43",
    "execution_start": 1622812855284,
    "execution_millis": 8,
    "deepnote_cell_type": "code"
   },
   "source": "s = \"Coucou lala\"\ns.islower()",
   "execution_count": null,
   "outputs": [
    {
     "output_type": "execute_result",
     "execution_count": 11,
     "data": {
      "text/plain": "False"
     },
     "metadata": {}
    }
   ]
  },
  {
   "cell_type": "code",
   "metadata": {
    "tags": [],
    "cell_id": "00008-9f56d884-b4f2-4326-912c-6a323a6d8074",
    "deepnote_to_be_reexecuted": false,
    "source_hash": "d187bb85",
    "execution_start": 1622812881680,
    "execution_millis": 59,
    "deepnote_cell_type": "code"
   },
   "source": "s = \"bonjour je suis une phrase\"\nresult = s.split()\nresult",
   "execution_count": null,
   "outputs": [
    {
     "output_type": "execute_result",
     "execution_count": 12,
     "data": {
      "text/plain": "['bonjour', 'je', 'suis', 'une', 'phrase']"
     },
     "metadata": {}
    }
   ]
  },
  {
   "cell_type": "code",
   "metadata": {
    "tags": [],
    "cell_id": "00009-9328754d-f271-4de4-b065-c1248fe1f134",
    "deepnote_to_be_reexecuted": false,
    "source_hash": "8a54ebaf",
    "execution_start": 1622812904093,
    "execution_millis": 16,
    "deepnote_cell_type": "code"
   },
   "source": "result = s.split('e')\nresult",
   "execution_count": null,
   "outputs": [
    {
     "output_type": "execute_result",
     "execution_count": 13,
     "data": {
      "text/plain": "['bonjour j', ' suis un', ' phras', '']"
     },
     "metadata": {}
    }
   ]
  },
  {
   "cell_type": "code",
   "metadata": {
    "tags": [],
    "cell_id": "00010-065b9fe7-bfb5-4d01-9652-84cf421a51e0",
    "deepnote_to_be_reexecuted": false,
    "source_hash": "b1bca07c",
    "execution_start": 1622812935131,
    "execution_millis": 18,
    "deepnote_cell_type": "code"
   },
   "source": "s.replace('je', 'tu')",
   "execution_count": null,
   "outputs": [
    {
     "output_type": "execute_result",
     "execution_count": 14,
     "data": {
      "text/plain": "'bonjour tu suis une phrase'"
     },
     "metadata": {}
    }
   ]
  },
  {
   "cell_type": "code",
   "metadata": {
    "tags": [],
    "cell_id": "00011-50e3934c-3759-4e9b-ab53-59c18206c4a8",
    "deepnote_to_be_reexecuted": false,
    "source_hash": "2344190c",
    "execution_start": 1622813007851,
    "execution_millis": 13,
    "deepnote_cell_type": "code"
   },
   "source": "l = ['hello', 'i', 'am','a', 'sentence']\nresult = \" \".join(l)\nresult",
   "execution_count": null,
   "outputs": [
    {
     "output_type": "execute_result",
     "execution_count": 15,
     "data": {
      "text/plain": "'hello i am a sentence'"
     },
     "metadata": {}
    }
   ]
  },
  {
   "cell_type": "code",
   "metadata": {
    "tags": [],
    "cell_id": "00012-7dbe7c82-f58e-495a-b6dd-139fb4ffcbc9",
    "deepnote_to_be_reexecuted": false,
    "source_hash": "8f75cac9",
    "execution_start": 1622813083425,
    "execution_millis": 15,
    "deepnote_cell_type": "code"
   },
   "source": "for char in s:\n    print(char)",
   "execution_count": null,
   "outputs": [
    {
     "name": "stdout",
     "text": "b\no\nn\nj\no\nu\nr\n \nj\ne\n \ns\nu\ni\ns\n \nu\nn\ne\n \np\nh\nr\na\ns\ne\n",
     "output_type": "stream"
    }
   ]
  },
  {
   "cell_type": "code",
   "metadata": {
    "tags": [],
    "cell_id": "00013-7901aa9a-986c-4bc7-a49c-2e47ebd87581",
    "deepnote_to_be_reexecuted": false,
    "source_hash": "b3879b94",
    "execution_start": 1622813116695,
    "execution_millis": 10,
    "deepnote_cell_type": "code"
   },
   "source": "l = [1, 66, 33]\nl[1] = -11111\nl",
   "execution_count": null,
   "outputs": [
    {
     "output_type": "execute_result",
     "execution_count": 17,
     "data": {
      "text/plain": "[1, -11111, 33]"
     },
     "metadata": {}
    }
   ]
  },
  {
   "cell_type": "code",
   "metadata": {
    "tags": [],
    "cell_id": "00014-9dfc87e0-00c2-4db0-a155-5003bcbf2bf6",
    "deepnote_to_be_reexecuted": false,
    "source_hash": "c5b25e67",
    "execution_start": 1622813131919,
    "execution_millis": 604,
    "deepnote_cell_type": "code"
   },
   "source": "s = \"this a sentence\"\ns[3] = \"z\"\ns",
   "execution_count": null,
   "outputs": [
    {
     "output_type": "error",
     "ename": "TypeError",
     "evalue": "'str' object does not support item assignment",
     "traceback": [
      "\u001b[0;31m---------------------------------------------------------------------------\u001b[0m",
      "\u001b[0;31mTypeError\u001b[0m                                 Traceback (most recent call last)",
      "\u001b[0;32m<ipython-input-18-09d7043ed714>\u001b[0m in \u001b[0;36m<module>\u001b[0;34m\u001b[0m\n\u001b[1;32m      1\u001b[0m \u001b[0ms\u001b[0m \u001b[0;34m=\u001b[0m \u001b[0;34m\"this a sentence\"\u001b[0m\u001b[0;34m\u001b[0m\u001b[0;34m\u001b[0m\u001b[0m\n\u001b[0;32m----> 2\u001b[0;31m \u001b[0ms\u001b[0m\u001b[0;34m[\u001b[0m\u001b[0;36m3\u001b[0m\u001b[0;34m]\u001b[0m \u001b[0;34m=\u001b[0m \u001b[0;34m\"z\"\u001b[0m\u001b[0;34m\u001b[0m\u001b[0;34m\u001b[0m\u001b[0m\n\u001b[0m\u001b[1;32m      3\u001b[0m \u001b[0ms\u001b[0m\u001b[0;34m\u001b[0m\u001b[0;34m\u001b[0m\u001b[0m\n",
      "\u001b[0;31mTypeError\u001b[0m: 'str' object does not support item assignment"
     ]
    }
   ]
  },
  {
   "cell_type": "code",
   "metadata": {
    "tags": [],
    "cell_id": "00015-44f7e582-e981-4d2f-83a7-fd7bd82f94fe",
    "deepnote_cell_type": "code"
   },
   "source": "",
   "execution_count": null,
   "outputs": []
  },
  {
   "cell_type": "markdown",
   "source": "<a style='text-decoration:none;line-height:16px;display:flex;color:#5B5B62;padding:10px;justify-content:end;' href='https://deepnote.com?utm_source=created-in-deepnote-cell&projectId=25ad01f7-ec4b-4ac8-bce6-a3745ef02c96' target=\"_blank\">\n<img alt='Created in deepnote.com' style='display:inline;max-height:16px;margin:0px;margin-right:7.5px;' src='data:image/svg+xml;base64,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' > </img>\nCreated in <span style='font-weight:600;margin-left:4px;'>Deepnote</span></a>",
   "metadata": {
    "tags": [],
    "created_in_deepnote_cell": true,
    "deepnote_cell_type": "markdown"
   }
  }
 ],
 "nbformat": 4,
 "nbformat_minor": 2,
 "metadata": {
  "orig_nbformat": 2,
  "deepnote": {
   "is_reactive": false
  },
  "deepnote_notebook_id": "26d3873b-5adb-4052-b4f7-f8f9cf9ad20a",
  "deepnote_execution_queue": []
 }
}