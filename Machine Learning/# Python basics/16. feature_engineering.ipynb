{
 "cells": [
  {
   "cell_type": "markdown",
   "source": "# Feature engineering\n\nEn général pour qu'un modèle soit bien entraîné et fonctionne bien, on ne peut pas lui fournir les données telles quelles. Il faut les formatter et les préparer pour qu'elles soient adaptée au model. C'est le feature engineering. \n\nIl existe plusieurs types de feature engineering : \n\n1. Normalisation des valeurs numériques\n2. Encodage des colonnes catégorielles (ordinal, one-hot encoding, hash-encoding, etc. )\n3. Transformation de feature et création de feature d'interactions\n\n## Normalisation de feature numériques\n\nEtape essentielle car beaucoup de modèles ne vont pas marcher sans cela. En effet certaines variables ne seront pas bien représentées.\n",
   "metadata": {
    "tags": [],
    "cell_id": "00001-b0cbcdf6-95d6-4d32-b9d1-2736e6b12aa7",
    "deepnote_cell_type": "markdown"
   }
  },
  {
   "cell_type": "code",
   "metadata": {
    "tags": [],
    "cell_id": "00002-d7df5d7b-5103-427b-aadb-70a820ac65f6",
    "output_cleared": false,
    "source_hash": "f224a65",
    "execution_start": 1606223335165,
    "execution_millis": 3,
    "deepnote_cell_type": "code"
   },
   "source": "import pandas as pd\n\ndf = pd.DataFrame({\n    \"size\": [10000, 20000, 100000], \n    'eau': [0, 1, 0], \n    'sellinsixmonth': [0, 1, 0]\n    })\n\ndf\n\n",
   "execution_count": null,
   "outputs": [
    {
     "output_type": "execute_result",
     "execution_count": 1,
     "data": {
      "application/vnd.deepnote.dataframe.v2+json": {
       "row_count": 3,
       "column_count": 3,
       "columns": [
        {
         "name": "size",
         "dtype": "int64",
         "stats": {
          "unique_count": 3,
          "nan_count": 0,
          "min": 10000,
          "max": 100000,
          "histogram": [
           {
            "bin_start": 10000,
            "bin_end": 19000,
            "count": 1
           },
           {
            "bin_start": 19000,
            "bin_end": 28000,
            "count": 1
           },
           {
            "bin_start": 28000,
            "bin_end": 37000,
            "count": 0
           },
           {
            "bin_start": 37000,
            "bin_end": 46000,
            "count": 0
           },
           {
            "bin_start": 46000,
            "bin_end": 55000,
            "count": 0
           },
           {
            "bin_start": 55000,
            "bin_end": 64000,
            "count": 0
           },
           {
            "bin_start": 64000,
            "bin_end": 73000,
            "count": 0
           },
           {
            "bin_start": 73000,
            "bin_end": 82000,
            "count": 0
           },
           {
            "bin_start": 82000,
            "bin_end": 91000,
            "count": 0
           },
           {
            "bin_start": 91000,
            "bin_end": 100000,
            "count": 1
           }
          ]
         }
        },
        {
         "name": "eau",
         "dtype": "int64",
         "stats": {
          "unique_count": 2,
          "nan_count": 0,
          "min": 0,
          "max": 1,
          "histogram": [
           {
            "bin_start": 0,
            "bin_end": 0.1,
            "count": 2
           },
           {
            "bin_start": 0.1,
            "bin_end": 0.2,
            "count": 0
           },
           {
            "bin_start": 0.2,
            "bin_end": 0.30000000000000004,
            "count": 0
           },
           {
            "bin_start": 0.30000000000000004,
            "bin_end": 0.4,
            "count": 0
           },
           {
            "bin_start": 0.4,
            "bin_end": 0.5,
            "count": 0
           },
           {
            "bin_start": 0.5,
            "bin_end": 0.6000000000000001,
            "count": 0
           },
           {
            "bin_start": 0.6000000000000001,
            "bin_end": 0.7000000000000001,
            "count": 0
           },
           {
            "bin_start": 0.7000000000000001,
            "bin_end": 0.8,
            "count": 0
           },
           {
            "bin_start": 0.8,
            "bin_end": 0.9,
            "count": 0
           },
           {
            "bin_start": 0.9,
            "bin_end": 1,
            "count": 1
           }
          ]
         }
        },
        {
         "name": "sellinsixmonth",
         "dtype": "int64",
         "stats": {
          "unique_count": 2,
          "nan_count": 0,
          "min": 0,
          "max": 1,
          "histogram": [
           {
            "bin_start": 0,
            "bin_end": 0.1,
            "count": 2
           },
           {
            "bin_start": 0.1,
            "bin_end": 0.2,
            "count": 0
           },
           {
            "bin_start": 0.2,
            "bin_end": 0.30000000000000004,
            "count": 0
           },
           {
            "bin_start": 0.30000000000000004,
            "bin_end": 0.4,
            "count": 0
           },
           {
            "bin_start": 0.4,
            "bin_end": 0.5,
            "count": 0
           },
           {
            "bin_start": 0.5,
            "bin_end": 0.6000000000000001,
            "count": 0
           },
           {
            "bin_start": 0.6000000000000001,
            "bin_end": 0.7000000000000001,
            "count": 0
           },
           {
            "bin_start": 0.7000000000000001,
            "bin_end": 0.8,
            "count": 0
           },
           {
            "bin_start": 0.8,
            "bin_end": 0.9,
            "count": 0
           },
           {
            "bin_start": 0.9,
            "bin_end": 1,
            "count": 1
           }
          ]
         }
        },
        {
         "name": "_deepnote_index_column",
         "dtype": "int64"
        }
       ],
       "rows_top": [
        {
         "size": 10000,
         "eau": 0,
         "sellinsixmonth": 0,
         "_deepnote_index_column": 0
        },
        {
         "size": 20000,
         "eau": 1,
         "sellinsixmonth": 1,
         "_deepnote_index_column": 1
        },
        {
         "size": 100000,
         "eau": 0,
         "sellinsixmonth": 0,
         "_deepnote_index_column": 2
        }
       ],
       "rows_bottom": null
      },
      "text/plain": "     size  eau  sellinsixmonth\n0   10000    0               0\n1   20000    1               1\n2  100000    0               0",
      "text/html": "<div>\n<style scoped>\n    .dataframe tbody tr th:only-of-type {\n        vertical-align: middle;\n    }\n\n    .dataframe tbody tr th {\n        vertical-align: top;\n    }\n\n    .dataframe thead th {\n        text-align: right;\n    }\n</style>\n<table border=\"1\" class=\"dataframe\">\n  <thead>\n    <tr style=\"text-align: right;\">\n      <th></th>\n      <th>size</th>\n      <th>eau</th>\n      <th>sellinsixmonth</th>\n    </tr>\n  </thead>\n  <tbody>\n    <tr>\n      <th>0</th>\n      <td>10000</td>\n      <td>0</td>\n      <td>0</td>\n    </tr>\n    <tr>\n      <th>1</th>\n      <td>20000</td>\n      <td>1</td>\n      <td>1</td>\n    </tr>\n    <tr>\n      <th>2</th>\n      <td>100000</td>\n      <td>0</td>\n      <td>0</td>\n    </tr>\n  </tbody>\n</table>\n</div>"
     },
     "metadata": {}
    }
   ]
  },
  {
   "cell_type": "markdown",
   "source": "Pour Normaliser il deux grandes méthodes principales: \n- le min-max scaling: $ X' = \\frac{X - min}{max-min} $\n- le standard scaling $ X' = \\frac{X - \\mu}{\\sigma} $\n\nOn peut bien sur faire ça en pandas directement mais scikit-learn propose des méthodes toutes perêts",
   "metadata": {
    "tags": [],
    "cell_id": "00002-d28a6aa8-633f-404e-b021-b188ef1f7718",
    "deepnote_cell_type": "markdown"
   }
  },
  {
   "cell_type": "code",
   "metadata": {
    "tags": [],
    "cell_id": "00003-0414c450-9014-46c0-93c3-77befdb16479",
    "output_cleared": false,
    "source_hash": "4e1f0010",
    "execution_start": 1606223397476,
    "execution_millis": 4,
    "deepnote_cell_type": "code"
   },
   "source": "# il faut normaliser les features numériques pour qu'elles aient toutes la même échelle\n\nfrom sklearn.preprocessing import MinMaxScaler \n\nscaler = MinMaxScaler()\n\ndf['size'] = scaler.fit_transform(df[['size']])\ndf",
   "execution_count": null,
   "outputs": [
    {
     "output_type": "execute_result",
     "execution_count": 2,
     "data": {
      "application/vnd.deepnote.dataframe.v2+json": {
       "row_count": 3,
       "column_count": 3,
       "columns": [
        {
         "name": "size",
         "dtype": "float64",
         "stats": {
          "unique_count": 3,
          "nan_count": 0,
          "min": 0,
          "max": 1,
          "histogram": [
           {
            "bin_start": 0,
            "bin_end": 0.1,
            "count": 1
           },
           {
            "bin_start": 0.1,
            "bin_end": 0.2,
            "count": 1
           },
           {
            "bin_start": 0.2,
            "bin_end": 0.30000000000000004,
            "count": 0
           },
           {
            "bin_start": 0.30000000000000004,
            "bin_end": 0.4,
            "count": 0
           },
           {
            "bin_start": 0.4,
            "bin_end": 0.5,
            "count": 0
           },
           {
            "bin_start": 0.5,
            "bin_end": 0.6000000000000001,
            "count": 0
           },
           {
            "bin_start": 0.6000000000000001,
            "bin_end": 0.7000000000000001,
            "count": 0
           },
           {
            "bin_start": 0.7000000000000001,
            "bin_end": 0.8,
            "count": 0
           },
           {
            "bin_start": 0.8,
            "bin_end": 0.9,
            "count": 0
           },
           {
            "bin_start": 0.9,
            "bin_end": 1,
            "count": 1
           }
          ]
         }
        },
        {
         "name": "eau",
         "dtype": "int64",
         "stats": {
          "unique_count": 2,
          "nan_count": 0,
          "min": 0,
          "max": 1,
          "histogram": [
           {
            "bin_start": 0,
            "bin_end": 0.1,
            "count": 2
           },
           {
            "bin_start": 0.1,
            "bin_end": 0.2,
            "count": 0
           },
           {
            "bin_start": 0.2,
            "bin_end": 0.30000000000000004,
            "count": 0
           },
           {
            "bin_start": 0.30000000000000004,
            "bin_end": 0.4,
            "count": 0
           },
           {
            "bin_start": 0.4,
            "bin_end": 0.5,
            "count": 0
           },
           {
            "bin_start": 0.5,
            "bin_end": 0.6000000000000001,
            "count": 0
           },
           {
            "bin_start": 0.6000000000000001,
            "bin_end": 0.7000000000000001,
            "count": 0
           },
           {
            "bin_start": 0.7000000000000001,
            "bin_end": 0.8,
            "count": 0
           },
           {
            "bin_start": 0.8,
            "bin_end": 0.9,
            "count": 0
           },
           {
            "bin_start": 0.9,
            "bin_end": 1,
            "count": 1
           }
          ]
         }
        },
        {
         "name": "sellinsixmonth",
         "dtype": "int64",
         "stats": {
          "unique_count": 2,
          "nan_count": 0,
          "min": 0,
          "max": 1,
          "histogram": [
           {
            "bin_start": 0,
            "bin_end": 0.1,
            "count": 2
           },
           {
            "bin_start": 0.1,
            "bin_end": 0.2,
            "count": 0
           },
           {
            "bin_start": 0.2,
            "bin_end": 0.30000000000000004,
            "count": 0
           },
           {
            "bin_start": 0.30000000000000004,
            "bin_end": 0.4,
            "count": 0
           },
           {
            "bin_start": 0.4,
            "bin_end": 0.5,
            "count": 0
           },
           {
            "bin_start": 0.5,
            "bin_end": 0.6000000000000001,
            "count": 0
           },
           {
            "bin_start": 0.6000000000000001,
            "bin_end": 0.7000000000000001,
            "count": 0
           },
           {
            "bin_start": 0.7000000000000001,
            "bin_end": 0.8,
            "count": 0
           },
           {
            "bin_start": 0.8,
            "bin_end": 0.9,
            "count": 0
           },
           {
            "bin_start": 0.9,
            "bin_end": 1,
            "count": 1
           }
          ]
         }
        },
        {
         "name": "_deepnote_index_column",
         "dtype": "int64"
        }
       ],
       "rows_top": [
        {
         "size": 0,
         "eau": 0,
         "sellinsixmonth": 0,
         "_deepnote_index_column": 0
        },
        {
         "size": 0.11111111111111112,
         "eau": 1,
         "sellinsixmonth": 1,
         "_deepnote_index_column": 1
        },
        {
         "size": 1,
         "eau": 0,
         "sellinsixmonth": 0,
         "_deepnote_index_column": 2
        }
       ],
       "rows_bottom": null
      },
      "text/plain": "       size  eau  sellinsixmonth\n0  0.000000    0               0\n1  0.111111    1               1\n2  1.000000    0               0",
      "text/html": "<div>\n<style scoped>\n    .dataframe tbody tr th:only-of-type {\n        vertical-align: middle;\n    }\n\n    .dataframe tbody tr th {\n        vertical-align: top;\n    }\n\n    .dataframe thead th {\n        text-align: right;\n    }\n</style>\n<table border=\"1\" class=\"dataframe\">\n  <thead>\n    <tr style=\"text-align: right;\">\n      <th></th>\n      <th>size</th>\n      <th>eau</th>\n      <th>sellinsixmonth</th>\n    </tr>\n  </thead>\n  <tbody>\n    <tr>\n      <th>0</th>\n      <td>0.000000</td>\n      <td>0</td>\n      <td>0</td>\n    </tr>\n    <tr>\n      <th>1</th>\n      <td>0.111111</td>\n      <td>1</td>\n      <td>1</td>\n    </tr>\n    <tr>\n      <th>2</th>\n      <td>1.000000</td>\n      <td>0</td>\n      <td>0</td>\n    </tr>\n  </tbody>\n</table>\n</div>"
     },
     "metadata": {}
    }
   ]
  },
  {
   "cell_type": "code",
   "metadata": {
    "tags": [],
    "cell_id": "00004-3eae0751-228e-4477-aaa7-fada1fee4706",
    "output_cleared": false,
    "source_hash": "85d14eb4",
    "execution_start": 1606223456706,
    "execution_millis": 3,
    "deepnote_cell_type": "code"
   },
   "source": "df = pd.DataFrame({\n    \"size\": [100, 120, 50], \n    'orientation': ['Sud', 'Est', 'Nord'], \n    'sellinsixmonth': [0, 1, 0]\n})\ndf",
   "execution_count": null,
   "outputs": [
    {
     "output_type": "execute_result",
     "execution_count": 3,
     "data": {
      "application/vnd.deepnote.dataframe.v2+json": {
       "row_count": 3,
       "column_count": 3,
       "columns": [
        {
         "name": "size",
         "dtype": "int64",
         "stats": {
          "unique_count": 3,
          "nan_count": 0,
          "min": 50,
          "max": 120,
          "histogram": [
           {
            "bin_start": 50,
            "bin_end": 57,
            "count": 1
           },
           {
            "bin_start": 57,
            "bin_end": 64,
            "count": 0
           },
           {
            "bin_start": 64,
            "bin_end": 71,
            "count": 0
           },
           {
            "bin_start": 71,
            "bin_end": 78,
            "count": 0
           },
           {
            "bin_start": 78,
            "bin_end": 85,
            "count": 0
           },
           {
            "bin_start": 85,
            "bin_end": 92,
            "count": 0
           },
           {
            "bin_start": 92,
            "bin_end": 99,
            "count": 0
           },
           {
            "bin_start": 99,
            "bin_end": 106,
            "count": 1
           },
           {
            "bin_start": 106,
            "bin_end": 113,
            "count": 0
           },
           {
            "bin_start": 113,
            "bin_end": 120,
            "count": 1
           }
          ]
         }
        },
        {
         "name": "orientation",
         "dtype": "object",
         "stats": {
          "unique_count": 3,
          "nan_count": 0,
          "categories": [
           {
            "name": "Sud",
            "count": 1
           },
           {
            "name": "Est",
            "count": 1
           },
           {
            "name": "Nord",
            "count": 1
           }
          ]
         }
        },
        {
         "name": "sellinsixmonth",
         "dtype": "int64",
         "stats": {
          "unique_count": 2,
          "nan_count": 0,
          "min": 0,
          "max": 1,
          "histogram": [
           {
            "bin_start": 0,
            "bin_end": 0.1,
            "count": 2
           },
           {
            "bin_start": 0.1,
            "bin_end": 0.2,
            "count": 0
           },
           {
            "bin_start": 0.2,
            "bin_end": 0.30000000000000004,
            "count": 0
           },
           {
            "bin_start": 0.30000000000000004,
            "bin_end": 0.4,
            "count": 0
           },
           {
            "bin_start": 0.4,
            "bin_end": 0.5,
            "count": 0
           },
           {
            "bin_start": 0.5,
            "bin_end": 0.6000000000000001,
            "count": 0
           },
           {
            "bin_start": 0.6000000000000001,
            "bin_end": 0.7000000000000001,
            "count": 0
           },
           {
            "bin_start": 0.7000000000000001,
            "bin_end": 0.8,
            "count": 0
           },
           {
            "bin_start": 0.8,
            "bin_end": 0.9,
            "count": 0
           },
           {
            "bin_start": 0.9,
            "bin_end": 1,
            "count": 1
           }
          ]
         }
        },
        {
         "name": "_deepnote_index_column",
         "dtype": "int64"
        }
       ],
       "rows_top": [
        {
         "size": 100,
         "orientation": "Sud",
         "sellinsixmonth": 0,
         "_deepnote_index_column": 0
        },
        {
         "size": 120,
         "orientation": "Est",
         "sellinsixmonth": 1,
         "_deepnote_index_column": 1
        },
        {
         "size": 50,
         "orientation": "Nord",
         "sellinsixmonth": 0,
         "_deepnote_index_column": 2
        }
       ],
       "rows_bottom": null
      },
      "text/plain": "   size orientation  sellinsixmonth\n0   100         Sud               0\n1   120         Est               1\n2    50        Nord               0",
      "text/html": "<div>\n<style scoped>\n    .dataframe tbody tr th:only-of-type {\n        vertical-align: middle;\n    }\n\n    .dataframe tbody tr th {\n        vertical-align: top;\n    }\n\n    .dataframe thead th {\n        text-align: right;\n    }\n</style>\n<table border=\"1\" class=\"dataframe\">\n  <thead>\n    <tr style=\"text-align: right;\">\n      <th></th>\n      <th>size</th>\n      <th>orientation</th>\n      <th>sellinsixmonth</th>\n    </tr>\n  </thead>\n  <tbody>\n    <tr>\n      <th>0</th>\n      <td>100</td>\n      <td>Sud</td>\n      <td>0</td>\n    </tr>\n    <tr>\n      <th>1</th>\n      <td>120</td>\n      <td>Est</td>\n      <td>1</td>\n    </tr>\n    <tr>\n      <th>2</th>\n      <td>50</td>\n      <td>Nord</td>\n      <td>0</td>\n    </tr>\n  </tbody>\n</table>\n</div>"
     },
     "metadata": {}
    }
   ]
  },
  {
   "cell_type": "markdown",
   "source": "Si on veut utiliser la colonne orientation, il faut la transformer et on 2 options\n\n- affecter un nombre à chaque Catégorie. Par exemple Sud : 0, Est : 1,  Ouest : 2. \n- faire ce qu on appelle du one hot encoding\n\nLe problème de la première option est que cela peut créer une relation d'ordre implicite pas toujours vraie.\n",
   "metadata": {
    "tags": [],
    "cell_id": "00005-4ee88fdd-b419-4250-8f14-44708c01734d",
    "deepnote_cell_type": "markdown"
   }
  },
  {
   "cell_type": "code",
   "metadata": {
    "tags": [],
    "cell_id": "00006-8bdd5f42-723f-4a48-ab14-fac0f281fc82",
    "output_cleared": false,
    "source_hash": "dc989a10",
    "execution_start": 1606223576495,
    "execution_millis": 4,
    "deepnote_cell_type": "code"
   },
   "source": "df2 = pd.get_dummies(df, columns=['orientation'])\ndf2",
   "execution_count": null,
   "outputs": [
    {
     "output_type": "execute_result",
     "execution_count": 5,
     "data": {
      "application/vnd.deepnote.dataframe.v2+json": {
       "row_count": 3,
       "column_count": 5,
       "columns": [
        {
         "name": "size",
         "dtype": "int64",
         "stats": {
          "unique_count": 3,
          "nan_count": 0,
          "min": 50,
          "max": 120,
          "histogram": [
           {
            "bin_start": 50,
            "bin_end": 57,
            "count": 1
           },
           {
            "bin_start": 57,
            "bin_end": 64,
            "count": 0
           },
           {
            "bin_start": 64,
            "bin_end": 71,
            "count": 0
           },
           {
            "bin_start": 71,
            "bin_end": 78,
            "count": 0
           },
           {
            "bin_start": 78,
            "bin_end": 85,
            "count": 0
           },
           {
            "bin_start": 85,
            "bin_end": 92,
            "count": 0
           },
           {
            "bin_start": 92,
            "bin_end": 99,
            "count": 0
           },
           {
            "bin_start": 99,
            "bin_end": 106,
            "count": 1
           },
           {
            "bin_start": 106,
            "bin_end": 113,
            "count": 0
           },
           {
            "bin_start": 113,
            "bin_end": 120,
            "count": 1
           }
          ]
         }
        },
        {
         "name": "sellinsixmonth",
         "dtype": "int64",
         "stats": {
          "unique_count": 2,
          "nan_count": 0,
          "min": 0,
          "max": 1,
          "histogram": [
           {
            "bin_start": 0,
            "bin_end": 0.1,
            "count": 2
           },
           {
            "bin_start": 0.1,
            "bin_end": 0.2,
            "count": 0
           },
           {
            "bin_start": 0.2,
            "bin_end": 0.30000000000000004,
            "count": 0
           },
           {
            "bin_start": 0.30000000000000004,
            "bin_end": 0.4,
            "count": 0
           },
           {
            "bin_start": 0.4,
            "bin_end": 0.5,
            "count": 0
           },
           {
            "bin_start": 0.5,
            "bin_end": 0.6000000000000001,
            "count": 0
           },
           {
            "bin_start": 0.6000000000000001,
            "bin_end": 0.7000000000000001,
            "count": 0
           },
           {
            "bin_start": 0.7000000000000001,
            "bin_end": 0.8,
            "count": 0
           },
           {
            "bin_start": 0.8,
            "bin_end": 0.9,
            "count": 0
           },
           {
            "bin_start": 0.9,
            "bin_end": 1,
            "count": 1
           }
          ]
         }
        },
        {
         "name": "orientation_Est",
         "dtype": "uint8",
         "stats": {
          "unique_count": 2,
          "nan_count": 0,
          "min": 0,
          "max": 1,
          "histogram": [
           {
            "bin_start": 0,
            "bin_end": 0.1,
            "count": 2
           },
           {
            "bin_start": 0.1,
            "bin_end": 0.2,
            "count": 0
           },
           {
            "bin_start": 0.2,
            "bin_end": 0.30000000000000004,
            "count": 0
           },
           {
            "bin_start": 0.30000000000000004,
            "bin_end": 0.4,
            "count": 0
           },
           {
            "bin_start": 0.4,
            "bin_end": 0.5,
            "count": 0
           },
           {
            "bin_start": 0.5,
            "bin_end": 0.6000000000000001,
            "count": 0
           },
           {
            "bin_start": 0.6000000000000001,
            "bin_end": 0.7000000000000001,
            "count": 0
           },
           {
            "bin_start": 0.7000000000000001,
            "bin_end": 0.8,
            "count": 0
           },
           {
            "bin_start": 0.8,
            "bin_end": 0.9,
            "count": 0
           },
           {
            "bin_start": 0.9,
            "bin_end": 1,
            "count": 1
           }
          ]
         }
        },
        {
         "name": "orientation_Nord",
         "dtype": "uint8",
         "stats": {
          "unique_count": 2,
          "nan_count": 0,
          "min": 0,
          "max": 1,
          "histogram": [
           {
            "bin_start": 0,
            "bin_end": 0.1,
            "count": 2
           },
           {
            "bin_start": 0.1,
            "bin_end": 0.2,
            "count": 0
           },
           {
            "bin_start": 0.2,
            "bin_end": 0.30000000000000004,
            "count": 0
           },
           {
            "bin_start": 0.30000000000000004,
            "bin_end": 0.4,
            "count": 0
           },
           {
            "bin_start": 0.4,
            "bin_end": 0.5,
            "count": 0
           },
           {
            "bin_start": 0.5,
            "bin_end": 0.6000000000000001,
            "count": 0
           },
           {
            "bin_start": 0.6000000000000001,
            "bin_end": 0.7000000000000001,
            "count": 0
           },
           {
            "bin_start": 0.7000000000000001,
            "bin_end": 0.8,
            "count": 0
           },
           {
            "bin_start": 0.8,
            "bin_end": 0.9,
            "count": 0
           },
           {
            "bin_start": 0.9,
            "bin_end": 1,
            "count": 1
           }
          ]
         }
        },
        {
         "name": "orientation_Sud",
         "dtype": "uint8",
         "stats": {
          "unique_count": 2,
          "nan_count": 0,
          "min": 0,
          "max": 1,
          "histogram": [
           {
            "bin_start": 0,
            "bin_end": 0.1,
            "count": 2
           },
           {
            "bin_start": 0.1,
            "bin_end": 0.2,
            "count": 0
           },
           {
            "bin_start": 0.2,
            "bin_end": 0.30000000000000004,
            "count": 0
           },
           {
            "bin_start": 0.30000000000000004,
            "bin_end": 0.4,
            "count": 0
           },
           {
            "bin_start": 0.4,
            "bin_end": 0.5,
            "count": 0
           },
           {
            "bin_start": 0.5,
            "bin_end": 0.6000000000000001,
            "count": 0
           },
           {
            "bin_start": 0.6000000000000001,
            "bin_end": 0.7000000000000001,
            "count": 0
           },
           {
            "bin_start": 0.7000000000000001,
            "bin_end": 0.8,
            "count": 0
           },
           {
            "bin_start": 0.8,
            "bin_end": 0.9,
            "count": 0
           },
           {
            "bin_start": 0.9,
            "bin_end": 1,
            "count": 1
           }
          ]
         }
        },
        {
         "name": "_deepnote_index_column",
         "dtype": "int64"
        }
       ],
       "rows_top": [
        {
         "size": 100,
         "sellinsixmonth": 0,
         "orientation_Est": 0,
         "orientation_Nord": 0,
         "orientation_Sud": 1,
         "_deepnote_index_column": 0
        },
        {
         "size": 120,
         "sellinsixmonth": 1,
         "orientation_Est": 1,
         "orientation_Nord": 0,
         "orientation_Sud": 0,
         "_deepnote_index_column": 1
        },
        {
         "size": 50,
         "sellinsixmonth": 0,
         "orientation_Est": 0,
         "orientation_Nord": 1,
         "orientation_Sud": 0,
         "_deepnote_index_column": 2
        }
       ],
       "rows_bottom": null
      },
      "text/plain": "   size  sellinsixmonth  orientation_Est  orientation_Nord  orientation_Sud\n0   100               0                0                 0                1\n1   120               1                1                 0                0\n2    50               0                0                 1                0",
      "text/html": "<div>\n<style scoped>\n    .dataframe tbody tr th:only-of-type {\n        vertical-align: middle;\n    }\n\n    .dataframe tbody tr th {\n        vertical-align: top;\n    }\n\n    .dataframe thead th {\n        text-align: right;\n    }\n</style>\n<table border=\"1\" class=\"dataframe\">\n  <thead>\n    <tr style=\"text-align: right;\">\n      <th></th>\n      <th>size</th>\n      <th>sellinsixmonth</th>\n      <th>orientation_Est</th>\n      <th>orientation_Nord</th>\n      <th>orientation_Sud</th>\n    </tr>\n  </thead>\n  <tbody>\n    <tr>\n      <th>0</th>\n      <td>100</td>\n      <td>0</td>\n      <td>0</td>\n      <td>0</td>\n      <td>1</td>\n    </tr>\n    <tr>\n      <th>1</th>\n      <td>120</td>\n      <td>1</td>\n      <td>1</td>\n      <td>0</td>\n      <td>0</td>\n    </tr>\n    <tr>\n      <th>2</th>\n      <td>50</td>\n      <td>0</td>\n      <td>0</td>\n      <td>1</td>\n      <td>0</td>\n    </tr>\n  </tbody>\n</table>\n</div>"
     },
     "metadata": {}
    }
   ]
  },
  {
   "cell_type": "markdown",
   "source": "<a style='text-decoration:none;line-height:16px;display:flex;color:#5B5B62;padding:10px;justify-content:end;' href='https://deepnote.com?utm_source=created-in-deepnote-cell&projectId=25ad01f7-ec4b-4ac8-bce6-a3745ef02c96' target=\"_blank\">\n<img alt='Created in deepnote.com' style='display:inline;max-height:16px;margin:0px;margin-right:7.5px;' src='data:image/svg+xml;base64,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' > </img>\nCreated in <span style='font-weight:600;margin-left:4px;'>Deepnote</span></a>",
   "metadata": {
    "tags": [],
    "created_in_deepnote_cell": true,
    "deepnote_cell_type": "markdown"
   }
  }
 ],
 "nbformat": 4,
 "nbformat_minor": 2,
 "metadata": {
  "orig_nbformat": 2,
  "deepnote_notebook_id": "db86dc04-2d0d-43cc-b3de-5b62adab53f6",
  "deepnote_execution_queue": [],
  "deepnote": {}
 }
}