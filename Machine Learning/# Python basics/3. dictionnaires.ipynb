{
 "cells": [
  {
   "cell_type": "markdown",
   "source": "# Les dictionnaires avec Python\nVoici une nouvelle collection d'objets présente dans tout un tas de langages. Elle porte différents noms, mais le principe reste le même. \nIl s'agit d'une structure de données qui renferme des paires clés-valeurs.",
   "metadata": {
    "tags": [],
    "cell_id": "00000-ff18e201-8454-4e9a-9aed-b71458f58313",
    "deepnote_cell_type": "markdown"
   }
  },
  {
   "cell_type": "code",
   "metadata": {
    "tags": [],
    "cell_id": "00001-55ac32d4-8439-446a-92ab-eaeca415efd4",
    "deepnote_to_be_reexecuted": false,
    "source_hash": "39328fb8",
    "execution_millis": 13,
    "execution_start": 1613463962159,
    "deepnote_cell_type": "code"
   },
   "source": "#declaration\ndictionnaire_0 = {}\nprint('dictionnaire_0', dictionnaire_0)\n\ndictionnaire_1 = dict()\nprint('dictionnaire_1', dictionnaire_1)\n\nprint(type(dictionnaire_0), type(dictionnaire_1))",
   "execution_count": null,
   "outputs": [
    {
     "name": "stdout",
     "text": "dictionnaire_0 {}\ndictionnaire_1 {}\n<class 'dict'> <class 'dict'>\n",
     "output_type": "stream"
    }
   ]
  },
  {
   "cell_type": "code",
   "metadata": {
    "tags": [],
    "cell_id": "00002-cc0adf52-e008-49ef-a097-28ed452f8834",
    "deepnote_to_be_reexecuted": false,
    "source_hash": "7a4533f6",
    "execution_millis": 8,
    "execution_start": 1613465902831,
    "deepnote_cell_type": "code"
   },
   "source": "# l'indexation des éléments dans un dictionnaire :\npremier_dict = {}\n\npremier_dict['numero_un'] = 1\npremier_dict['douze'] = 12\n\nprint(premier_dict)\n\n# accéder à un élément :\nprint('douze :', premier_dict['douze'])\n#premier_dict['patate']\n\n# deux tableaux en fait :\n\nnoms = ['aurelie', 'christine', 'cyril', 'harriet']\nnotes = ['A', 'A', 'A+', 'A++']\n\ndict_notes = dict(zip(noms, notes))\nprint(dict_notes)\n\n\n",
   "execution_count": null,
   "outputs": [
    {
     "name": "stdout",
     "text": "{'numero_un': 1, 'douze': 12}\ndouze : 12\n{'aurelie': 'A', 'christine': 'A', 'cyril': 'A+', 'harriet': 'A++'}\n",
     "output_type": "stream"
    }
   ]
  },
  {
   "cell_type": "code",
   "metadata": {
    "tags": [],
    "cell_id": "00003-48abcec2-d7a9-4804-91aa-72345b5d8a6c",
    "deepnote_to_be_reexecuted": false,
    "source_hash": "faf4936f",
    "execution_millis": 14,
    "execution_start": 1613466173191,
    "deepnote_cell_type": "code"
   },
   "source": "dict_notes = dict(zip(noms, notes))\n\n# clear\nclear_dict = dict(zip(['a', 'b'], [1, 2]))\nclear_dict.clear()\nprint('clear_dict', clear_dict)\n\n# boucles :\nprint('\\n', dict_notes)\n\nfor key in dict_notes.keys():\n    print(key)\n\nfor note in dict_notes.values():\n    print(note)\n\nfor key,value in dict_notes.items():\n    print('--', key, value)\n\n# la fonction pop()\n# sur les listes\nexplications_pop = [1,2,3,4]\npopped_value = explications_pop.pop()\nprint('explications_pop', explications_pop)\nprint('**popped_value', popped_value)\nexplications_pop.append(19)\nprint(explications_pop)\n\n# sur les dict\npop_dict = dict_notes\nprint(pop_dict)\npopped_elt = pop_dict.pop('aurelie')\nprint('popped_elt', popped_elt)\nprint(pop_dict)\n\n# cas d'erreur :\n#pop_dict.pop('truc') cle qui n'existe pas dans le dictionnaire\n\n#Eviter le cas d'erreur :\nprint('pop_dict_initial', pop_dict)\nget_value = pop_dict.get('truc', 'ma_valeur_par_defaut')\nprint('get_value', get_value)\n\n\nget_value = pop_dict.get('christine')\nprint('get_value', get_value)\nprint('pop_dict_initial', pop_dict) # Remarque : il s'agit bien juste d'un accesseur\n\n",
   "execution_count": null,
   "outputs": [
    {
     "name": "stdout",
     "text": "clear_dict {}\n\n {'aurelie': 'A', 'christine': 'A', 'cyril': 'A+', 'harriet': 'A++'}\naurelie\nchristine\ncyril\nharriet\nA\nA\nA+\nA++\n-- aurelie A\n-- christine A\n-- cyril A+\n-- harriet A++\nexplications_pop [1, 2, 3]\n**popped_value 4\n[1, 2, 3, 19]\n{'aurelie': 'A', 'christine': 'A', 'cyril': 'A+', 'harriet': 'A++'}\npopped_elt A\n{'christine': 'A', 'cyril': 'A+', 'harriet': 'A++'}\npop_dict_initial {'christine': 'A', 'cyril': 'A+', 'harriet': 'A++'}\nget_value ma_valeur_par_defaut\nget_value A\npop_dict_initial {'christine': 'A', 'cyril': 'A+', 'harriet': 'A++'}\n",
     "output_type": "stream"
    }
   ]
  },
  {
   "cell_type": "markdown",
   "source": "",
   "metadata": {
    "tags": [],
    "cell_id": "00005-959959db-6d66-4718-b9e1-a2f2e297960b",
    "deepnote_cell_type": "markdown"
   }
  },
  {
   "cell_type": "markdown",
   "source": "## Opérations courantes sur les dictionnaires :",
   "metadata": {
    "tags": [],
    "cell_id": "00006-31cb7ebb-fe31-4114-85ad-4fdf3bccb78e",
    "deepnote_cell_type": "markdown"
   }
  },
  {
   "cell_type": "code",
   "metadata": {
    "tags": [],
    "cell_id": "00006-51c93a4e-aae2-45f6-ba28-1d328df5d7a5",
    "deepnote_to_be_reexecuted": false,
    "source_hash": "df33f57b",
    "execution_millis": 9,
    "execution_start": 1613466701048,
    "deepnote_cell_type": "code"
   },
   "source": "# fusion\n\ndict1 = {'dix': 10, 'vingt': 20, 'trente': 35}\ndict2 = {'trente': 30, 'quarante': 40, 'cinquante': 50}\n\nmerged_dict = {**dict1, **dict2, 'soixante': 60, 'vingt-cinq': 25}\nprint(merged_dict)\n\n# mutation de valeur:\nmerged_dict['soixante'] = 'sixty' # on a le droit de mélanger les types pour les valeurs d'un dict\nprint(merged_dict)\n\n# destruction de clés\ndel merged_dict['soixante']\nprint(merged_dict)",
   "execution_count": null,
   "outputs": [
    {
     "name": "stdout",
     "text": "{'dix': 10, 'vingt': 20, 'trente': 30, 'quarante': 40, 'cinquante': 50, 'soixante': 60, 'vingt-cinq': 25}\n{'dix': 10, 'vingt': 20, 'trente': 30, 'quarante': 40, 'cinquante': 50, 'soixante': 'sixty', 'vingt-cinq': 25}\n{'dix': 10, 'vingt': 20, 'trente': 30, 'quarante': 40, 'cinquante': 50, 'vingt-cinq': 25}\n",
     "output_type": "stream"
    }
   ]
  },
  {
   "cell_type": "code",
   "metadata": {
    "tags": [],
    "cell_id": "00007-dfdb9840-5c01-40e0-b619-d19ae6abfd05",
    "deepnote_to_be_reexecuted": false,
    "source_hash": "ba405971",
    "execution_millis": 14,
    "execution_start": 1613467105420,
    "deepnote_cell_type": "code"
   },
   "source": "# \"nesting\" ou imbrication :\noriginalDict = { \n   \"classe\":{ \n      \"eleve\":{ \n         \"name\":\"Magdalena\",\n         \"notes\":{ \n            \"physique\": 18,\n            \"histoire\": 19\n         }\n      }\n   }\n} \n\n# Quelle note Magdalena a-t-elle obtenu en histoire ?\nprint(originalDict['classe']['eleve']['notes']['histoire'])\n\nnestedListDict = { \n   \"classe\":{ \n      \"eleve\":{ \n         \"name\":\"Magdalena\",\n         \"notes\": [\n            'physique: 18',\n            'histoire: 19'\n         ]\n      }\n   }\n} \n\nprint(nestedListDict['classe']['eleve']['notes'][1])\n",
   "execution_count": null,
   "outputs": [
    {
     "name": "stdout",
     "text": "19\nhistoire: 19\n",
     "output_type": "stream"
    }
   ]
  },
  {
   "cell_type": "markdown",
   "source": "<a style='text-decoration:none;line-height:16px;display:flex;color:#5B5B62;padding:10px;justify-content:end;' href='https://deepnote.com?utm_source=created-in-deepnote-cell&projectId=aa2c0e4b-af86-4b38-a164-36e6b7a66ddf' target=\"_blank\">\n<img alt='Created in deepnote.com' style='display:inline;max-height:16px;margin:0px;margin-right:7.5px;' src='data:image/svg+xml;base64,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' > </img>\nCreated in <span style='font-weight:600;margin-left:4px;'>Deepnote</span></a>",
   "metadata": {
    "tags": [],
    "created_in_deepnote_cell": true,
    "deepnote_cell_type": "markdown"
   }
  }
 ],
 "nbformat": 4,
 "nbformat_minor": 2,
 "metadata": {
  "orig_nbformat": 2,
  "deepnote_notebook_id": "ef894324-e892-449c-9d4d-e3743a61bd19",
  "deepnote": {},
  "deepnote_execution_queue": []
 }
}