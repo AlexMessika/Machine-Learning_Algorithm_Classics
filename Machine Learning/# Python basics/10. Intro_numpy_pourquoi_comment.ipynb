{
 "cells": [
  {
   "cell_type": "markdown",
   "source": "# Introduction à numpy \n\nLaurent Cetinsoy\n\n## A propos des listes python\n\nQuand on fait du calcul scientifique, les listes ne sont pas très pratiques pour manipuler des vecteurs ou matrices. Pourquoi ? voyons quelques exemples",
   "metadata": {
    "tags": [],
    "cell_id": "00000-248b81fe-905a-4250-b349-3b8e20fa6a1a",
    "deepnote_cell_type": "markdown"
   }
  },
  {
   "cell_type": "code",
   "metadata": {
    "cell_id": "00000-7e7bb929-0f7b-4085-893d-1a58e80c1552",
    "deepnote_to_be_reexecuted": false,
    "source_hash": "e93673d2",
    "execution_start": 1622645914429,
    "execution_millis": 138,
    "deepnote_cell_type": "code"
   },
   "source": "# on ne peut pas ajouter un élément à tous les éléments d'une liste facilement\nl1 = [1, 2, 4, 5]\nl1 + 2",
   "execution_count": null,
   "outputs": [
    {
     "output_type": "error",
     "ename": "TypeError",
     "evalue": "can only concatenate list (not \"int\") to list",
     "traceback": [
      "\u001b[0;31m---------------------------------------------------------------------------\u001b[0m",
      "\u001b[0;31mTypeError\u001b[0m                                 Traceback (most recent call last)",
      "\u001b[0;32m<ipython-input-1-07193e66375c>\u001b[0m in \u001b[0;36m<module>\u001b[0;34m\u001b[0m\n\u001b[1;32m      2\u001b[0m \u001b[0;34m\u001b[0m\u001b[0m\n\u001b[1;32m      3\u001b[0m \u001b[0;34m\u001b[0m\u001b[0m\n\u001b[0;32m----> 4\u001b[0;31m \u001b[0ml1\u001b[0m \u001b[0;34m+\u001b[0m \u001b[0;36m2\u001b[0m\u001b[0;34m\u001b[0m\u001b[0;34m\u001b[0m\u001b[0m\n\u001b[0m",
      "\u001b[0;31mTypeError\u001b[0m: can only concatenate list (not \"int\") to list"
     ]
    }
   ]
  },
  {
   "cell_type": "code",
   "metadata": {
    "cell_id": "00001-db22c85a-d77c-4fbe-a1fd-e5212156126a",
    "deepnote_cell_type": "code"
   },
   "source": "l2 = [2, 1, 3, 4]\n\nl1 + l2\n",
   "execution_count": null,
   "outputs": [
    {
     "data": {
      "text/plain": "[1, 2, 4, 5, 2, 1, 3, 4]"
     },
     "execution_count": 2,
     "metadata": {},
     "output_type": "execute_result"
    }
   ]
  },
  {
   "cell_type": "markdown",
   "source": "Si on veut ajouter un nombre à tous les élements d'une listes ou si on veut additionner terme à terme deux listes, il faut utiliser des boucles ce qui à l'usage n'est pas pratique",
   "metadata": {
    "tags": [],
    "cell_id": "00003-0ffabdcc-b4bd-4756-b928-9d4393d16b0b",
    "deepnote_cell_type": "markdown"
   }
  },
  {
   "cell_type": "code",
   "metadata": {
    "cell_id": "00002-c9318707-bd4e-4d79-8f58-a532fabb05b6",
    "deepnote_cell_type": "code"
   },
   "source": "l1 = [1, 2, 4, 5]\nl2 = [2, 1, 3, 4]\n\nl3 = []\nfor v1, v2 in zip(l1, l2):\n    l3.append(v1 + v2)\n    \nl3",
   "execution_count": null,
   "outputs": [
    {
     "data": {
      "text/plain": "[3, 3, 7, 9]"
     },
     "execution_count": 4,
     "metadata": {},
     "output_type": "execute_result"
    }
   ]
  },
  {
   "cell_type": "markdown",
   "source": "Ainsi les listes ne sont pas très pratiques pour faire des opérations sur des vecteurs et matrices. De plus c'est très lent. \n\nNumpy (pour numerical python) est un outil bien plus pratique et rapide pour le calcul scientifique. \n\nquasiement toutes les librairies de datascience utilisent numpy ou sont compatible : \n- pandas\n- scipy\n- matplotlib\n- scikit-learn\n- keras \n- pytorc\n- etc\n\nVoyons comment créer des vecteurs en numpy",
   "metadata": {
    "tags": [],
    "cell_id": "00005-e31e0fb3-c0dc-48f6-947f-599e459f9b8f",
    "deepnote_cell_type": "markdown"
   }
  },
  {
   "cell_type": "code",
   "metadata": {
    "cell_id": "00003-b15c19e4-3c0e-4477-afe7-6ce560081f4b",
    "deepnote_to_be_reexecuted": false,
    "source_hash": "3fa3abef",
    "execution_start": 1622646552508,
    "execution_millis": 7,
    "deepnote_cell_type": "code"
   },
   "source": "import numpy as np \n\nvect1 = np.array([1, 2, 4, 5])\nvect2 = np.array([2, 1, 3, 4])\n\n\nvect1 + vect2 # on peut directement ajouter deux vecteurs ! ",
   "execution_count": null,
   "outputs": [
    {
     "output_type": "execute_result",
     "execution_count": 4,
     "data": {
      "text/plain": "array([3, 3, 7, 9])"
     },
     "metadata": {}
    }
   ]
  },
  {
   "cell_type": "code",
   "metadata": {
    "tags": [],
    "cell_id": "00007-e68fb945-ca54-4d3c-8a3b-58d3f73bfa4d",
    "deepnote_cell_type": "code"
   },
   "source": "#opération vectorisée = opération sans boucle for\n\n2 * vect2",
   "execution_count": null,
   "outputs": []
  },
  {
   "cell_type": "markdown",
   "source": "Tous les tableaux numpy (quelle que soit leur taille) sont des instance de la classe ndarray  : https://numpy.org/doc/stable/reference/generated/numpy.ndarray.html",
   "metadata": {
    "tags": [],
    "cell_id": "00007-a5229431-c03e-48fa-b7ba-a3a9e80c7028",
    "deepnote_cell_type": "markdown"
   }
  },
  {
   "cell_type": "markdown",
   "source": "cette classe possède des attributes et des méthodes très pratique\n\nPar exemple on peut obtenir la taille du tableau avec l'attribut .shape de l'objet",
   "metadata": {
    "tags": [],
    "cell_id": "00007-84770395-252d-4800-adcc-94f4aa9fbef5",
    "deepnote_cell_type": "markdown"
   }
  },
  {
   "cell_type": "code",
   "metadata": {
    "tags": [],
    "cell_id": "00009-a8f4179d-f922-4f19-a9b6-49700e2fd03f",
    "deepnote_to_be_reexecuted": false,
    "source_hash": "8c973036",
    "execution_start": 1622646554378,
    "execution_millis": 5,
    "deepnote_cell_type": "code"
   },
   "source": "vect1.shape",
   "execution_count": null,
   "outputs": [
    {
     "output_type": "execute_result",
     "execution_count": 5,
     "data": {
      "text/plain": "(4,)"
     },
     "metadata": {}
    }
   ]
  },
  {
   "cell_type": "code",
   "metadata": {
    "cell_id": "00004-c7c069ab-76d7-4f79-82ab-35854abb8018",
    "deepnote_to_be_reexecuted": false,
    "source_hash": "df3e9d4a",
    "execution_start": 1622646597344,
    "execution_millis": 11,
    "deepnote_cell_type": "code"
   },
   "source": "vect1.max(), vect1.min(), vect1.mean()",
   "execution_count": null,
   "outputs": [
    {
     "output_type": "execute_result",
     "execution_count": 7,
     "data": {
      "text/plain": "(5, 1, 3.0)"
     },
     "metadata": {}
    }
   ]
  },
  {
   "cell_type": "code",
   "metadata": {
    "cell_id": "00005-30f509b6-8c90-4bc3-aeb4-179f6e9d4e4b",
    "deepnote_cell_type": "code"
   },
   "source": "vect1.mean()",
   "execution_count": null,
   "outputs": [
    {
     "data": {
      "text/plain": "3.0"
     },
     "execution_count": 9,
     "metadata": {},
     "output_type": "execute_result"
    }
   ]
  },
  {
   "cell_type": "code",
   "metadata": {
    "cell_id": "00006-e84c8d33-1927-49ae-8747-e12e8dff4fa6",
    "deepnote_cell_type": "code"
   },
   "source": "np.exp(vect1)",
   "execution_count": null,
   "outputs": [
    {
     "data": {
      "text/plain": "array([  2.71828183,   7.3890561 ,  54.59815003, 148.4131591 ])"
     },
     "execution_count": 11,
     "metadata": {},
     "output_type": "execute_result"
    }
   ]
  },
  {
   "cell_type": "code",
   "metadata": {
    "cell_id": "00008-d9a9f769-5f61-4266-9c9c-60b5fc11ad46",
    "deepnote_cell_type": "code"
   },
   "source": "random_vect = np.random.randn(100)",
   "execution_count": null,
   "outputs": []
  },
  {
   "cell_type": "code",
   "metadata": {
    "cell_id": "00009-a7021b1e-6149-4f51-983b-870732fb0680",
    "deepnote_cell_type": "code"
   },
   "source": "random_vect",
   "execution_count": null,
   "outputs": [
    {
     "data": {
      "text/plain": "array([ 6.05756636e-02, -7.79891602e-01,  3.90034468e-01, -7.40261404e-03,\n        1.39040256e+00, -2.29553433e+00,  1.03821788e-03, -2.74804592e+00,\n       -7.67103513e-01,  5.62970792e-01, -9.23362550e-01, -4.32128967e-01,\n        2.22743588e+00, -1.50781865e+00, -7.03065605e-02, -1.11621509e+00,\n        7.53141176e-01,  4.52607586e-01,  1.95162530e-01, -3.66744378e-01,\n       -1.12556442e+00, -2.06300252e-02, -3.67435238e-01, -7.64127037e-01,\n        2.20199096e+00,  1.94601347e-01, -1.66812528e+00,  8.77819439e-01,\n        7.30997986e-02,  1.47350014e+00,  3.34646359e-01, -2.17152752e-01,\n        8.25713233e-01, -1.03315607e+00,  6.68527895e-01, -3.62349399e-01,\n        1.02913195e+00,  3.36997750e-01,  1.62082703e+00, -5.49014506e-01,\n       -1.59091961e+00, -2.01347940e-01,  9.13394536e-01, -2.29216152e+00,\n       -2.78716425e-01,  5.92068726e-01, -4.19572790e-03, -2.19291715e+00,\n       -4.47323422e-01, -7.79635198e-01,  2.43089349e-01,  6.58011217e-01,\n        1.51288068e+00, -1.47808804e+00,  2.07180921e+00,  1.46740549e+00,\n       -2.50685394e-01, -4.47527590e-01,  1.38308484e+00,  3.44619896e-01,\n        6.56117006e-02,  4.03511730e-01, -2.23796046e-01, -2.68072395e+00,\n       -3.12118432e-01, -8.93082403e-01, -6.32885455e-01,  2.04046704e-01,\n        2.15856077e+00, -4.54273059e-01, -1.70540793e+00,  5.84707484e-01,\n        1.18019052e+00,  1.56406833e+00,  3.46432125e-01, -6.94325092e-02,\n        7.13239451e-02, -4.36676973e-01,  1.62143964e-01,  4.33891678e-01,\n       -8.09884597e-01, -1.87779865e-01,  2.87241961e-01,  7.26708693e-01,\n        1.91839178e+00, -1.20395580e+00,  8.98445115e-01,  8.76720794e-02,\n        2.90621963e-01, -7.40098027e-02, -1.57044908e+00, -2.75032622e-01,\n       -1.58185367e+00, -7.72272832e-01,  3.68366829e-01, -1.11043762e+00,\n       -1.81374343e-01,  7.61524128e-01, -2.12779514e+00,  5.88589381e-01])"
     },
     "execution_count": 16,
     "metadata": {},
     "output_type": "execute_result"
    }
   ]
  },
  {
   "cell_type": "markdown",
   "source": "## Les masks \n\nSupposons qu'on dispose d'un vecteur avec des valeurs et qu'on veuille ne récupérer que les valeurs positives. Voici comment ne pas faire ! ",
   "metadata": {
    "tags": [],
    "cell_id": "00016-237f4184-2aa7-4eef-9e3b-3e8795b124bf",
    "deepnote_cell_type": "markdown"
   }
  },
  {
   "cell_type": "code",
   "metadata": {
    "cell_id": "00010-8dea3070-98db-4049-ae60-b5c5a4517bc9",
    "deepnote_cell_type": "code"
   },
   "source": "random_vect = np.random.randn(100)\npositive_values = []\nfor v in random_vect:\n    if v >=0:\n        positive_values.append(v)\n        \npositive_values\n#NE PAS FAIRe",
   "execution_count": null,
   "outputs": [
    {
     "data": {
      "text/plain": "[0.06057566362073697,\n 0.39003446804288183,\n 1.3904025636482062,\n 0.0010382178799344254,\n 0.5629707918444632,\n 2.2274358796488563,\n 0.7531411761693654,\n 0.4526075856641705,\n 0.19516252987545815,\n 2.201990956655714,\n 0.19460134736505022,\n 0.8778194388183803,\n 0.07309979857228623,\n 1.47350014175469,\n 0.3346463586425772,\n 0.8257132328366196,\n 0.6685278947874148,\n 1.0291319526700846,\n 0.3369977499613502,\n 1.6208270323273473,\n 0.9133945363357028,\n 0.5920687260991774,\n 0.24308934900283466,\n 0.658011217463096,\n 1.5128806791781095,\n 2.0718092083072395,\n 1.4674054860357995,\n 1.3830848439899803,\n 0.34461989608514004,\n 0.06561170064561123,\n 0.40351172966416327,\n 0.20404670378262565,\n 2.158560774473153,\n 0.5847074844547827,\n 1.1801905246996565,\n 1.5640683334996555,\n 0.3464321245399006,\n 0.07132394509816768,\n 0.16214396385362814,\n 0.43389167796478506,\n 0.28724196119492307,\n 0.7267086926805246,\n 1.91839177944798,\n 0.8984451150940267,\n 0.08767207943787407,\n 0.2906219626293316,\n 0.368366828709899,\n 0.7615241282379461,\n 0.5885893814778452]"
     },
     "execution_count": 17,
     "metadata": {},
     "output_type": "execute_result"
    }
   ]
  },
  {
   "cell_type": "markdown",
   "source": "Cette méthode est lente et pas pratique, à la place on va utiliser un masque. \n\nQu'est ce qu'un masque ? C'est une liste ou un vecteur qui contient des booleen et qui sert à récupérer des valeurs dans un tableau numpy. Regardons : ",
   "metadata": {
    "tags": [],
    "cell_id": "00018-15268339-0efa-447c-892e-35a63055cebf",
    "deepnote_cell_type": "markdown"
   }
  },
  {
   "cell_type": "code",
   "metadata": {
    "tags": [],
    "cell_id": "00019-686199e4-9de5-48d3-9202-4e9f8c896b73",
    "deepnote_to_be_reexecuted": false,
    "source_hash": "ca16cc64",
    "execution_start": 1623009612333,
    "execution_millis": 10,
    "deepnote_cell_type": "code"
   },
   "source": "import numpy as np\nv = np.array([11, 22, -33, 66])\nmask = [True, False, False, True]\nresult = v[mask] #on applique le masque sur v \nprint(result) # result ne contient que les valeurs de v qui correspondent aux indice au le mask est à True",
   "execution_count": null,
   "outputs": [
    {
     "name": "stdout",
     "text": "[11 66]\n",
     "output_type": "stream"
    }
   ]
  },
  {
   "cell_type": "markdown",
   "source": "Alors bien sur on ne va pas faire nos masque à la main, il y a bien mieux. \nOn va utiliser des conditions vectorisée",
   "metadata": {
    "tags": [],
    "cell_id": "00020-389c6852-8287-494d-9603-515914ffe398",
    "deepnote_cell_type": "markdown"
   }
  },
  {
   "cell_type": "code",
   "metadata": {
    "cell_id": "00011-d5d40e25-f583-48c9-9faf-aa378ed83d9c",
    "deepnote_to_be_reexecuted": false,
    "source_hash": "3716fec7",
    "execution_start": 1623009678022,
    "execution_millis": 17,
    "deepnote_cell_type": "code"
   },
   "source": "v = np.array([1, -3, 2, 5, 6, 9, -4])\n\nmask = v <= 0\nmask, v",
   "execution_count": null,
   "outputs": [
    {
     "output_type": "execute_result",
     "execution_count": 5,
     "data": {
      "text/plain": "(array([False,  True, False, False, False, False,  True]),\n array([ 1, -3,  2,  5,  6,  9, -4]))"
     },
     "metadata": {}
    }
   ]
  },
  {
   "cell_type": "code",
   "metadata": {
    "cell_id": "00012-0b5d6bbc-c3e7-4408-9bd0-88531af4aa3d",
    "deepnote_to_be_reexecuted": false,
    "source_hash": "339cd7f4",
    "execution_start": 1623009687645,
    "execution_millis": 9,
    "deepnote_cell_type": "code"
   },
   "source": "result = v[mask]\nprint(result)",
   "execution_count": null,
   "outputs": [
    {
     "name": "stdout",
     "text": "[-3 -4]\n",
     "output_type": "stream"
    }
   ]
  },
  {
   "cell_type": "markdown",
   "source": "## Les matrices ",
   "metadata": {
    "tags": [],
    "cell_id": "00023-c4557e79-f521-4e8f-b12b-4b645c204434",
    "deepnote_cell_type": "markdown"
   }
  },
  {
   "cell_type": "code",
   "metadata": {
    "cell_id": "00016-7f5c318d-63f5-4b25-b154-d7260b9d9631",
    "deepnote_cell_type": "code"
   },
   "source": "A = np.array([[1, 3], [3, 1]])\nA",
   "execution_count": null,
   "outputs": [
    {
     "data": {
      "text/plain": "array([[1, 3],\n       [3, 1]])"
     },
     "execution_count": 25,
     "metadata": {},
     "output_type": "execute_result"
    }
   ]
  },
  {
   "cell_type": "code",
   "metadata": {
    "cell_id": "00017-b08de371-e73b-4b9f-ab53-328b171dc322",
    "deepnote_cell_type": "code"
   },
   "source": "A.shape",
   "execution_count": null,
   "outputs": [
    {
     "data": {
      "text/plain": "(2, 2)"
     },
     "execution_count": 26,
     "metadata": {},
     "output_type": "execute_result"
    }
   ]
  },
  {
   "cell_type": "code",
   "metadata": {
    "cell_id": "00018-0a8b54ef-f302-4913-9793-5d88aac99266",
    "deepnote_cell_type": "code"
   },
   "source": "m = np.zeros((10, 5))",
   "execution_count": null,
   "outputs": []
  },
  {
   "cell_type": "code",
   "metadata": {
    "cell_id": "00019-649954c8-b9e3-4399-8c27-ec6fe9dbd58b",
    "deepnote_cell_type": "code"
   },
   "source": "m.shape",
   "execution_count": null,
   "outputs": [
    {
     "data": {
      "text/plain": "(10, 5)"
     },
     "execution_count": 28,
     "metadata": {},
     "output_type": "execute_result"
    }
   ]
  },
  {
   "cell_type": "code",
   "metadata": {
    "cell_id": "00020-a419111f-b09c-4b13-9a7f-c001be9e71de",
    "deepnote_cell_type": "code"
   },
   "source": "m",
   "execution_count": null,
   "outputs": [
    {
     "data": {
      "text/plain": "array([[0., 0., 0., 0., 0.],\n       [0., 0., 0., 0., 0.],\n       [0., 0., 0., 0., 0.],\n       [0., 0., 0., 0., 0.],\n       [0., 0., 0., 0., 0.],\n       [0., 0., 0., 0., 0.],\n       [0., 0., 0., 0., 0.],\n       [0., 0., 0., 0., 0.],\n       [0., 0., 0., 0., 0.],\n       [0., 0., 0., 0., 0.]])"
     },
     "execution_count": 29,
     "metadata": {},
     "output_type": "execute_result"
    }
   ]
  },
  {
   "cell_type": "code",
   "metadata": {
    "cell_id": "00021-4c54b034-cc52-48c8-9d5b-1545acab3f18",
    "deepnote_cell_type": "code"
   },
   "source": "m2 = m.reshape(25, 2)\nm2",
   "execution_count": null,
   "outputs": [
    {
     "data": {
      "text/plain": "array([[0., 0.],\n       [0., 0.],\n       [0., 0.],\n       [0., 0.],\n       [0., 0.],\n       [0., 0.],\n       [0., 0.],\n       [0., 0.],\n       [0., 0.],\n       [0., 0.],\n       [0., 0.],\n       [0., 0.],\n       [0., 0.],\n       [0., 0.],\n       [0., 0.],\n       [0., 0.],\n       [0., 0.],\n       [0., 0.],\n       [0., 0.],\n       [0., 0.],\n       [0., 0.],\n       [0., 0.],\n       [0., 0.],\n       [0., 0.],\n       [0., 0.]])"
     },
     "execution_count": 30,
     "metadata": {},
     "output_type": "execute_result"
    }
   ]
  },
  {
   "cell_type": "markdown",
   "source": "## Redimensionner les matrices et tableaux\n\nNumpy donne pas mal de liberté pour le redimmensionnement des tableaux. La seule exigence est que le nombre d'élément avant redimmensionnement soit le même qu'après \n\n\n\n",
   "metadata": {
    "tags": [],
    "cell_id": "00031-cbb6cce1-cad3-4884-a729-db3ada8a238b",
    "deepnote_cell_type": "markdown"
   }
  },
  {
   "cell_type": "code",
   "metadata": {
    "tags": [],
    "cell_id": "00031-d0c2d687-ba32-4bd9-807f-66e76a5fee39",
    "deepnote_to_be_reexecuted": false,
    "source_hash": "2fcf005b",
    "execution_start": 1623009832749,
    "execution_millis": 10,
    "deepnote_cell_type": "code"
   },
   "source": "\nm1 = np.random.randn(4, 4)\n\nm2 = m1.reshape(8,2)\n\nm1.shape, m2.shape",
   "execution_count": null,
   "outputs": [
    {
     "output_type": "execute_result",
     "execution_count": 8,
     "data": {
      "text/plain": "((4, 4), (8, 2), 4, 8)"
     },
     "metadata": {}
    }
   ]
  },
  {
   "cell_type": "code",
   "metadata": {
    "tags": [],
    "cell_id": "00032-0b026671-474f-40f4-9674-c034a5f3bf3c",
    "deepnote_cell_type": "code"
   },
   "source": "",
   "execution_count": null,
   "outputs": []
  },
  {
   "cell_type": "markdown",
   "source": "<a style='text-decoration:none;line-height:16px;display:flex;color:#5B5B62;padding:10px;justify-content:end;' href='https://deepnote.com?utm_source=created-in-deepnote-cell&projectId=25ad01f7-ec4b-4ac8-bce6-a3745ef02c96' target=\"_blank\">\n<img alt='Created in deepnote.com' style='display:inline;max-height:16px;margin:0px;margin-right:7.5px;' src='data:image/svg+xml;base64,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' > </img>\nCreated in <span style='font-weight:600;margin-left:4px;'>Deepnote</span></a>",
   "metadata": {
    "tags": [],
    "created_in_deepnote_cell": true,
    "deepnote_cell_type": "markdown"
   }
  }
 ],
 "nbformat": 4,
 "nbformat_minor": 4,
 "metadata": {
  "kernelspec": {
   "display_name": "Python 3",
   "language": "python",
   "name": "python3"
  },
  "language_info": {
   "codemirror_mode": {
    "name": "ipython",
    "version": 3
   },
   "file_extension": ".py",
   "mimetype": "text/x-python",
   "name": "python",
   "nbconvert_exporter": "python",
   "pygments_lexer": "ipython3",
   "version": "3.6.10"
  },
  "deepnote_notebook_id": "b36f757b-747c-4023-9bbb-b4c23539c08e",
  "deepnote": {},
  "deepnote_execution_queue": []
 }
}