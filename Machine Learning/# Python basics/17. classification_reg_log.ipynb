{
 "cells": [
  {
   "cell_type": "markdown",
   "source": "# Introduction à la classification avec la régression logistique\n\nPourquoi la régression linéaire n'est pas adaptée à la classification binaire.\n\nOn pourrait se dire \"la régression linéaire me permet de prédire n'importe quelle valeur, utilisons là pour faire de la classification binaire\". \n\nEh bien non, c'est pas terrible, voyons pourquoi\n\n\n\n",
   "metadata": {
    "tags": [],
    "cell_id": "00000-8629e70a-a834-46f9-b97c-f21da71beb34",
    "deepnote_cell_type": "markdown"
   }
  },
  {
   "cell_type": "code",
   "metadata": {
    "tags": [],
    "output_cleared": false,
    "source_hash": "57248deb",
    "execution_millis": 749,
    "execution_start": 1623230983174,
    "cell_id": "00020-686d7d3a-e29b-49c4-9751-1c1450d13f49",
    "deepnote_to_be_reexecuted": false,
    "deepnote_cell_type": "code"
   },
   "source": "import pandas as pd\nimport matplotlib.pyplot as plt\n\ndf = pd.read_csv('tumor_data_one_var.csv')\nplt.scatter(df['size'], df['is_cancerous'])\n",
   "execution_count": null,
   "outputs": [
    {
     "output_type": "execute_result",
     "execution_count": 1,
     "data": {
      "text/plain": "<matplotlib.collections.PathCollection at 0x7fb8028b4d10>"
     },
     "metadata": {}
    },
    {
     "data": {
      "text/plain": "<Figure size 432x288 with 1 Axes>",
      "image/png": "[encoded data removed]"
     },
     "metadata": {
      "needs_background": "light",
      "image/png": {
       "width": 372,
       "height": 248
      }
     },
     "output_type": "display_data"
    }
   ]
  },
  {
   "cell_type": "markdown",
   "source": "En regardant les donnée on se dit qu'une régression linéaire à une variable va difficilement passer correctement par ces points",
   "metadata": {
    "tags": [],
    "cell_id": "00002-c55146f5-04a1-46c5-bbdd-42325b4b1485",
    "deepnote_cell_type": "markdown"
   }
  },
  {
   "cell_type": "code",
   "metadata": {
    "tags": [],
    "output_cleared": false,
    "source_hash": "40481571",
    "execution_start": 1623231499773,
    "execution_millis": 38,
    "cell_id": "00022-e2e66065-9335-4608-9519-4d1f185e0f24",
    "deepnote_to_be_reexecuted": false,
    "deepnote_cell_type": "code"
   },
   "source": "from sklearn.linear_model import LinearRegression\n\nmodel = LinearRegression()\nX = df[['size']]\ny = df['is_cancerous']\nmodel.fit(X,y)",
   "execution_count": null,
   "outputs": [
    {
     "output_type": "execute_result",
     "execution_count": 7,
     "data": {
      "text/plain": "LinearRegression()"
     },
     "metadata": {}
    }
   ]
  },
  {
   "cell_type": "code",
   "metadata": {
    "tags": [],
    "output_cleared": false,
    "source_hash": "29ffdb64",
    "execution_millis": 0,
    "execution_start": 1623231164855,
    "cell_id": "00023-57060d98-ae0e-497b-99b4-cdbea2bdc849",
    "deepnote_to_be_reexecuted": false,
    "deepnote_cell_type": "code"
   },
   "source": "import numpy as np\nX_range = np.arange(-0.05, 0.25, 0.01).reshape(-1, 1) #pour que ça soit un tableau 2D car sklearn veut des tableaux 2D pour X\ny_pred = model.predict(X_range)",
   "execution_count": null,
   "outputs": []
  },
  {
   "cell_type": "code",
   "metadata": {
    "tags": [],
    "output_cleared": false,
    "source_hash": "d899e3db",
    "execution_start": 1623231166673,
    "execution_millis": 171,
    "cell_id": "00024-b5ef7253-ae9e-4147-9eeb-f879b4609170",
    "deepnote_to_be_reexecuted": false,
    "deepnote_cell_type": "code"
   },
   "source": "y_pred = model.predict(X_range)\nplt.scatter(df['size'], df['is_cancerous'])\nplt.plot(X_range, y_pred, c=\"red\")",
   "execution_count": null,
   "outputs": [
    {
     "output_type": "execute_result",
     "execution_count": 4,
     "data": {
      "text/plain": "[<matplotlib.lines.Line2D at 0x7fb7e5fbd810>]"
     },
     "metadata": {}
    },
    {
     "data": {
      "text/plain": "<Figure size 432x288 with 1 Axes>",
      "image/png": "[encoded data removed]"
     },
     "metadata": {
      "needs_background": "light",
      "image/png": {
       "width": 380,
       "height": 248
      }
     },
     "output_type": "display_data"
    }
   ]
  },
  {
   "cell_type": "markdown",
   "source": "On voit que la régression linéaire n'est pas adaptée à la forme des données",
   "metadata": {
    "tags": [],
    "cell_id": "00006-83036b0b-eb6e-48b2-a314-6f57ea69f44a",
    "deepnote_cell_type": "markdown"
   }
  },
  {
   "cell_type": "markdown",
   "source": "En choisissant une régression linéaire pour ce problème, on a pas choisi la bonne famille de fonction. On aura beau chercher les meilleurs paramètres possibles, ça n'ira pas bien.  Une fonction de la forme $ \\theta_0 + \\theta_1 * X $ ne conviendra jamais\n\nOn va donc considérer une autre famille de modèle adadpté à la classification binaire : la régression logistique. ",
   "metadata": {
    "tags": [],
    "cell_id": "00026-9915a4ff-06de-456b-bcaa-cb87db6f3492",
    "deepnote_cell_type": "markdown"
   }
  },
  {
   "cell_type": "markdown",
   "source": "On va pas faire on va choisir $ y = \\sigma( \\theta_0 + \\theta_1 * X_1 + \\theta_2 * X_2 + ... + \\theta_n * X_n) $\n\noù $ \\sigma $ est la fonction sigmoid (bijection de la fonction logit)\n\n$ y = \\frac{1}{1 - (\\theta_0 + \\theta_1 * X_1 + \\theta_2 * X_2 + ... + \\theta_n * X_n)} $",
   "metadata": {
    "tags": [],
    "cell_id": "00027-ef315ff3-8957-4e5e-b667-ca50a4ee9c77",
    "deepnote_cell_type": "markdown"
   }
  },
  {
   "cell_type": "code",
   "metadata": {
    "tags": [],
    "output_cleared": false,
    "source_hash": "c71217a8",
    "execution_millis": 197,
    "execution_start": 1623231234982,
    "cell_id": "00029-c150a150-5f80-476d-a6c3-50e55d1e35d5",
    "deepnote_to_be_reexecuted": false,
    "deepnote_cell_type": "code"
   },
   "source": "# affichage de la fonction sigmoid\ndef sigmoid(x): \n\n    return 1 / (1 + np.exp(-x))\n\n\nx = np.arange(-25, 25, 0.1)\ny = sigmoid(x)\nplt.plot(x, y)",
   "execution_count": null,
   "outputs": [
    {
     "output_type": "execute_result",
     "execution_count": 5,
     "data": {
      "text/plain": "[<matplotlib.lines.Line2D at 0x7fb7e4f3a490>]"
     },
     "metadata": {}
    },
    {
     "data": {
      "text/plain": "<Figure size 432x288 with 1 Axes>",
      "image/png": "[encoded data removed]"
     },
     "metadata": {
      "needs_background": "light",
      "image/png": {
       "width": 372,
       "height": 248
      }
     },
     "output_type": "display_data"
    }
   ]
  },
  {
   "cell_type": "markdown",
   "source": "On constate que la fonction sigmoid transforme l'ensemble des Réels en un nombre entre 0 et 1 : c'est très bien pour faire de la classification binaire ! \n\nAinsi une régression logistique ça va être juste la composition de la fonction logistique et d'une régression linéaire : \n- les thetas de la formule de la régression linéaire vont permettre d'ajuster la courbe aux données\n- la fonction logistique permettra à la fonction d'avoir la bonne forme\n",
   "metadata": {
    "tags": [],
    "cell_id": "00030-903b18ef-f853-4e50-a80c-d8e7fa5643dc",
    "deepnote_cell_type": "markdown"
   }
  },
  {
   "cell_type": "code",
   "metadata": {
    "tags": [],
    "cell_id": "00012-2b783ff2-950d-4e99-8169-cdf3539b94a7",
    "deepnote_to_be_reexecuted": false,
    "source_hash": "570d3bf3",
    "execution_start": 1623231503673,
    "execution_millis": 28,
    "deepnote_cell_type": "code"
   },
   "source": "from sklearn.linear_model import LogisticRegression \n\nmodel = LogisticRegression()\n\nmodel.fit(X, y)",
   "execution_count": null,
   "outputs": [
    {
     "output_type": "execute_result",
     "execution_count": 8,
     "data": {
      "text/plain": "LogisticRegression()"
     },
     "metadata": {}
    }
   ]
  },
  {
   "cell_type": "code",
   "metadata": {
    "tags": [],
    "cell_id": "00013-880ebd5e-e87f-4fb8-9013-afe877d8c59c",
    "deepnote_to_be_reexecuted": false,
    "source_hash": "d899e3db",
    "execution_start": 1623231505995,
    "execution_millis": 457,
    "deepnote_cell_type": "code"
   },
   "source": "y_pred = model.predict(X_range)\nplt.scatter(df['size'], df['is_cancerous'])\nplt.plot(X_range, y_pred, c=\"red\")",
   "execution_count": null,
   "outputs": [
    {
     "output_type": "execute_result",
     "execution_count": 9,
     "data": {
      "text/plain": "[<matplotlib.lines.Line2D at 0x7fb7e501e850>]"
     },
     "metadata": {}
    },
    {
     "data": {
      "text/plain": "<Figure size 432x288 with 1 Axes>",
      "image/png": "[encoded data removed]"
     },
     "metadata": {
      "needs_background": "light",
      "image/png": {
       "width": 372,
       "height": 248
      }
     },
     "output_type": "display_data"
    }
   ]
  },
  {
   "cell_type": "markdown",
   "source": "C'est bien mieux",
   "metadata": {
    "tags": [],
    "cell_id": "00014-e79983f3-3bde-4d72-8f65-c9ea9068aa7d",
    "deepnote_cell_type": "markdown"
   }
  },
  {
   "cell_type": "markdown",
   "source": "<a style='text-decoration:none;line-height:16px;display:flex;color:#5B5B62;padding:10px;justify-content:end;' href='https://deepnote.com?utm_source=created-in-deepnote-cell&projectId=25ad01f7-ec4b-4ac8-bce6-a3745ef02c96' target=\"_blank\">\n<img alt='Created in deepnote.com' style='display:inline;max-height:16px;margin:0px;margin-right:7.5px;' src='data:image/svg+xml;base64,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' > </img>\nCreated in <span style='font-weight:600;margin-left:4px;'>Deepnote</span></a>",
   "metadata": {
    "tags": [],
    "created_in_deepnote_cell": true,
    "deepnote_cell_type": "markdown"
   }
  }
 ],
 "nbformat": 4,
 "nbformat_minor": 2,
 "metadata": {
  "orig_nbformat": 2,
  "deepnote_notebook_id": "7938bd5a-b1da-4cb8-8fc0-078b98611c72",
  "deepnote_execution_queue": [],
  "deepnote": {}
 }
}