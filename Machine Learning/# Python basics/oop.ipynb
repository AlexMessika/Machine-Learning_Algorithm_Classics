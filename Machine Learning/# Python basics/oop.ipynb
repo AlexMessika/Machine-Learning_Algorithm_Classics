{
 "cells": [
  {
   "cell_type": "code",
   "metadata": {
    "tags": [],
    "cell_id": "00000-d10cb761-fca6-4095-b5ef-ae41889743d4",
    "deepnote_to_be_reexecuted": false,
    "source_hash": "4c872a97",
    "execution_start": 1622816583505,
    "execution_millis": 25,
    "deepnote_cell_type": "code"
   },
   "source": "class Person:\n    pass #empty class\n\n\n#i use my class to create a new person\n\njean = Person()\njane = Person()\n\njean == jane",
   "execution_count": null,
   "outputs": [
    {
     "output_type": "execute_result",
     "execution_count": 1,
     "data": {
      "text/plain": "False"
     },
     "metadata": {}
    }
   ]
  },
  {
   "cell_type": "code",
   "metadata": {
    "tags": [],
    "cell_id": "00001-d97c6dc1-be2f-4e0b-af3e-856b609555b7",
    "deepnote_to_be_reexecuted": false,
    "source_hash": "be213776",
    "execution_start": 1622816659973,
    "execution_millis": 43,
    "deepnote_cell_type": "code"
   },
   "source": "class Person:\n    \n    def __init__(self):\n        print(\"hello I am new object, i was borned\")\n\n\npierre = Person()\n\n",
   "execution_count": null,
   "outputs": [
    {
     "name": "stdout",
     "text": "hello I am new object, i was borned\n",
     "output_type": "stream"
    }
   ]
  },
  {
   "cell_type": "code",
   "metadata": {
    "tags": [],
    "cell_id": "00002-a0700343-d5e0-4a04-8c9b-34ad84f17594",
    "deepnote_to_be_reexecuted": false,
    "source_hash": "ff396307",
    "execution_start": 1622816675770,
    "execution_millis": 13,
    "deepnote_cell_type": "code"
   },
   "source": "jane = Person()\n",
   "execution_count": null,
   "outputs": [
    {
     "name": "stdout",
     "text": "hello I am new object, i was borned\n",
     "output_type": "stream"
    }
   ]
  },
  {
   "cell_type": "code",
   "metadata": {
    "tags": [],
    "cell_id": "00003-8ab52fc2-0ce1-45c0-9814-b8f20376b1c9",
    "deepnote_to_be_reexecuted": false,
    "source_hash": "bb9828da",
    "execution_start": 1622816833893,
    "execution_millis": 136,
    "deepnote_cell_type": "code"
   },
   "source": "class Person:\n    \n    def __init__(self, nom):\n       self.nom = nom\n\n\np1 = Person(\"pierre\") #ici que la méthode est appelée\np2 = Person(\"jane\")\n\np1.nom, p2.nom\n",
   "execution_count": null,
   "outputs": [
    {
     "output_type": "execute_result",
     "execution_count": 4,
     "data": {
      "text/plain": "('pierre', 'jane')"
     },
     "metadata": {}
    }
   ]
  },
  {
   "cell_type": "code",
   "metadata": {
    "tags": [],
    "cell_id": "00004-ea8ca9c5-e77c-4663-b841-814f06c51c5f",
    "deepnote_to_be_reexecuted": false,
    "source_hash": "ccbcad78",
    "execution_start": 1622817019246,
    "execution_millis": 14,
    "deepnote_cell_type": "code"
   },
   "source": "class Person:\n    \n    def __init__(self, nom):\n       self.nom = nom\n\n\n    def display_name(self):\n        print(self.nom)\n\n\np1 = Person(\"pierre\") \np2 = Person(\"jane\")\n\n\np1.display_name()# self va valloir p1 donc il va afficher pierre\n",
   "execution_count": null,
   "outputs": [
    {
     "name": "stdout",
     "text": "pierre\n",
     "output_type": "stream"
    }
   ]
  },
  {
   "cell_type": "code",
   "metadata": {
    "tags": [],
    "cell_id": "00005-5791a536-bfdc-4f0a-bd88-facd2054db8e",
    "deepnote_to_be_reexecuted": false,
    "source_hash": "fbf8958e",
    "execution_start": 1622817047362,
    "execution_millis": 18,
    "deepnote_cell_type": "code"
   },
   "source": "p2.display_name()",
   "execution_count": null,
   "outputs": [
    {
     "name": "stdout",
     "text": "jane\n",
     "output_type": "stream"
    }
   ]
  },
  {
   "cell_type": "code",
   "metadata": {
    "tags": [],
    "cell_id": "00006-cdc779e1-5c25-4386-bb2c-ba73638f7d1e",
    "deepnote_to_be_reexecuted": false,
    "source_hash": "da633d63",
    "execution_start": 1622817180346,
    "execution_millis": 1,
    "deepnote_cell_type": "code"
   },
   "source": "class Person:\n    \n    def __init__(self, nom):\n       self.nom = nom\n       self.age = 0\n\n    def birthday(self):\n        self.age = self.age + 1\n\n    def display_name(self):\n        print(self.nom)\n\np3 = Person(\"john\")\np4 = Person(\"janina\")\nprint(p3.age, p4.age)\np3.birthday() #self = p3\nprint(p3.age, p4.age) \n",
   "execution_count": null,
   "outputs": [
    {
     "name": "stdout",
     "text": "0 0\n1 0\n",
     "output_type": "stream"
    }
   ]
  },
  {
   "cell_type": "code",
   "metadata": {
    "tags": [],
    "cell_id": "00007-9dce927d-ddf5-4536-93e1-4a8452579ade",
    "deepnote_to_be_reexecuted": false,
    "source_hash": "8f658668",
    "execution_start": 1622817385194,
    "execution_millis": 13,
    "deepnote_cell_type": "code"
   },
   "source": "class Wizard(Person): #Wizard hérite de Person\n\n    \n    \n    def display_name(self):\n        print(\"Je suis le très puissant\", self.nom)\n\n\nw1 = Wizard(\"merlin\")\nw1.display_name()\n\np2 = Person(\"john\")\np2.display_name()\n",
   "execution_count": null,
   "outputs": [
    {
     "name": "stdout",
     "text": "Je suis le très puissant merlin\njohn\n",
     "output_type": "stream"
    }
   ]
  },
  {
   "cell_type": "code",
   "metadata": {
    "tags": [],
    "cell_id": "00008-1a5f274c-3517-4553-aa29-ce14a3ba715f",
    "deepnote_cell_type": "code"
   },
   "source": "",
   "execution_count": null,
   "outputs": []
  },
  {
   "cell_type": "markdown",
   "source": "<a style='text-decoration:none;line-height:16px;display:flex;color:#5B5B62;padding:10px;justify-content:end;' href='https://deepnote.com?utm_source=created-in-deepnote-cell&projectId=25ad01f7-ec4b-4ac8-bce6-a3745ef02c96' target=\"_blank\">\n<img alt='Created in deepnote.com' style='display:inline;max-height:16px;margin:0px;margin-right:7.5px;' src='data:image/svg+xml;base64,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' > </img>\nCreated in <span style='font-weight:600;margin-left:4px;'>Deepnote</span></a>",
   "metadata": {
    "tags": [],
    "created_in_deepnote_cell": true,
    "deepnote_cell_type": "markdown"
   }
  }
 ],
 "nbformat": 4,
 "nbformat_minor": 2,
 "metadata": {
  "orig_nbformat": 2,
  "deepnote": {
   "is_reactive": false
  },
  "deepnote_notebook_id": "da14ef54-8b0c-4d42-ac64-2c6e8e0d9ee0",
  "deepnote_execution_queue": []
 }
}