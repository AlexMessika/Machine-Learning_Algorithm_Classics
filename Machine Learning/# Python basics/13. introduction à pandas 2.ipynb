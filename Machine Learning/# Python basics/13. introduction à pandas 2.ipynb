{
 "cells": [
  {
   "cell_type": "markdown",
   "source": "# Pandas 2 \n\nDans cette seconde introduction à Pandas on va étudier deux notions : \n- les groupby \n- la manipulation de séries temporelles\n\n## les groupby\n\nLes groupby pandas fonctionnent comme les  group by en SQL. L'idée d'un group by est de regrouper les lignes d'un tableau en sous groupe, **puis** d'effectuer des calculs sur chaque sous groupe. Généralement ça va être des statistiques (moyenne, minimum, somme, etc. ). \n\nIl y a donc deux étapes: \n\n1. Définir comment former les sous groups avec la méthode groupby\n2. Définir quel calcul effectuer sur chaque sous groupe\n\n\nSupposons qu'on veuille calculer le salaire moyen par ville du dataframe ci-dessous",
   "metadata": {
    "tags": [],
    "cell_id": "00000-6e653e4d-1111-42b2-a19f-a6e6a0ec797e",
    "deepnote_cell_type": "markdown"
   }
  },
  {
   "cell_type": "code",
   "metadata": {
    "tags": [],
    "cell_id": "00000-505b9f50-d65b-4412-b5c6-7d63db092cab",
    "deepnote_to_be_reexecuted": false,
    "source_hash": "9daa3223",
    "execution_millis": 58,
    "execution_start": 1623066887844,
    "deepnote_cell_type": "code"
   },
   "source": "import pandas as pd\n\ndf = pd.DataFrame({\n    'age':[22, 32, 50, 29], \n    'salaire': [1000, 1500, 2000, 2500], \n    'ville': ['Aix', 'Aix', 'Paris', 'Paris']})\n\nresult_per_city = df.groupby('ville').agg('sum')\nresult_per_city['salaire']",
   "execution_count": null,
   "outputs": [
    {
     "output_type": "execute_result",
     "execution_count": 1,
     "data": {
      "text/plain": "ville\nAix      2500\nParis    4500\nName: salaire, dtype: int64"
     },
     "metadata": {}
    }
   ]
  },
  {
   "cell_type": "markdown",
   "source": "Il faut bien comprendre que si vous faite le groupby sans définir le calcul de chaque sous groupe, ça ne marchera pas \n",
   "metadata": {
    "tags": [],
    "cell_id": "00002-9fc99fc9-505b-4ac2-b28e-91f69ff0aacb",
    "deepnote_cell_type": "markdown"
   }
  },
  {
   "cell_type": "code",
   "metadata": {
    "tags": [],
    "cell_id": "00003-8ba8eea9-653c-4996-997a-c63b699d7d0e",
    "deepnote_to_be_reexecuted": false,
    "source_hash": "e3545d7a",
    "execution_start": 1623066893071,
    "execution_millis": 1,
    "deepnote_cell_type": "code"
   },
   "source": "result_per_city = df.groupby('ville') #si on ne met pas de agg pandas n'affiche rien\nprint(result_per_city)",
   "execution_count": null,
   "outputs": [
    {
     "name": "stdout",
     "text": "<pandas.core.groupby.generic.DataFrameGroupBy object at 0x7f1324b3a090>\n",
     "output_type": "stream"
    }
   ]
  },
  {
   "cell_type": "markdown",
   "source": "Une autre chose intéressante avec les group by c'est qu'on peut passer notre propre function ",
   "metadata": {
    "tags": [],
    "cell_id": "00004-9e12b244-449a-45e6-b427-0aaedd1b1385",
    "deepnote_cell_type": "markdown"
   }
  },
  {
   "cell_type": "code",
   "metadata": {
    "tags": [],
    "cell_id": "00005-0b186614-2e49-437a-a483-b6a9add916f1",
    "deepnote_to_be_reexecuted": false,
    "source_hash": "3c115e71",
    "execution_start": 1623066963633,
    "execution_millis": 23,
    "deepnote_cell_type": "code"
   },
   "source": "def ma_function_par_sous_groupe(group):\n\n    return (group.mean() + 2) / (1 - group.min())\n\n\nresult_per_city = df.groupby('ville').agg(ma_function_par_sous_groupe)\nresult_per_city['salaire']",
   "execution_count": null,
   "outputs": [
    {
     "output_type": "execute_result",
     "execution_count": 3,
     "data": {
      "text/plain": "ville\nAix     -1.253253\nParis   -1.126563\nName: salaire, dtype: float64"
     },
     "metadata": {}
    }
   ]
  },
  {
   "cell_type": "markdown",
   "source": "## Les series temporelles\n\nLes séries temporelles sont des données dont la valeur dépendent du temps. \nDans cette section on va apprendre à les manipuler.\n\nOn va commencer par créer notre propre data frame. Pour cela on va créer un index qui sera spécial : il contiendra non pas le numéro de la ligne mais la date de la valeur. \n\nPour créer ce genre d'index on peut utiliser la méthode pd.date_range\n\n",
   "metadata": {
    "tags": [],
    "cell_id": "00002-fd99dfa2-b18e-4da6-8559-85fa585b0227",
    "deepnote_cell_type": "markdown"
   }
  },
  {
   "cell_type": "code",
   "metadata": {
    "tags": [],
    "cell_id": "00010-c44d5d08-2b92-4a81-a2c0-6e8b4647ce7f",
    "deepnote_to_be_reexecuted": false,
    "source_hash": "33787689",
    "execution_millis": 36,
    "execution_start": 1623056111632,
    "deepnote_cell_type": "code"
   },
   "source": "import pandas as pd\ndate_range = pd.date_range('01-01-2000', '01-05-2000', freq=\"H\") #attention le mois est avant le jour\ndate_range",
   "execution_count": null,
   "outputs": [
    {
     "output_type": "execute_result",
     "execution_count": 6,
     "data": {
      "text/plain": "DatetimeIndex(['2000-01-01 00:00:00', '2000-01-01 01:00:00',\n               '2000-01-01 02:00:00', '2000-01-01 03:00:00',\n               '2000-01-01 04:00:00', '2000-01-01 05:00:00',\n               '2000-01-01 06:00:00', '2000-01-01 07:00:00',\n               '2000-01-01 08:00:00', '2000-01-01 09:00:00',\n               '2000-01-01 10:00:00', '2000-01-01 11:00:00',\n               '2000-01-01 12:00:00', '2000-01-01 13:00:00',\n               '2000-01-01 14:00:00', '2000-01-01 15:00:00',\n               '2000-01-01 16:00:00', '2000-01-01 17:00:00',\n               '2000-01-01 18:00:00', '2000-01-01 19:00:00',\n               '2000-01-01 20:00:00', '2000-01-01 21:00:00',\n               '2000-01-01 22:00:00', '2000-01-01 23:00:00',\n               '2000-01-02 00:00:00', '2000-01-02 01:00:00',\n               '2000-01-02 02:00:00', '2000-01-02 03:00:00',\n               '2000-01-02 04:00:00', '2000-01-02 05:00:00',\n               '2000-01-02 06:00:00', '2000-01-02 07:00:00',\n               '2000-01-02 08:00:00', '2000-01-02 09:00:00',\n               '2000-01-02 10:00:00', '2000-01-02 11:00:00',\n               '2000-01-02 12:00:00', '2000-01-02 13:00:00',\n               '2000-01-02 14:00:00', '2000-01-02 15:00:00',\n               '2000-01-02 16:00:00', '2000-01-02 17:00:00',\n               '2000-01-02 18:00:00', '2000-01-02 19:00:00',\n               '2000-01-02 20:00:00', '2000-01-02 21:00:00',\n               '2000-01-02 22:00:00', '2000-01-02 23:00:00',\n               '2000-01-03 00:00:00', '2000-01-03 01:00:00',\n               '2000-01-03 02:00:00', '2000-01-03 03:00:00',\n               '2000-01-03 04:00:00', '2000-01-03 05:00:00',\n               '2000-01-03 06:00:00', '2000-01-03 07:00:00',\n               '2000-01-03 08:00:00', '2000-01-03 09:00:00',\n               '2000-01-03 10:00:00', '2000-01-03 11:00:00',\n               '2000-01-03 12:00:00', '2000-01-03 13:00:00',\n               '2000-01-03 14:00:00', '2000-01-03 15:00:00',\n               '2000-01-03 16:00:00', '2000-01-03 17:00:00',\n               '2000-01-03 18:00:00', '2000-01-03 19:00:00',\n               '2000-01-03 20:00:00', '2000-01-03 21:00:00',\n               '2000-01-03 22:00:00', '2000-01-03 23:00:00',\n               '2000-01-04 00:00:00', '2000-01-04 01:00:00',\n               '2000-01-04 02:00:00', '2000-01-04 03:00:00',\n               '2000-01-04 04:00:00', '2000-01-04 05:00:00',\n               '2000-01-04 06:00:00', '2000-01-04 07:00:00',\n               '2000-01-04 08:00:00', '2000-01-04 09:00:00',\n               '2000-01-04 10:00:00', '2000-01-04 11:00:00',\n               '2000-01-04 12:00:00', '2000-01-04 13:00:00',\n               '2000-01-04 14:00:00', '2000-01-04 15:00:00',\n               '2000-01-04 16:00:00', '2000-01-04 17:00:00',\n               '2000-01-04 18:00:00', '2000-01-04 19:00:00',\n               '2000-01-04 20:00:00', '2000-01-04 21:00:00',\n               '2000-01-04 22:00:00', '2000-01-04 23:00:00',\n               '2000-01-05 00:00:00'],\n              dtype='datetime64[ns]', freq='H')"
     },
     "metadata": {}
    }
   ]
  },
  {
   "cell_type": "markdown",
   "source": "Ensuite on va créer un DataFrame vide. On va juste lui indiquer que l'index est la plage de date qu'on a créé",
   "metadata": {
    "tags": [],
    "cell_id": "00004-8983eff2-f598-4d5d-bf0d-c1107e780c39",
    "deepnote_cell_type": "markdown"
   }
  },
  {
   "cell_type": "code",
   "metadata": {
    "tags": [],
    "cell_id": "00012-acc1bd9c-c496-4b9e-83f8-6dc4df02b58b",
    "deepnote_to_be_reexecuted": false,
    "source_hash": "ffbe9310",
    "execution_start": 1623056113645,
    "execution_millis": 57,
    "deepnote_cell_type": "code"
   },
   "source": "df = pd.DataFrame(index=date_range)\ndf",
   "execution_count": null,
   "outputs": [
    {
     "output_type": "execute_result",
     "execution_count": 7,
     "data": {
      "application/vnd.deepnote.dataframe.v2+json": {
       "row_count": 97,
       "column_count": 0,
       "columns": [
        {
         "name": "_deepnote_index_column",
         "dtype": "datetime64[ns]"
        }
       ],
       "rows_top": [
        {
         "_deepnote_index_column": "2000-01-01T00:00:00.000000"
        },
        {
         "_deepnote_index_column": "2000-01-01T01:00:00.000000"
        },
        {
         "_deepnote_index_column": "2000-01-01T02:00:00.000000"
        },
        {
         "_deepnote_index_column": "2000-01-01T03:00:00.000000"
        },
        {
         "_deepnote_index_column": "2000-01-01T04:00:00.000000"
        },
        {
         "_deepnote_index_column": "2000-01-01T05:00:00.000000"
        },
        {
         "_deepnote_index_column": "2000-01-01T06:00:00.000000"
        },
        {
         "_deepnote_index_column": "2000-01-01T07:00:00.000000"
        },
        {
         "_deepnote_index_column": "2000-01-01T08:00:00.000000"
        },
        {
         "_deepnote_index_column": "2000-01-01T09:00:00.000000"
        },
        {
         "_deepnote_index_column": "2000-01-01T10:00:00.000000"
        },
        {
         "_deepnote_index_column": "2000-01-01T11:00:00.000000"
        },
        {
         "_deepnote_index_column": "2000-01-01T12:00:00.000000"
        },
        {
         "_deepnote_index_column": "2000-01-01T13:00:00.000000"
        },
        {
         "_deepnote_index_column": "2000-01-01T14:00:00.000000"
        },
        {
         "_deepnote_index_column": "2000-01-01T15:00:00.000000"
        },
        {
         "_deepnote_index_column": "2000-01-01T16:00:00.000000"
        },
        {
         "_deepnote_index_column": "2000-01-01T17:00:00.000000"
        },
        {
         "_deepnote_index_column": "2000-01-01T18:00:00.000000"
        },
        {
         "_deepnote_index_column": "2000-01-01T19:00:00.000000"
        },
        {
         "_deepnote_index_column": "2000-01-01T20:00:00.000000"
        },
        {
         "_deepnote_index_column": "2000-01-01T21:00:00.000000"
        },
        {
         "_deepnote_index_column": "2000-01-01T22:00:00.000000"
        },
        {
         "_deepnote_index_column": "2000-01-01T23:00:00.000000"
        },
        {
         "_deepnote_index_column": "2000-01-02T00:00:00.000000"
        },
        {
         "_deepnote_index_column": "2000-01-02T01:00:00.000000"
        },
        {
         "_deepnote_index_column": "2000-01-02T02:00:00.000000"
        },
        {
         "_deepnote_index_column": "2000-01-02T03:00:00.000000"
        },
        {
         "_deepnote_index_column": "2000-01-02T04:00:00.000000"
        },
        {
         "_deepnote_index_column": "2000-01-02T05:00:00.000000"
        },
        {
         "_deepnote_index_column": "2000-01-02T06:00:00.000000"
        },
        {
         "_deepnote_index_column": "2000-01-02T07:00:00.000000"
        },
        {
         "_deepnote_index_column": "2000-01-02T08:00:00.000000"
        },
        {
         "_deepnote_index_column": "2000-01-02T09:00:00.000000"
        },
        {
         "_deepnote_index_column": "2000-01-02T10:00:00.000000"
        },
        {
         "_deepnote_index_column": "2000-01-02T11:00:00.000000"
        },
        {
         "_deepnote_index_column": "2000-01-02T12:00:00.000000"
        },
        {
         "_deepnote_index_column": "2000-01-02T13:00:00.000000"
        },
        {
         "_deepnote_index_column": "2000-01-02T14:00:00.000000"
        },
        {
         "_deepnote_index_column": "2000-01-02T15:00:00.000000"
        },
        {
         "_deepnote_index_column": "2000-01-02T16:00:00.000000"
        },
        {
         "_deepnote_index_column": "2000-01-02T17:00:00.000000"
        },
        {
         "_deepnote_index_column": "2000-01-02T18:00:00.000000"
        },
        {
         "_deepnote_index_column": "2000-01-02T19:00:00.000000"
        },
        {
         "_deepnote_index_column": "2000-01-02T20:00:00.000000"
        },
        {
         "_deepnote_index_column": "2000-01-02T21:00:00.000000"
        },
        {
         "_deepnote_index_column": "2000-01-02T22:00:00.000000"
        },
        {
         "_deepnote_index_column": "2000-01-02T23:00:00.000000"
        },
        {
         "_deepnote_index_column": "2000-01-03T00:00:00.000000"
        },
        {
         "_deepnote_index_column": "2000-01-03T01:00:00.000000"
        },
        {
         "_deepnote_index_column": "2000-01-03T02:00:00.000000"
        },
        {
         "_deepnote_index_column": "2000-01-03T03:00:00.000000"
        },
        {
         "_deepnote_index_column": "2000-01-03T04:00:00.000000"
        },
        {
         "_deepnote_index_column": "2000-01-03T05:00:00.000000"
        },
        {
         "_deepnote_index_column": "2000-01-03T06:00:00.000000"
        },
        {
         "_deepnote_index_column": "2000-01-03T07:00:00.000000"
        },
        {
         "_deepnote_index_column": "2000-01-03T08:00:00.000000"
        },
        {
         "_deepnote_index_column": "2000-01-03T09:00:00.000000"
        },
        {
         "_deepnote_index_column": "2000-01-03T10:00:00.000000"
        },
        {
         "_deepnote_index_column": "2000-01-03T11:00:00.000000"
        },
        {
         "_deepnote_index_column": "2000-01-03T12:00:00.000000"
        },
        {
         "_deepnote_index_column": "2000-01-03T13:00:00.000000"
        },
        {
         "_deepnote_index_column": "2000-01-03T14:00:00.000000"
        },
        {
         "_deepnote_index_column": "2000-01-03T15:00:00.000000"
        },
        {
         "_deepnote_index_column": "2000-01-03T16:00:00.000000"
        },
        {
         "_deepnote_index_column": "2000-01-03T17:00:00.000000"
        },
        {
         "_deepnote_index_column": "2000-01-03T18:00:00.000000"
        },
        {
         "_deepnote_index_column": "2000-01-03T19:00:00.000000"
        },
        {
         "_deepnote_index_column": "2000-01-03T20:00:00.000000"
        },
        {
         "_deepnote_index_column": "2000-01-03T21:00:00.000000"
        },
        {
         "_deepnote_index_column": "2000-01-03T22:00:00.000000"
        },
        {
         "_deepnote_index_column": "2000-01-03T23:00:00.000000"
        },
        {
         "_deepnote_index_column": "2000-01-04T00:00:00.000000"
        },
        {
         "_deepnote_index_column": "2000-01-04T01:00:00.000000"
        },
        {
         "_deepnote_index_column": "2000-01-04T02:00:00.000000"
        },
        {
         "_deepnote_index_column": "2000-01-04T03:00:00.000000"
        },
        {
         "_deepnote_index_column": "2000-01-04T04:00:00.000000"
        },
        {
         "_deepnote_index_column": "2000-01-04T05:00:00.000000"
        },
        {
         "_deepnote_index_column": "2000-01-04T06:00:00.000000"
        },
        {
         "_deepnote_index_column": "2000-01-04T07:00:00.000000"
        },
        {
         "_deepnote_index_column": "2000-01-04T08:00:00.000000"
        },
        {
         "_deepnote_index_column": "2000-01-04T09:00:00.000000"
        },
        {
         "_deepnote_index_column": "2000-01-04T10:00:00.000000"
        },
        {
         "_deepnote_index_column": "2000-01-04T11:00:00.000000"
        },
        {
         "_deepnote_index_column": "2000-01-04T12:00:00.000000"
        },
        {
         "_deepnote_index_column": "2000-01-04T13:00:00.000000"
        },
        {
         "_deepnote_index_column": "2000-01-04T14:00:00.000000"
        },
        {
         "_deepnote_index_column": "2000-01-04T15:00:00.000000"
        },
        {
         "_deepnote_index_column": "2000-01-04T16:00:00.000000"
        },
        {
         "_deepnote_index_column": "2000-01-04T17:00:00.000000"
        },
        {
         "_deepnote_index_column": "2000-01-04T18:00:00.000000"
        },
        {
         "_deepnote_index_column": "2000-01-04T19:00:00.000000"
        },
        {
         "_deepnote_index_column": "2000-01-04T20:00:00.000000"
        },
        {
         "_deepnote_index_column": "2000-01-04T21:00:00.000000"
        },
        {
         "_deepnote_index_column": "2000-01-04T22:00:00.000000"
        },
        {
         "_deepnote_index_column": "2000-01-04T23:00:00.000000"
        },
        {
         "_deepnote_index_column": "2000-01-05T00:00:00.000000"
        }
       ],
       "rows_bottom": null
      },
      "text/plain": "Empty DataFrame\nColumns: []\nIndex: [2000-01-01 00:00:00, 2000-01-01 01:00:00, 2000-01-01 02:00:00, 2000-01-01 03:00:00, 2000-01-01 04:00:00, 2000-01-01 05:00:00, 2000-01-01 06:00:00, 2000-01-01 07:00:00, 2000-01-01 08:00:00, 2000-01-01 09:00:00, 2000-01-01 10:00:00, 2000-01-01 11:00:00, 2000-01-01 12:00:00, 2000-01-01 13:00:00, 2000-01-01 14:00:00, 2000-01-01 15:00:00, 2000-01-01 16:00:00, 2000-01-01 17:00:00, 2000-01-01 18:00:00, 2000-01-01 19:00:00, 2000-01-01 20:00:00, 2000-01-01 21:00:00, 2000-01-01 22:00:00, 2000-01-01 23:00:00, 2000-01-02 00:00:00, 2000-01-02 01:00:00, 2000-01-02 02:00:00, 2000-01-02 03:00:00, 2000-01-02 04:00:00, 2000-01-02 05:00:00, 2000-01-02 06:00:00, 2000-01-02 07:00:00, 2000-01-02 08:00:00, 2000-01-02 09:00:00, 2000-01-02 10:00:00, 2000-01-02 11:00:00, 2000-01-02 12:00:00, 2000-01-02 13:00:00, 2000-01-02 14:00:00, 2000-01-02 15:00:00, 2000-01-02 16:00:00, 2000-01-02 17:00:00, 2000-01-02 18:00:00, 2000-01-02 19:00:00, 2000-01-02 20:00:00, 2000-01-02 21:00:00, 2000-01-02 22:00:00, 2000-01-02 23:00:00, 2000-01-03 00:00:00, 2000-01-03 01:00:00, 2000-01-03 02:00:00, 2000-01-03 03:00:00, 2000-01-03 04:00:00, 2000-01-03 05:00:00, 2000-01-03 06:00:00, 2000-01-03 07:00:00, 2000-01-03 08:00:00, 2000-01-03 09:00:00, 2000-01-03 10:00:00, 2000-01-03 11:00:00, 2000-01-03 12:00:00, 2000-01-03 13:00:00, 2000-01-03 14:00:00, 2000-01-03 15:00:00, 2000-01-03 16:00:00, 2000-01-03 17:00:00, 2000-01-03 18:00:00, 2000-01-03 19:00:00, 2000-01-03 20:00:00, 2000-01-03 21:00:00, 2000-01-03 22:00:00, 2000-01-03 23:00:00, 2000-01-04 00:00:00, 2000-01-04 01:00:00, 2000-01-04 02:00:00, 2000-01-04 03:00:00, 2000-01-04 04:00:00, 2000-01-04 05:00:00, 2000-01-04 06:00:00, 2000-01-04 07:00:00, 2000-01-04 08:00:00, 2000-01-04 09:00:00, 2000-01-04 10:00:00, 2000-01-04 11:00:00, 2000-01-04 12:00:00, 2000-01-04 13:00:00, 2000-01-04 14:00:00, 2000-01-04 15:00:00, 2000-01-04 16:00:00, 2000-01-04 17:00:00, 2000-01-04 18:00:00, 2000-01-04 19:00:00, 2000-01-04 20:00:00, 2000-01-04 21:00:00, 2000-01-04 22:00:00, 2000-01-04 23:00:00, 2000-01-05 00:00:00]\n\n[97 rows x 0 columns]",
      "text/html": "<div>\n<style scoped>\n    .dataframe tbody tr th:only-of-type {\n        vertical-align: middle;\n    }\n\n    .dataframe tbody tr th {\n        vertical-align: top;\n    }\n\n    .dataframe thead th {\n        text-align: right;\n    }\n</style>\n<table border=\"1\" class=\"dataframe\">\n  <thead>\n    <tr style=\"text-align: right;\">\n      <th></th>\n    </tr>\n  </thead>\n  <tbody>\n    <tr>\n      <th>2000-01-01 00:00:00</th>\n    </tr>\n    <tr>\n      <th>2000-01-01 01:00:00</th>\n    </tr>\n    <tr>\n      <th>2000-01-01 02:00:00</th>\n    </tr>\n    <tr>\n      <th>2000-01-01 03:00:00</th>\n    </tr>\n    <tr>\n      <th>2000-01-01 04:00:00</th>\n    </tr>\n    <tr>\n      <th>...</th>\n    </tr>\n    <tr>\n      <th>2000-01-04 20:00:00</th>\n    </tr>\n    <tr>\n      <th>2000-01-04 21:00:00</th>\n    </tr>\n    <tr>\n      <th>2000-01-04 22:00:00</th>\n    </tr>\n    <tr>\n      <th>2000-01-04 23:00:00</th>\n    </tr>\n    <tr>\n      <th>2000-01-05 00:00:00</th>\n    </tr>\n  </tbody>\n</table>\n<p>97 rows × 0 columns</p>\n</div>"
     },
     "metadata": {}
    }
   ]
  },
  {
   "cell_type": "markdown",
   "source": "On va ensuite créer des valeurs aléatoires pour chaque date ",
   "metadata": {
    "tags": [],
    "cell_id": "00006-f8c33ac6-f588-46f0-916f-4a5c7d304cc3",
    "deepnote_cell_type": "markdown"
   }
  },
  {
   "cell_type": "code",
   "metadata": {
    "tags": [],
    "cell_id": "00013-2d4a987f-0e6f-43c8-ba26-63a343ab7c07",
    "deepnote_to_be_reexecuted": false,
    "source_hash": "1a49c2a2",
    "execution_start": 1623056115535,
    "execution_millis": 0,
    "deepnote_cell_type": "code"
   },
   "source": "import numpy as np\ndf['temperature'] = 30 + 3 * np.random.randn(len(df))",
   "execution_count": null,
   "outputs": []
  },
  {
   "cell_type": "code",
   "metadata": {
    "tags": [],
    "cell_id": "00014-19ae4cf3-e7cb-4749-8c3e-4168b0ce35ec",
    "deepnote_to_be_reexecuted": false,
    "source_hash": "f804c160",
    "execution_start": 1623056118445,
    "execution_millis": 40,
    "deepnote_cell_type": "code"
   },
   "source": "df",
   "execution_count": null,
   "outputs": [
    {
     "output_type": "execute_result",
     "execution_count": 9,
     "data": {
      "application/vnd.deepnote.dataframe.v2+json": {
       "row_count": 97,
       "column_count": 1,
       "columns": [
        {
         "name": "temperature",
         "dtype": "float64",
         "stats": {
          "unique_count": 97,
          "nan_count": 0,
          "min": "22.489418800356425",
          "max": "36.87151293926077",
          "histogram": [
           {
            "bin_start": 22.489418800356425,
            "bin_end": 23.92762821424686,
            "count": 3
           },
           {
            "bin_start": 23.92762821424686,
            "bin_end": 25.365837628137292,
            "count": 0
           },
           {
            "bin_start": 25.365837628137292,
            "bin_end": 26.804047042027726,
            "count": 8
           },
           {
            "bin_start": 26.804047042027726,
            "bin_end": 28.242256455918163,
            "count": 9
           },
           {
            "bin_start": 28.242256455918163,
            "bin_end": 29.680465869808597,
            "count": 21
           },
           {
            "bin_start": 29.680465869808597,
            "bin_end": 31.11867528369903,
            "count": 26
           },
           {
            "bin_start": 31.11867528369903,
            "bin_end": 32.55688469758947,
            "count": 17
           },
           {
            "bin_start": 32.55688469758947,
            "bin_end": 33.9950941114799,
            "count": 8
           },
           {
            "bin_start": 33.9950941114799,
            "bin_end": 35.433303525370334,
            "count": 1
           },
           {
            "bin_start": 35.433303525370334,
            "bin_end": 36.87151293926077,
            "count": 4
           }
          ]
         }
        },
        {
         "name": "_deepnote_index_column",
         "dtype": "datetime64[ns]"
        }
       ],
       "rows_top": [
        {
         "temperature": 29.7295605628424,
         "_deepnote_index_column": "2000-01-01T00:00:00.000000"
        },
        {
         "temperature": 26.779713414839573,
         "_deepnote_index_column": "2000-01-01T01:00:00.000000"
        },
        {
         "temperature": 29.06809585540501,
         "_deepnote_index_column": "2000-01-01T02:00:00.000000"
        },
        {
         "temperature": 28.9322703351115,
         "_deepnote_index_column": "2000-01-01T03:00:00.000000"
        },
        {
         "temperature": 30.664499926460486,
         "_deepnote_index_column": "2000-01-01T04:00:00.000000"
        },
        {
         "temperature": 30.021478984187613,
         "_deepnote_index_column": "2000-01-01T05:00:00.000000"
        },
        {
         "temperature": 36.87151293926077,
         "_deepnote_index_column": "2000-01-01T06:00:00.000000"
        },
        {
         "temperature": 30.373193904712853,
         "_deepnote_index_column": "2000-01-01T07:00:00.000000"
        },
        {
         "temperature": 30.27602777304515,
         "_deepnote_index_column": "2000-01-01T08:00:00.000000"
        },
        {
         "temperature": 31.86795807212706,
         "_deepnote_index_column": "2000-01-01T09:00:00.000000"
        },
        {
         "temperature": 29.100472623856138,
         "_deepnote_index_column": "2000-01-01T10:00:00.000000"
        },
        {
         "temperature": 31.815901854348724,
         "_deepnote_index_column": "2000-01-01T11:00:00.000000"
        },
        {
         "temperature": 30.459727037332506,
         "_deepnote_index_column": "2000-01-01T12:00:00.000000"
        },
        {
         "temperature": 25.553472746914508,
         "_deepnote_index_column": "2000-01-01T13:00:00.000000"
        },
        {
         "temperature": 29.776686393221013,
         "_deepnote_index_column": "2000-01-01T14:00:00.000000"
        },
        {
         "temperature": 27.150260761360805,
         "_deepnote_index_column": "2000-01-01T15:00:00.000000"
        },
        {
         "temperature": 34.29095616912025,
         "_deepnote_index_column": "2000-01-01T16:00:00.000000"
        },
        {
         "temperature": 26.733940411616423,
         "_deepnote_index_column": "2000-01-01T17:00:00.000000"
        },
        {
         "temperature": 30.52573025506266,
         "_deepnote_index_column": "2000-01-01T18:00:00.000000"
        },
        {
         "temperature": 30.705336673579026,
         "_deepnote_index_column": "2000-01-01T19:00:00.000000"
        },
        {
         "temperature": 30.698973569711953,
         "_deepnote_index_column": "2000-01-01T20:00:00.000000"
        },
        {
         "temperature": 30.89115636208523,
         "_deepnote_index_column": "2000-01-01T21:00:00.000000"
        },
        {
         "temperature": 31.344339534688704,
         "_deepnote_index_column": "2000-01-01T22:00:00.000000"
        },
        {
         "temperature": 33.97729068117859,
         "_deepnote_index_column": "2000-01-01T23:00:00.000000"
        },
        {
         "temperature": 33.52777880920845,
         "_deepnote_index_column": "2000-01-02T00:00:00.000000"
        },
        {
         "temperature": 32.24278256172145,
         "_deepnote_index_column": "2000-01-02T01:00:00.000000"
        },
        {
         "temperature": 28.582842202324166,
         "_deepnote_index_column": "2000-01-02T02:00:00.000000"
        },
        {
         "temperature": 31.54390005318508,
         "_deepnote_index_column": "2000-01-02T03:00:00.000000"
        },
        {
         "temperature": 29.596864412768095,
         "_deepnote_index_column": "2000-01-02T04:00:00.000000"
        },
        {
         "temperature": 31.141263775134234,
         "_deepnote_index_column": "2000-01-02T05:00:00.000000"
        },
        {
         "temperature": 30.876770732441333,
         "_deepnote_index_column": "2000-01-02T06:00:00.000000"
        },
        {
         "temperature": 29.88214757656447,
         "_deepnote_index_column": "2000-01-02T07:00:00.000000"
        },
        {
         "temperature": 30.89822332807672,
         "_deepnote_index_column": "2000-01-02T08:00:00.000000"
        },
        {
         "temperature": 26.303013574840705,
         "_deepnote_index_column": "2000-01-02T09:00:00.000000"
        },
        {
         "temperature": 29.848987085317034,
         "_deepnote_index_column": "2000-01-02T10:00:00.000000"
        },
        {
         "temperature": 27.662002362413467,
         "_deepnote_index_column": "2000-01-02T11:00:00.000000"
        },
        {
         "temperature": 30.178669574181963,
         "_deepnote_index_column": "2000-01-02T12:00:00.000000"
        },
        {
         "temperature": 27.22627232732326,
         "_deepnote_index_column": "2000-01-02T13:00:00.000000"
        },
        {
         "temperature": 33.290620792994225,
         "_deepnote_index_column": "2000-01-02T14:00:00.000000"
        },
        {
         "temperature": 27.048221632679716,
         "_deepnote_index_column": "2000-01-02T15:00:00.000000"
        },
        {
         "temperature": 36.326415842815535,
         "_deepnote_index_column": "2000-01-02T16:00:00.000000"
        },
        {
         "temperature": 36.113942331638,
         "_deepnote_index_column": "2000-01-02T17:00:00.000000"
        },
        {
         "temperature": 26.949434865950003,
         "_deepnote_index_column": "2000-01-02T18:00:00.000000"
        },
        {
         "temperature": 26.002444636642497,
         "_deepnote_index_column": "2000-01-02T19:00:00.000000"
        },
        {
         "temperature": 31.171746685697403,
         "_deepnote_index_column": "2000-01-02T20:00:00.000000"
        },
        {
         "temperature": 28.647861028989865,
         "_deepnote_index_column": "2000-01-02T21:00:00.000000"
        },
        {
         "temperature": 31.4128086312345,
         "_deepnote_index_column": "2000-01-02T22:00:00.000000"
        },
        {
         "temperature": 29.329945705495305,
         "_deepnote_index_column": "2000-01-02T23:00:00.000000"
        },
        {
         "temperature": 29.37857895935638,
         "_deepnote_index_column": "2000-01-03T00:00:00.000000"
        },
        {
         "temperature": 29.75735901192343,
         "_deepnote_index_column": "2000-01-03T01:00:00.000000"
        },
        {
         "temperature": 31.927891232296346,
         "_deepnote_index_column": "2000-01-03T02:00:00.000000"
        },
        {
         "temperature": 31.382626696788694,
         "_deepnote_index_column": "2000-01-03T03:00:00.000000"
        },
        {
         "temperature": 33.55475819898348,
         "_deepnote_index_column": "2000-01-03T04:00:00.000000"
        },
        {
         "temperature": 23.333778188749726,
         "_deepnote_index_column": "2000-01-03T05:00:00.000000"
        },
        {
         "temperature": 29.106683369638258,
         "_deepnote_index_column": "2000-01-03T06:00:00.000000"
        },
        {
         "temperature": 29.446937636260785,
         "_deepnote_index_column": "2000-01-03T07:00:00.000000"
        },
        {
         "temperature": 32.030000729865336,
         "_deepnote_index_column": "2000-01-03T08:00:00.000000"
        },
        {
         "temperature": 30.460213045517037,
         "_deepnote_index_column": "2000-01-03T09:00:00.000000"
        },
        {
         "temperature": 29.147786331229494,
         "_deepnote_index_column": "2000-01-03T10:00:00.000000"
        },
        {
         "temperature": 28.272163738240913,
         "_deepnote_index_column": "2000-01-03T11:00:00.000000"
        },
        {
         "temperature": 27.38639095329411,
         "_deepnote_index_column": "2000-01-03T12:00:00.000000"
        },
        {
         "temperature": 27.731665450086705,
         "_deepnote_index_column": "2000-01-03T13:00:00.000000"
        },
        {
         "temperature": 23.57732976499936,
         "_deepnote_index_column": "2000-01-03T14:00:00.000000"
        },
        {
         "temperature": 29.769398059256833,
         "_deepnote_index_column": "2000-01-03T15:00:00.000000"
        },
        {
         "temperature": 31.173818850780133,
         "_deepnote_index_column": "2000-01-03T16:00:00.000000"
        },
        {
         "temperature": 22.489418800356425,
         "_deepnote_index_column": "2000-01-03T17:00:00.000000"
        },
        {
         "temperature": 31.3098530551498,
         "_deepnote_index_column": "2000-01-03T18:00:00.000000"
        },
        {
         "temperature": 29.80948912334607,
         "_deepnote_index_column": "2000-01-03T19:00:00.000000"
        },
        {
         "temperature": 30.56264665055336,
         "_deepnote_index_column": "2000-01-03T20:00:00.000000"
        },
        {
         "temperature": 31.43631257325291,
         "_deepnote_index_column": "2000-01-03T21:00:00.000000"
        },
        {
         "temperature": 28.277060682001064,
         "_deepnote_index_column": "2000-01-03T22:00:00.000000"
        },
        {
         "temperature": 31.89103478786908,
         "_deepnote_index_column": "2000-01-03T23:00:00.000000"
        },
        {
         "temperature": 28.614653156792702,
         "_deepnote_index_column": "2000-01-04T00:00:00.000000"
        },
        {
         "temperature": 28.937698226539798,
         "_deepnote_index_column": "2000-01-04T01:00:00.000000"
        },
        {
         "temperature": 32.65029374360545,
         "_deepnote_index_column": "2000-01-04T02:00:00.000000"
        },
        {
         "temperature": 31.734547832102034,
         "_deepnote_index_column": "2000-01-04T03:00:00.000000"
        },
        {
         "temperature": 33.72283006085851,
         "_deepnote_index_column": "2000-01-04T04:00:00.000000"
        },
        {
         "temperature": 29.470537893117474,
         "_deepnote_index_column": "2000-01-04T05:00:00.000000"
        },
        {
         "temperature": 29.54330718661486,
         "_deepnote_index_column": "2000-01-04T06:00:00.000000"
        },
        {
         "temperature": 30.435013752155925,
         "_deepnote_index_column": "2000-01-04T07:00:00.000000"
        },
        {
         "temperature": 25.960872364126093,
         "_deepnote_index_column": "2000-01-04T08:00:00.000000"
        },
        {
         "temperature": 32.74259856677271,
         "_deepnote_index_column": "2000-01-04T09:00:00.000000"
        },
        {
         "temperature": 30.951678419024947,
         "_deepnote_index_column": "2000-01-04T10:00:00.000000"
        },
        {
         "temperature": 25.62615251694444,
         "_deepnote_index_column": "2000-01-04T11:00:00.000000"
        },
        {
         "temperature": 36.611329268581635,
         "_deepnote_index_column": "2000-01-04T12:00:00.000000"
        },
        {
         "temperature": 28.30549657110914,
         "_deepnote_index_column": "2000-01-04T13:00:00.000000"
        },
        {
         "temperature": 30.52352624350874,
         "_deepnote_index_column": "2000-01-04T14:00:00.000000"
        },
        {
         "temperature": 33.85904134708826,
         "_deepnote_index_column": "2000-01-04T15:00:00.000000"
        },
        {
         "temperature": 28.898127040549156,
         "_deepnote_index_column": "2000-01-04T16:00:00.000000"
        },
        {
         "temperature": 29.38891067414801,
         "_deepnote_index_column": "2000-01-04T17:00:00.000000"
        },
        {
         "temperature": 25.501586223950284,
         "_deepnote_index_column": "2000-01-04T18:00:00.000000"
        },
        {
         "temperature": 30.03170448789844,
         "_deepnote_index_column": "2000-01-04T19:00:00.000000"
        },
        {
         "temperature": 27.251123481963702,
         "_deepnote_index_column": "2000-01-04T20:00:00.000000"
        },
        {
         "temperature": 31.04116445775111,
         "_deepnote_index_column": "2000-01-04T21:00:00.000000"
        },
        {
         "temperature": 28.766824897374562,
         "_deepnote_index_column": "2000-01-04T22:00:00.000000"
        },
        {
         "temperature": 28.186937179723888,
         "_deepnote_index_column": "2000-01-04T23:00:00.000000"
        },
        {
         "temperature": 31.2337586403356,
         "_deepnote_index_column": "2000-01-05T00:00:00.000000"
        }
       ],
       "rows_bottom": null
      },
      "text/plain": "                     temperature\n2000-01-01 00:00:00    29.729561\n2000-01-01 01:00:00    26.779713\n2000-01-01 02:00:00    29.068096\n2000-01-01 03:00:00    28.932270\n2000-01-01 04:00:00    30.664500\n...                          ...\n2000-01-04 20:00:00    27.251123\n2000-01-04 21:00:00    31.041164\n2000-01-04 22:00:00    28.766825\n2000-01-04 23:00:00    28.186937\n2000-01-05 00:00:00    31.233759\n\n[97 rows x 1 columns]",
      "text/html": "<div>\n<style scoped>\n    .dataframe tbody tr th:only-of-type {\n        vertical-align: middle;\n    }\n\n    .dataframe tbody tr th {\n        vertical-align: top;\n    }\n\n    .dataframe thead th {\n        text-align: right;\n    }\n</style>\n<table border=\"1\" class=\"dataframe\">\n  <thead>\n    <tr style=\"text-align: right;\">\n      <th></th>\n      <th>temperature</th>\n    </tr>\n  </thead>\n  <tbody>\n    <tr>\n      <th>2000-01-01 00:00:00</th>\n      <td>29.729561</td>\n    </tr>\n    <tr>\n      <th>2000-01-01 01:00:00</th>\n      <td>26.779713</td>\n    </tr>\n    <tr>\n      <th>2000-01-01 02:00:00</th>\n      <td>29.068096</td>\n    </tr>\n    <tr>\n      <th>2000-01-01 03:00:00</th>\n      <td>28.932270</td>\n    </tr>\n    <tr>\n      <th>2000-01-01 04:00:00</th>\n      <td>30.664500</td>\n    </tr>\n    <tr>\n      <th>...</th>\n      <td>...</td>\n    </tr>\n    <tr>\n      <th>2000-01-04 20:00:00</th>\n      <td>27.251123</td>\n    </tr>\n    <tr>\n      <th>2000-01-04 21:00:00</th>\n      <td>31.041164</td>\n    </tr>\n    <tr>\n      <th>2000-01-04 22:00:00</th>\n      <td>28.766825</td>\n    </tr>\n    <tr>\n      <th>2000-01-04 23:00:00</th>\n      <td>28.186937</td>\n    </tr>\n    <tr>\n      <th>2000-01-05 00:00:00</th>\n      <td>31.233759</td>\n    </tr>\n  </tbody>\n</table>\n<p>97 rows × 1 columns</p>\n</div>"
     },
     "metadata": {}
    }
   ]
  },
  {
   "cell_type": "markdown",
   "source": "Avoir un index qui soit une date est intéressant car on va pouvoir faire des filtration par date",
   "metadata": {
    "tags": [],
    "cell_id": "00009-9254114e-98d2-45a0-8bc3-8c5640d8ef07",
    "deepnote_cell_type": "markdown"
   }
  },
  {
   "cell_type": "code",
   "metadata": {
    "tags": [],
    "cell_id": "00015-0746589c-4c40-41fc-a04c-bb744159bf37",
    "deepnote_cell_type": "code"
   },
   "source": "",
   "execution_count": null,
   "outputs": []
  },
  {
   "cell_type": "markdown",
   "source": "<a style='text-decoration:none;line-height:16px;display:flex;color:#5B5B62;padding:10px;justify-content:end;' href='https://deepnote.com?utm_source=created-in-deepnote-cell&projectId=25ad01f7-ec4b-4ac8-bce6-a3745ef02c96' target=\"_blank\">\n<img alt='Created in deepnote.com' style='display:inline;max-height:16px;margin:0px;margin-right:7.5px;' src='data:image/svg+xml;base64,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' > </img>\nCreated in <span style='font-weight:600;margin-left:4px;'>Deepnote</span></a>",
   "metadata": {
    "tags": [],
    "created_in_deepnote_cell": true,
    "deepnote_cell_type": "markdown"
   }
  }
 ],
 "nbformat": 4,
 "nbformat_minor": 2,
 "metadata": {
  "orig_nbformat": 2,
  "deepnote_notebook_id": "b3ae10a6-d14f-4d1a-8166-9b1983cb22a1",
  "deepnote_execution_queue": [],
  "deepnote": {}
 }
}