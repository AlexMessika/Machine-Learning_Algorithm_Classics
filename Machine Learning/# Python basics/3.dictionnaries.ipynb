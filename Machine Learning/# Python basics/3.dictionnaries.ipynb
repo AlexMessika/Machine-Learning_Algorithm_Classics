{
 "cells": [
  {
   "cell_type": "code",
   "metadata": {
    "tags": [],
    "cell_id": "00000-7265a91c-b1ea-4aad-abc8-53f60da4ccf7",
    "deepnote_to_be_reexecuted": false,
    "source_hash": "fe3eedd9",
    "execution_start": 1622808423199,
    "execution_millis": 16,
    "deepnote_cell_type": "code"
   },
   "source": "# dictionnaries = hashmap \n\n# a container which can store several values but the index of each value is not an umber but a string\n\n\ndata = {\n    'age': 22, #the index of the value 22 is 'age'\n}\n\ndata['age'] ",
   "execution_count": null,
   "outputs": [
    {
     "output_type": "execute_result",
     "execution_count": 1,
     "data": {
      "text/plain": "22"
     },
     "metadata": {}
    }
   ]
  },
  {
   "cell_type": "code",
   "metadata": {
    "tags": [],
    "cell_id": "00001-9154a200-6a2a-46da-aaae-f39a562dbfc5",
    "deepnote_to_be_reexecuted": false,
    "source_hash": "d18a4bd5",
    "execution_start": 1622808460114,
    "execution_millis": 13,
    "deepnote_cell_type": "code"
   },
   "source": "data['new_value'] = 'hello new data'\n\ndata['inside_dict'] = {\n    'a': 2\n}\n\ndata",
   "execution_count": null,
   "outputs": [
    {
     "output_type": "execute_result",
     "execution_count": 2,
     "data": {
      "text/plain": "{'age': 22, 'new_value': 'hello new data', 'inside_dict': {'a': 2}}"
     },
     "metadata": {}
    }
   ]
  },
  {
   "cell_type": "code",
   "metadata": {
    "tags": [],
    "cell_id": "00002-d1788c51-fc41-45c1-b63d-aa2bdb54c7bd",
    "deepnote_to_be_reexecuted": false,
    "source_hash": "5ea8291c",
    "execution_start": 1622808526130,
    "execution_millis": 10,
    "deepnote_cell_type": "code"
   },
   "source": "for key in data:\n    print(key) # what will be displayed here ? the key or the value\n# a for loop loop over the keys",
   "execution_count": null,
   "outputs": [
    {
     "name": "stdout",
     "text": "age\nnew_value\ninside_dict\n",
     "output_type": "stream"
    }
   ]
  },
  {
   "cell_type": "code",
   "metadata": {
    "tags": [],
    "cell_id": "00003-50db479b-3cca-458d-9b30-d8633d764404",
    "deepnote_to_be_reexecuted": false,
    "source_hash": "b25c5d67",
    "execution_start": 1622808584346,
    "execution_millis": 10,
    "deepnote_cell_type": "code"
   },
   "source": "for key in data:\n    value = data[key]\n    print(value)",
   "execution_count": null,
   "outputs": [
    {
     "name": "stdout",
     "text": "22\nhello new data\n{'a': 2}\n",
     "output_type": "stream"
    }
   ]
  },
  {
   "cell_type": "code",
   "metadata": {
    "tags": [],
    "cell_id": "00004-1d4648c0-579a-4aaa-89b8-e440de2d64a7",
    "deepnote_to_be_reexecuted": false,
    "source_hash": "f1d0ec16",
    "execution_start": 1622808597913,
    "execution_millis": 9,
    "deepnote_cell_type": "code"
   },
   "source": "for value in data.values():\n\n    print(value)",
   "execution_count": null,
   "outputs": [
    {
     "name": "stdout",
     "text": "22\nhello new data\n{'a': 2}\n",
     "output_type": "stream"
    }
   ]
  },
  {
   "cell_type": "code",
   "metadata": {
    "tags": [],
    "cell_id": "00005-2fdb2588-bb19-4b49-ac22-d7f6d7961c11",
    "deepnote_to_be_reexecuted": false,
    "source_hash": "f966d76a",
    "execution_start": 1622808618082,
    "execution_millis": 8,
    "deepnote_cell_type": "code"
   },
   "source": "for key, value in data.items():\n\n    print(key, value)",
   "execution_count": null,
   "outputs": [
    {
     "name": "stdout",
     "text": "age 22\nnew_value hello new data\ninside_dict {'a': 2}\n",
     "output_type": "stream"
    }
   ]
  },
  {
   "cell_type": "code",
   "metadata": {
    "tags": [],
    "cell_id": "00006-838298b6-8f7c-4e72-abd5-baec9ac67fb7",
    "deepnote_to_be_reexecuted": false,
    "source_hash": "d7977ae5",
    "execution_start": 1622808645179,
    "execution_millis": 11,
    "deepnote_cell_type": "code"
   },
   "source": "data['age'] = 5555\ndata",
   "execution_count": null,
   "outputs": [
    {
     "output_type": "execute_result",
     "execution_count": 8,
     "data": {
      "text/plain": "{'age': 5555, 'new_value': 'hello new data', 'inside_dict': {'a': 2}}"
     },
     "metadata": {}
    }
   ]
  },
  {
   "cell_type": "code",
   "metadata": {
    "tags": [],
    "cell_id": "00007-1dcedd91-a8c8-4e42-b3b9-8c94150f4fab",
    "deepnote_to_be_reexecuted": false,
    "source_hash": "79f2347e",
    "execution_start": 1622808669542,
    "execution_millis": 17,
    "deepnote_cell_type": "code"
   },
   "source": "del data['age'] # delete a key and its associated value\ndata",
   "execution_count": null,
   "outputs": [
    {
     "output_type": "execute_result",
     "execution_count": 9,
     "data": {
      "text/plain": "{'new_value': 'hello new data', 'inside_dict': {'a': 2}}"
     },
     "metadata": {}
    }
   ]
  },
  {
   "cell_type": "code",
   "metadata": {
    "tags": [],
    "cell_id": "00008-a82e1457-82fd-449c-8d95-2316a5ed3cbc",
    "deepnote_to_be_reexecuted": false,
    "source_hash": "d46e57e",
    "execution_start": 1622808784319,
    "execution_millis": 2,
    "deepnote_cell_type": "code"
   },
   "source": "list_of_keys = ['a', 'b', 'c']\nlist_of_values= [1, 2]\n\ndata = dict(zip(list_of_keys, list_of_values))",
   "execution_count": null,
   "outputs": []
  },
  {
   "cell_type": "code",
   "metadata": {
    "tags": [],
    "cell_id": "00009-4fafaf53-c3cf-457b-96d8-b8a71d3874ee",
    "deepnote_to_be_reexecuted": false,
    "source_hash": "e6928a8f",
    "execution_start": 1622808785748,
    "execution_millis": 11,
    "deepnote_cell_type": "code"
   },
   "source": "data",
   "execution_count": null,
   "outputs": [
    {
     "output_type": "execute_result",
     "execution_count": 15,
     "data": {
      "text/plain": "{'a': 1, 'b': 2}"
     },
     "metadata": {}
    }
   ]
  },
  {
   "cell_type": "code",
   "metadata": {
    "tags": [],
    "cell_id": "00010-b86a4f5a-c099-4fb2-a315-1e8a3bac20e4",
    "deepnote_to_be_reexecuted": false,
    "source_hash": "c11df4c1",
    "execution_start": 1622808918875,
    "execution_millis": 14,
    "deepnote_cell_type": "code"
   },
   "source": "#if you check to check that a key is a in dictionnary\n\n\n#in: \n\ndata = {\n    'firstname': 'laurent'\n}\n\ndata\n",
   "execution_count": null,
   "outputs": [
    {
     "output_type": "execute_result",
     "execution_count": 16,
     "data": {
      "text/plain": "{'firstname': 'laurent'}"
     },
     "metadata": {}
    }
   ]
  },
  {
   "cell_type": "code",
   "metadata": {
    "tags": [],
    "cell_id": "00011-1e3a639a-a099-4b08-be0e-f518ec9a2bdd",
    "deepnote_to_be_reexecuted": false,
    "source_hash": "a18fe6b1",
    "execution_start": 1622808927656,
    "execution_millis": 21,
    "deepnote_cell_type": "code"
   },
   "source": "'firstname' in data",
   "execution_count": null,
   "outputs": [
    {
     "output_type": "execute_result",
     "execution_count": 17,
     "data": {
      "text/plain": "True"
     },
     "metadata": {}
    }
   ]
  },
  {
   "cell_type": "code",
   "metadata": {
    "tags": [],
    "cell_id": "00012-72660e12-ed10-4e33-bfff-741b5365aa18",
    "deepnote_to_be_reexecuted": false,
    "source_hash": "367b7386",
    "execution_start": 1622808934880,
    "execution_millis": 0,
    "deepnote_cell_type": "code"
   },
   "source": "'lastname' in data",
   "execution_count": null,
   "outputs": [
    {
     "output_type": "execute_result",
     "execution_count": 18,
     "data": {
      "text/plain": "False"
     },
     "metadata": {}
    }
   ]
  },
  {
   "cell_type": "code",
   "metadata": {
    "tags": [],
    "cell_id": "00013-c321fdab-28de-46c7-a9cc-1f8a9324a47c",
    "deepnote_to_be_reexecuted": false,
    "source_hash": "f8781578",
    "execution_start": 1622808962339,
    "execution_millis": 13,
    "deepnote_cell_type": "code"
   },
   "source": "\"cou\" in \"coucou\"",
   "execution_count": null,
   "outputs": [
    {
     "output_type": "execute_result",
     "execution_count": 19,
     "data": {
      "text/plain": "True"
     },
     "metadata": {}
    }
   ]
  },
  {
   "cell_type": "code",
   "metadata": {
    "tags": [],
    "cell_id": "00014-9d1a364e-56da-45f3-ae64-9e4e00f69a2d",
    "deepnote_to_be_reexecuted": false,
    "source_hash": "789d0e94",
    "execution_start": 1622808971342,
    "execution_millis": 13,
    "deepnote_cell_type": "code"
   },
   "source": "\"poulouet\" in \"sandwitch\"",
   "execution_count": null,
   "outputs": [
    {
     "output_type": "execute_result",
     "execution_count": 20,
     "data": {
      "text/plain": "False"
     },
     "metadata": {}
    }
   ]
  },
  {
   "cell_type": "code",
   "metadata": {
    "tags": [],
    "cell_id": "00015-4a4cbf63-c9eb-426a-886e-7fc06cbc1073",
    "deepnote_cell_type": "code"
   },
   "source": "",
   "execution_count": null,
   "outputs": []
  },
  {
   "cell_type": "markdown",
   "source": "<a style='text-decoration:none;line-height:16px;display:flex;color:#5B5B62;padding:10px;justify-content:end;' href='https://deepnote.com?utm_source=created-in-deepnote-cell&projectId=25ad01f7-ec4b-4ac8-bce6-a3745ef02c96' target=\"_blank\">\n<img alt='Created in deepnote.com' style='display:inline;max-height:16px;margin:0px;margin-right:7.5px;' src='data:image/svg+xml;base64,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' > </img>\nCreated in <span style='font-weight:600;margin-left:4px;'>Deepnote</span></a>",
   "metadata": {
    "tags": [],
    "created_in_deepnote_cell": true,
    "deepnote_cell_type": "markdown"
   }
  }
 ],
 "nbformat": 4,
 "nbformat_minor": 2,
 "metadata": {
  "orig_nbformat": 2,
  "deepnote": {
   "is_reactive": false
  },
  "deepnote_notebook_id": "7643f846-bf0e-4560-a879-3ce632607e36",
  "deepnote_execution_queue": []
 }
}