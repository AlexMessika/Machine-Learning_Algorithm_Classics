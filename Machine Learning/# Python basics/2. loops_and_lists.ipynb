{
 "cells": [
  {
   "cell_type": "code",
   "metadata": {
    "tags": [],
    "cell_id": "00000-caaae5a4-1286-4e2b-bf30-fe3162cb3171",
    "deepnote_to_be_reexecuted": false,
    "source_hash": "2e7ddaa9",
    "execution_start": 1622798396399,
    "execution_millis": 26,
    "deepnote_cell_type": "code"
   },
   "source": "# list definition \n\nl = [] #empty list\nprint(l)\nl.append(2)\nprint(l)\nl.append(50)\nprint(l)",
   "execution_count": null,
   "outputs": [
    {
     "name": "stdout",
     "text": "[]\n[2]\n[2, 50]\n",
     "output_type": "stream"
    }
   ]
  },
  {
   "cell_type": "code",
   "metadata": {
    "tags": [],
    "cell_id": "00001-d14e8d4b-78db-4aea-a823-49418ebf70a8",
    "deepnote_to_be_reexecuted": false,
    "source_hash": "d4c145c3",
    "execution_start": 1622798397403,
    "execution_millis": 2,
    "deepnote_cell_type": "code"
   },
   "source": "l2 = [11, 12, 44]",
   "execution_count": null,
   "outputs": []
  },
  {
   "cell_type": "code",
   "metadata": {
    "tags": [],
    "cell_id": "00002-a32fcf25-82d5-438c-b1af-c8974603492a",
    "deepnote_to_be_reexecuted": false,
    "source_hash": "7233b933",
    "execution_start": 1622798435646,
    "execution_millis": 22,
    "deepnote_cell_type": "code"
   },
   "source": "l + l2",
   "execution_count": null,
   "outputs": [
    {
     "output_type": "execute_result",
     "execution_count": 3,
     "data": {
      "text/plain": "[2, 50, 11, 12, 44]"
     },
     "metadata": {}
    }
   ]
  },
  {
   "cell_type": "code",
   "metadata": {
    "tags": [],
    "cell_id": "00003-2bef2417-6afb-4001-b5b8-5e7a0cc6667c",
    "deepnote_to_be_reexecuted": false,
    "source_hash": "a40285ad",
    "execution_start": 1622798520374,
    "execution_millis": 5,
    "deepnote_cell_type": "code"
   },
   "source": "#for loops\n#for loops on lists iterates directly on the values ! \nl2 = [11, 12, 44]\nfor v in l2:\n    print(v)",
   "execution_count": null,
   "outputs": [
    {
     "name": "stdout",
     "text": "11\n12\n44\n",
     "output_type": "stream"
    }
   ]
  },
  {
   "cell_type": "code",
   "metadata": {
    "tags": [],
    "cell_id": "00004-5f6f23f7-4984-4ad3-b3fb-10f52cc32e8e",
    "deepnote_to_be_reexecuted": false,
    "source_hash": "c9622d7",
    "execution_start": 1622798564784,
    "execution_millis": 9,
    "deepnote_cell_type": "code"
   },
   "source": "#if I want only the index : range and len function\nfor i in range(len(l2)):\n    print(i, l2[i])",
   "execution_count": null,
   "outputs": [
    {
     "name": "stdout",
     "text": "0 11\n1 12\n2 44\n",
     "output_type": "stream"
    }
   ]
  },
  {
   "cell_type": "code",
   "metadata": {
    "tags": [],
    "cell_id": "00005-1db0e56a-d0c1-47b1-86f4-41082a85109c",
    "deepnote_to_be_reexecuted": false,
    "source_hash": "d5aace25",
    "execution_start": 1622798599706,
    "execution_millis": 5,
    "deepnote_cell_type": "code"
   },
   "source": "#i want index and value at the same : enumerate\nfor i, v in enumerate(l2):\n    print(i, v)",
   "execution_count": null,
   "outputs": [
    {
     "name": "stdout",
     "text": "0 11\n1 12\n2 44\n",
     "output_type": "stream"
    }
   ]
  },
  {
   "cell_type": "code",
   "metadata": {
    "tags": [],
    "cell_id": "00006-c7107f58-0ea2-4c0e-8efe-e2e0421e26a1",
    "deepnote_cell_type": "code"
   },
   "source": "#we do not use while loops to iterate on lists\n",
   "execution_count": null,
   "outputs": []
  },
  {
   "cell_type": "code",
   "metadata": {
    "tags": [],
    "cell_id": "00007-27f4aa3b-ea21-465e-94b0-08c7071d49bc",
    "deepnote_to_be_reexecuted": false,
    "source_hash": "8c64d0e3",
    "execution_start": 1622798787331,
    "execution_millis": 4,
    "deepnote_cell_type": "code"
   },
   "source": "def multiplybytwo(values):\n    result = []\n\n    for v in values:\n        result.append(v * 2)\n    return result\n    \nl = [2, 2, 3]\nresult = multiplybytwo(l)\nprint(result)\nprint(l)\n\n",
   "execution_count": null,
   "outputs": [
    {
     "name": "stdout",
     "text": "[4, 4, 6]\n[2, 2, 3]\n",
     "output_type": "stream"
    }
   ]
  },
  {
   "cell_type": "code",
   "metadata": {
    "tags": [],
    "cell_id": "00008-69d2fc61-7d0c-42b7-8864-022bee22888b",
    "deepnote_to_be_reexecuted": false,
    "source_hash": "77630fa6",
    "execution_start": 1622798860950,
    "execution_millis": 12,
    "deepnote_cell_type": "code"
   },
   "source": "#list comprehension : a synthax to create list with for loops\n\nl = [1, -1, 3]\nresult = [v * 2 for v in l]\nprint(result)",
   "execution_count": null,
   "outputs": [
    {
     "name": "stdout",
     "text": "[2, -2, 6]\n",
     "output_type": "stream"
    }
   ]
  },
  {
   "cell_type": "code",
   "metadata": {
    "tags": [],
    "cell_id": "00009-5d780a7d-ae74-4903-b578-b114dd44a664",
    "deepnote_to_be_reexecuted": false,
    "source_hash": "b2db57f6",
    "execution_start": 1622798918130,
    "execution_millis": 10,
    "deepnote_cell_type": "code"
   },
   "source": "l = [1, -1, 3, -2, 10]\nresult = [v for v in l if v >= 0]\nprint(result)",
   "execution_count": null,
   "outputs": [
    {
     "name": "stdout",
     "text": "[1, 3, 10]\n",
     "output_type": "stream"
    }
   ]
  },
  {
   "cell_type": "code",
   "metadata": {
    "tags": [],
    "cell_id": "00010-13c89aa0-5441-423d-9552-6913b4a77bd3",
    "deepnote_to_be_reexecuted": false,
    "source_hash": "67b8be54",
    "execution_start": 1622799060481,
    "execution_millis": 6,
    "deepnote_cell_type": "code"
   },
   "source": "l = [10, 20, -10]\nresult = l.pop()\nprint(result, l)",
   "execution_count": null,
   "outputs": [
    {
     "name": "stdout",
     "text": "-10 [10, 20]\n",
     "output_type": "stream"
    }
   ]
  },
  {
   "cell_type": "code",
   "metadata": {
    "tags": [],
    "cell_id": "00011-d663f264-98b9-4700-b1ea-d3232506c547",
    "deepnote_to_be_reexecuted": false,
    "source_hash": "ca3ecd18",
    "execution_start": 1622799107594,
    "execution_millis": 7,
    "deepnote_cell_type": "code"
   },
   "source": "# indices\nl = [10, 20, -10, 22, 6]\nfirst_value = l[0]\nprint(first_value)",
   "execution_count": null,
   "outputs": [
    {
     "name": "stdout",
     "text": "10\n",
     "output_type": "stream"
    }
   ]
  },
  {
   "cell_type": "code",
   "metadata": {
    "tags": [],
    "cell_id": "00012-bfde1aa7-eeb8-4ae2-a063-afd93c56b909",
    "deepnote_to_be_reexecuted": false,
    "source_hash": "b34f4893",
    "execution_start": 1622799131023,
    "execution_millis": 6,
    "deepnote_cell_type": "code"
   },
   "source": "l[-1]",
   "execution_count": null,
   "outputs": [
    {
     "output_type": "execute_result",
     "execution_count": 18,
     "data": {
      "text/plain": "6"
     },
     "metadata": {}
    }
   ]
  },
  {
   "cell_type": "code",
   "metadata": {
    "tags": [],
    "cell_id": "00013-784a985a-ce48-43da-8d85-64e022e5fc84",
    "deepnote_to_be_reexecuted": false,
    "source_hash": "6e461ece",
    "execution_start": 1622799140878,
    "execution_millis": 7,
    "deepnote_cell_type": "code"
   },
   "source": "l[-2]",
   "execution_count": null,
   "outputs": [
    {
     "output_type": "execute_result",
     "execution_count": 19,
     "data": {
      "text/plain": "22"
     },
     "metadata": {}
    }
   ]
  },
  {
   "cell_type": "code",
   "metadata": {
    "tags": [],
    "cell_id": "00014-294c902d-1e1a-458f-b75b-535f431293e8",
    "deepnote_to_be_reexecuted": false,
    "source_hash": "51c78841",
    "execution_start": 1622799215228,
    "execution_millis": 8,
    "deepnote_cell_type": "code"
   },
   "source": "l = [10, 20, -10, 22, 6, 44, -66]\nl[1:4]\n",
   "execution_count": null,
   "outputs": [
    {
     "output_type": "execute_result",
     "execution_count": 22,
     "data": {
      "text/plain": "[20, -10, 22]"
     },
     "metadata": {}
    }
   ]
  },
  {
   "cell_type": "code",
   "metadata": {
    "tags": [],
    "cell_id": "00015-511a910f-13ab-40b2-a164-9077a6ae4420",
    "deepnote_to_be_reexecuted": false,
    "source_hash": "32b91148",
    "execution_start": 1622799217012,
    "execution_millis": 8,
    "deepnote_cell_type": "code"
   },
   "source": "l[1:]",
   "execution_count": null,
   "outputs": [
    {
     "output_type": "execute_result",
     "execution_count": 23,
     "data": {
      "text/plain": "[20, -10, 22, 6, 44, -66]"
     },
     "metadata": {}
    }
   ]
  },
  {
   "cell_type": "code",
   "metadata": {
    "tags": [],
    "cell_id": "00016-08a82a3c-70f8-4594-a671-e12e0991121c",
    "deepnote_to_be_reexecuted": false,
    "source_hash": "301b6720",
    "execution_start": 1622799223612,
    "execution_millis": 4,
    "deepnote_cell_type": "code"
   },
   "source": "l[:3]",
   "execution_count": null,
   "outputs": [
    {
     "output_type": "execute_result",
     "execution_count": 24,
     "data": {
      "text/plain": "[10, 20, -10]"
     },
     "metadata": {}
    }
   ]
  },
  {
   "cell_type": "code",
   "metadata": {
    "tags": [],
    "cell_id": "00017-fcc7db8e-a263-4ada-885f-326ee1d3a394",
    "deepnote_to_be_reexecuted": false,
    "source_hash": "dbbc5933",
    "execution_start": 1622800797023,
    "execution_millis": 6,
    "deepnote_cell_type": "code"
   },
   "source": "a = \"hello\"\ntype(a) == str",
   "execution_count": null,
   "outputs": [
    {
     "output_type": "execute_result",
     "execution_count": 28,
     "data": {
      "text/plain": "True"
     },
     "metadata": {}
    }
   ]
  },
  {
   "cell_type": "code",
   "metadata": {
    "tags": [],
    "cell_id": "00018-9956a879-dfed-42f2-ae27-1255b9fa5be4",
    "deepnote_to_be_reexecuted": false,
    "source_hash": "992469e8",
    "execution_start": 1622800822032,
    "execution_millis": 22,
    "deepnote_cell_type": "code"
   },
   "source": "isinstance(a, (str, int)) #has the variable the type str or int ?",
   "execution_count": null,
   "outputs": [
    {
     "output_type": "execute_result",
     "execution_count": 30,
     "data": {
      "text/plain": "True"
     },
     "metadata": {}
    }
   ]
  },
  {
   "cell_type": "code",
   "metadata": {
    "tags": [],
    "cell_id": "00019-cd0e9bec-d337-4cf8-9219-4917c9caf7bb",
    "deepnote_cell_type": "code"
   },
   "source": "",
   "execution_count": null,
   "outputs": []
  },
  {
   "cell_type": "markdown",
   "source": "<a style='text-decoration:none;line-height:16px;display:flex;color:#5B5B62;padding:10px;justify-content:end;' href='https://deepnote.com?utm_source=created-in-deepnote-cell&projectId=25ad01f7-ec4b-4ac8-bce6-a3745ef02c96' target=\"_blank\">\n<img alt='Created in deepnote.com' style='display:inline;max-height:16px;margin:0px;margin-right:7.5px;' src='data:image/svg+xml;base64,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' > </img>\nCreated in <span style='font-weight:600;margin-left:4px;'>Deepnote</span></a>",
   "metadata": {
    "tags": [],
    "created_in_deepnote_cell": true,
    "deepnote_cell_type": "markdown"
   }
  }
 ],
 "nbformat": 4,
 "nbformat_minor": 2,
 "metadata": {
  "orig_nbformat": 2,
  "deepnote": {
   "is_reactive": false
  },
  "deepnote_notebook_id": "59af95e0-3ce4-4455-8eab-cb1ec8fa1dbc",
  "deepnote_execution_queue": []
 }
}