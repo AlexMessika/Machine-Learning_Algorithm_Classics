{
 "cells": [
  {
   "cell_type": "markdown",
   "source": "## Machine learning sur du texte\n\nPour pouvoir faire du machine learning sur du texte, il faut en général faire des étapes supplémentaires de pretraitement : \n\n1. Nettoyage : enlever la ponctuation, caractères spéciaux, etc.\n2. Normalisation : tout mettre en minuscule, faire la racinisation\n3. Représentation numérique de texte: nécessaire pour pouvoir faire du machine learning\n\n![Intro_nlp.png](Intro_nlp.png)",
   "metadata": {
    "tags": [],
    "cell_id": "00000-b89ddb2a-5899-4aa4-9f2c-9037664ce3db",
    "deepnote_cell_type": "markdown"
   }
  },
  {
   "cell_type": "markdown",
   "source": "\nPour pouvoir faire du machine learning sur du texte, il est nécessaire de convertir les mots ou les documents sous forme numérique. Pour cela on va utiliser des vecteurs.\n\nIl y a deux approches principales : \n\n1. Représenter chaque mot d'une phrase ou d'un document par un vecteur.\n2. Représenter une phrase entière ou un document entier par un unique vecteur\n\n\nIdéalement on voudrait que les répresentations numériques que l'on utilise porte un sens. Qu'est ce que cela veut dire ? \n\nCela veut dire qu'on voudrait que les vecteurs des mots chat et chaton soient \"proches\" et que les vecteurs des mots \"chat\" et \"croissant\" soient éloignés.\n\nIl existe plusieurs manière de mesurer si des vecteurs sont proches où éloignés dont le produit scalaire et la cosinus similarité. \n\nCette dernière est similaire au produit scalaire et ne mesure que l'angle entre deux vecteurs : \n\n- deux vecteurs pallèleles seront considérés comme proches (angle = 0 )\n- deux vecteurs perpendicules seront considérés comme différents (angle = 90°) \n\n",
   "metadata": {
    "tags": [],
    "cell_id": "00001-2dfd411f-ff0f-4f46-a949-6dcde3c8073a",
    "deepnote_cell_type": "markdown"
   }
  },
  {
   "cell_type": "markdown",
   "source": "## Représentation de mot\n\nLa première représentation de mot et la plus simple est le one hot encoding. \n\n![one_hot_encoding.png](one_hot_encoding.png)\n\nLe problème de cette représentation c'est que la cosinus similarité (et le produit scalaire) de n'importe quelle paire de vecteur est toujours 0 : tous les vecteurs de mots, même ceux qui ont le même sens, sont considérés comme éloignés\n\n",
   "metadata": {
    "tags": [],
    "cell_id": "00002-f14424a2-f1f1-4967-b63b-dd21ca03c6ca",
    "deepnote_cell_type": "markdown"
   }
  },
  {
   "cell_type": "code",
   "source": "",
   "metadata": {
    "tags": [],
    "cell_id": "00003-1073d086-edc6-41be-ab74-96b2968c806d",
    "deepnote_cell_type": "code"
   },
   "outputs": [],
   "execution_count": null
  },
  {
   "cell_type": "markdown",
   "source": "## Les outils pour le NLP \n\n\nIl existe de nombreux outils dans le NLP que ça soit pour le prétraitement ou pour faire du machine learning\n\nPour le prétraitement nous utilseront spacy\n\n\n![outils_texte.png](outils_texte.png)",
   "metadata": {
    "tags": [],
    "cell_id": "00004-b3316b51-6d69-4dd9-8f64-e52fb090e72b",
    "deepnote_cell_type": "markdown"
   }
  },
  {
   "cell_type": "markdown",
   "source": "Installation de spacy",
   "metadata": {
    "tags": [],
    "cell_id": "00005-149077cf-e5d8-4cef-8af4-6d1d3ef6ab3f",
    "deepnote_cell_type": "markdown"
   }
  },
  {
   "cell_type": "code",
   "source": "!pip install spacy",
   "metadata": {
    "tags": [],
    "cell_id": "00005-0c208532-8354-4f07-8753-62778a4e2094",
    "deepnote_cell_type": "code"
   },
   "outputs": [],
   "execution_count": null
  },
  {
   "cell_type": "markdown",
   "source": "Installation du module pour gérer l'anglais en spacy. Il en existe plusieurs sm veut dire \"small\" c'est le modèle le plus petit mais le moins performant",
   "metadata": {
    "tags": [],
    "cell_id": "00007-36cfde58-1bd0-457f-b8dd-7c92f7afe85b",
    "deepnote_cell_type": "markdown"
   }
  },
  {
   "cell_type": "code",
   "source": "!python -m spacy download en_core_web_sm",
   "metadata": {
    "tags": [],
    "cell_id": "00008-71d092d9-a429-4d68-b60f-bbff94c8b41c",
    "deepnote_cell_type": "code"
   },
   "outputs": [],
   "execution_count": null
  },
  {
   "cell_type": "markdown",
   "source": "On import spacy et le modèle qu'on a téléchargé",
   "metadata": {
    "tags": [],
    "cell_id": "00009-b2864d92-7706-44b9-8f68-a742b76fee3f",
    "deepnote_cell_type": "markdown"
   }
  },
  {
   "cell_type": "code",
   "source": "import spacy\nnlp = spacy.load(\"en_core_web_sm\")",
   "metadata": {
    "tags": [],
    "cell_id": "00009-cbbea6ce-9fe8-4aeb-9a35-b0a10eae02eb",
    "deepnote_cell_type": "code"
   },
   "outputs": [],
   "execution_count": null
  },
  {
   "cell_type": "markdown",
   "source": "Spacy nécessite de charger le texte à traiter avec la fonction nlp. Ensuite on peut parcourir le document spacy obtenu pour analyser chaque mot et éventuellement les trier",
   "metadata": {
    "tags": [],
    "cell_id": "00011-e350cf39-6c5d-407c-8a00-9f41d2d1bffb",
    "deepnote_cell_type": "markdown"
   }
  },
  {
   "cell_type": "code",
   "source": "text = \"hello Efrei, how are you ? I am laurent. \"\n\ndoc = nlp(text)\ntype(doc)",
   "metadata": {
    "tags": [],
    "cell_id": "00012-89841af7-210d-4aae-8830-88b34b5ac822",
    "deepnote_cell_type": "code"
   },
   "outputs": [],
   "execution_count": null
  },
  {
   "cell_type": "markdown",
   "source": "Chaque mot du document spacy est annoté avec des informations : \n- est ce que c'est un stop word ou non **is_stop**\n- est ce que c'est de la ponctuation **is_punct**\n\netc.\n\nLa liste des informations est listée ici : https://spacy.io/api/token/",
   "metadata": {
    "tags": [],
    "cell_id": "00013-1e0d7687-ba2d-451f-a035-ee00afd7bfda",
    "deepnote_cell_type": "markdown"
   }
  },
  {
   "cell_type": "code",
   "source": "for word in doc:\n\n    print(dir(word))\n    break",
   "metadata": {
    "tags": [],
    "cell_id": "00013-27ef74e3-2c44-4112-81bd-3da27b633cc6",
    "deepnote_cell_type": "code"
   },
   "outputs": [],
   "execution_count": null
  },
  {
   "cell_type": "markdown",
   "source": "## Machine learning simple sur du texte\n\nPour faire du machine learning on va utiliser une représentation numérique simple, le tfidf ",
   "metadata": {
    "tags": [],
    "cell_id": "00009-6cca05a6-fabf-401b-994d-6d79dcbd5c9d",
    "deepnote_cell_type": "markdown"
   }
  },
  {
   "cell_type": "code",
   "source": "phrases = [\n    \n    \"allez l OM\"\n     \n    'vive les chats',\n    'le chat est joli, chat chat chat chat',\n    'le chat est sur le toit',\n    'la france est nulle'\n    'Arreter de chanter ',\n    'Salut ',\n    'Acide rain hits hard'\n    'Jaime les petits animaux'\n    'Karim tu es trop fort'\n    'IL FAIT MOCHE AUJOURDhui'\n    'le coronavirus est une plaie'\n    'les vacances ne sont pas proches'\n    'j\\'aime pas trop les pommes'\n    'tu es moche'\n    'j\\'ai bien dormi'\n    'çA se passe plutôt bien'\n    \"ils n'ont pas gagné\"\n    'La France a perdu'\n    'rien est vrai tout est permis'\n    'ALED'\n    'mbappe m a deçu'\n    'Je veux tuer'\n    'MBAPPE ECLATER'\n    'halufa'\n    'j'aaime la suisse \n    'mangez des pommes'\n]\n\n\nfrom sklearn.feature_extraction.text import TfidfVectorizer",
   "metadata": {
    "tags": [],
    "cell_id": "00000-06122a60-81a4-49dd-b9df-e4c5b46ebb51",
    "deepnote_to_be_reexecuted": false,
    "source_hash": "60b096bc",
    "execution_start": 1624954562519,
    "execution_millis": 1,
    "deepnote_cell_type": "code"
   },
   "outputs": [],
   "execution_count": null
  },
  {
   "cell_type": "code",
   "source": "tfidf = TfidfVectorizer()\n\ntfidf.fit(phrases)\n\n\nphrases_numeriques = tfidf.transform(phrases)",
   "metadata": {
    "tags": [],
    "cell_id": "00001-b332131e-f300-42ea-9d1b-f88962f822e1",
    "deepnote_to_be_reexecuted": false,
    "source_hash": "6120bfbc",
    "execution_start": 1624954418114,
    "execution_millis": 13,
    "deepnote_cell_type": "code"
   },
   "outputs": [],
   "execution_count": null
  },
  {
   "cell_type": "code",
   "source": "phrases_numeriques",
   "metadata": {
    "tags": [],
    "cell_id": "00002-f65f9543-26f7-4a25-b016-10548051a69a",
    "deepnote_to_be_reexecuted": false,
    "source_hash": "81149b6",
    "execution_start": 1624954422982,
    "execution_millis": 14,
    "deepnote_cell_type": "code"
   },
   "outputs": [
    {
     "output_type": "execute_result",
     "execution_count": 7,
     "data": {
      "text/plain": "<2x6 sparse matrix of type '<class 'numpy.float64'>'\n\twith 9 stored elements in Compressed Sparse Row format>"
     },
     "metadata": {}
    }
   ],
   "execution_count": null
  },
  {
   "cell_type": "code",
   "source": "phrases_numeriques.todense()",
   "metadata": {
    "tags": [],
    "cell_id": "00003-15880bb2-153a-4c86-906e-873a6773da7b",
    "deepnote_to_be_reexecuted": false,
    "source_hash": "ac33fcef",
    "execution_start": 1624954444688,
    "execution_millis": 17,
    "deepnote_cell_type": "code"
   },
   "outputs": [
    {
     "output_type": "execute_result",
     "execution_count": 8,
     "data": {
      "text/plain": "matrix([[0.44832087, 0.44832087, 0.63009934, 0.44832087, 0.        ,\n         0.        ],\n        [0.31701073, 0.31701073, 0.        , 0.63402146, 0.44554752,\n         0.44554752]])"
     },
     "metadata": {}
    }
   ],
   "execution_count": null
  },
  {
   "cell_type": "code",
   "source": "tfidf = TfidfVectorizer()\n\ntfidf.fit(phrases)\n\n\nphrases_numeriques = tfidf.transform(phrases)\nphrases_numeriques.todense()",
   "metadata": {
    "tags": [],
    "cell_id": "00004-3e0d9d33-bf4b-4989-ba30-437063b6329a",
    "deepnote_to_be_reexecuted": false,
    "source_hash": "40393b02",
    "execution_start": 1624954592999,
    "execution_millis": 9,
    "deepnote_cell_type": "code"
   },
   "outputs": [
    {
     "output_type": "execute_result",
     "execution_count": 11,
     "data": {
      "text/plain": "matrix([[0.92887183, 0.18577437, 0.26109939, 0.18577437, 0.        ,\n         0.        ],\n        [0.31701073, 0.31701073, 0.        , 0.63402146, 0.44554752,\n         0.44554752]])"
     },
     "metadata": {}
    }
   ],
   "execution_count": null
  },
  {
   "cell_type": "code",
   "source": "tfidf.get_feature_names()",
   "metadata": {
    "tags": [],
    "cell_id": "00005-0c37f221-945b-41d6-a31c-1e1e8e42592f",
    "deepnote_to_be_reexecuted": false,
    "source_hash": "89f16f7c",
    "execution_start": 1624954628035,
    "execution_millis": 50,
    "deepnote_cell_type": "code"
   },
   "outputs": [
    {
     "output_type": "execute_result",
     "execution_count": 13,
     "data": {
      "text/plain": "['chat', 'est', 'joli', 'le', 'sur', 'toit']"
     },
     "metadata": {}
    }
   ],
   "execution_count": null
  },
  {
   "cell_type": "code",
   "source": "\nphrases = [\n    \"les maths c'est cool\",\n    \"j'aime les vacances\",\n    \"One piece c'est incroyable\",\n    \"Le zèbre a très mal au dos\",\n    \"Mademoiselle a réussi son bac, elle est joyeuse !\",\n    \"le machine c'est pas bien\",\n    \"j'ai détesté voir la France perdre\",\n    \"j'aime beaucoup la teinture de granit xhaka\",\n    \"je suis content\",\n    \"Le mastercamp c'est nul !\",\n    \"Bobi est un bon chien\",\n    \"Vive KB9\",\n     \"Les lives de BobLennon, ça nous rend heureux.\"\n    \"la kpop c'est pas bien\",\n    \"Le ML c'est vraiment bien\",\n    \n    \"L'efrei c'est bien, c'est faux xD\",\n    \"j'aime les pommes\",\n    \"je n'aime pas les pommes\",\n    \n    \"j'aime les frites\"    ,\n    \"Le réchauffement climatique c'est mal\",\n\n   \n    \"Je suis heureux que la suisse soit en finale\",\n    \"j'aime Ranoute\",\n    \"C'est nul que le CROUS soit fermé\",\n    \"J'aime les fruits\",\n    \"j'aime pas ségéra\"\n    \n]\n\n\nlabels = [1, 1, 1, 0, 1, 0, 0, 1, 1, 0, 1, 1, 1, 0, 1, 0, 1, 0,1, 0, 1, 1, 0, 1  ]",
   "metadata": {
    "tags": [],
    "cell_id": "00006-06083df4-1ebe-439d-a15f-af58e84613e8",
    "deepnote_to_be_reexecuted": false,
    "source_hash": "7c31a5ce",
    "execution_start": 1624955082079,
    "execution_millis": 0,
    "deepnote_cell_type": "code"
   },
   "outputs": [],
   "execution_count": null
  },
  {
   "cell_type": "code",
   "source": "len(phrases), len(labels)",
   "metadata": {
    "tags": [],
    "cell_id": "00007-e4d25a9f-cc25-477f-95cd-6f34d3483848",
    "deepnote_to_be_reexecuted": false,
    "source_hash": "edd16c3c",
    "execution_start": 1624955085184,
    "execution_millis": 24,
    "deepnote_cell_type": "code"
   },
   "outputs": [
    {
     "output_type": "execute_result",
     "execution_count": 19,
     "data": {
      "text/plain": "(24, 24)"
     },
     "metadata": {}
    }
   ],
   "execution_count": null
  },
  {
   "cell_type": "code",
   "source": "tfidf = TfidfVectorizer()\n\ntfidf.fit(phrases)\n\n\nphrases_numeriques = tfidf.transform(phrases)\n\n\n",
   "metadata": {
    "tags": [],
    "cell_id": "00008-b3daad48-17aa-4ea5-a2bd-e11fc334b2fe",
    "deepnote_to_be_reexecuted": false,
    "source_hash": "6b3c214c",
    "execution_start": 1624955107128,
    "execution_millis": 0,
    "deepnote_cell_type": "code"
   },
   "outputs": [],
   "execution_count": null
  },
  {
   "cell_type": "code",
   "source": "from sklearn.linear_model import LogisticRegression\n\nmodel = LogisticRegression()\n\nmodel.fit(phrases_numeriques, labels)",
   "metadata": {
    "tags": [],
    "cell_id": "00009-618933a1-bde3-4365-8105-52d824162a64",
    "deepnote_to_be_reexecuted": false,
    "source_hash": "c61dbef0",
    "execution_start": 1624955131420,
    "execution_millis": 47,
    "deepnote_cell_type": "code"
   },
   "outputs": [
    {
     "output_type": "execute_result",
     "execution_count": 21,
     "data": {
      "text/plain": "LogisticRegression()"
     },
     "metadata": {}
    }
   ],
   "execution_count": null
  },
  {
   "cell_type": "code",
   "source": "model.score(phrases_numeriques, labels)",
   "metadata": {
    "tags": [],
    "cell_id": "00010-6db72d10-2118-4b04-bf4b-6cb93a3fc65e",
    "deepnote_to_be_reexecuted": false,
    "source_hash": "c30919ba",
    "execution_start": 1624955140570,
    "execution_millis": 40,
    "deepnote_cell_type": "code"
   },
   "outputs": [
    {
     "output_type": "execute_result",
     "execution_count": 22,
     "data": {
      "text/plain": "0.625"
     },
     "metadata": {}
    }
   ],
   "execution_count": null
  },
  {
   "cell_type": "markdown",
   "source": "<a style='text-decoration:none;line-height:16px;display:flex;color:#5B5B62;padding:10px;justify-content:end;' href='https://deepnote.com?utm_source=created-in-deepnote-cell&projectId=25ad01f7-ec4b-4ac8-bce6-a3745ef02c96' target=\"_blank\">\n<img alt='Created in deepnote.com' style='display:inline;max-height:16px;margin:0px;margin-right:7.5px;' src='data:image/svg+xml;base64,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' > </img>\nCreated in <span style='font-weight:600;margin-left:4px;'>Deepnote</span></a>",
   "metadata": {
    "tags": [],
    "created_in_deepnote_cell": true,
    "deepnote_cell_type": "markdown"
   }
  }
 ],
 "nbformat": 4,
 "nbformat_minor": 2,
 "metadata": {
  "orig_nbformat": 2,
  "deepnote": {
   "is_reactive": false
  },
  "deepnote_notebook_id": "5657e0e5-8beb-4425-b949-ac370cd79b81",
  "deepnote_execution_queue": []
 }
}