{
 "cells": [
  {
   "cell_type": "markdown",
   "source": "# les listes et boucles\n\nque faire si on veut stocker plein de quantités différentes\n\nexemple : On a 100 notes d'étudiants.\nOn ne va pas créer une variable par note\n\nnote1 = 15\nnote2 = 13\nnote3 = \n...\n\n\nA la place on va utiliser une structure qui permet de stocker des collections de valeurs! \n\nla plus souple et standard est la **liste**\n\n",
   "metadata": {
    "tags": [],
    "cell_id": "00001-6fa82826-db72-44f0-a6e1-3a74621328c0",
    "deepnote_cell_type": "markdown"
   }
  },
  {
   "cell_type": "code",
   "metadata": {
    "tags": [],
    "cell_id": "00003-9dd6ccd8-2877-4120-bdfa-8e45420d5870",
    "deepnote_to_be_reexecuted": false,
    "source_hash": "5b6102ee",
    "execution_start": 1613381791554,
    "execution_millis": 23,
    "deepnote_cell_type": "code"
   },
   "source": "notes = [] #crée une liste vide\n\nnotes2 = [13, 15, 12]\n\nprint(type(notes), type(notes2))",
   "execution_count": null,
   "outputs": [
    {
     "name": "stdout",
     "text": "<class 'list'> <class 'list'>\n",
     "output_type": "stream"
    }
   ]
  },
  {
   "cell_type": "markdown",
   "source": "Comment ajouter une valeur à une liste existant ? \navec la méthode append",
   "metadata": {
    "tags": [],
    "cell_id": "00002-a9a8caf9-b9e9-4ffc-8106-074f3fc72441",
    "deepnote_cell_type": "markdown"
   }
  },
  {
   "cell_type": "code",
   "metadata": {
    "tags": [],
    "cell_id": "00004-630e75f8-658e-453d-9832-9dd15a088960",
    "deepnote_to_be_reexecuted": false,
    "source_hash": "7257fc3b",
    "execution_millis": 7,
    "execution_start": 1613381860084,
    "deepnote_cell_type": "code"
   },
   "source": "notes.append(10) #ajoute une valeur à la fin d'une liste\nprint(notes)\n\nnotes2.append(-20)\nprint(notes2)\n",
   "execution_count": null,
   "outputs": [
    {
     "name": "stdout",
     "text": "[10, 10]\n[13, 15, 12, -20]\n",
     "output_type": "stream"
    }
   ]
  },
  {
   "cell_type": "markdown",
   "source": "comment récupérer des valeurs dans une liste ? \navec des index",
   "metadata": {
    "tags": [],
    "cell_id": "00004-6caf4a78-769e-437e-a1a1-3347373802a7",
    "deepnote_cell_type": "markdown"
   }
  },
  {
   "cell_type": "code",
   "metadata": {
    "tags": [],
    "cell_id": "00006-4f6e501a-405b-44a4-8ae0-3e56d417995d",
    "deepnote_to_be_reexecuted": false,
    "source_hash": "4b070889",
    "execution_millis": 338,
    "execution_start": 1613382136980,
    "deepnote_cell_type": "code"
   },
   "source": "# on va utiliser l'indexation\nnotes = [11, 13, 15, 20, 12, 6]\nnote1 = notes[0] # va récupérer le premier élément de la liste\n\nprint(note1)\n\n\n# si on veut récupérer plusieurs valeur ? \n\nnotes_sous_ensemble = notes[1:3] #la borne superieure, l'indice \"3\" dans notre cas est exclu\nprint(type(notes_sous_ensemble), notes_sous_ensemble)\n\n\nnotes_sous_ensemble = notes[1:4]\nprint(notes_sous_ensemble)\n\n\n#on peut partir de la fin\n\n#si je veux récupérer l'avant dernier élément\n\navant_dernier_element = notes[len(notes) -2] #possible mais pas pratique\nprint(\"avant dernier element\", avant_dernier_element)\n\navant_dernier_element = notes[-2]\nprint(\"avant dernier element\", avant_dernier_element)\n\n\n#rappel l'indexation commence à 0\n\nnotes[len(notes)] #ça va planter : \n",
   "execution_count": null,
   "outputs": [
    {
     "name": "stdout",
     "text": "11\n<class 'list'> [13, 15]\n[13, 15, 20]\navant dernier element 12\navant dernier element 12\n",
     "output_type": "stream"
    },
    {
     "output_type": "error",
     "ename": "IndexError",
     "evalue": "list index out of range",
     "traceback": [
      "\u001b[0;31m---------------------------------------------------------------------------\u001b[0m",
      "\u001b[0;31mIndexError\u001b[0m                                Traceback (most recent call last)",
      "\u001b[0;32m<ipython-input-9-3aec84c0a7bb>\u001b[0m in \u001b[0;36m<module>\u001b[0;34m\u001b[0m\n\u001b[1;32m     31\u001b[0m \u001b[0;31m#rappel l'indexation commence à 0\u001b[0m\u001b[0;34m\u001b[0m\u001b[0;34m\u001b[0m\u001b[0;34m\u001b[0m\u001b[0m\n\u001b[1;32m     32\u001b[0m \u001b[0;34m\u001b[0m\u001b[0m\n\u001b[0;32m---> 33\u001b[0;31m \u001b[0mnotes\u001b[0m\u001b[0;34m[\u001b[0m\u001b[0mlen\u001b[0m\u001b[0;34m(\u001b[0m\u001b[0mnotes\u001b[0m\u001b[0;34m)\u001b[0m\u001b[0;34m]\u001b[0m \u001b[0;31m#ça va planter\u001b[0m\u001b[0;34m\u001b[0m\u001b[0;34m\u001b[0m\u001b[0m\n\u001b[0m",
      "\u001b[0;31mIndexError\u001b[0m: list index out of range"
     ]
    }
   ]
  },
  {
   "cell_type": "code",
   "metadata": {
    "tags": [],
    "cell_id": "00007-18eb73df-1ec0-4c19-9f60-9b7ebffc0239",
    "deepnote_cell_type": "code"
   },
   "source": "# \"list index out of range\" : erreur quand on essaie d'accéder à un élement no présent dans la liste",
   "execution_count": null,
   "outputs": []
  },
  {
   "cell_type": "code",
   "metadata": {
    "tags": [],
    "cell_id": "00008-9cc45582-2d92-4c96-8440-7222e5731b3e",
    "deepnote_to_be_reexecuted": false,
    "source_hash": "9fa2f636",
    "execution_start": 1613382201906,
    "execution_millis": 7,
    "deepnote_cell_type": "code"
   },
   "source": "l1 = [1, 2, 3]\nl2 = [1, 1, 1]\n\n\nl3 = l1 + l2 #est ce que ça marche ? et qu'est ce que ça retourne \nprint(l3) #concatenation\n",
   "execution_count": null,
   "outputs": [
    {
     "name": "stdout",
     "text": "[1, 2, 3, 1, 1, 1]\n",
     "output_type": "stream"
    }
   ]
  },
  {
   "cell_type": "code",
   "metadata": {
    "tags": [],
    "cell_id": "00009-f3f60016-962b-44a1-b91d-a9527819432f",
    "deepnote_to_be_reexecuted": false,
    "source_hash": "215b9f00",
    "execution_millis": 7,
    "execution_start": 1613382312082,
    "deepnote_cell_type": "code"
   },
   "source": "# parcours de liste  : boucle for ! \nnotes = [11, 15, 20, 11]\n\n\n\nfor value in notes: #les boucles for parcourent les valeurs directement ! \n    print(\"val\", value)# ",
   "execution_count": null,
   "outputs": [
    {
     "name": "stdout",
     "text": "val 11\nval 15\nval 20\nval 11\n",
     "output_type": "stream"
    }
   ]
  },
  {
   "cell_type": "code",
   "metadata": {
    "tags": [],
    "cell_id": "00010-92f48703-805c-48a7-ad3b-bfe303568195",
    "deepnote_to_be_reexecuted": false,
    "source_hash": "6796c90",
    "execution_millis": 5,
    "execution_start": 1613382363771,
    "deepnote_cell_type": "code"
   },
   "source": "for i, value in enumerate(notes): #permet d'avoir la valeur et l'index\n    print(\"i:\",i, \"val\", value)",
   "execution_count": null,
   "outputs": [
    {
     "name": "stdout",
     "text": "i: 0 val 11\ni: 1 val 15\ni: 2 val 20\ni: 3 val 11\n",
     "output_type": "stream"
    }
   ]
  },
  {
   "cell_type": "code",
   "metadata": {
    "tags": [],
    "cell_id": "00011-9d804987-f008-4fab-99bf-622ef3d58936",
    "deepnote_to_be_reexecuted": false,
    "source_hash": "2bd886a1",
    "execution_start": 1613382380676,
    "execution_millis": 9,
    "deepnote_cell_type": "code"
   },
   "source": "for i in range(len(notes)):\n    print(\"i:\", i)",
   "execution_count": null,
   "outputs": [
    {
     "name": "stdout",
     "text": "i: 0\ni: 1\ni: 2\ni: 3\n",
     "output_type": "stream"
    }
   ]
  },
  {
   "cell_type": "code",
   "metadata": {
    "tags": [],
    "cell_id": "00012-bc83e91c-e56f-4f7c-9c07-69b960eec7c1",
    "deepnote_to_be_reexecuted": false,
    "source_hash": "6502517d",
    "execution_millis": 8,
    "execution_start": 1613382496008,
    "deepnote_cell_type": "code"
   },
   "source": "def boucle_func(values):\n\n    t = 0\n    for value in values:\n        #t = t - value \n        t -= value \n    return t\n\nresult = boucle_func([1,2,3])\nprint(result)\n",
   "execution_count": null,
   "outputs": [
    {
     "name": "stdout",
     "text": "-6\n",
     "output_type": "stream"
    }
   ]
  },
  {
   "cell_type": "code",
   "metadata": {
    "tags": [],
    "cell_id": "00013-f8a7b44d-a9ac-40a5-9746-50d262d285f6",
    "deepnote_cell_type": "code"
   },
   "source": "# zip, comprehension",
   "execution_count": null,
   "outputs": []
  },
  {
   "cell_type": "code",
   "metadata": {
    "tags": [],
    "cell_id": "00014-9e40586a-c0d1-40e7-8eea-ab8099f4f73d",
    "deepnote_to_be_reexecuted": false,
    "source_hash": "538fd37",
    "execution_start": 1613383354197,
    "execution_millis": 10,
    "deepnote_cell_type": "code"
   },
   "source": "notes = [11, 13, 15]\n\nfor value in notes[::-1]:\n    print(value)",
   "execution_count": null,
   "outputs": [
    {
     "name": "stdout",
     "text": "15\n13\n11\n",
     "output_type": "stream"
    }
   ]
  },
  {
   "cell_type": "code",
   "metadata": {
    "tags": [],
    "cell_id": "00015-b4e1757c-4457-4a1d-af8a-fa6c10d24364",
    "deepnote_to_be_reexecuted": false,
    "source_hash": "5d96f77a",
    "execution_start": 1613383369355,
    "execution_millis": 21,
    "deepnote_cell_type": "code"
   },
   "source": "for value in reversed(notes):\n    print(value)",
   "execution_count": null,
   "outputs": [
    {
     "name": "stdout",
     "text": "15\n13\n11\n",
     "output_type": "stream"
    }
   ]
  },
  {
   "cell_type": "code",
   "metadata": {
    "tags": [],
    "cell_id": "00016-c1ad0470-895b-41b5-bc7c-5e79708f14f0",
    "deepnote_to_be_reexecuted": false,
    "source_hash": "f7743472",
    "execution_millis": 5,
    "execution_start": 1613383503835,
    "deepnote_cell_type": "code"
   },
   "source": "notes = [11, 13, 15, 20, 10, 5, 20, 15, 10]\n\nnotes[0:7:2] #prend une valeur sur deux entre l'indice 0 et 7\n\nnotes[:7:2]\n\nnotes[2:]",
   "execution_count": null,
   "outputs": [
    {
     "output_type": "execute_result",
     "execution_count": 25,
     "data": {
      "text/plain": "[15, 20, 10, 5, 20, 15, 10]"
     },
     "metadata": {}
    }
   ]
  },
  {
   "cell_type": "code",
   "metadata": {
    "tags": [],
    "cell_id": "00017-3d35abbe-b95b-448b-8d9d-c0a3dc447417",
    "deepnote_to_be_reexecuted": false,
    "source_hash": "6475b259",
    "execution_millis": 5,
    "execution_start": 1613395676427,
    "deepnote_cell_type": "code"
   },
   "source": "# compréhension\n\nl1 = [1, 2, 3, 5, -4, 12, 12]\n\n\n# exercice : créer une seconde liste\n# ou chaque element vaut l'élement de la l1 mais multiplié par 2\n\nl2 = []\nfor v in l1:\n    l2.append(v * 2)\nprint(\"le premier\", l2)\n\n\n# avec un compréhension de liste : combiner les boucles et les listes\n\nl2 = [v * 2 for v in l1]\nprint(\"le deuxieme résultat\", l2)\n\nl2 = [-valeur for valeur in l1]\nprint(\"j'ai print le dernier\", l2)\n",
   "execution_count": null,
   "outputs": [
    {
     "name": "stdout",
     "text": "le premier [2, 4, 6, 10, -8, 24, 24]\nle deuxieme résultat [2, 4, 6, 10, -8, 24, 24]\nj'ai print le dernier [-1, -2, -3, -5, 4, -12, -12]\n",
     "output_type": "stream"
    }
   ]
  },
  {
   "cell_type": "code",
   "metadata": {
    "tags": [],
    "cell_id": "00018-2052f0fb-f2c1-4a5a-8234-69e9dd6b4047",
    "deepnote_to_be_reexecuted": false,
    "source_hash": "7fa5e200",
    "execution_millis": 9,
    "execution_start": 1613389250296,
    "deepnote_cell_type": "code"
   },
   "source": "l1 = [1, 2, 3]\nl2 = [1, 1, -1]\n\n#but : faire la somme terme à terme \n#but : obtenir l3 =[2, 3, 2]\n\nprint(l1 + l2) #marche pas : fait la concaténation\n\nl3=[]\nfor i in range(len(l1)):\n    l3.append(l1[i] + l2[i])\n\nprint(l3)\n\n\n#on va parcourir l1 et l2 en parallèle\nl3 = []\nfor v1, v2 in zip(l1, l2): #zip permet de mettre cote à cote l1 et l2\n    l3.append(v1 + v2)\nl3",
   "execution_count": null,
   "outputs": [
    {
     "name": "stdout",
     "text": "[1, 2, 3, 1, 1, -1]\n[2, 3, 2]\n",
     "output_type": "stream"
    },
    {
     "output_type": "execute_result",
     "execution_count": 31,
     "data": {
      "text/plain": "[2, 3, 2]"
     },
     "metadata": {}
    }
   ]
  },
  {
   "cell_type": "code",
   "metadata": {
    "tags": [],
    "cell_id": "00019-f74d19d0-1f38-48d1-ba93-0159ce460b4b",
    "deepnote_to_be_reexecuted": false,
    "source_hash": "a34aefc2",
    "execution_start": 1613394956259,
    "execution_millis": 1,
    "deepnote_cell_type": "code"
   },
   "source": "liste_prenoms_1 = ['Toto', 'Tata', 'Titi']\nliste_prenoms_2 = ['Jean', 'Paul']",
   "execution_count": null,
   "outputs": []
  },
  {
   "cell_type": "code",
   "metadata": {
    "tags": [],
    "cell_id": "00020-42d7bad7-cb3f-461d-afbf-3af89c871a55",
    "deepnote_to_be_reexecuted": false,
    "source_hash": "66f7416d",
    "execution_millis": 5,
    "execution_start": 1613394993099,
    "deepnote_cell_type": "code"
   },
   "source": "for prenom1, prenom2 in zip(liste_prenoms_2, liste_prenoms_1):\n    print(prenom1)\n    print(prenom2)\n    print('fin d\\'itération, on peut passer à la suivante')",
   "execution_count": null,
   "outputs": [
    {
     "name": "stdout",
     "text": "Jean\nToto\nfin d'itération, on peut passer à la suivante\nPaul\nTata\nfin d'itération, on peut passer à la suivante\n",
     "output_type": "stream"
    }
   ]
  },
  {
   "cell_type": "markdown",
   "source": "<a style='text-decoration:none;line-height:16px;display:flex;color:#5B5B62;padding:10px;justify-content:end;' href='https://deepnote.com?utm_source=created-in-deepnote-cell&projectId=25ad01f7-ec4b-4ac8-bce6-a3745ef02c96' target=\"_blank\">\n<img alt='Created in deepnote.com' style='display:inline;max-height:16px;margin:0px;margin-right:7.5px;' src='data:image/svg+xml;base64,PD94bWwgdmVyc2lvbj0iMS4wIiBlbmNvZGluZz0iVVRGLTgiPz4KPHN2ZyB3aWR0aD0iODBweCIgaGVpZ2h0PSI4MHB4IiB2aWV3Qm94PSIwIDAgODAgODAiIHZlcnNpb249IjEuMSIgeG1sbnM9Imh0dHA6Ly93d3cudzMub3JnLzIwMDAvc3ZnIiB4bWxuczp4bGluaz0iaHR0cDovL3d3dy53My5vcmcvMTk5OS94bGluayI+CiAgICA8IS0tIEdlbmVyYXRvcjogU2tldGNoIDU0LjEgKDc2NDkwKSAtIGh0dHBzOi8vc2tldGNoYXBwLmNvbSAtLT4KICAgIDx0aXRsZT5Hcm91cCAzPC90aXRsZT4KICAgIDxkZXNjPkNyZWF0ZWQgd2l0aCBTa2V0Y2guPC9kZXNjPgogICAgPGcgaWQ9IkxhbmRpbmciIHN0cm9rZT0ibm9uZSIgc3Ryb2tlLXdpZHRoPSIxIiBmaWxsPSJub25lIiBmaWxsLXJ1bGU9ImV2ZW5vZGQiPgogICAgICAgIDxnIGlkPSJBcnRib2FyZCIgdHJhbnNmb3JtPSJ0cmFuc2xhdGUoLTEyMzUuMDAwMDAwLCAtNzkuMDAwMDAwKSI+CiAgICAgICAgICAgIDxnIGlkPSJHcm91cC0zIiB0cmFuc2Zvcm09InRyYW5zbGF0ZSgxMjM1LjAwMDAwMCwgNzkuMDAwMDAwKSI+CiAgICAgICAgICAgICAgICA8cG9seWdvbiBpZD0iUGF0aC0yMCIgZmlsbD0iIzAyNjVCNCIgcG9pbnRzPSIyLjM3NjIzNzYyIDgwIDM4LjA0NzY2NjcgODAgNTcuODIxNzgyMiA3My44MDU3NTkyIDU3LjgyMTc4MjIgMzIuNzU5MjczOSAzOS4xNDAyMjc4IDMxLjY4MzE2ODMiPjwvcG9seWdvbj4KICAgICAgICAgICAgICAgIDxwYXRoIGQ9Ik0zNS4wMDc3MTgsODAgQzQyLjkwNjIwMDcsNzYuNDU0OTM1OCA0Ny41NjQ5MTY3LDcxLjU0MjI2NzEgNDguOTgzODY2LDY1LjI2MTk5MzkgQzUxLjExMjI4OTksNTUuODQxNTg0MiA0MS42NzcxNzk1LDQ5LjIxMjIyODQgMjUuNjIzOTg0Niw0OS4yMTIyMjg0IEMyNS40ODQ5Mjg5LDQ5LjEyNjg0NDggMjkuODI2MTI5Niw0My4yODM4MjQ4IDM4LjY0NzU4NjksMzEuNjgzMTY4MyBMNzIuODcxMjg3MSwzMi41NTQ0MjUgTDY1LjI4MDk3Myw2Ny42NzYzNDIxIEw1MS4xMTIyODk5LDc3LjM3NjE0NCBMMzUuMDA3NzE4LDgwIFoiIGlkPSJQYXRoLTIyIiBmaWxsPSIjMDAyODY4Ij48L3BhdGg+CiAgICAgICAgICAgICAgICA8cGF0aCBkPSJNMCwzNy43MzA0NDA1IEwyNy4xMTQ1MzcsMC4yNTcxMTE0MzYgQzYyLjM3MTUxMjMsLTEuOTkwNzE3MDEgODAsMTAuNTAwMzkyNyA4MCwzNy43MzA0NDA1IEM4MCw2NC45NjA0ODgyIDY0Ljc3NjUwMzgsNzkuMDUwMzQxNCAzNC4zMjk1MTEzLDgwIEM0Ny4wNTUzNDg5LDc3LjU2NzA4MDggNTMuNDE4MjY3Nyw3MC4zMTM2MTAzIDUzLjQxODI2NzcsNTguMjM5NTg4NSBDNTMuNDE4MjY3Nyw0MC4xMjg1NTU3IDM2LjMwMzk1NDQsMzcuNzMwNDQwNSAyNS4yMjc0MTcsMzcuNzMwNDQwNSBDMTcuODQzMDU4NiwzNy43MzA0NDA1IDkuNDMzOTE5NjYsMzcuNzMwNDQwNSAwLDM3LjczMDQ0MDUgWiIgaWQ9IlBhdGgtMTkiIGZpbGw9IiMzNzkzRUYiPjwvcGF0aD4KICAgICAgICAgICAgPC9nPgogICAgICAgIDwvZz4KICAgIDwvZz4KPC9zdmc+' > </img>\nCreated in <span style='font-weight:600;margin-left:4px;'>Deepnote</span></a>",
   "metadata": {
    "tags": [],
    "created_in_deepnote_cell": true,
    "deepnote_cell_type": "markdown"
   }
  }
 ],
 "nbformat": 4,
 "nbformat_minor": 2,
 "metadata": {
  "orig_nbformat": 2,
  "deepnote_notebook_id": "d073e7dd-d01e-48d9-9440-e2cbc04613cc",
  "deepnote": {},
  "deepnote_execution_queue": []
 }
}