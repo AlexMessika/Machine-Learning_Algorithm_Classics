{
 "cells": [
  {
   "cell_type": "markdown",
   "metadata": {},
   "source": [
    "## Classification d'image : introduction \n",
    "\n",
    "Jusqu'à présent on a fait du machine learning sur des données tabulaire (via pandas) \n",
    "\n",
    "Dans ce notebook on va voir comment faire du machine learning sur des images. \n",
    "\n",
    "Une image est constitué de pixel.  \n",
    "\n",
    "\n",
    "Pour faire un modèle de machine learning sur les images on va tout simplement faire un modèle qui prend la valeur de chaque pixel de l'image en entrée et qui va calculer la prédiction. \n",
    "\n",
    "Dans ce notebook on va prendre un dataset d'image qui contient des chiffre et on va faire de la classification. \n",
    "\n",
    "Ainsi, si on fait une régression logistique le modèle sera de la forme \n",
    "\n",
    "$ \\hat{y} = \\theta0 + \\theta1 * Pixel_1 + \\theta_2 * Pixel_2 + ... + \\theta_n * Pixel_n $ \n",
    "\n",
    "On remarque que ça fait très vite des modèles avec beaucoup de paramètres ! \n",
    "Rien qu'un modèle sur une image qui fait 28 * 28 pixel aura 785 paramètres. \n",
    "\n"
   ]
  },
  {
   "cell_type": "markdown",
   "metadata": {},
   "source": [
    "A l'aide de pip installer tensorflow (si trop de problème faire le tp sur google colab)"
   ]
  },
  {
   "cell_type": "code",
   "execution_count": null,
   "metadata": {},
   "outputs": [],
   "source": []
  },
  {
   "cell_type": "markdown",
   "metadata": {},
   "source": [
    "keras qui est un sous module de tensorflow possède des datasets déjà chargé (cf  : https://keras.io/api/datasets/)\n",
    "\n",
    "importer la fonction load_data qui permet de charger le dataset mnist.  "
   ]
  },
  {
   "cell_type": "code",
   "execution_count": null,
   "metadata": {},
   "outputs": [],
   "source": []
  },
  {
   "cell_type": "markdown",
   "metadata": {},
   "source": [
    "Utiliser la fonction load_data du fichier importé et stocker les variables dans une variable nommée data"
   ]
  },
  {
   "cell_type": "code",
   "execution_count": null,
   "metadata": {},
   "outputs": [],
   "source": []
  },
  {
   "cell_type": "markdown",
   "metadata": {},
   "source": [
    "Afficher le type de data. Cela devrait être un tuple ou une liste. \n"
   ]
  },
  {
   "cell_type": "code",
   "execution_count": null,
   "metadata": {},
   "outputs": [],
   "source": []
  },
  {
   "cell_type": "markdown",
   "metadata": {},
   "source": [
    "A votre avis à quoi correspond le premier élément de cette collection ? "
   ]
  },
  {
   "cell_type": "code",
   "execution_count": null,
   "metadata": {},
   "outputs": [],
   "source": []
  },
  {
   "cell_type": "markdown",
   "metadata": {},
   "source": [
    "Afficher le premier elements, que contient-il "
   ]
  },
  {
   "cell_type": "code",
   "execution_count": null,
   "metadata": {},
   "outputs": [],
   "source": []
  },
  {
   "cell_type": "markdown",
   "metadata": {},
   "source": [
    "Avec matplotlib, afficher 2 ou 3 images du dataset de train avec la méthode imshow. Si il y a des couleurs bizarres, il faudra utiliser l'argument cmap=\"gray\" "
   ]
  },
  {
   "cell_type": "code",
   "execution_count": null,
   "metadata": {},
   "outputs": [],
   "source": []
  },
  {
   "cell_type": "markdown",
   "metadata": {},
   "source": [
    "afficher la shape du dataset de train. Correspond-elle au format habituels utilisé par scikit learn ? "
   ]
  },
  {
   "cell_type": "code",
   "execution_count": null,
   "metadata": {},
   "outputs": [],
   "source": []
  },
  {
   "cell_type": "markdown",
   "metadata": {},
   "source": [
    "Avec la méthode reshape, faire en sorte que le dataset soit un tableau 2D qui :\n",
    "- aura pour nombre de ligne le nombre d'image\n",
    "- aura pour nombre de colonne le nombre de pixel \n",
    "\n"
   ]
  },
  {
   "cell_type": "markdown",
   "metadata": {},
   "source": [
    "Instancier un modèle de Régression logistique de scikit learn"
   ]
  },
  {
   "cell_type": "code",
   "execution_count": null,
   "metadata": {},
   "outputs": [],
   "source": []
  },
  {
   "cell_type": "markdown",
   "metadata": {},
   "source": [
    "Entraîner le modèle sur le dataset de train redimensionné. Cela devrai prendre un peu de temps. Si il y a un warning, ce n'est pas grave"
   ]
  },
  {
   "cell_type": "code",
   "execution_count": null,
   "metadata": {},
   "outputs": [],
   "source": []
  },
  {
   "cell_type": "markdown",
   "metadata": {},
   "source": [
    "Afficher l'accuracy du modèle sur le train et le test"
   ]
  },
  {
   "cell_type": "code",
   "execution_count": null,
   "metadata": {},
   "outputs": [],
   "source": []
  },
  {
   "cell_type": "markdown",
   "metadata": {},
   "source": [
    "Afficher la matrice de confusion "
   ]
  },
  {
   "cell_type": "code",
   "execution_count": null,
   "metadata": {},
   "outputs": [],
   "source": []
  },
  {
   "cell_type": "markdown",
   "metadata": {},
   "source": [
    "Le modèle marche-t-il convenable ? Sinon c'est peut être qu'on a oublié de normaliser les données. \n",
    "\n",
    "\n",
    "Normaliser les données en divisant le dataset de train et de test par 255 (cela revient à faire un min max scaling) et refaire l'entraînement et l'évaluation"
   ]
  },
  {
   "cell_type": "code",
   "execution_count": null,
   "metadata": {},
   "outputs": [],
   "source": []
  },
  {
   "cell_type": "markdown",
   "metadata": {},
   "source": [
    "La régression logistique marche relativement bien sur ce dataset car il est très facile. Néanmoins elle ne marche pas sur de vrais problème et c'est pour ce qu'on utilisera le deep learning. Pour vous en convaincre essayez de faire une régression linéaire sur cifar10 ou cifar100 en reprenant les étapes ci dessous, vous verrez que le modèle ne marche pas "
   ]
  },
  {
   "cell_type": "code",
   "execution_count": null,
   "metadata": {},
   "outputs": [],
   "source": []
  }
 ],
 "metadata": {
  "kernelspec": {
   "display_name": "Python 3",
   "language": "python",
   "name": "python3"
  },
  "language_info": {
   "codemirror_mode": {
    "name": "ipython",
    "version": 3
   },
   "file_extension": ".py",
   "mimetype": "text/x-python",
   "name": "python",
   "nbconvert_exporter": "python",
   "pygments_lexer": "ipython3",
   "version": "3.7.8"
  }
 },
 "nbformat": 4,
 "nbformat_minor": 4
}
