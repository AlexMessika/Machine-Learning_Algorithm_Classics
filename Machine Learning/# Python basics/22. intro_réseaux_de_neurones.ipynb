{
 "cells": [
  {
   "cell_type": "markdown",
   "source": "## Introduction aux réseaux de neurones\n\nLes réseaux de neurones sont des modèles de machine learning qui peuvent être vus comme de l'ensembling de neurones. \n\nChaque neurone est un petit modèle de machine learning en lui même. \n\n\nLes neurones du deep learning sont très éloignés des neurones biologiques. \n\nPour nous un neurone artificielle c'est simplement une fonction composée de deux partie : \n\n1. Une combinaison linéaire des entrées du neurone\n2. Une fonction non linéaire\n\nEt ça, en vrai ça ressemble beaucoup à une régression logistique. \nSauf qu'on aura pas toujours la sigmoid comme fonction non linéaire\n\n\nUn réseau neurone ne sera qu'un empilement en couche de neurones. On peut voir ça comme de l'ensembling (du stacking)",
   "metadata": {
    "tags": [],
    "cell_id": "00000-32e6f03a-b7ae-4fb8-ae5c-51d3920fd395",
    "deepnote_cell_type": "markdown"
   }
  },
  {
   "cell_type": "markdown",
   "source": "rappel formule régression logistique\n\n$ \\hat{y} = \\sigma(\\theta_0 + \\theta_1 * X_1 + ... + \\theta_n * X_n) $\n\nrégression logistique : combinaire linéaire + fonction no linéaire\n\n\n\nSi on regarde la formule d'un neurone, ça ressemble quand meme beaucop à une régression logistique ! \n\nRégression logistique = neurone où la fonction non linéaire est égale sigmoid ! \n\n\n",
   "metadata": {
    "tags": [],
    "cell_id": "00001-6770a88b-5b91-4cfc-9265-4aff4a187611",
    "deepnote_cell_type": "markdown"
   }
  },
  {
   "cell_type": "markdown",
   "source": "La fonction Relu est une fonction non linéaire très simple et elle est la fonction d'activation \"par défaut\" à utiliser dans les couches cachées d'un réseau \n\nReLu(x) = max(0, x)",
   "metadata": {
    "tags": [],
    "cell_id": "00002-0e26230a-d1d5-47bb-8f68-57f646394164",
    "deepnote_cell_type": "markdown"
   }
  },
  {
   "cell_type": "code",
   "metadata": {
    "tags": [],
    "cell_id": "00002-4b7007b1-e894-4bca-adfb-8165f13479ba",
    "deepnote_to_be_reexecuted": false,
    "source_hash": "26e5a747",
    "execution_millis": 150,
    "execution_start": 1614173075814,
    "deepnote_cell_type": "code"
   },
   "source": "import numpy as np \n\nv = np.arange(-5, 5, 0.1)\n\ndef relu(x):\n    y = x.copy()\n    mask = y <= 0\n    y[mask] = 0\n    return y\n\nimport matplotlib.pyplot as plt\n\nplt.plot(v, relu(v))\n",
   "execution_count": null,
   "outputs": [
    {
     "output_type": "execute_result",
     "execution_count": 2,
     "data": {
      "text/plain": "[<matplotlib.lines.Line2D at 0x7f87e5c91810>]"
     },
     "metadata": {}
    },
    {
     "data": {
      "text/plain": "<Figure size 432x288 with 1 Axes>",
      "image/png": "[encoded data removed]"
     },
     "metadata": {
      "needs_background": "light",
      "image/png": {
       "width": 362,
       "height": 248
      }
     },
     "output_type": "display_data"
    }
   ]
  },
  {
   "cell_type": "markdown",
   "source": "##  Keras et tensorflow\n\nKeras et un sous module de tensorflow qui permet de faire des réseaux de neurones très simplement. Keras est très adapté à 80 % des situations où on a besoin d'un réseau de neurone standard",
   "metadata": {
    "tags": [],
    "cell_id": "00004-981c9ab3-2b6c-44b1-a79f-b2616fd500bd",
    "deepnote_cell_type": "markdown"
   }
  },
  {
   "cell_type": "code",
   "metadata": {
    "tags": [],
    "cell_id": "00005-cf664964-6c27-4393-9e3e-8158729d9965",
    "deepnote_to_be_reexecuted": false,
    "source_hash": "bcb9ab4c",
    "execution_millis": 27,
    "execution_start": 1614173800518,
    "deepnote_cell_type": "code"
   },
   "source": "import tensorflow as tf\n\n#la classe sequential sert à créer des réseaux\nfrom tensorflow.keras import Sequential\nfrom tensorflow.keras.layers import Dense\n\n\nmodel = Sequential() # crée moi un réseau de neurones vides\n\nmodel.add(Dense(100, activation=\"relu\")) #ajoute moi une couche de neurones (avec 100 neurones)\nmodel.add(Dense(2000, activation=\"relu\"))\nmodel.add(Dense(10, activation=\"softmax\"))\n\nmodel.compile(loss=\"sparse_categorical_crossentropy\", optimizer=\"sgd\")\n",
   "execution_count": null,
   "outputs": []
  },
  {
   "cell_type": "code",
   "metadata": {
    "tags": [],
    "cell_id": "00006-df916946-d2c4-440d-9e0a-d6803b9789ea",
    "deepnote_cell_type": "code"
   },
   "source": "model.fit(X , y) #comme d'habitude on va devoir faire l'entraînement",
   "execution_count": null,
   "outputs": []
  },
  {
   "cell_type": "markdown",
   "source": "## Réseaux de neurone convolutionnels \n\nLes réseaux de neurones convolutionnels sont décomposés en deux parties. \n\nLa première partie contients des couches où les neurones sont des convolutions. \nLa seconde partie contient des couche dense comme précédemment. \n\nLe but des couches convolutionnelles est de transformer les donnéee en entrée pour que la couche dense puisse mieux les classifier. En somme les couches convolutionnelles peuvent être vues comme du feature engineering automatique\n\n\n",
   "metadata": {
    "tags": [],
    "cell_id": "00007-24a63ab7-ed7d-4f48-a25a-7e114bd440d3",
    "deepnote_cell_type": "markdown"
   }
  },
  {
   "cell_type": "code",
   "metadata": {
    "tags": [],
    "cell_id": "00007-eef89cf0-5e45-4d2f-ab1b-ea090171ff74",
    "deepnote_cell_type": "code"
   },
   "source": "from tensorflow.keras.layers import Conv2D, Flatten\n\nmodel_conv = Sequential()\nmodel_conv.add(Conv2D(32, kernel_size=(3, 3), activation=\"relu\", input_shape=))\nmodel_conv.add(Conv2D(64, kernel_size=(3, 3), activation=\"relu\"))\n\nmodel_conv.add(Flatten())\n#partie 2 \n\nmodel_conv.add(Dense(100, activation=\"relu\"))\nmodel_conv.add(Dense(10, activation=\"softmax\"))\n\n\n\nmodel.compile()#",
   "execution_count": null,
   "outputs": []
  },
  {
   "cell_type": "markdown",
   "source": "<a style='text-decoration:none;line-height:16px;display:flex;color:#5B5B62;padding:10px;justify-content:end;' href='https://deepnote.com?utm_source=created-in-deepnote-cell&projectId=25ad01f7-ec4b-4ac8-bce6-a3745ef02c96' target=\"_blank\">\n<img alt='Created in deepnote.com' style='display:inline;max-height:16px;margin:0px;margin-right:7.5px;' src='data:image/svg+xml;base64,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' > </img>\nCreated in <span style='font-weight:600;margin-left:4px;'>Deepnote</span></a>",
   "metadata": {
    "tags": [],
    "created_in_deepnote_cell": true,
    "deepnote_cell_type": "markdown"
   }
  }
 ],
 "nbformat": 4,
 "nbformat_minor": 2,
 "metadata": {
  "orig_nbformat": 2,
  "deepnote_notebook_id": "d9d0eb30-7f19-4577-910a-9797de71fe57",
  "deepnote": {},
  "deepnote_execution_queue": []
 }
}