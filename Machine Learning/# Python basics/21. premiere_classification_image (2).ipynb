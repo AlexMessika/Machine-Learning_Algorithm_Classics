{
 "cells": [
  {
   "cell_type": "markdown",
   "source": "## Classification d'image : introduction \n\nJusqu'à présent on a fait du machine learning sur des données tabulaire (via pandas) \n\nDans ce notebook on va voir comment faire du machine learning sur des images. \n\nUne image est constitué de pixel.  \n\n\nPour faire un modèle de machine learning sur les images on va tout simplement faire un modèle qui prend la valeur de chaque pixel de l'image en entrée et qui va calculer la prédiction. \n\nDans ce notebook on va prendre un dataset d'image qui contient des chiffre et on va faire de la classification. \n\nAinsi, si on fait une régression logistique le modèle sera de la forme \n\n$ \\hat{y} = \\sigma(\\theta_0 + \\theta_1 * Pixel_1 + \\theta_2 * Pixel_2 + ... + \\theta_n * Pixel_n)  $ \n\nOn remarque que ça fait très vite des modèles avec beaucoup de paramètres ! \nRien qu'un modèle sur une image qui fait 28 * 28 pixel aura 785 paramètres. \n\n",
   "metadata": {
    "cell_id": "00000-01029d77-38f2-41c5-8b77-74a8e92dd170",
    "deepnote_cell_type": "markdown"
   }
  },
  {
   "cell_type": "markdown",
   "source": "A l'aide de pip installer tensorflow (si trop de problème faire le tp sur google colab)",
   "metadata": {
    "cell_id": "00001-c8a733d3-f9be-4109-8090-1f50725fde84",
    "deepnote_cell_type": "markdown"
   }
  },
  {
   "cell_type": "code",
   "metadata": {
    "cell_id": "00002-196e0a6b-eeb0-4c39-ac14-202950ad57cc",
    "deepnote_cell_type": "code"
   },
   "source": "",
   "execution_count": null,
   "outputs": []
  },
  {
   "cell_type": "markdown",
   "source": "keras qui est un sous module de tensorflow possède des datasets déjà chargé (cf  : https://keras.io/api/datasets/)\n\nimporter la fonction load_data qui permet de charger le dataset mnist.  ",
   "metadata": {
    "cell_id": "00003-4de41004-d610-4c2a-83c8-32493a8453d1",
    "deepnote_cell_type": "markdown"
   }
  },
  {
   "cell_type": "code",
   "metadata": {
    "cell_id": "00004-cc0375a4-4e36-4aac-baff-b36b67e723e1",
    "deepnote_cell_type": "code"
   },
   "source": "",
   "execution_count": null,
   "outputs": []
  },
  {
   "cell_type": "markdown",
   "source": "Utiliser la fonction load_data du fichier importé et stocker les variables dans une variable nommée data",
   "metadata": {
    "cell_id": "00005-bfbea716-7fb3-4aa9-bfc4-cccf39163367",
    "deepnote_cell_type": "markdown"
   }
  },
  {
   "cell_type": "code",
   "metadata": {
    "cell_id": "00006-f701d092-983a-4401-81e0-89119e49a69e",
    "deepnote_cell_type": "code"
   },
   "source": "",
   "execution_count": null,
   "outputs": []
  },
  {
   "cell_type": "markdown",
   "source": "Afficher le type de data. Cela devrait être un tuple ou une liste. \n",
   "metadata": {
    "cell_id": "00007-5dfadb12-6a7f-4443-b57f-52f6ec18b8a4",
    "deepnote_cell_type": "markdown"
   }
  },
  {
   "cell_type": "code",
   "metadata": {
    "cell_id": "00008-4d99d818-1fa7-42c7-adc5-f7b220c9c11c",
    "deepnote_cell_type": "code"
   },
   "source": "",
   "execution_count": null,
   "outputs": []
  },
  {
   "cell_type": "markdown",
   "source": "A votre avis à quoi correspond le premier élément de cette collection ? ",
   "metadata": {
    "cell_id": "00009-dc06dce5-fc6d-404a-94ee-2b038b45fa13",
    "deepnote_cell_type": "markdown"
   }
  },
  {
   "cell_type": "code",
   "metadata": {
    "cell_id": "00010-96c840ef-45b5-4b0e-afeb-6319ddbd71af",
    "deepnote_cell_type": "code"
   },
   "source": "",
   "execution_count": null,
   "outputs": []
  },
  {
   "cell_type": "markdown",
   "source": "Afficher le premier elements, que contient-il ",
   "metadata": {
    "cell_id": "00011-8b0cfb5b-2888-43ee-bf41-cc24c75ddf21",
    "deepnote_cell_type": "markdown"
   }
  },
  {
   "cell_type": "code",
   "metadata": {
    "cell_id": "00012-8187f327-effb-4b55-9104-0acf0abf5f89",
    "deepnote_cell_type": "code"
   },
   "source": "",
   "execution_count": null,
   "outputs": []
  },
  {
   "cell_type": "markdown",
   "source": "Avec matplotlib, afficher 2 ou 3 images du dataset de train avec la méthode imshow. Si il y a des couleurs bizarres, il faudra utiliser l'argument cmap=\"gray\" ",
   "metadata": {
    "cell_id": "00013-014efdd1-6165-44af-b9e3-0798eb80d6c8",
    "deepnote_cell_type": "markdown"
   }
  },
  {
   "cell_type": "code",
   "metadata": {
    "cell_id": "00014-785b04c4-171d-4a40-a40e-77c9287d6c6c",
    "deepnote_cell_type": "code"
   },
   "source": "",
   "execution_count": null,
   "outputs": []
  },
  {
   "cell_type": "markdown",
   "source": "afficher la shape du dataset de train. Correspond-elle au format habituels utilisé par scikit learn ? ",
   "metadata": {
    "cell_id": "00015-0c08f658-b992-4242-89dc-6b76cc6834cd",
    "deepnote_cell_type": "markdown"
   }
  },
  {
   "cell_type": "code",
   "metadata": {
    "cell_id": "00016-ee63c5b3-fcb7-46e3-b7b1-3eff7d9931fc",
    "deepnote_cell_type": "code"
   },
   "source": "",
   "execution_count": null,
   "outputs": []
  },
  {
   "cell_type": "markdown",
   "source": "Avec la méthode reshape, faire en sorte que le dataset soit un tableau 2D qui :\n- aura pour nombre de ligne le nombre d'image\n- aura pour nombre de colonne le nombre de pixel \n\n",
   "metadata": {
    "cell_id": "00017-acc7566a-2036-4f89-955c-db56b6a43716",
    "deepnote_cell_type": "markdown"
   }
  },
  {
   "cell_type": "markdown",
   "source": "Instancier un modèle de Régression logistique de scikit learn",
   "metadata": {
    "cell_id": "00018-25e4eda5-8ca0-4240-bcb6-fd42ea5baca9",
    "deepnote_cell_type": "markdown"
   }
  },
  {
   "cell_type": "code",
   "metadata": {
    "cell_id": "00019-56af9700-6858-42cc-bf32-b854f1be68f0",
    "deepnote_cell_type": "code"
   },
   "source": "",
   "execution_count": null,
   "outputs": []
  },
  {
   "cell_type": "markdown",
   "source": "Entraîner le modèle sur le dataset de train redimensionné. Cela devrai prendre un peu de temps. Si il y a un warning, ce n'est pas grave",
   "metadata": {
    "cell_id": "00020-c38cecbc-7a42-4cec-9b7b-ccc6bb9ddab5",
    "deepnote_cell_type": "markdown"
   }
  },
  {
   "cell_type": "code",
   "metadata": {
    "cell_id": "00021-78377f21-6620-492d-b590-fc7797336373",
    "deepnote_cell_type": "code"
   },
   "source": "",
   "execution_count": null,
   "outputs": []
  },
  {
   "cell_type": "markdown",
   "source": "Afficher l'accuracy du modèle sur le train et le test",
   "metadata": {
    "cell_id": "00022-093ffa89-e102-4fd3-85c2-4688f800b001",
    "deepnote_cell_type": "markdown"
   }
  },
  {
   "cell_type": "code",
   "metadata": {
    "cell_id": "00023-d6268a8a-dade-4f5a-82a0-b4028a5cddba",
    "deepnote_cell_type": "code"
   },
   "source": "",
   "execution_count": null,
   "outputs": []
  },
  {
   "cell_type": "markdown",
   "source": "Afficher la matrice de confusion ",
   "metadata": {
    "cell_id": "00024-af7a0a22-576e-4e5a-bbaf-2902315f88b0",
    "deepnote_cell_type": "markdown"
   }
  },
  {
   "cell_type": "code",
   "metadata": {
    "cell_id": "00025-4f920c32-b719-4e8e-ac17-5371a7b41569",
    "deepnote_cell_type": "code"
   },
   "source": "",
   "execution_count": null,
   "outputs": []
  },
  {
   "cell_type": "markdown",
   "source": "Le modèle marche-t-il convenable ? Sinon c'est peut être qu'on a oublié de normaliser les données. \n\n\nNormaliser les données en divisant le dataset de train et de test par 255 (cela revient à faire un min max scaling) et refaire l'entraînement et l'évaluation",
   "metadata": {
    "cell_id": "00026-a2caf5ae-7afe-4d71-8178-633492be80e1",
    "deepnote_cell_type": "markdown"
   }
  },
  {
   "cell_type": "code",
   "metadata": {
    "cell_id": "00027-9e7c1ef4-2d3a-4be0-aa81-e56d3dc6ecb3",
    "deepnote_cell_type": "code"
   },
   "source": "",
   "execution_count": null,
   "outputs": []
  },
  {
   "cell_type": "markdown",
   "source": "La régression logistique marche relativement bien sur ce dataset car il est très facile. Néanmoins elle ne marche pas sur de vrais problème et c'est pour ce qu'on utilisera le deep learning. Pour vous en convaincre essayez de faire une régression linéaire sur cifar10  le",
   "metadata": {
    "cell_id": "00028-ed543a15-2c81-45ba-ab04-85dca6b7b39d",
    "deepnote_cell_type": "markdown"
   }
  },
  {
   "cell_type": "code",
   "metadata": {
    "cell_id": "00029-59438ca0-4da2-4519-a51c-8e26be3df2c5",
    "deepnote_cell_type": "code"
   },
   "source": "",
   "execution_count": null,
   "outputs": []
  },
  {
   "cell_type": "markdown",
   "source": "",
   "metadata": {
    "cell_id": "00030-471db101-568d-4809-a296-a70a9a07af19",
    "deepnote_cell_type": "markdown"
   }
  },
  {
   "cell_type": "markdown",
   "source": "<a style='text-decoration:none;line-height:16px;display:flex;color:#5B5B62;padding:10px;justify-content:end;' href='https://deepnote.com?utm_source=created-in-deepnote-cell&projectId=25ad01f7-ec4b-4ac8-bce6-a3745ef02c96' target=\"_blank\">\n<img alt='Created in deepnote.com' style='display:inline;max-height:16px;margin:0px;margin-right:7.5px;' src='data:image/svg+xml;base64,PD94bWwgdmVyc2lvbj0iMS4wIiBlbmNvZGluZz0iVVRGLTgiPz4KPHN2ZyB3aWR0aD0iODBweCIgaGVpZ2h0PSI4MHB4IiB2aWV3Qm94PSIwIDAgODAgODAiIHZlcnNpb249IjEuMSIgeG1sbnM9Imh0dHA6Ly93d3cudzMub3JnLzIwMDAvc3ZnIiB4bWxuczp4bGluaz0iaHR0cDovL3d3dy53My5vcmcvMTk5OS94bGluayI+CiAgICA8IS0tIEdlbmVyYXRvcjogU2tldGNoIDU0LjEgKDc2NDkwKSAtIGh0dHBzOi8vc2tldGNoYXBwLmNvbSAtLT4KICAgIDx0aXRsZT5Hcm91cCAzPC90aXRsZT4KICAgIDxkZXNjPkNyZWF0ZWQgd2l0aCBTa2V0Y2guPC9kZXNjPgogICAgPGcgaWQ9IkxhbmRpbmciIHN0cm9rZT0ibm9uZSIgc3Ryb2tlLXdpZHRoPSIxIiBmaWxsPSJub25lIiBmaWxsLXJ1bGU9ImV2ZW5vZGQiPgogICAgICAgIDxnIGlkPSJBcnRib2FyZCIgdHJhbnNmb3JtPSJ0cmFuc2xhdGUoLTEyMzUuMDAwMDAwLCAtNzkuMDAwMDAwKSI+CiAgICAgICAgICAgIDxnIGlkPSJHcm91cC0zIiB0cmFuc2Zvcm09InRyYW5zbGF0ZSgxMjM1LjAwMDAwMCwgNzkuMDAwMDAwKSI+CiAgICAgICAgICAgICAgICA8cG9seWdvbiBpZD0iUGF0aC0yMCIgZmlsbD0iIzAyNjVCNCIgcG9pbnRzPSIyLjM3NjIzNzYyIDgwIDM4LjA0NzY2NjcgODAgNTcuODIxNzgyMiA3My44MDU3NTkyIDU3LjgyMTc4MjIgMzIuNzU5MjczOSAzOS4xNDAyMjc4IDMxLjY4MzE2ODMiPjwvcG9seWdvbj4KICAgICAgICAgICAgICAgIDxwYXRoIGQ9Ik0zNS4wMDc3MTgsODAgQzQyLjkwNjIwMDcsNzYuNDU0OTM1OCA0Ny41NjQ5MTY3LDcxLjU0MjI2NzEgNDguOTgzODY2LDY1LjI2MTk5MzkgQzUxLjExMjI4OTksNTUuODQxNTg0MiA0MS42NzcxNzk1LDQ5LjIxMjIyODQgMjUuNjIzOTg0Niw0OS4yMTIyMjg0IEMyNS40ODQ5Mjg5LDQ5LjEyNjg0NDggMjkuODI2MTI5Niw0My4yODM4MjQ4IDM4LjY0NzU4NjksMzEuNjgzMTY4MyBMNzIuODcxMjg3MSwzMi41NTQ0MjUgTDY1LjI4MDk3Myw2Ny42NzYzNDIxIEw1MS4xMTIyODk5LDc3LjM3NjE0NCBMMzUuMDA3NzE4LDgwIFoiIGlkPSJQYXRoLTIyIiBmaWxsPSIjMDAyODY4Ij48L3BhdGg+CiAgICAgICAgICAgICAgICA8cGF0aCBkPSJNMCwzNy43MzA0NDA1IEwyNy4xMTQ1MzcsMC4yNTcxMTE0MzYgQzYyLjM3MTUxMjMsLTEuOTkwNzE3MDEgODAsMTAuNTAwMzkyNyA4MCwzNy43MzA0NDA1IEM4MCw2NC45NjA0ODgyIDY0Ljc3NjUwMzgsNzkuMDUwMzQxNCAzNC4zMjk1MTEzLDgwIEM0Ny4wNTUzNDg5LDc3LjU2NzA4MDggNTMuNDE4MjY3Nyw3MC4zMTM2MTAzIDUzLjQxODI2NzcsNTguMjM5NTg4NSBDNTMuNDE4MjY3Nyw0MC4xMjg1NTU3IDM2LjMwMzk1NDQsMzcuNzMwNDQwNSAyNS4yMjc0MTcsMzcuNzMwNDQwNSBDMTcuODQzMDU4NiwzNy43MzA0NDA1IDkuNDMzOTE5NjYsMzcuNzMwNDQwNSAwLDM3LjczMDQ0MDUgWiIgaWQ9IlBhdGgtMTkiIGZpbGw9IiMzNzkzRUYiPjwvcGF0aD4KICAgICAgICAgICAgPC9nPgogICAgICAgIDwvZz4KICAgIDwvZz4KPC9zdmc+' > </img>\nCreated in <span style='font-weight:600;margin-left:4px;'>Deepnote</span></a>",
   "metadata": {
    "tags": [],
    "created_in_deepnote_cell": true,
    "deepnote_cell_type": "markdown"
   }
  }
 ],
 "nbformat": 4,
 "nbformat_minor": 4,
 "metadata": {
  "kernelspec": {
   "display_name": "Python 3",
   "language": "python",
   "name": "python3"
  },
  "language_info": {
   "codemirror_mode": {
    "name": "ipython",
    "version": 3
   },
   "file_extension": ".py",
   "mimetype": "text/x-python",
   "name": "python",
   "nbconvert_exporter": "python",
   "pygments_lexer": "ipython3",
   "version": "3.7.8"
  },
  "deepnote_notebook_id": "f667f376-2d3b-4ed4-9ece-2532e6cf5503",
  "deepnote": {},
  "deepnote_execution_queue": []
 }
}