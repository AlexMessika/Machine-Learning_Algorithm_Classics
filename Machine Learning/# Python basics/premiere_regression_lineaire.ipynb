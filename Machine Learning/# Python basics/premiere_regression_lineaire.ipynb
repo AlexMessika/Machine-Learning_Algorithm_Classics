{
 "cells": [
  {
   "cell_type": "code",
   "metadata": {
    "tags": [],
    "cell_id": "00000-201f38cb-5a6d-400a-97c3-db4eaafac785",
    "deepnote_to_be_reexecuted": false,
    "source_hash": "cb5ee7c8",
    "execution_start": 1623142228407,
    "execution_millis": 77,
    "deepnote_cell_type": "code"
   },
   "source": "import pandas as pd\n\ndf = pd.read_csv('house_size_bedrooms_orientation_garden.csv')\ndf.describe()",
   "execution_count": null,
   "outputs": [
    {
     "output_type": "execute_result",
     "execution_count": 2,
     "data": {
      "application/vnd.deepnote.dataframe.v2+json": {
       "row_count": 8,
       "column_count": 4,
       "columns": [
        {
         "name": "size",
         "dtype": "float64",
         "stats": {
          "unique_count": 8,
          "nan_count": 0,
          "min": "0.8132887687",
          "max": "950.0",
          "histogram": [
           {
            "bin_start": 0.8132887687,
            "bin_end": 95.73195989183,
            "count": 2
           },
           {
            "bin_start": 95.73195989183,
            "bin_end": 190.65063101496,
            "count": 4
           },
           {
            "bin_start": 190.65063101496,
            "bin_end": 285.56930213808994,
            "count": 0
           },
           {
            "bin_start": 285.56930213808994,
            "bin_end": 380.48797326121996,
            "count": 1
           },
           {
            "bin_start": 380.48797326121996,
            "bin_end": 475.40664438435,
            "count": 0
           },
           {
            "bin_start": 475.40664438435,
            "bin_end": 570.3253155074799,
            "count": 0
           },
           {
            "bin_start": 570.3253155074799,
            "bin_end": 665.2439866306099,
            "count": 0
           },
           {
            "bin_start": 665.2439866306099,
            "bin_end": 760.16265775374,
            "count": 0
           },
           {
            "bin_start": 760.16265775374,
            "bin_end": 855.08132887687,
            "count": 0
           },
           {
            "bin_start": 855.08132887687,
            "bin_end": 950,
            "count": 1
           }
          ]
         }
        },
        {
         "name": "nb_rooms",
         "dtype": "float64",
         "stats": {
          "unique_count": 6,
          "nan_count": 0,
          "min": "0.8249102716980482",
          "max": "950.0",
          "histogram": [
           {
            "bin_start": 0.8249102716980482,
            "bin_end": 95.74241924452824,
            "count": 7
           },
           {
            "bin_start": 95.74241924452824,
            "bin_end": 190.65992821735844,
            "count": 0
           },
           {
            "bin_start": 190.65992821735844,
            "bin_end": 285.5774371901886,
            "count": 0
           },
           {
            "bin_start": 285.5774371901886,
            "bin_end": 380.4949461630188,
            "count": 0
           },
           {
            "bin_start": 380.4949461630188,
            "bin_end": 475.41245513584903,
            "count": 0
           },
           {
            "bin_start": 475.41245513584903,
            "bin_end": 570.3299641086792,
            "count": 0
           },
           {
            "bin_start": 570.3299641086792,
            "bin_end": 665.2474730815094,
            "count": 0
           },
           {
            "bin_start": 665.2474730815094,
            "bin_end": 760.1649820543396,
            "count": 0
           },
           {
            "bin_start": 760.1649820543396,
            "bin_end": 855.0824910271698,
            "count": 0
           },
           {
            "bin_start": 855.0824910271698,
            "bin_end": 950,
            "count": 1
           }
          ]
         }
        },
        {
         "name": "garden",
         "dtype": "float64",
         "stats": {
          "unique_count": 5,
          "nan_count": 0,
          "min": "0.0",
          "max": "950.0",
          "histogram": [
           {
            "bin_start": 0,
            "bin_end": 95,
            "count": 7
           },
           {
            "bin_start": 95,
            "bin_end": 190,
            "count": 0
           },
           {
            "bin_start": 190,
            "bin_end": 285,
            "count": 0
           },
           {
            "bin_start": 285,
            "bin_end": 380,
            "count": 0
           },
           {
            "bin_start": 380,
            "bin_end": 475,
            "count": 0
           },
           {
            "bin_start": 475,
            "bin_end": 570,
            "count": 0
           },
           {
            "bin_start": 570,
            "bin_end": 665,
            "count": 0
           },
           {
            "bin_start": 665,
            "bin_end": 760,
            "count": 0
           },
           {
            "bin_start": 760,
            "bin_end": 855,
            "count": 0
           },
           {
            "bin_start": 855,
            "bin_end": 950,
            "count": 1
           }
          ]
         }
        },
        {
         "name": "price",
         "dtype": "float64",
         "stats": {
          "unique_count": 8,
          "nan_count": 0,
          "min": "-6887751.10905626",
          "max": "19854527.36752",
          "histogram": [
           {
            "bin_start": -6887751.10905626,
            "bin_end": -4213523.261398634,
            "count": 1
           },
           {
            "bin_start": -4213523.261398634,
            "bin_end": -1539295.4137410084,
            "count": 0
           },
           {
            "bin_start": -1539295.4137410084,
            "bin_end": 1134932.4339166172,
            "count": 2
           },
           {
            "bin_start": 1134932.4339166172,
            "bin_end": 3809160.2815742437,
            "count": 3
           },
           {
            "bin_start": 3809160.2815742437,
            "bin_end": 6483388.12923187,
            "count": 1
           },
           {
            "bin_start": 6483388.12923187,
            "bin_end": 9157615.976889495,
            "count": 0
           },
           {
            "bin_start": 9157615.976889495,
            "bin_end": 11831843.824547123,
            "count": 0
           },
           {
            "bin_start": 11831843.824547123,
            "bin_end": 14506071.672204748,
            "count": 0
           },
           {
            "bin_start": 14506071.672204748,
            "bin_end": 17180299.519862372,
            "count": 0
           },
           {
            "bin_start": 17180299.519862372,
            "bin_end": 19854527.36752,
            "count": 1
           }
          ]
         }
        },
        {
         "name": "_deepnote_index_column",
         "dtype": "object"
        }
       ],
       "rows_top": [
        {
         "size": 950,
         "nb_rooms": 950,
         "garden": 950,
         "price": 950,
         "_deepnote_index_column": "count"
        },
        {
         "size": 150.20080416905546,
         "nb_rooms": 1.951578947368421,
         "garden": 0.5168421052631579,
         "price": 2995140.341164714,
         "_deepnote_index_column": "mean"
        },
        {
         "size": 49.132028624773056,
         "nb_rooms": 0.8249102716980482,
         "garden": 0.49997947936371856,
         "price": 3131020.3748951484,
         "_deepnote_index_column": "std"
        },
        {
         "size": 0.8132887687,
         "nb_rooms": 1,
         "garden": 0,
         "price": -6887751.10905626,
         "_deepnote_index_column": "min"
        },
        {
         "size": 117.91713616224999,
         "nb_rooms": 1,
         "garden": 0,
         "price": 1004603.9128159876,
         "_deepnote_index_column": "25%"
        },
        {
         "size": 152.67029768055,
         "nb_rooms": 2,
         "garden": 1,
         "price": 2953007.6296742354,
         "_deepnote_index_column": "50%"
        },
        {
         "size": 184.678393360725,
         "nb_rooms": 3,
         "garden": 1,
         "price": 5028813.911467925,
         "_deepnote_index_column": "75%"
        },
        {
         "size": 296.0941136305,
         "nb_rooms": 3,
         "garden": 1,
         "price": 19854527.36752,
         "_deepnote_index_column": "max"
        }
       ],
       "rows_bottom": null
      },
      "text/plain": "             size    nb_rooms      garden         price\ncount  950.000000  950.000000  950.000000  9.500000e+02\nmean   150.200804    1.951579    0.516842  2.995140e+06\nstd     49.132029    0.824910    0.499979  3.131020e+06\nmin      0.813289    1.000000    0.000000 -6.887751e+06\n25%    117.917136    1.000000    0.000000  1.004604e+06\n50%    152.670298    2.000000    1.000000  2.953008e+06\n75%    184.678393    3.000000    1.000000  5.028814e+06\nmax    296.094114    3.000000    1.000000  1.985453e+07",
      "text/html": "<div>\n<style scoped>\n    .dataframe tbody tr th:only-of-type {\n        vertical-align: middle;\n    }\n\n    .dataframe tbody tr th {\n        vertical-align: top;\n    }\n\n    .dataframe thead th {\n        text-align: right;\n    }\n</style>\n<table border=\"1\" class=\"dataframe\">\n  <thead>\n    <tr style=\"text-align: right;\">\n      <th></th>\n      <th>size</th>\n      <th>nb_rooms</th>\n      <th>garden</th>\n      <th>price</th>\n    </tr>\n  </thead>\n  <tbody>\n    <tr>\n      <th>count</th>\n      <td>950.000000</td>\n      <td>950.000000</td>\n      <td>950.000000</td>\n      <td>9.500000e+02</td>\n    </tr>\n    <tr>\n      <th>mean</th>\n      <td>150.200804</td>\n      <td>1.951579</td>\n      <td>0.516842</td>\n      <td>2.995140e+06</td>\n    </tr>\n    <tr>\n      <th>std</th>\n      <td>49.132029</td>\n      <td>0.824910</td>\n      <td>0.499979</td>\n      <td>3.131020e+06</td>\n    </tr>\n    <tr>\n      <th>min</th>\n      <td>0.813289</td>\n      <td>1.000000</td>\n      <td>0.000000</td>\n      <td>-6.887751e+06</td>\n    </tr>\n    <tr>\n      <th>25%</th>\n      <td>117.917136</td>\n      <td>1.000000</td>\n      <td>0.000000</td>\n      <td>1.004604e+06</td>\n    </tr>\n    <tr>\n      <th>50%</th>\n      <td>152.670298</td>\n      <td>2.000000</td>\n      <td>1.000000</td>\n      <td>2.953008e+06</td>\n    </tr>\n    <tr>\n      <th>75%</th>\n      <td>184.678393</td>\n      <td>3.000000</td>\n      <td>1.000000</td>\n      <td>5.028814e+06</td>\n    </tr>\n    <tr>\n      <th>max</th>\n      <td>296.094114</td>\n      <td>3.000000</td>\n      <td>1.000000</td>\n      <td>1.985453e+07</td>\n    </tr>\n  </tbody>\n</table>\n</div>"
     },
     "metadata": {}
    }
   ]
  },
  {
   "cell_type": "code",
   "metadata": {
    "tags": [],
    "cell_id": "00001-17b35d8b-8b7b-481d-890a-9b5196a95ad0",
    "deepnote_to_be_reexecuted": false,
    "source_hash": "cf550653",
    "execution_start": 1623142356246,
    "execution_millis": 131,
    "deepnote_cell_type": "code"
   },
   "source": "\nfrom sklearn.linear_model import LinearRegression\n\nmodel = LinearRegression()\nprint(type(model))\n",
   "execution_count": null,
   "outputs": [
    {
     "name": "stdout",
     "text": "<class 'sklearn.linear_model._base.LinearRegression'>\n",
     "output_type": "stream"
    }
   ]
  },
  {
   "cell_type": "code",
   "metadata": {
    "tags": [],
    "cell_id": "00002-1cb80394-cef7-4b5f-939d-fd3121c846a3",
    "deepnote_to_be_reexecuted": false,
    "source_hash": "1d0197b1",
    "execution_start": 1623142860180,
    "execution_millis": 66,
    "deepnote_cell_type": "code"
   },
   "source": "from sklearn.model_selection import train_test_split\n\ntrain, test = train_test_split(df)\n\ntype(train), type(test)",
   "execution_count": null,
   "outputs": [
    {
     "output_type": "execute_result",
     "execution_count": 9,
     "data": {
      "text/plain": "(pandas.core.frame.DataFrame, pandas.core.frame.DataFrame)"
     },
     "metadata": {}
    }
   ]
  },
  {
   "cell_type": "code",
   "metadata": {
    "tags": [],
    "cell_id": "00003-b6a5685c-6fab-4713-a742-43c839f5f45d",
    "deepnote_to_be_reexecuted": false,
    "source_hash": "cc4476c9",
    "execution_start": 1623142874125,
    "execution_millis": 15,
    "deepnote_cell_type": "code"
   },
   "source": "len(train), len(test), len(df)",
   "execution_count": null,
   "outputs": [
    {
     "output_type": "execute_result",
     "execution_count": 10,
     "data": {
      "text/plain": "(712, 238, 950)"
     },
     "metadata": {}
    }
   ]
  },
  {
   "cell_type": "code",
   "metadata": {
    "tags": [],
    "cell_id": "00003-c5d026f9-9998-4d49-97a0-4417e1274bcf",
    "deepnote_to_be_reexecuted": false,
    "source_hash": "e7e2ba04",
    "execution_start": 1623142950812,
    "execution_millis": 38,
    "deepnote_cell_type": "code"
   },
   "source": "X_train = train[['size', 'nb_rooms']]\ny_train = train['price']\n\nX_test = test[['size', 'nb_rooms']]\ny_test = test['price']\n\nmodel.fit(X_train, y_train)",
   "execution_count": null,
   "outputs": [
    {
     "output_type": "execute_result",
     "execution_count": 11,
     "data": {
      "text/plain": "LinearRegression()"
     },
     "metadata": {}
    }
   ]
  },
  {
   "cell_type": "code",
   "metadata": {
    "tags": [],
    "cell_id": "00005-ec8b220a-e784-4f31-ab14-2497f1c797a0",
    "deepnote_to_be_reexecuted": false,
    "source_hash": "28f7f5d",
    "execution_start": 1623143071076,
    "execution_millis": 16,
    "deepnote_cell_type": "code"
   },
   "source": "## calculer la performance du modèle \nfrom sklearn.metrics import mean_squared_error\n\n\ny_pred_train = model.predict(X_train)\ny_pred_test  = model.predict(X_test)\nmse_train = mean_squared_error(y_train, y_pred_train)\nmse_test  = mean_squared_error(y_test, y_pred_test)\nmse_train, mse_test",
   "execution_count": null,
   "outputs": [
    {
     "output_type": "execute_result",
     "execution_count": 13,
     "data": {
      "text/plain": "(9828303919302.182, 9058273670169.633)"
     },
     "metadata": {}
    }
   ]
  },
  {
   "cell_type": "code",
   "metadata": {
    "tags": [],
    "cell_id": "00006-0050c4e2-b088-4823-a8ab-69ba105cbb50",
    "deepnote_to_be_reexecuted": false,
    "source_hash": "c734554d",
    "execution_start": 1623143107233,
    "execution_millis": 40,
    "deepnote_cell_type": "code"
   },
   "source": "import joblib\n\njoblib.dump(model, \"regression_lce.job\")",
   "execution_count": null,
   "outputs": [
    {
     "output_type": "execute_result",
     "execution_count": 14,
     "data": {
      "text/plain": "['regression_lce.job']"
     },
     "metadata": {}
    }
   ]
  },
  {
   "cell_type": "markdown",
   "source": "après entraînement : \n\nle modèle a pour formule \n$ prix = 1827297 + 8307 * size - 40998 * nb_rooms $ ",
   "metadata": {
    "tags": [],
    "cell_id": "00004-0c904f1d-7d86-49c0-9949-cb8306010fcc",
    "deepnote_cell_type": "markdown"
   }
  },
  {
   "cell_type": "code",
   "metadata": {
    "tags": [],
    "cell_id": "00004-9f539f91-a7f8-456c-bf32-cd9fc7d278b5",
    "deepnote_to_be_reexecuted": false,
    "source_hash": "ea2dfd53",
    "execution_start": 1623142640180,
    "execution_millis": 23,
    "deepnote_cell_type": "code"
   },
   "source": "import numpy as np\nmaison = np.array([[100, 2]])\n\nmodel.predict(maison)",
   "execution_count": null,
   "outputs": [
    {
     "output_type": "execute_result",
     "execution_count": 8,
     "data": {
      "text/plain": "array([2576091.41306161])"
     },
     "metadata": {}
    }
   ]
  },
  {
   "cell_type": "code",
   "metadata": {
    "tags": [],
    "cell_id": "00006-7b46cc2e-38df-4861-ad59-9e5691bf9868",
    "deepnote_to_be_reexecuted": false,
    "source_hash": "e85bace7",
    "execution_start": 1623147542177,
    "execution_millis": 70,
    "deepnote_cell_type": "code"
   },
   "source": "import pandas as pd \n\ndf = pd.DataFrame({\n    'size': [110, 90, 80, 110, 80],\n    'orientation': ['Sud', 'Sud', 'Est', 'Ouest', 'Nord' ]\n})\ndf",
   "execution_count": null,
   "outputs": [
    {
     "output_type": "execute_result",
     "execution_count": 20,
     "data": {
      "application/vnd.deepnote.dataframe.v2+json": {
       "row_count": 5,
       "column_count": 2,
       "columns": [
        {
         "name": "size",
         "dtype": "int64",
         "stats": {
          "unique_count": 3,
          "nan_count": 0,
          "min": "80",
          "max": "110",
          "histogram": [
           {
            "bin_start": 80,
            "bin_end": 83,
            "count": 2
           },
           {
            "bin_start": 83,
            "bin_end": 86,
            "count": 0
           },
           {
            "bin_start": 86,
            "bin_end": 89,
            "count": 0
           },
           {
            "bin_start": 89,
            "bin_end": 92,
            "count": 1
           },
           {
            "bin_start": 92,
            "bin_end": 95,
            "count": 0
           },
           {
            "bin_start": 95,
            "bin_end": 98,
            "count": 0
           },
           {
            "bin_start": 98,
            "bin_end": 101,
            "count": 0
           },
           {
            "bin_start": 101,
            "bin_end": 104,
            "count": 0
           },
           {
            "bin_start": 104,
            "bin_end": 107,
            "count": 0
           },
           {
            "bin_start": 107,
            "bin_end": 110,
            "count": 2
           }
          ]
         }
        },
        {
         "name": "orientation",
         "dtype": "object",
         "stats": {
          "unique_count": 4,
          "nan_count": 0,
          "categories": [
           {
            "name": "Sud",
            "count": 2
           },
           {
            "name": "Est",
            "count": 1
           },
           {
            "name": "2 others",
            "count": 2
           }
          ]
         }
        },
        {
         "name": "_deepnote_index_column",
         "dtype": "int64"
        }
       ],
       "rows_top": [
        {
         "size": 110,
         "orientation": "Sud",
         "_deepnote_index_column": 0
        },
        {
         "size": 90,
         "orientation": "Sud",
         "_deepnote_index_column": 1
        },
        {
         "size": 80,
         "orientation": "Est",
         "_deepnote_index_column": 2
        },
        {
         "size": 110,
         "orientation": "Ouest",
         "_deepnote_index_column": 3
        },
        {
         "size": 80,
         "orientation": "Nord",
         "_deepnote_index_column": 4
        }
       ],
       "rows_bottom": null
      },
      "text/plain": "   size orientation\n0   110         Sud\n1    90         Sud\n2    80         Est\n3   110       Ouest\n4    80        Nord",
      "text/html": "<div>\n<style scoped>\n    .dataframe tbody tr th:only-of-type {\n        vertical-align: middle;\n    }\n\n    .dataframe tbody tr th {\n        vertical-align: top;\n    }\n\n    .dataframe thead th {\n        text-align: right;\n    }\n</style>\n<table border=\"1\" class=\"dataframe\">\n  <thead>\n    <tr style=\"text-align: right;\">\n      <th></th>\n      <th>size</th>\n      <th>orientation</th>\n    </tr>\n  </thead>\n  <tbody>\n    <tr>\n      <th>0</th>\n      <td>110</td>\n      <td>Sud</td>\n    </tr>\n    <tr>\n      <th>1</th>\n      <td>90</td>\n      <td>Sud</td>\n    </tr>\n    <tr>\n      <th>2</th>\n      <td>80</td>\n      <td>Est</td>\n    </tr>\n    <tr>\n      <th>3</th>\n      <td>110</td>\n      <td>Ouest</td>\n    </tr>\n    <tr>\n      <th>4</th>\n      <td>80</td>\n      <td>Nord</td>\n    </tr>\n  </tbody>\n</table>\n</div>"
     },
     "metadata": {}
    }
   ]
  },
  {
   "cell_type": "code",
   "metadata": {
    "tags": [],
    "cell_id": "00010-53792b5c-5292-423a-b177-50540e16caaa",
    "deepnote_to_be_reexecuted": false,
    "source_hash": "23e4e0b7",
    "execution_start": 1623147178367,
    "execution_millis": 33,
    "deepnote_cell_type": "code"
   },
   "source": "df2 = df.replace({\n    'Sud': 1,\n    'Nord': 0,\n    'Est': 2,\n    'Ouest': 3\n})\n\ndf2",
   "execution_count": null,
   "outputs": [
    {
     "output_type": "execute_result",
     "execution_count": 16,
     "data": {
      "application/vnd.deepnote.dataframe.v2+json": {
       "row_count": 5,
       "column_count": 2,
       "columns": [
        {
         "name": "size",
         "dtype": "int64",
         "stats": {
          "unique_count": 3,
          "nan_count": 0,
          "min": "80",
          "max": "110",
          "histogram": [
           {
            "bin_start": 80,
            "bin_end": 83,
            "count": 2
           },
           {
            "bin_start": 83,
            "bin_end": 86,
            "count": 0
           },
           {
            "bin_start": 86,
            "bin_end": 89,
            "count": 0
           },
           {
            "bin_start": 89,
            "bin_end": 92,
            "count": 1
           },
           {
            "bin_start": 92,
            "bin_end": 95,
            "count": 0
           },
           {
            "bin_start": 95,
            "bin_end": 98,
            "count": 0
           },
           {
            "bin_start": 98,
            "bin_end": 101,
            "count": 0
           },
           {
            "bin_start": 101,
            "bin_end": 104,
            "count": 0
           },
           {
            "bin_start": 104,
            "bin_end": 107,
            "count": 0
           },
           {
            "bin_start": 107,
            "bin_end": 110,
            "count": 2
           }
          ]
         }
        },
        {
         "name": "orientation",
         "dtype": "int64",
         "stats": {
          "unique_count": 4,
          "nan_count": 0,
          "min": "0",
          "max": "3",
          "histogram": [
           {
            "bin_start": 0,
            "bin_end": 0.3,
            "count": 1
           },
           {
            "bin_start": 0.3,
            "bin_end": 0.6,
            "count": 0
           },
           {
            "bin_start": 0.6,
            "bin_end": 0.8999999999999999,
            "count": 0
           },
           {
            "bin_start": 0.8999999999999999,
            "bin_end": 1.2,
            "count": 2
           },
           {
            "bin_start": 1.2,
            "bin_end": 1.5,
            "count": 0
           },
           {
            "bin_start": 1.5,
            "bin_end": 1.7999999999999998,
            "count": 0
           },
           {
            "bin_start": 1.7999999999999998,
            "bin_end": 2.1,
            "count": 1
           },
           {
            "bin_start": 2.1,
            "bin_end": 2.4,
            "count": 0
           },
           {
            "bin_start": 2.4,
            "bin_end": 2.6999999999999997,
            "count": 0
           },
           {
            "bin_start": 2.6999999999999997,
            "bin_end": 3,
            "count": 1
           }
          ]
         }
        },
        {
         "name": "_deepnote_index_column",
         "dtype": "int64"
        }
       ],
       "rows_top": [
        {
         "size": 110,
         "orientation": 1,
         "_deepnote_index_column": 0
        },
        {
         "size": 90,
         "orientation": 1,
         "_deepnote_index_column": 1
        },
        {
         "size": 80,
         "orientation": 2,
         "_deepnote_index_column": 2
        },
        {
         "size": 110,
         "orientation": 3,
         "_deepnote_index_column": 3
        },
        {
         "size": 80,
         "orientation": 0,
         "_deepnote_index_column": 4
        }
       ],
       "rows_bottom": null
      },
      "text/plain": "   size  orientation\n0   110            1\n1    90            1\n2    80            2\n3   110            3\n4    80            0",
      "text/html": "<div>\n<style scoped>\n    .dataframe tbody tr th:only-of-type {\n        vertical-align: middle;\n    }\n\n    .dataframe tbody tr th {\n        vertical-align: top;\n    }\n\n    .dataframe thead th {\n        text-align: right;\n    }\n</style>\n<table border=\"1\" class=\"dataframe\">\n  <thead>\n    <tr style=\"text-align: right;\">\n      <th></th>\n      <th>size</th>\n      <th>orientation</th>\n    </tr>\n  </thead>\n  <tbody>\n    <tr>\n      <th>0</th>\n      <td>110</td>\n      <td>1</td>\n    </tr>\n    <tr>\n      <th>1</th>\n      <td>90</td>\n      <td>1</td>\n    </tr>\n    <tr>\n      <th>2</th>\n      <td>80</td>\n      <td>2</td>\n    </tr>\n    <tr>\n      <th>3</th>\n      <td>110</td>\n      <td>3</td>\n    </tr>\n    <tr>\n      <th>4</th>\n      <td>80</td>\n      <td>0</td>\n    </tr>\n  </tbody>\n</table>\n</div>"
     },
     "metadata": {}
    }
   ]
  },
  {
   "cell_type": "code",
   "metadata": {
    "tags": [],
    "cell_id": "00011-a5b89d64-4265-4a1c-8cc1-61beefc46386",
    "deepnote_to_be_reexecuted": false,
    "source_hash": "21fa87b0",
    "execution_start": 1623147293652,
    "execution_millis": 29,
    "deepnote_cell_type": "code"
   },
   "source": "from sklearn.preprocessing import LabelEncoder\n\n\nencoder = LabelEncoder()\n\nencoder.fit(df['orientation'])\n\ndf['orientation_encode'] = encoder.transform(df['orientation'])\n\ndf",
   "execution_count": null,
   "outputs": [
    {
     "output_type": "execute_result",
     "execution_count": 18,
     "data": {
      "application/vnd.deepnote.dataframe.v2+json": {
       "row_count": 5,
       "column_count": 3,
       "columns": [
        {
         "name": "size",
         "dtype": "int64",
         "stats": {
          "unique_count": 3,
          "nan_count": 0,
          "min": "80",
          "max": "110",
          "histogram": [
           {
            "bin_start": 80,
            "bin_end": 83,
            "count": 2
           },
           {
            "bin_start": 83,
            "bin_end": 86,
            "count": 0
           },
           {
            "bin_start": 86,
            "bin_end": 89,
            "count": 0
           },
           {
            "bin_start": 89,
            "bin_end": 92,
            "count": 1
           },
           {
            "bin_start": 92,
            "bin_end": 95,
            "count": 0
           },
           {
            "bin_start": 95,
            "bin_end": 98,
            "count": 0
           },
           {
            "bin_start": 98,
            "bin_end": 101,
            "count": 0
           },
           {
            "bin_start": 101,
            "bin_end": 104,
            "count": 0
           },
           {
            "bin_start": 104,
            "bin_end": 107,
            "count": 0
           },
           {
            "bin_start": 107,
            "bin_end": 110,
            "count": 2
           }
          ]
         }
        },
        {
         "name": "orientation",
         "dtype": "object",
         "stats": {
          "unique_count": 4,
          "nan_count": 0,
          "categories": [
           {
            "name": "Sud",
            "count": 2
           },
           {
            "name": "Est",
            "count": 1
           },
           {
            "name": "2 others",
            "count": 2
           }
          ]
         }
        },
        {
         "name": "orientation_encode",
         "dtype": "int64",
         "stats": {
          "unique_count": 4,
          "nan_count": 0,
          "min": "0",
          "max": "3",
          "histogram": [
           {
            "bin_start": 0,
            "bin_end": 0.3,
            "count": 1
           },
           {
            "bin_start": 0.3,
            "bin_end": 0.6,
            "count": 0
           },
           {
            "bin_start": 0.6,
            "bin_end": 0.8999999999999999,
            "count": 0
           },
           {
            "bin_start": 0.8999999999999999,
            "bin_end": 1.2,
            "count": 1
           },
           {
            "bin_start": 1.2,
            "bin_end": 1.5,
            "count": 0
           },
           {
            "bin_start": 1.5,
            "bin_end": 1.7999999999999998,
            "count": 0
           },
           {
            "bin_start": 1.7999999999999998,
            "bin_end": 2.1,
            "count": 1
           },
           {
            "bin_start": 2.1,
            "bin_end": 2.4,
            "count": 0
           },
           {
            "bin_start": 2.4,
            "bin_end": 2.6999999999999997,
            "count": 0
           },
           {
            "bin_start": 2.6999999999999997,
            "bin_end": 3,
            "count": 2
           }
          ]
         }
        },
        {
         "name": "_deepnote_index_column",
         "dtype": "int64"
        }
       ],
       "rows_top": [
        {
         "size": 110,
         "orientation": "Sud",
         "orientation_encode": 3,
         "_deepnote_index_column": 0
        },
        {
         "size": 90,
         "orientation": "Sud",
         "orientation_encode": 3,
         "_deepnote_index_column": 1
        },
        {
         "size": 80,
         "orientation": "Est",
         "orientation_encode": 0,
         "_deepnote_index_column": 2
        },
        {
         "size": 110,
         "orientation": "Ouest",
         "orientation_encode": 2,
         "_deepnote_index_column": 3
        },
        {
         "size": 80,
         "orientation": "Nord",
         "orientation_encode": 1,
         "_deepnote_index_column": 4
        }
       ],
       "rows_bottom": null
      },
      "text/plain": "   size orientation  orientation_encode\n0   110         Sud                   3\n1    90         Sud                   3\n2    80         Est                   0\n3   110       Ouest                   2\n4    80        Nord                   1",
      "text/html": "<div>\n<style scoped>\n    .dataframe tbody tr th:only-of-type {\n        vertical-align: middle;\n    }\n\n    .dataframe tbody tr th {\n        vertical-align: top;\n    }\n\n    .dataframe thead th {\n        text-align: right;\n    }\n</style>\n<table border=\"1\" class=\"dataframe\">\n  <thead>\n    <tr style=\"text-align: right;\">\n      <th></th>\n      <th>size</th>\n      <th>orientation</th>\n      <th>orientation_encode</th>\n    </tr>\n  </thead>\n  <tbody>\n    <tr>\n      <th>0</th>\n      <td>110</td>\n      <td>Sud</td>\n      <td>3</td>\n    </tr>\n    <tr>\n      <th>1</th>\n      <td>90</td>\n      <td>Sud</td>\n      <td>3</td>\n    </tr>\n    <tr>\n      <th>2</th>\n      <td>80</td>\n      <td>Est</td>\n      <td>0</td>\n    </tr>\n    <tr>\n      <th>3</th>\n      <td>110</td>\n      <td>Ouest</td>\n      <td>2</td>\n    </tr>\n    <tr>\n      <th>4</th>\n      <td>80</td>\n      <td>Nord</td>\n      <td>1</td>\n    </tr>\n  </tbody>\n</table>\n</div>"
     },
     "metadata": {}
    }
   ]
  },
  {
   "cell_type": "code",
   "metadata": {
    "tags": [],
    "cell_id": "00012-340cbade-24c9-4266-ad6c-03dc3ea0cb7c",
    "deepnote_to_be_reexecuted": false,
    "source_hash": "b92b3326",
    "execution_start": 1623147544110,
    "execution_millis": 36,
    "deepnote_cell_type": "code"
   },
   "source": "\n\ndf2 = pd.get_dummies(df, columns=['orientation'])\n\ndf2",
   "execution_count": null,
   "outputs": [
    {
     "output_type": "execute_result",
     "execution_count": 21,
     "data": {
      "application/vnd.deepnote.dataframe.v2+json": {
       "row_count": 5,
       "column_count": 5,
       "columns": [
        {
         "name": "size",
         "dtype": "int64",
         "stats": {
          "unique_count": 3,
          "nan_count": 0,
          "min": "80",
          "max": "110",
          "histogram": [
           {
            "bin_start": 80,
            "bin_end": 83,
            "count": 2
           },
           {
            "bin_start": 83,
            "bin_end": 86,
            "count": 0
           },
           {
            "bin_start": 86,
            "bin_end": 89,
            "count": 0
           },
           {
            "bin_start": 89,
            "bin_end": 92,
            "count": 1
           },
           {
            "bin_start": 92,
            "bin_end": 95,
            "count": 0
           },
           {
            "bin_start": 95,
            "bin_end": 98,
            "count": 0
           },
           {
            "bin_start": 98,
            "bin_end": 101,
            "count": 0
           },
           {
            "bin_start": 101,
            "bin_end": 104,
            "count": 0
           },
           {
            "bin_start": 104,
            "bin_end": 107,
            "count": 0
           },
           {
            "bin_start": 107,
            "bin_end": 110,
            "count": 2
           }
          ]
         }
        },
        {
         "name": "orientation_Est",
         "dtype": "uint8",
         "stats": {
          "unique_count": 2,
          "nan_count": 0,
          "min": "0",
          "max": "1",
          "histogram": [
           {
            "bin_start": 0,
            "bin_end": 0.1,
            "count": 4
           },
           {
            "bin_start": 0.1,
            "bin_end": 0.2,
            "count": 0
           },
           {
            "bin_start": 0.2,
            "bin_end": 0.30000000000000004,
            "count": 0
           },
           {
            "bin_start": 0.30000000000000004,
            "bin_end": 0.4,
            "count": 0
           },
           {
            "bin_start": 0.4,
            "bin_end": 0.5,
            "count": 0
           },
           {
            "bin_start": 0.5,
            "bin_end": 0.6000000000000001,
            "count": 0
           },
           {
            "bin_start": 0.6000000000000001,
            "bin_end": 0.7000000000000001,
            "count": 0
           },
           {
            "bin_start": 0.7000000000000001,
            "bin_end": 0.8,
            "count": 0
           },
           {
            "bin_start": 0.8,
            "bin_end": 0.9,
            "count": 0
           },
           {
            "bin_start": 0.9,
            "bin_end": 1,
            "count": 1
           }
          ]
         }
        },
        {
         "name": "orientation_Nord",
         "dtype": "uint8",
         "stats": {
          "unique_count": 2,
          "nan_count": 0,
          "min": "0",
          "max": "1",
          "histogram": [
           {
            "bin_start": 0,
            "bin_end": 0.1,
            "count": 4
           },
           {
            "bin_start": 0.1,
            "bin_end": 0.2,
            "count": 0
           },
           {
            "bin_start": 0.2,
            "bin_end": 0.30000000000000004,
            "count": 0
           },
           {
            "bin_start": 0.30000000000000004,
            "bin_end": 0.4,
            "count": 0
           },
           {
            "bin_start": 0.4,
            "bin_end": 0.5,
            "count": 0
           },
           {
            "bin_start": 0.5,
            "bin_end": 0.6000000000000001,
            "count": 0
           },
           {
            "bin_start": 0.6000000000000001,
            "bin_end": 0.7000000000000001,
            "count": 0
           },
           {
            "bin_start": 0.7000000000000001,
            "bin_end": 0.8,
            "count": 0
           },
           {
            "bin_start": 0.8,
            "bin_end": 0.9,
            "count": 0
           },
           {
            "bin_start": 0.9,
            "bin_end": 1,
            "count": 1
           }
          ]
         }
        },
        {
         "name": "orientation_Ouest",
         "dtype": "uint8",
         "stats": {
          "unique_count": 2,
          "nan_count": 0,
          "min": "0",
          "max": "1",
          "histogram": [
           {
            "bin_start": 0,
            "bin_end": 0.1,
            "count": 4
           },
           {
            "bin_start": 0.1,
            "bin_end": 0.2,
            "count": 0
           },
           {
            "bin_start": 0.2,
            "bin_end": 0.30000000000000004,
            "count": 0
           },
           {
            "bin_start": 0.30000000000000004,
            "bin_end": 0.4,
            "count": 0
           },
           {
            "bin_start": 0.4,
            "bin_end": 0.5,
            "count": 0
           },
           {
            "bin_start": 0.5,
            "bin_end": 0.6000000000000001,
            "count": 0
           },
           {
            "bin_start": 0.6000000000000001,
            "bin_end": 0.7000000000000001,
            "count": 0
           },
           {
            "bin_start": 0.7000000000000001,
            "bin_end": 0.8,
            "count": 0
           },
           {
            "bin_start": 0.8,
            "bin_end": 0.9,
            "count": 0
           },
           {
            "bin_start": 0.9,
            "bin_end": 1,
            "count": 1
           }
          ]
         }
        },
        {
         "name": "orientation_Sud",
         "dtype": "uint8",
         "stats": {
          "unique_count": 2,
          "nan_count": 0,
          "min": "0",
          "max": "1",
          "histogram": [
           {
            "bin_start": 0,
            "bin_end": 0.1,
            "count": 3
           },
           {
            "bin_start": 0.1,
            "bin_end": 0.2,
            "count": 0
           },
           {
            "bin_start": 0.2,
            "bin_end": 0.30000000000000004,
            "count": 0
           },
           {
            "bin_start": 0.30000000000000004,
            "bin_end": 0.4,
            "count": 0
           },
           {
            "bin_start": 0.4,
            "bin_end": 0.5,
            "count": 0
           },
           {
            "bin_start": 0.5,
            "bin_end": 0.6000000000000001,
            "count": 0
           },
           {
            "bin_start": 0.6000000000000001,
            "bin_end": 0.7000000000000001,
            "count": 0
           },
           {
            "bin_start": 0.7000000000000001,
            "bin_end": 0.8,
            "count": 0
           },
           {
            "bin_start": 0.8,
            "bin_end": 0.9,
            "count": 0
           },
           {
            "bin_start": 0.9,
            "bin_end": 1,
            "count": 2
           }
          ]
         }
        },
        {
         "name": "_deepnote_index_column",
         "dtype": "int64"
        }
       ],
       "rows_top": [
        {
         "size": 110,
         "orientation_Est": 0,
         "orientation_Nord": 0,
         "orientation_Ouest": 0,
         "orientation_Sud": 1,
         "_deepnote_index_column": 0
        },
        {
         "size": 90,
         "orientation_Est": 0,
         "orientation_Nord": 0,
         "orientation_Ouest": 0,
         "orientation_Sud": 1,
         "_deepnote_index_column": 1
        },
        {
         "size": 80,
         "orientation_Est": 1,
         "orientation_Nord": 0,
         "orientation_Ouest": 0,
         "orientation_Sud": 0,
         "_deepnote_index_column": 2
        },
        {
         "size": 110,
         "orientation_Est": 0,
         "orientation_Nord": 0,
         "orientation_Ouest": 1,
         "orientation_Sud": 0,
         "_deepnote_index_column": 3
        },
        {
         "size": 80,
         "orientation_Est": 0,
         "orientation_Nord": 1,
         "orientation_Ouest": 0,
         "orientation_Sud": 0,
         "_deepnote_index_column": 4
        }
       ],
       "rows_bottom": null
      },
      "text/plain": "   size  orientation_Est  orientation_Nord  orientation_Ouest  orientation_Sud\n0   110                0                 0                  0                1\n1    90                0                 0                  0                1\n2    80                1                 0                  0                0\n3   110                0                 0                  1                0\n4    80                0                 1                  0                0",
      "text/html": "<div>\n<style scoped>\n    .dataframe tbody tr th:only-of-type {\n        vertical-align: middle;\n    }\n\n    .dataframe tbody tr th {\n        vertical-align: top;\n    }\n\n    .dataframe thead th {\n        text-align: right;\n    }\n</style>\n<table border=\"1\" class=\"dataframe\">\n  <thead>\n    <tr style=\"text-align: right;\">\n      <th></th>\n      <th>size</th>\n      <th>orientation_Est</th>\n      <th>orientation_Nord</th>\n      <th>orientation_Ouest</th>\n      <th>orientation_Sud</th>\n    </tr>\n  </thead>\n  <tbody>\n    <tr>\n      <th>0</th>\n      <td>110</td>\n      <td>0</td>\n      <td>0</td>\n      <td>0</td>\n      <td>1</td>\n    </tr>\n    <tr>\n      <th>1</th>\n      <td>90</td>\n      <td>0</td>\n      <td>0</td>\n      <td>0</td>\n      <td>1</td>\n    </tr>\n    <tr>\n      <th>2</th>\n      <td>80</td>\n      <td>1</td>\n      <td>0</td>\n      <td>0</td>\n      <td>0</td>\n    </tr>\n    <tr>\n      <th>3</th>\n      <td>110</td>\n      <td>0</td>\n      <td>0</td>\n      <td>1</td>\n      <td>0</td>\n    </tr>\n    <tr>\n      <th>4</th>\n      <td>80</td>\n      <td>0</td>\n      <td>1</td>\n      <td>0</td>\n      <td>0</td>\n    </tr>\n  </tbody>\n</table>\n</div>"
     },
     "metadata": {}
    }
   ]
  },
  {
   "cell_type": "code",
   "metadata": {
    "tags": [],
    "cell_id": "00013-4447e24f-9a31-475b-9d25-e48bf84bb903",
    "deepnote_cell_type": "code"
   },
   "source": "",
   "execution_count": null,
   "outputs": []
  },
  {
   "cell_type": "markdown",
   "source": "<a style='text-decoration:none;line-height:16px;display:flex;color:#5B5B62;padding:10px;justify-content:end;' href='https://deepnote.com?utm_source=created-in-deepnote-cell&projectId=25ad01f7-ec4b-4ac8-bce6-a3745ef02c96' target=\"_blank\">\n<img alt='Created in deepnote.com' style='display:inline;max-height:16px;margin:0px;margin-right:7.5px;' src='data:image/svg+xml;base64,PD94bWwgdmVyc2lvbj0iMS4wIiBlbmNvZGluZz0iVVRGLTgiPz4KPHN2ZyB3aWR0aD0iODBweCIgaGVpZ2h0PSI4MHB4IiB2aWV3Qm94PSIwIDAgODAgODAiIHZlcnNpb249IjEuMSIgeG1sbnM9Imh0dHA6Ly93d3cudzMub3JnLzIwMDAvc3ZnIiB4bWxuczp4bGluaz0iaHR0cDovL3d3dy53My5vcmcvMTk5OS94bGluayI+CiAgICA8IS0tIEdlbmVyYXRvcjogU2tldGNoIDU0LjEgKDc2NDkwKSAtIGh0dHBzOi8vc2tldGNoYXBwLmNvbSAtLT4KICAgIDx0aXRsZT5Hcm91cCAzPC90aXRsZT4KICAgIDxkZXNjPkNyZWF0ZWQgd2l0aCBTa2V0Y2guPC9kZXNjPgogICAgPGcgaWQ9IkxhbmRpbmciIHN0cm9rZT0ibm9uZSIgc3Ryb2tlLXdpZHRoPSIxIiBmaWxsPSJub25lIiBmaWxsLXJ1bGU9ImV2ZW5vZGQiPgogICAgICAgIDxnIGlkPSJBcnRib2FyZCIgdHJhbnNmb3JtPSJ0cmFuc2xhdGUoLTEyMzUuMDAwMDAwLCAtNzkuMDAwMDAwKSI+CiAgICAgICAgICAgIDxnIGlkPSJHcm91cC0zIiB0cmFuc2Zvcm09InRyYW5zbGF0ZSgxMjM1LjAwMDAwMCwgNzkuMDAwMDAwKSI+CiAgICAgICAgICAgICAgICA8cG9seWdvbiBpZD0iUGF0aC0yMCIgZmlsbD0iIzAyNjVCNCIgcG9pbnRzPSIyLjM3NjIzNzYyIDgwIDM4LjA0NzY2NjcgODAgNTcuODIxNzgyMiA3My44MDU3NTkyIDU3LjgyMTc4MjIgMzIuNzU5MjczOSAzOS4xNDAyMjc4IDMxLjY4MzE2ODMiPjwvcG9seWdvbj4KICAgICAgICAgICAgICAgIDxwYXRoIGQ9Ik0zNS4wMDc3MTgsODAgQzQyLjkwNjIwMDcsNzYuNDU0OTM1OCA0Ny41NjQ5MTY3LDcxLjU0MjI2NzEgNDguOTgzODY2LDY1LjI2MTk5MzkgQzUxLjExMjI4OTksNTUuODQxNTg0MiA0MS42NzcxNzk1LDQ5LjIxMjIyODQgMjUuNjIzOTg0Niw0OS4yMTIyMjg0IEMyNS40ODQ5Mjg5LDQ5LjEyNjg0NDggMjkuODI2MTI5Niw0My4yODM4MjQ4IDM4LjY0NzU4NjksMzEuNjgzMTY4MyBMNzIuODcxMjg3MSwzMi41NTQ0MjUgTDY1LjI4MDk3Myw2Ny42NzYzNDIxIEw1MS4xMTIyODk5LDc3LjM3NjE0NCBMMzUuMDA3NzE4LDgwIFoiIGlkPSJQYXRoLTIyIiBmaWxsPSIjMDAyODY4Ij48L3BhdGg+CiAgICAgICAgICAgICAgICA8cGF0aCBkPSJNMCwzNy43MzA0NDA1IEwyNy4xMTQ1MzcsMC4yNTcxMTE0MzYgQzYyLjM3MTUxMjMsLTEuOTkwNzE3MDEgODAsMTAuNTAwMzkyNyA4MCwzNy43MzA0NDA1IEM4MCw2NC45NjA0ODgyIDY0Ljc3NjUwMzgsNzkuMDUwMzQxNCAzNC4zMjk1MTEzLDgwIEM0Ny4wNTUzNDg5LDc3LjU2NzA4MDggNTMuNDE4MjY3Nyw3MC4zMTM2MTAzIDUzLjQxODI2NzcsNTguMjM5NTg4NSBDNTMuNDE4MjY3Nyw0MC4xMjg1NTU3IDM2LjMwMzk1NDQsMzcuNzMwNDQwNSAyNS4yMjc0MTcsMzcuNzMwNDQwNSBDMTcuODQzMDU4NiwzNy43MzA0NDA1IDkuNDMzOTE5NjYsMzcuNzMwNDQwNSAwLDM3LjczMDQ0MDUgWiIgaWQ9IlBhdGgtMTkiIGZpbGw9IiMzNzkzRUYiPjwvcGF0aD4KICAgICAgICAgICAgPC9nPgogICAgICAgIDwvZz4KICAgIDwvZz4KPC9zdmc+' > </img>\nCreated in <span style='font-weight:600;margin-left:4px;'>Deepnote</span></a>",
   "metadata": {
    "tags": [],
    "created_in_deepnote_cell": true,
    "deepnote_cell_type": "markdown"
   }
  }
 ],
 "nbformat": 4,
 "nbformat_minor": 2,
 "metadata": {
  "orig_nbformat": 2,
  "deepnote": {
   "is_reactive": false
  },
  "deepnote_notebook_id": "2f678ad3-ddf5-4268-9d86-f4259115c101",
  "deepnote_execution_queue": []
 }
}