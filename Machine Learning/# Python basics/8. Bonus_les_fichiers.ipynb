{
 "cells": [
  {
   "cell_type": "markdown",
   "source": "# Manipulation des fichiers\nDans la thématiques des I/O. Comment lire/écrire de la donnée sur disque ?",
   "metadata": {
    "tags": [],
    "cell_id": "00001-0f19bd2c-6e25-4833-a1e3-7af1b2cebe54",
    "deepnote_cell_type": "markdown"
   }
  },
  {
   "cell_type": "markdown",
   "source": "# Intermede : les arguments nommés",
   "metadata": {
    "tags": [],
    "cell_id": "00001-359069e9-8825-4d87-9a48-92285f249714",
    "deepnote_cell_type": "markdown"
   }
  },
  {
   "cell_type": "code",
   "metadata": {
    "tags": [],
    "cell_id": "00002-3d318c7d-9ac2-4200-8e81-7eaadede3e3c",
    "deepnote_to_be_reexecuted": false,
    "source_hash": "f14fcecc",
    "execution_millis": 21,
    "execution_start": 1613482422299,
    "deepnote_cell_type": "code"
   },
   "source": "def add(a,b,  c):\n    return a + b + c\n\n\nprint(add(1,2, 3))\n\nprint(add(1, 2, c =3))\n\nprint(add(1, 2, 3))\n#les arguments nommmés doivent être à la fin\n\nprint(add(1, b=2, 3)) #ne marchera pas\n",
   "execution_count": null,
   "outputs": [
    {
     "output_type": "error",
     "ename": "SyntaxError",
     "evalue": "positional argument follows keyword argument (<ipython-input-69-863d2f4d9225>, line 11)",
     "traceback": [
      "\u001b[0;36m  File \u001b[0;32m\"<ipython-input-69-863d2f4d9225>\"\u001b[0;36m, line \u001b[0;32m11\u001b[0m\n\u001b[0;31m    print(add(1, b=2, 3)) #ne marchera pas\u001b[0m\n\u001b[0m                     ^\u001b[0m\n\u001b[0;31mSyntaxError\u001b[0m\u001b[0;31m:\u001b[0m positional argument follows keyword argument\n"
     ]
    }
   ]
  },
  {
   "cell_type": "code",
   "metadata": {
    "tags": [],
    "cell_id": "00003-3e2927a3-8dc3-4440-b8db-c5115694731b",
    "deepnote_to_be_reexecuted": false,
    "source_hash": "a2d6ef10",
    "execution_millis": 16,
    "execution_start": 1613482506316,
    "deepnote_cell_type": "code"
   },
   "source": "with open('test.txt', 'r', encoding=\"utf-8\") as f:\n    print(f.read())\n\n\nwith open('test.txt', encoding=\"utf-8\", mode='r') as f:\n    print(\"read2\", f.read())\n\n",
   "execution_count": null,
   "outputs": [
    {
     "name": "stdout",
     "text": "une nouvelle ligne\nread2 une nouvelle ligne\n",
     "output_type": "stream"
    }
   ]
  },
  {
   "cell_type": "markdown",
   "source": "## Les fichiers texte",
   "metadata": {
    "tags": [],
    "cell_id": "00002-11951509-c372-4e25-8b2f-3927ec791389",
    "deepnote_cell_type": "markdown"
   }
  },
  {
   "cell_type": "code",
   "metadata": {
    "tags": [],
    "cell_id": "00003-88299a38-13cf-41eb-925f-257869698aca",
    "deepnote_to_be_reexecuted": false,
    "source_hash": "57eea736",
    "execution_millis": 21,
    "execution_start": 1613473675705,
    "deepnote_cell_type": "code"
   },
   "source": "# version naïve\nf = open(\"mon_texte.txt\", \"w\")\nf.write(\"Hey, je suis une ligne inutile !\\n\")\nf.close()\n# default = mode \"r\" pour la lecture\n\n# la lecture d'un fichier inexistant occasionnerait une erreur : \n#f = open(\"mon_machin.txt\", \"r\")\n\n# la version safe\ntry:\n    f = open('un_fichier', encoding='utf-8')\nexcept:\n    print('ce fichier n\\'existe pas')\n\n\ntry:\n    f = open('un_fichier', encoding='utf-8')\nexcept:\n    print('ce fichier n\\'existe pas')\nfinally:\n    f.close()\n\n# la version context manager (safe au sens de f.close())\nwith open(\"test.txt\", encoding = 'utf-8', mode='w') as f:\n    f.write('une nouvelle ligne')",
   "execution_count": null,
   "outputs": [
    {
     "name": "stdout",
     "text": "ce fichier n'existe pas\nce fichier n'existe pas\n",
     "output_type": "stream"
    }
   ]
  },
  {
   "cell_type": "markdown",
   "source": "## Les fichiers JSON",
   "metadata": {
    "tags": [],
    "cell_id": "00003-a996ac69-25bb-4c1d-8c01-0e5520654905",
    "deepnote_cell_type": "markdown"
   }
  },
  {
   "cell_type": "code",
   "metadata": {
    "tags": [],
    "cell_id": "00005-29254c80-379b-42ed-8309-18037c04f33b",
    "deepnote_to_be_reexecuted": false,
    "source_hash": "8e0fa56c",
    "execution_millis": 20,
    "execution_start": 1613474636538,
    "deepnote_cell_type": "code"
   },
   "source": "mes_eleves = { \n   \"classe\":{ \n      \"eleves\": \n      [\n          {\n            \"name\":\"Magdalena\",\n            \"notes\":{ \n                \"physique\": 18,\n                \"histoire\": 19\n            }\n         },\n         {\n            \"name\":\"Jean-Eudes\",\n            \"notes\":{ \n                \"maths\": 13,\n                \"SVT\":17,\n                \"EPS\": 15\n         }\n      }\n   ]},\n   \"promotion\" : 2021\n} \nprint(mes_eleves)\n\n\n# Ecriture : \nimport json\nwith open('mes_eleves.json', 'w', encoding='utf-8') as file:\n    json.dump(mes_eleves, file)\nprint('J\\'ai écrit dans mes_eleves.json')\n\n\n# Lecture :\nprint('\\non procède maintenant à la lecture :')\nwith open('mes_eleves.json', 'r', encoding='utf-8') as json_file:\n   data = json.load(json_file)\n   print(data)\n\nfrom pprint import pprint\npprint(json.dumps(data, indent=4))",
   "execution_count": null,
   "outputs": [
    {
     "name": "stdout",
     "text": "{'classe': {'eleves': [{'name': 'Magdalena', 'notes': {'physique': 18, 'histoire': 19}}, {'name': 'Jean-Eudes', 'notes': {'maths': 13, 'SVT': 17, 'EPS': 15}}]}, 'promotion': 2021}\nJ'ai écrit dans mes_eleves.json\n\non procède maintenant à la lecture :\n{'classe': {'eleves': [{'name': 'Magdalena', 'notes': {'physique': 18, 'histoire': 19}}, {'name': 'Jean-Eudes', 'notes': {'maths': 13, 'SVT': 17, 'EPS': 15}}]}, 'promotion': 2021}\n('{\\n'\n '    \"classe\": {\\n'\n '        \"eleves\": [\\n'\n '            {\\n'\n '                \"name\": \"Magdalena\",\\n'\n '                \"notes\": {\\n'\n '                    \"physique\": 18,\\n'\n '                    \"histoire\": 19\\n'\n '                }\\n'\n '            },\\n'\n '            {\\n'\n '                \"name\": \"Jean-Eudes\",\\n'\n '                \"notes\": {\\n'\n '                    \"maths\": 13,\\n'\n '                    \"SVT\": 17,\\n'\n '                    \"EPS\": 15\\n'\n '                }\\n'\n '            }\\n'\n '        ]\\n'\n '    },\\n'\n '    \"promotion\": 2021\\n'\n '}')\n",
     "output_type": "stream"
    }
   ]
  },
  {
   "cell_type": "markdown",
   "source": "# différence json.loads / json.load et json.dumps / json.dump\n\n\nload**s** veut dire load \"string\"\n\ndump**s** veut dire dump \"string\"\n\ndonc si on veut lire un fichier json : load\nsi on veut convertir une chaine de caractère json en dictionnaire :loads\n\nsi on veut sauvegarde un dictionnaire dans un fichier json : dump\nsi on veut convertir un dictionnaire en string json : dumps",
   "metadata": {
    "tags": [],
    "cell_id": "00008-a9d58dc1-278d-4e73-a343-f5246e46d946",
    "deepnote_cell_type": "markdown"
   }
  },
  {
   "cell_type": "code",
   "metadata": {
    "tags": [],
    "cell_id": "00009-9f654481-9726-43d7-afae-0e3df6e7a78e",
    "deepnote_to_be_reexecuted": false,
    "source_hash": "528c2d2",
    "execution_millis": 26,
    "execution_start": 1613484671663,
    "deepnote_cell_type": "code"
   },
   "source": "d = {\n    'username': \"laurent\",\n    'address': {\n        'city': \"Aix-En-Provence\"\n    }\n}\n\nimport json\n\nstr_json = json.dumps(d)\nprint(type(str_json), str_json)",
   "execution_count": null,
   "outputs": [
    {
     "name": "stdout",
     "text": "<class 'str'> {\"username\": \"laurent\", \"address\": {\"city\": \"Aix-En-Provence\"}}\n",
     "output_type": "stream"
    }
   ]
  },
  {
   "cell_type": "markdown",
   "source": "## Les fichiers .csv",
   "metadata": {
    "tags": [],
    "cell_id": "00007-b099b43b-2455-41d5-aea1-7f9a5e46baec",
    "deepnote_cell_type": "markdown"
   }
  },
  {
   "cell_type": "code",
   "metadata": {
    "tags": [],
    "cell_id": "00006-12a3b2b7-9741-465f-8ec8-7c513e7051d7",
    "deepnote_to_be_reexecuted": false,
    "source_hash": "92c81782",
    "execution_millis": 12,
    "execution_start": 1613475782252,
    "deepnote_cell_type": "code"
   },
   "source": "# écriture dans des fichiers Comma Separated Value\n\nimport csv\n\nwith open('exemple_tabulaire.csv', mode='w') as employee_file:\n    writer = csv.writer(employee_file, delimiter=',', quotechar=\"\\\"\")\n    writer.writerow(['nom', 'prenom', 'matricule', 'salaire'])\n    writer.writerow(['Jean', 'Didier', '0x01,un autre truc', '52000'])\n    writer.writerow(['Prevot', 'Pascaline', '0x02', '650000'])\n\nprint('écrit')\n\n# lecture des fichiers .csv\nimport csv\nwith open('exemple_tabulaire.csv') as csv_file:\n    reader = csv.DictReader(csv_file, delimiter=',', quotechar=\"\\\"\")\n    for row in reader :\n        print(dict(row))\n     ",
   "execution_count": null,
   "outputs": [
    {
     "name": "stdout",
     "text": "écrit\n{'nom': 'Jean', 'prenom': 'Didier', 'matricule': '0x01,un autre truc', 'salaire': '52000'}\n{'nom': 'Prevot', 'prenom': 'Pascaline', 'matricule': '0x02', 'salaire': '650000'}\n",
     "output_type": "stream"
    }
   ]
  },
  {
   "cell_type": "markdown",
   "source": "Le yaml est très utilisé pour la configuration",
   "metadata": {
    "tags": [],
    "cell_id": "00012-3f6b130e-c2d6-40e8-b9e9-9d1312d69d6f",
    "deepnote_cell_type": "markdown"
   }
  },
  {
   "cell_type": "markdown",
   "source": "Le xml, a été très populaire dnas le monde de java pour échanger de l'information entre services / applications (cf l'ère Service oriented architecture SOA)\n\n\nC'est le plus \"structuré\" (mais le plus lourd)\n\n```xml\n<customers>\n    <customer>\n        <name>Jane Lila</name>\n        <age>22</age>\n    </customer>\n    <customer>\n        <name>Karim Strongman</name>\n        <age>30</age>\n    </customer>\n    <customer>\n        <name>Karim The wise</name>\n        <age>60</age>\n    </customer>\n    <customer>\n        <name>Tom bombadil</name>\n        <age>250</age>\n    </customer>\n</customers>\n```\n\nEn python pour manipuler du xml , il existe plusieurs librairie, la plus répandue est lxml",
   "metadata": {
    "tags": [],
    "cell_id": "00013-1c7b1e4e-8fd5-455d-ad44-28ad0570badf",
    "deepnote_cell_type": "markdown"
   }
  },
  {
   "cell_type": "markdown",
   "source": "",
   "metadata": {
    "tags": [],
    "cell_id": "00014-af5eab88-0f19-4e52-8bc0-8114da90aa8a",
    "deepnote_cell_type": "markdown"
   }
  },
  {
   "cell_type": "code",
   "metadata": {
    "tags": [],
    "cell_id": "00015-cbc7703e-0ecb-4947-8e24-27b0b139179f",
    "deepnote_to_be_reexecuted": false,
    "source_hash": "a25bcecd",
    "execution_start": 1613488055980,
    "execution_millis": 3134,
    "deepnote_cell_type": "code"
   },
   "source": "!pip install lxml",
   "execution_count": null,
   "outputs": [
    {
     "name": "stdout",
     "text": "Requirement already satisfied: lxml in /shared-libs/python3.7/py/lib/python3.7/site-packages (4.6.2)\n\u001b[33mWARNING: You are using pip version 20.1.1; however, version 21.0.1 is available.\nYou should consider upgrading via the '/root/venv/bin/python -m pip install --upgrade pip' command.\u001b[0m\n",
     "output_type": "stream"
    }
   ]
  },
  {
   "cell_type": "code",
   "metadata": {
    "tags": [],
    "cell_id": "00016-e8aab8d8-c01a-47fa-876a-5dc80ade267f",
    "deepnote_cell_type": "code"
   },
   "source": "import lxml as etree \n\n\ntree = etree.parse('data.xml')\n\nroot_node = tree.getroot() #permet d'avoir le noeud racine\n\n\n#plusieurs méthode pour extraire une info\n\n#parcours des enfants \n\nfor child in root_node:\n    print(childe)\n\n#utilisation du langage de requêtage avec XPath et les méthode find et findall\n\nnodes = root_node.findall('.//age') #récupérer toutes les balises age\n\n# quand on a un node on peut utiliser l'attribut .text pour en récupérer le contenu\n\nnode = nodes[0]\ndata = node.text",
   "execution_count": null,
   "outputs": []
  },
  {
   "cell_type": "markdown",
   "source": "<a style='text-decoration:none;line-height:16px;display:flex;color:#5B5B62;padding:10px;justify-content:end;' href='https://deepnote.com?utm_source=created-in-deepnote-cell&projectId=25ad01f7-ec4b-4ac8-bce6-a3745ef02c96' target=\"_blank\">\n<img alt='Created in deepnote.com' style='display:inline;max-height:16px;margin:0px;margin-right:7.5px;' src='data:image/svg+xml;base64,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' > </img>\nCreated in <span style='font-weight:600;margin-left:4px;'>Deepnote</span></a>",
   "metadata": {
    "tags": [],
    "created_in_deepnote_cell": true,
    "deepnote_cell_type": "markdown"
   }
  }
 ],
 "nbformat": 4,
 "nbformat_minor": 2,
 "metadata": {
  "orig_nbformat": 2,
  "deepnote_notebook_id": "f098fec8-c0a7-4dc4-8c74-3388f06868a2",
  "deepnote": {},
  "deepnote_execution_queue": []
 }
}