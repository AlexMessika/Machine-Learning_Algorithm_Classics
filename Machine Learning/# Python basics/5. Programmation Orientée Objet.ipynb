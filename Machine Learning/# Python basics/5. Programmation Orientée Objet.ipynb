{
 "cells": [
  {
   "cell_type": "markdown",
   "source": "# La programmation orientée objet",
   "metadata": {
    "tags": [],
    "cell_id": "00001-3dd0bbe7-e0c2-4de2-8f02-ccd2ea9a5dc1",
    "deepnote_cell_type": "markdown"
   }
  },
  {
   "cell_type": "markdown",
   "source": "Ici, on s'intéresse à modéliser des objets (de la pensée) potentiellement complexes via des programmes informatiques. Et on va vouloir les manipuler.\n\n\nDans la programmation procédurale, les données sont stockées dans les variables et les algorithmes sont stockées dans les fonctions ou procédures. Les deux sont séparées. Dans la programmation orientée objet on regroupe les données et les algorithmes dans une même structures, les objets\n\n![procedural_vs_poo.png](procedural_vs_poo.png)",
   "metadata": {
    "tags": [],
    "cell_id": "00004-8a90e83f-f3dc-49ab-a5d9-c0c452ed78d8",
    "deepnote_cell_type": "markdown"
   }
  },
  {
   "cell_type": "code",
   "metadata": {
    "tags": [],
    "cell_id": "00004-db98ef27-2d02-43b4-8ca0-d4c9beb058cd",
    "deepnote_to_be_reexecuted": false,
    "source_hash": "42b4a923",
    "execution_millis": 8,
    "execution_start": 1622811973200,
    "deepnote_cell_type": "code"
   },
   "source": "# instinctivement : la représentation des objets\n\n# on représente un bâtiment\n# la convention : nom_batiment = [nombre_etages, nombre_pieces, localisation, prix(en k€), superficie(en m^2) ...]\n\nmon_appartement = [2, 5, \"clermont_ferrand\", 300, 300]\nmaison_du_voisin = [1, 6, \"Saint Germain en Laye\", 380, 120]\nla_tour_granite = [37, None, \"La Défense\", \"indécent\", 30000]\nprint(\"mon_appartement\", mon_appartement)\n\n# une autre représentation :\nmon_appartement_dict = {\n    'nom': 'mon appartement cheri',\n    \"nombre_etages\": 2,\n    \"nombre_pieces\": 5,\n    \"localisation\": \"clermont Ferrand\",\n    \"prix\": 300,\n    \"superficie\": 300,\n}\nprint('mon_appartement_dict', mon_appartement_dict)\n\n\n# quand on a des objets on veut aussi représenter leur comportement\n\ndef acheter_batiment(appartement, prix_vente_minimum, prix_propose):\n    \n    if prix_propose < prix_vente_minimum:\n        return\n    else:\n        print('brave candidat, tu es le nouveau propriétaire de ' + appartement['nom'])\n\nprix_propose = 330000\nacheter_batiment(mon_appartement_dict, 320000, prix_propose)",
   "execution_count": null,
   "outputs": [
    {
     "name": "stdout",
     "text": "mon_appartement [2, 5, 'clermont_ferrand', 300, 300]\nmon_appartement_dict {'nom': 'mon appartement cheri', 'nombre_etages': 2, 'nombre_pieces': 5, 'localisation': 'clermont Ferrand', 'prix': 300, 'superficie': 300}\nbrave candidat, tu es le nouveau propriétaire de mon appartement cheri\n",
     "output_type": "stream"
    }
   ]
  },
  {
   "cell_type": "markdown",
   "source": "## Les objets avec python\nIls contiennes les variables et  fonctions qui leurs sont propres. On appelera ça des *attributs* et des *méthodes*",
   "metadata": {
    "tags": [],
    "cell_id": "00005-ef2ba758-82c2-4e4b-a7c4-3c6b54e17bb9",
    "deepnote_cell_type": "markdown"
   }
  },
  {
   "cell_type": "code",
   "metadata": {
    "tags": [],
    "cell_id": "00006-8360bbd0-30b3-435c-bdd9-7b6a2f233b15",
    "deepnote_to_be_reexecuted": true,
    "source_hash": "96ddbf4e",
    "execution_millis": 5,
    "deepnote_cell_type": "code"
   },
   "source": "# Les attributs et le constructeur\nclass Personne:\n    \"\"\"\n    C'est une classe qui définit un personne, celle-ci caractérisée par :\n    - son nom\n    - son prénom\n    \"\"\"\n\n    def __init__(self, nom, prenom): # notre méthode constructeur\n        self.nom = nom\n        self.prenom = prenom\n\njean = Personne('Ouria')\nprint('nom', jean.nom)\nprint('prenom', jean.prenom)\n",
   "execution_count": null,
   "outputs": [
    {
     "name": "stdout",
     "text": "nom Ouria\nprenom defaut2\n",
     "output_type": "stream"
    }
   ]
  },
  {
   "cell_type": "code",
   "metadata": {
    "tags": [],
    "cell_id": "00007-3551ebd5-d113-400b-90f7-4d4ea1ca6993",
    "deepnote_to_be_reexecuted": true,
    "source_hash": "e2b19f01",
    "execution_millis": 9,
    "deepnote_cell_type": "code"
   },
   "source": "help(Personne)",
   "execution_count": null,
   "outputs": [
    {
     "name": "stdout",
     "text": "Help on class Personne in module __main__:\n\nclass Personne(builtins.object)\n |  C'est une classe qui définit un personne, celle-ci caractérisée par :\n |  - son nom\n |  - son prénom\n |  \n |  Methods defined here:\n |  \n |  __init__(self)\n |      Initialize self.  See help(type(self)) for accurate signature.\n |  \n |  ----------------------------------------------------------------------\n |  Data descriptors defined here:\n |  \n |  __dict__\n |      dictionary for instance variables (if defined)\n |  \n |  __weakref__\n |      list of weak references to the object (if defined)\n\n",
     "output_type": "stream"
    }
   ]
  },
  {
   "cell_type": "code",
   "metadata": {
    "tags": [],
    "cell_id": "00007-85fc3701-a7c0-4fff-bdd6-18752bcc720b",
    "deepnote_to_be_reexecuted": true,
    "source_hash": "49fb8352",
    "execution_millis": 32,
    "deepnote_cell_type": "code"
   },
   "source": "class Personne:\n    \"\"\"\n    C'est une classe qui définit un personne, celle-ci caractérisée par :\n    - son nom\n    - son prénom\n    - son âge\n    - son lieu de résidence\n    \"\"\"\n    variable_de_classe = 'ma_variable_de_classe'\n\n    def __init__(self): # notre méthode constructeur\n        self.nom = 'Dupont'\n        self._variable_semi_private = None # variable privée, mais indicatif\n        self.__private = 'truc' # variable privée mais bien gardée, occasionne une erreur\n\n    def une_methode_quelconque(self):\n        self.__private = 'un nouveau truc'\n\npersonne_erreur = Personne()\nprint(personne_erreur._variable_semi_private)\n# print(personne_erreur.__private) # occasionne une erreur\n\npersonne_erreur._variable_semi_private = 'tag_prive'\n\npersonne_normale = Personne()\n\n\n# Exemples sur les variables de classe \nprint('personne_erreur', personne_erreur.variable_de_classe)\nprint('personne_normale', personne_normale.variable_de_classe)\n\npersonne_normale.variable_de_classe = 'une nouvelle valeur'\n\nprint('personne_erreur', personne_normale.variable_de_classe)\nprint('personne_erreur', personne_erreur.variable_de_classe)\n\npersonne_erreur.une_methode_quelconque() # n'occasionne aps d'erreur cette fois-ci\n\n",
   "execution_count": null,
   "outputs": [
    {
     "name": "stdout",
     "text": "None\npersonne_erreur ma_variable_de_classe\npersonne_normale ma_variable_de_classe\npersonne_erreur une nouvelle valeur\npersonne_erreur ma_variable_de_classe\n",
     "output_type": "stream"
    }
   ]
  },
  {
   "cell_type": "markdown",
   "source": "## Attributs de classe",
   "metadata": {
    "tags": [],
    "cell_id": "00008-83d4bd80-cce0-4a0f-a6ea-2ffa828abe8e",
    "deepnote_cell_type": "markdown"
   }
  },
  {
   "cell_type": "code",
   "metadata": {
    "tags": [],
    "cell_id": "00009-a0020f05-caaf-4c1f-98c2-1fad24da1256",
    "deepnote_to_be_reexecuted": true,
    "source_hash": "c0da45bb",
    "execution_millis": 4,
    "deepnote_cell_type": "code"
   },
   "source": "class Compteur:\n    \"\"\"Cette classe possède un attribut de classe qui s'incrémente à chaque nouvelle instanciation\n    \"\"\"\n\n    instances_crees = 0\n    \n    def __init__(self):\n        \"\"\"\n        A chaque fois qu'une nouvelle instance est créée, on incrémente le compteur (de 1)\n        \"\"\"\n        Compteur.instances_crees += 1\n\n\ncompteur_1 = Compteur()\nprint(compteur_1.instances_crees)\n\ncompteur_2 = Compteur()\nprint(compteur_2.instances_crees)\n\ncompteur_3 = Compteur()\nprint(compteur_3.instances_crees)\n\n\n## Attention, petite subtilité sur la généalogie de la variable de classe vues par les instances et classe respectivement\n\n# ici ça ne bouge plus (on n'appelle pas le constructeur)\nprint(compteur_2.instances_crees)\nprint(Compteur.instances_crees)\n\n# types des classe et instance\nprint(type(Compteur))\nprint(type(compteur_1))\n\n# ici on mute la variable de classe\ncompteur_2.instances_crees = 17\nprint(Compteur.instances_crees)\n\nCompteur.instances_crees = 32\nprint(compteur_2.instances_crees)\n\n# nouvelle instanciation et nouvel appel du constructeur\ncompteur_4 = Compteur()\nprint(compteur_4.instances_crees)\n",
   "execution_count": null,
   "outputs": [
    {
     "name": "stdout",
     "text": "1\n2\n3\n3\n3\n<class 'type'>\n<class '__main__.Compteur'>\n3\n17\n33\n",
     "output_type": "stream"
    }
   ]
  },
  {
   "cell_type": "code",
   "metadata": {
    "tags": [],
    "cell_id": "00010-c386abc1-e10d-4817-921b-4ffc90e03d7c",
    "deepnote_to_be_reexecuted": true,
    "source_hash": "6d848118",
    "execution_millis": 8,
    "deepnote_cell_type": "code"
   },
   "source": "help(Compteur)",
   "execution_count": null,
   "outputs": [
    {
     "name": "stdout",
     "text": "Help on class Compteur in module __main__:\n\nclass Compteur(builtins.object)\n |  Cette classe possède un attribut de classe qui s'incrémente à chaque nouvelle instanciation\n |  \n |  Methods defined here:\n |  \n |  __init__(self)\n |      A chaque fois qu'une nouvelle instance est créée, on incrémente le compteur (de 1)\n |  \n |  ----------------------------------------------------------------------\n |  Data descriptors defined here:\n |  \n |  __dict__\n |      dictionary for instance variables (if defined)\n |  \n |  __weakref__\n |      list of weak references to the object (if defined)\n |  \n |  ----------------------------------------------------------------------\n |  Data and other attributes defined here:\n |  \n |  instances_crees = 3\n\n",
     "output_type": "stream"
    }
   ]
  },
  {
   "cell_type": "markdown",
   "source": "## Les méthodes (autre que le constructeur)\n\nIl faut voir les méthodes comme des focntions qui s'appliquent à (l'instance) d'objet courant\n\nEx : list.pop(), str.lower(), dict.items() ...",
   "metadata": {
    "tags": [],
    "cell_id": "00012-50f26823-38c8-46b2-8cfc-2086c99f8fce",
    "deepnote_cell_type": "markdown"
   }
  },
  {
   "cell_type": "code",
   "metadata": {
    "tags": [],
    "cell_id": "00012-44833e62-772a-44b3-81bf-4fcf4085d4a0",
    "deepnote_to_be_reexecuted": true,
    "source_hash": "70bbb6df",
    "execution_millis": 14,
    "deepnote_cell_type": "code"
   },
   "source": "class TableauNoir:\n    \"\"\"\n    C'est une représentation d'une surface sur laquelle ont peut écrire. \n    On peut l'effacer aussi ainsi que la lire.\n    C'est avec la variable surface qu'on va jouer\n    \"\"\"\n    def __init__(self):\n        \"\"\" Par défaut, la surface est vide\"\"\"\n        self.surface = \"\"\n    \n    def ecrire(self, message_a_ecrire): # on accède à la surface via la méthode écrire\n        \"\"\" \n        Cette méthode-là va nous permettre d'écrire sur la surface.\n        Si on se trouve dans le cas où la surface n'est pas vide, alors,\n        on va sauter une ligne avant d'ajouter le prochain message\n        \"\"\"\n\n        if self.surface != \"\":\n            self.surface += \"\\n\"        \n        self.surface += message_a_ecrire\n    \n    def lire(self):\n        print(self.surface)\n\nmon_premier_tableau = TableauNoir()\nmon_premier_tableau.surface\nmon_premier_tableau.lire()",
   "execution_count": null,
   "outputs": [
    {
     "name": "stdout",
     "text": "\n",
     "output_type": "stream"
    }
   ]
  },
  {
   "cell_type": "code",
   "metadata": {
    "tags": [],
    "cell_id": "00013-f718ba1a-d60b-4e4b-8b7b-1d9d1223e660",
    "deepnote_to_be_reexecuted": true,
    "source_hash": "89a875a2",
    "execution_millis": 7,
    "deepnote_cell_type": "code"
   },
   "source": "mon_premier_tableau.ecrire('la première ligne !')\nmon_premier_tableau.surface\nmon_premier_tableau.lire()",
   "execution_count": null,
   "outputs": [
    {
     "name": "stdout",
     "text": "la première ligne !\n",
     "output_type": "stream"
    }
   ]
  },
  {
   "cell_type": "code",
   "metadata": {
    "tags": [],
    "cell_id": "00014-be5b2aab-8ed5-4f73-9734-5d04e91e19a3",
    "deepnote_to_be_reexecuted": true,
    "source_hash": "b2572167",
    "execution_millis": 4,
    "deepnote_cell_type": "code"
   },
   "source": "mon_premier_tableau.ecrire('la deuxième ligne est encore mieux !?')\nprint(mon_premier_tableau.surface)\n\nprint(mon_premier_tableau)\nmon_premier_tableau.ecrire",
   "execution_count": null,
   "outputs": [
    {
     "name": "stdout",
     "text": "la première ligne !\nla deuxième ligne est encore mieux !?\nla deuxième ligne est encore mieux !?\nla deuxième ligne est encore mieux !?\nla deuxième ligne est encore mieux !?\nla deuxième ligne est encore mieux !?\n<__main__.TableauNoir object at 0x7f08367e6550>\n",
     "output_type": "stream"
    },
    {
     "output_type": "execute_result",
     "execution_count": 71,
     "data": {
      "text/plain": "<bound method TableauNoir.ecrire of <__main__.TableauNoir object at 0x7f08367e6550>>"
     },
     "metadata": {}
    }
   ]
  },
  {
   "cell_type": "code",
   "metadata": {
    "tags": [],
    "cell_id": "00015-8a994ad3-05de-4008-bf09-942596373464",
    "deepnote_to_be_reexecuted": true,
    "source_hash": "97417a53",
    "execution_millis": 14,
    "deepnote_cell_type": "code"
   },
   "source": "TableauNoir.ecrire\n\n# la vérité sur self !\nTableauNoir.ecrire(mon_premier_tableau, 'en fait j\\'ai affaire à une fonction')\nprint(mon_premier_tableau.surface)",
   "execution_count": null,
   "outputs": [
    {
     "name": "stdout",
     "text": "la première ligne !\nla deuxième ligne est encore mieux !?\nla deuxième ligne est encore mieux !?\nla deuxième ligne est encore mieux !?\nla deuxième ligne est encore mieux !?\nla deuxième ligne est encore mieux !?\nen fait j'ai affaire à une fonction\nen fait j'ai affaire à une fonction\n",
     "output_type": "stream"
    }
   ]
  },
  {
   "cell_type": "code",
   "metadata": {
    "tags": [],
    "cell_id": "00015-0a61ce81-a880-48e3-83fd-30e793264f63",
    "deepnote_to_be_reexecuted": true,
    "source_hash": "d7cf66ac",
    "execution_millis": 13,
    "deepnote_cell_type": "code"
   },
   "source": "help(TableauNoir.ecrire)",
   "execution_count": null,
   "outputs": [
    {
     "name": "stdout",
     "text": "Help on function ecrire in module __main__:\n\necrire(self, message_a_ecrire)\n    Cette méthode-là va nous permettre d'écrire sur la surface.\n    Si on se trouve dans le cas où la surface n'est pas vide, alors,\n    on va sauter une ligne avant d'ajouter le prochain message\n\n",
     "output_type": "stream"
    }
   ]
  },
  {
   "cell_type": "markdown",
   "source": "## L'héritage\nC'est une manière de lier les modèles entre eux, dans le cadre de la programmation orientée objet. Lorsque une classe B hérite d'une classe A, on appelle :\n- A la classe mère\n- B la classe fille (subclass)\n\nLes attributs et les méthodes du modèle A deviennent disponibles pour le modèle B.",
   "metadata": {
    "tags": [],
    "cell_id": "00018-1ef8bc36-4aca-4b96-b325-ecf6acbfff56",
    "deepnote_cell_type": "markdown"
   }
  },
  {
   "cell_type": "code",
   "metadata": {
    "tags": [],
    "cell_id": "00019-d7e9cb7c-c096-40ba-8e61-04f3cc92aae7",
    "deepnote_to_be_reexecuted": false,
    "source_hash": "a320f746",
    "execution_millis": 1,
    "execution_start": 1613659083358,
    "deepnote_cell_type": "code"
   },
   "source": "class A:\n    pass\n\nclass B(A):\n    def __init__(self):\n        self.truc = 'machin'\n\n# un exemple\n\nclass Animal:\n    def __init__(self):\n        self.regime = 'regime inconnu'\n        self.nombre_pattes = 4\n        self.nom_animal = 'animal'\n    \n    def crier(self):\n        print(f\"l'{self.nom_animal} crie\")\n    \n    def marcher(self):\n        print(f\"le {self.nom_animal} marche\")\n\n\n# les classes filles :\nclass Chien(Animal):\n    def __init__(self, regime, nom):\n        super().__init__()\n        self.regime = regime\n        self.nom_animal = nom\n\n    def crier(self):\n        print(f\"le {self.nom_animal} aboie\")\n\n\nclass Chat(Animal):\n    pass\n\nclass Zebre(Animal):\n    pass",
   "execution_count": null,
   "outputs": []
  },
  {
   "cell_type": "code",
   "metadata": {
    "tags": [],
    "cell_id": "00020-478b4009-d90e-437b-9ff8-9f41d1c39228",
    "deepnote_to_be_reexecuted": false,
    "source_hash": "c33ec554",
    "execution_millis": 120,
    "execution_start": 1613659084875,
    "deepnote_cell_type": "code"
   },
   "source": "animal = Animal()\nanimal.crier()\n\nroxxy = Chien('omnivore', 'chien')\nroxxy.crier()\nroxxy.marcher()\n\n# l'animal crie\n# le Chien aboie\n",
   "execution_count": null,
   "outputs": [
    {
     "name": "stdout",
     "text": "l'animal crie\nle chien aboie\nle chien marche\n",
     "output_type": "stream"
    }
   ]
  },
  {
   "cell_type": "markdown",
   "source": "<a style='text-decoration:none;line-height:16px;display:flex;color:#5B5B62;padding:10px;justify-content:end;' href='https://deepnote.com?utm_source=created-in-deepnote-cell&projectId=25ad01f7-ec4b-4ac8-bce6-a3745ef02c96' target=\"_blank\">\n<img alt='Created in deepnote.com' style='display:inline;max-height:16px;margin:0px;margin-right:7.5px;' src='data:image/svg+xml;base64,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' > </img>\nCreated in <span style='font-weight:600;margin-left:4px;'>Deepnote</span></a>",
   "metadata": {
    "tags": [],
    "created_in_deepnote_cell": true,
    "deepnote_cell_type": "markdown"
   }
  }
 ],
 "nbformat": 4,
 "nbformat_minor": 2,
 "metadata": {
  "orig_nbformat": 2,
  "deepnote_notebook_id": "dc57616d-4926-4e1b-97a8-f175cdb4f319",
  "deepnote": {
   "is_reactive": false
  },
  "deepnote_execution_queue": []
 }
}