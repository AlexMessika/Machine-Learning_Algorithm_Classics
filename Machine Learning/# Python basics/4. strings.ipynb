{
 "cells": [
  {
   "cell_type": "markdown",
   "source": "# Les Strings\n\nKarim Kouki\n\nLes chaînes de caractères sont les type pour gérer les données de type texte. ",
   "metadata": {
    "tags": [],
    "cell_id": "00001-a991e1a6-0553-4c68-877a-10d000b13c6f",
    "deepnote_cell_type": "markdown"
   }
  },
  {
   "cell_type": "code",
   "metadata": {
    "tags": [],
    "cell_id": "00002-313bd4bb-dc47-47e1-99ff-a0c9bb4b4bf0",
    "deepnote_to_be_reexecuted": false,
    "source_hash": "2db2f110",
    "execution_millis": 11,
    "execution_start": 1613396143057,
    "deepnote_cell_type": "code"
   },
   "source": "# fonction print\nint_literal = 6\nhex_literal = 0xFF\nstring_literal = 'ma première chaîne de caractères'\nprint(string_literal)",
   "execution_count": null,
   "outputs": [
    {
     "name": "stdout",
     "text": "ma première chaîne de caractères\n",
     "output_type": "stream"
    }
   ]
  },
  {
   "cell_type": "markdown",
   "source": "## La concaténation\n\nExactement comme avec les listes. Opérateur `+`",
   "metadata": {
    "tags": [],
    "cell_id": "00003-634d0525-b81e-43e2-b564-a0a67f27265b",
    "deepnote_cell_type": "markdown"
   }
  },
  {
   "cell_type": "code",
   "metadata": {
    "tags": [],
    "cell_id": "00004-92fee92f-fc8f-453f-b300-0fa85b86e5b7",
    "deepnote_to_be_reexecuted": false,
    "source_hash": "d5ed3779",
    "execution_millis": 45,
    "execution_start": 1613396359030,
    "deepnote_cell_type": "code"
   },
   "source": "Joe = 'Joe'\nBob = 'Bob'\nla_team = Joe + ' et ' + Bob\nprint(la_team)\n\n# utilisation de la concaténation pour 2 types différents\n\nnb = 2\nprint('ça fait' + nb)",
   "execution_count": null,
   "outputs": [
    {
     "name": "stdout",
     "text": "Joe et Bob\n",
     "output_type": "stream"
    },
    {
     "output_type": "error",
     "ename": "TypeError",
     "evalue": "can only concatenate str (not \"int\") to str",
     "traceback": [
      "\u001b[0;31m---------------------------------------------------------------------------\u001b[0m",
      "\u001b[0;31mTypeError\u001b[0m                                 Traceback (most recent call last)",
      "\u001b[0;32m<ipython-input-4-3ae80860c0ae>\u001b[0m in \u001b[0;36m<module>\u001b[0;34m\u001b[0m\n\u001b[1;32m      7\u001b[0m \u001b[0;34m\u001b[0m\u001b[0m\n\u001b[1;32m      8\u001b[0m \u001b[0mnb\u001b[0m \u001b[0;34m=\u001b[0m \u001b[0;36m2\u001b[0m\u001b[0;34m\u001b[0m\u001b[0;34m\u001b[0m\u001b[0m\n\u001b[0;32m----> 9\u001b[0;31m \u001b[0mprint\u001b[0m\u001b[0;34m(\u001b[0m\u001b[0;34m'ça fait'\u001b[0m \u001b[0;34m+\u001b[0m \u001b[0mnb\u001b[0m\u001b[0;34m)\u001b[0m\u001b[0;34m\u001b[0m\u001b[0;34m\u001b[0m\u001b[0m\n\u001b[0m",
      "\u001b[0;31mTypeError\u001b[0m: can only concatenate str (not \"int\") to str"
     ]
    }
   ]
  },
  {
   "cell_type": "code",
   "metadata": {
    "tags": [],
    "cell_id": "00005-dedf5452-8f52-4bc1-8968-772ba64429a6",
    "deepnote_to_be_reexecuted": false,
    "source_hash": "c75389a8",
    "execution_millis": 4,
    "execution_start": 1613396756575,
    "deepnote_cell_type": "code"
   },
   "source": "nb = 2\nprint('ça fait' + ' ' + str(nb))\n\n# deuxième essai\nprint('ça fait')\nprint(nb)\n\nprint(42,'42')",
   "execution_count": null,
   "outputs": [
    {
     "name": "stdout",
     "text": "ça fait 2\nça fait\n2\n42 42\n",
     "output_type": "stream"
    }
   ]
  },
  {
   "cell_type": "markdown",
   "source": "## Upper and Lower",
   "metadata": {
    "tags": [],
    "cell_id": "00008-bc7d6b38-a261-4fce-90d4-204ea8dc5670",
    "deepnote_cell_type": "markdown"
   }
  },
  {
   "cell_type": "code",
   "metadata": {
    "tags": [],
    "cell_id": "00008-a32e67d7-704e-48ad-acec-732689dc112e",
    "deepnote_to_be_reexecuted": false,
    "source_hash": "f2325463",
    "execution_millis": 16,
    "execution_start": 1613396976766,
    "deepnote_cell_type": "code"
   },
   "source": "original  = 'Super Mario'\n\nlower_version = original.lower()\nprint(lower_version)\n\nmega_version = original.upper()\nprint(mega_version)",
   "execution_count": null,
   "outputs": [
    {
     "name": "stdout",
     "text": "super mario\nSUPER MARIO\n",
     "output_type": "stream"
    }
   ]
  },
  {
   "cell_type": "markdown",
   "source": "# Tests sur vos valeurs de strings",
   "metadata": {
    "tags": [],
    "cell_id": "00009-ee785d28-45a8-451b-879a-2297ebf61550",
    "deepnote_cell_type": "markdown"
   }
  },
  {
   "cell_type": "code",
   "metadata": {
    "tags": [],
    "cell_id": "00010-af6363d0-3cb5-4e9a-8cee-2d6904f47e9d",
    "deepnote_to_be_reexecuted": false,
    "source_hash": "d5d3f437",
    "execution_millis": 6,
    "execution_start": 1613397531619,
    "deepnote_cell_type": "code"
   },
   "source": "num = '17'\ncombinaison = 'top14'\nalpha = 'abcde'\nsymbols = '[#&'\n\n# str.isalphanum()\nprint('isalphanum()', num.isalnum()) \nprint('isalphanum(alpha)', alpha.isalnum())\nprint('isalphanum(symbols)', symbols.isalnum())\n\n# islower\nprint('original.islower()', original.islower())\nprint('lower_version.islower()', lower_version.islower())\nprint('mega_version.islower()', mega_version.islower())\n\n# isnumeric\nprint('original.isnumeric()', original.isnumeric())\nprint('num.isnumeric()', num.isnumeric())\nprint('combinaison.isnumeric()', combinaison.isnumeric())\n",
   "execution_count": null,
   "outputs": [
    {
     "name": "stdout",
     "text": "isalphanum() True\nisalphanum(alpha) True\nisalphanum(symbols) False\noriginal.islower() False\nlower_version.islower() True\nmega_version.islower() False\noriginal.isnumeric() False\nnum.isnumeric() True\ncombinaison.isnumeric() False\n",
     "output_type": "stream"
    }
   ]
  },
  {
   "cell_type": "markdown",
   "source": "## Listes et strings",
   "metadata": {
    "tags": [],
    "cell_id": "00011-4f063219-d378-41f0-a996-80afc78d7735",
    "deepnote_cell_type": "markdown"
   }
  },
  {
   "cell_type": "code",
   "metadata": {
    "tags": [],
    "cell_id": "00012-bcc67099-151e-460d-b730-52939a4530d3",
    "deepnote_to_be_reexecuted": false,
    "source_hash": "6aa5b599",
    "execution_millis": 7,
    "execution_start": 1613398203996,
    "deepnote_cell_type": "code"
   },
   "source": "exemple = \"il était une fois\"\n\n# longueur\nlist_str = list(exemple)\nprint(exemple)\nprint(list_str)\n\nprint(\"len list_str\", len(list_str))\nprint(len(exemple))\n\n# indexation\nprint('dernier char', exemple[-1])\n\nfor ind, val in enumerate(exemple):\n    print(ind, val)\n    #print('{} ème char {}'.format(ind, char))\n",
   "execution_count": null,
   "outputs": [
    {
     "name": "stdout",
     "text": "il était une fois\n['i', 'l', ' ', 'é', 't', 'a', 'i', 't', ' ', 'u', 'n', 'e', ' ', 'f', 'o', 'i', 's']\nlen list_str 17\n17\ndernier char s\n0 i\n1 l\n2  \n3 é\n4 t\n5 a\n6 i\n7 t\n8  \n9 u\n10 n\n11 e\n12  \n13 f\n14 o\n15 i\n16 s\n",
     "output_type": "stream"
    }
   ]
  },
  {
   "cell_type": "markdown",
   "source": "## join() split() replace()",
   "metadata": {
    "tags": [],
    "cell_id": "00014-f484efca-5a55-44c2-890a-a03a62244fd3",
    "deepnote_cell_type": "markdown"
   }
  },
  {
   "cell_type": "code",
   "metadata": {
    "tags": [],
    "cell_id": "00014-01168d43-286e-4e57-82ca-00a88491112b",
    "deepnote_to_be_reexecuted": false,
    "source_hash": "15d6eee1",
    "execution_millis": 9,
    "execution_start": 1613399163086,
    "deepnote_cell_type": "code"
   },
   "source": "ma_wish_list = ', '.join(['la tarte tatin', 'la tarte à la framboise', 'crème brûlée'])\n\n# 'segmente' la chaîne de caratères en fonction des espaces\nprint(exemple.split())\nprint(ma_wish_list.split('a'))\n\n\n# insertin d'un caractère dans le string initial \nprint(' '.join(exemple))\nprint('\\n'.join(exemple)) # en ligne\n\n# join avec une liste en paramètre\n\nprint('j\\'aime :', ', '.join(['la tarte tatin', 'la tarte à la framboise', 'crème brûlée']))\n\n# replace\n\nprint(ma_wish_list)\nma_liste_pas_terrible = ma_wish_list.replace('tarte', 'épinards')\nprint(ma_liste_pas_terrible)\n\n\n\n",
   "execution_count": null,
   "outputs": [
    {
     "name": "stdout",
     "text": "['il', 'était', 'une', 'fois']\n['l', ' t', 'rte t', 'tin, l', ' t', 'rte à l', ' fr', 'mboise, crème brûlée']\ni l   é t a i t   u n e   f o i s\ni\nl\n \né\nt\na\ni\nt\n \nu\nn\ne\n \nf\no\ni\ns\nj'aime : la tarte tatin, la tarte à la framboise, crème brûlée\nla tarte tatin, la tarte à la framboise, crème brûlée\nla épinards tatin, la épinards à la framboise, crème brûlée\n",
     "output_type": "stream"
    }
   ]
  },
  {
   "cell_type": "markdown",
   "source": "## L'opérateur in\n\nCelui-ci va tester la présence d'une string dans une autre",
   "metadata": {
    "tags": [],
    "cell_id": "00015-b32ab548-d83e-49c1-b6fc-8ae721c81a3d",
    "deepnote_cell_type": "markdown"
   }
  },
  {
   "cell_type": "code",
   "metadata": {
    "tags": [],
    "cell_id": "00016-edef2066-a6e3-40f9-b86e-18400cd24391",
    "deepnote_to_be_reexecuted": false,
    "source_hash": "d646ebb",
    "execution_millis": 7,
    "execution_start": 1613462926444,
    "deepnote_cell_type": "code"
   },
   "source": "# prenons pour exemple les chaînes de caractères :\nmoustache = 'moi, j`\\'ai de la moustache'\n\nporteur_de_moustache = 'moustache' in moustache\nprint(porteur_de_moustache)\n\n#tout autre sujet\nprint('patate' in moustache)\n\n#on voit bien que cette sous chaîne est absente de la chaîne principale",
   "execution_count": null,
   "outputs": [
    {
     "name": "stdout",
     "text": "True\nFalse\n",
     "output_type": "stream"
    }
   ]
  },
  {
   "cell_type": "markdown",
   "source": "### L'exemple du remplacement des voyelles",
   "metadata": {
    "tags": [],
    "cell_id": "00017-11b89cbd-8de6-4350-a539-5a53275b1cb1",
    "deepnote_cell_type": "markdown"
   }
  },
  {
   "cell_type": "code",
   "metadata": {
    "tags": [],
    "cell_id": "00018-195f5ba8-ebd8-4804-93d8-fb8c43203acf",
    "deepnote_to_be_reexecuted": false,
    "source_hash": "8e460444",
    "execution_millis": 8,
    "execution_start": 1613463764187,
    "deepnote_cell_type": "code"
   },
   "source": "source_data = 'Qui veut vivre en paix doit apprendre à maitriser sa langue' # by Plutarque\nvoyelles = 'aeiouy'\n\n\n\n# Strat 1\nchaine1 = source_data\nfor voy in voyelles:\n    chaine1 = chaine1.replace(voy, '')\n    print('voyelle courante %s {} :'.format(voy), chaine1)\n\n\n# Strat 2\nchaine2 = source_data\ncles = list(voyelles)\nvaleurs = [None] * 6\n\nprint('\\ncles', cles)\nprint('valeurs', valeurs)\n\ntable = dict(zip(cles, valeurs))\nprint('\\nMa table de traduction', table)\n\n\ntable_traduction = str.maketrans(table)\nchaine2 = chaine2.translate(table_traduction)\n\nprint('\\n',source_data)\nprint(chaine2)\n\n",
   "execution_count": null,
   "outputs": [
    {
     "name": "stdout",
     "text": "voyelle courante %s a : Qui veut vivre en pix doit pprendre à mitriser s lngue\nvoyelle courante %s e : Qui vut vivr n pix doit pprndr à mitrisr s lngu\nvoyelle courante %s i : Qu vut vvr n px dot pprndr à mtrsr s lngu\nvoyelle courante %s o : Qu vut vvr n px dt pprndr à mtrsr s lngu\nvoyelle courante %s u : Q vt vvr n px dt pprndr à mtrsr s lng\nvoyelle courante %s y : Q vt vvr n px dt pprndr à mtrsr s lng\n\ncles ['a', 'e', 'i', 'o', 'u', 'y']\nvaleurs [None, None, None, None, None, None]\n\nMa table de traduction {'a': None, 'e': None, 'i': None, 'o': None, 'u': None, 'y': None}\n\n Qui veut vivre en paix doit apprendre à maitriser sa langue\nQ vt vvr n px dt pprndr à mtrsr s lng\n",
     "output_type": "stream"
    }
   ]
  },
  {
   "cell_type": "markdown",
   "source": "<a style='text-decoration:none;line-height:16px;display:flex;color:#5B5B62;padding:10px;justify-content:end;' href='https://deepnote.com?utm_source=created-in-deepnote-cell&projectId=25ad01f7-ec4b-4ac8-bce6-a3745ef02c96' target=\"_blank\">\n<img alt='Created in deepnote.com' style='display:inline;max-height:16px;margin:0px;margin-right:7.5px;' src='data:image/svg+xml;base64,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' > </img>\nCreated in <span style='font-weight:600;margin-left:4px;'>Deepnote</span></a>",
   "metadata": {
    "tags": [],
    "created_in_deepnote_cell": true,
    "deepnote_cell_type": "markdown"
   }
  }
 ],
 "nbformat": 4,
 "nbformat_minor": 2,
 "metadata": {
  "orig_nbformat": 2,
  "deepnote_notebook_id": "2dc6d5d9-d7b0-4f7c-9645-d71513744816",
  "deepnote": {},
  "deepnote_execution_queue": []
 }
}