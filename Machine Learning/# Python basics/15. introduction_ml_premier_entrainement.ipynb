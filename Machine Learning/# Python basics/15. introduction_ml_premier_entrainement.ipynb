{
 "cells": [
  {
   "cell_type": "markdown",
   "source": "## Première régression linéaire \n\nOn a dit que choisir un modèle c'était se restreindre la famille de fonction qu'on cherche. \n\nSi on choisit d'utiliser une régression linéaire, on choisit une famille de fonction de la forme \n$ \\hat{y} = \\theta_0 + \\theta_1 * X_1 + \\theta_2 * X_2 + ... + \\theta_n * X_n $ \n\nLe but est alors de trouver les bonnes valeurs de $\\theta$ pour que les prédictions du modèles sont le mieux possible. \n\nScikit-learn nous permet de trouver les valeurs automatiquement\n\n![ml_machine_learning.png](ml_machine_learning.png)",
   "metadata": {
    "tags": [],
    "cell_id": "00000-9ee7eabc-5d89-4e95-817a-180c08735139",
    "deepnote_cell_type": "markdown"
   }
  },
  {
   "cell_type": "code",
   "metadata": {
    "tags": [],
    "cell_id": "00000-17de3f94-0b6a-40e2-984c-d0185a25b849",
    "deepnote_to_be_reexecuted": false,
    "source_hash": "299f061f",
    "execution_millis": 0,
    "execution_start": 1623137546703,
    "deepnote_cell_type": "code"
   },
   "source": "#Prenons un dataset synthétique\nimport numpy as np\n\nX = np.abs(2.2 + np.random.randn(20, 1))  #année experience pour 20 personnes différentes\ny = 500 + 900 * X ",
   "execution_count": null,
   "outputs": []
  },
  {
   "cell_type": "code",
   "metadata": {
    "tags": [],
    "cell_id": "00001-04e1e0b1-a548-420c-bfe4-cb9b9ac7ac43",
    "deepnote_to_be_reexecuted": false,
    "source_hash": "247e3039",
    "execution_start": 1623137555018,
    "execution_millis": 13,
    "deepnote_cell_type": "code"
   },
   "source": "y[:5] # salaire ",
   "execution_count": null,
   "outputs": [
    {
     "output_type": "execute_result",
     "execution_count": 2,
     "data": {
      "text/plain": "array([[2518.3124357 ],\n       [2010.23942191],\n       [2021.24713798],\n       [2485.03587887],\n       [1659.25243561]])"
     },
     "metadata": {}
    }
   ]
  },
  {
   "cell_type": "code",
   "metadata": {
    "tags": [],
    "cell_id": "00002-811f40b4-3797-4265-8246-1052741b8c77",
    "deepnote_to_be_reexecuted": false,
    "source_hash": "58f33cfb",
    "execution_millis": 4,
    "execution_start": 1612261804266,
    "deepnote_cell_type": "code"
   },
   "source": "# comment établir autoamtique la relation entre X et y , cad trouver les theta\n\nfrom sklearn.linear_model import LinearRegression\n # theta0 + theta1 * X1 + theta2 * X2 + ....\n\nmodel = LinearRegression() # création de la fonction\nmodel.fit(X, y) #recherche des valeurs de theta automatiquement.\n\nprint(model.intercept_) # theta0\nprint(model.coef_) #theta1",
   "execution_count": null,
   "outputs": [
    {
     "name": "stdout",
     "text": "[500.]\n[[900.]]\n",
     "output_type": "stream"
    }
   ]
  },
  {
   "cell_type": "code",
   "metadata": {
    "tags": [],
    "cell_id": "00003-5c8ac5e1-c519-4468-9870-ada9dd07a527",
    "deepnote_to_be_reexecuted": false,
    "source_hash": "618cd61b",
    "execution_start": 1612261828858,
    "execution_millis": 2,
    "deepnote_cell_type": "code"
   },
   "source": "model.predict([[20]]) #prédit moi mon salaire si j'avais 20 ans experiences",
   "execution_count": null,
   "outputs": [
    {
     "output_type": "execute_result",
     "execution_count": 9,
     "data": {
      "text/plain": "array([[18500.]])"
     },
     "metadata": {}
    }
   ]
  },
  {
   "cell_type": "code",
   "metadata": {
    "tags": [],
    "cell_id": "00004-81a3ffd1-3c1c-4691-b29a-36d4dba6fc85",
    "deepnote_to_be_reexecuted": false,
    "source_hash": "a35adcc5",
    "execution_millis": 14,
    "execution_start": 1612597205536,
    "deepnote_cell_type": "code"
   },
   "source": "import pandas as pd\n\n\ndf = pd.DataFrame({\"size\": [100, 200, 50], \"orientation\": ['Sud', 'Nord', 'Est'], \"prix\": [1111, 3000, 500]})\ndf",
   "execution_count": null,
   "outputs": [
    {
     "output_type": "execute_result",
     "execution_count": 2,
     "data": {
      "application/vnd.deepnote.dataframe.v2+json": {
       "row_count": 3,
       "column_count": 3,
       "columns": [
        {
         "name": "size",
         "dtype": "int64",
         "stats": {
          "unique_count": 3,
          "nan_count": 0,
          "min": 50,
          "max": 200,
          "histogram": [
           {
            "bin_start": 50,
            "bin_end": 65,
            "count": 1
           },
           {
            "bin_start": 65,
            "bin_end": 80,
            "count": 0
           },
           {
            "bin_start": 80,
            "bin_end": 95,
            "count": 0
           },
           {
            "bin_start": 95,
            "bin_end": 110,
            "count": 1
           },
           {
            "bin_start": 110,
            "bin_end": 125,
            "count": 0
           },
           {
            "bin_start": 125,
            "bin_end": 140,
            "count": 0
           },
           {
            "bin_start": 140,
            "bin_end": 155,
            "count": 0
           },
           {
            "bin_start": 155,
            "bin_end": 170,
            "count": 0
           },
           {
            "bin_start": 170,
            "bin_end": 185,
            "count": 0
           },
           {
            "bin_start": 185,
            "bin_end": 200,
            "count": 1
           }
          ]
         }
        },
        {
         "name": "orientation",
         "dtype": "object",
         "stats": {
          "unique_count": 3,
          "nan_count": 0,
          "categories": [
           {
            "name": "Sud",
            "count": 1
           },
           {
            "name": "Nord",
            "count": 1
           },
           {
            "name": "Est",
            "count": 1
           }
          ]
         }
        },
        {
         "name": "prix",
         "dtype": "int64",
         "stats": {
          "unique_count": 3,
          "nan_count": 0,
          "min": 500,
          "max": 3000,
          "histogram": [
           {
            "bin_start": 500,
            "bin_end": 750,
            "count": 1
           },
           {
            "bin_start": 750,
            "bin_end": 1000,
            "count": 0
           },
           {
            "bin_start": 1000,
            "bin_end": 1250,
            "count": 1
           },
           {
            "bin_start": 1250,
            "bin_end": 1500,
            "count": 0
           },
           {
            "bin_start": 1500,
            "bin_end": 1750,
            "count": 0
           },
           {
            "bin_start": 1750,
            "bin_end": 2000,
            "count": 0
           },
           {
            "bin_start": 2000,
            "bin_end": 2250,
            "count": 0
           },
           {
            "bin_start": 2250,
            "bin_end": 2500,
            "count": 0
           },
           {
            "bin_start": 2500,
            "bin_end": 2750,
            "count": 0
           },
           {
            "bin_start": 2750,
            "bin_end": 3000,
            "count": 1
           }
          ]
         }
        },
        {
         "name": "_deepnote_index_column",
         "dtype": "int64"
        }
       ],
       "rows_top": [
        {
         "size": 100,
         "orientation": "Sud",
         "prix": 1111,
         "_deepnote_index_column": 0
        },
        {
         "size": 200,
         "orientation": "Nord",
         "prix": 3000,
         "_deepnote_index_column": 1
        },
        {
         "size": 50,
         "orientation": "Est",
         "prix": 500,
         "_deepnote_index_column": 2
        }
       ],
       "rows_bottom": null
      },
      "text/plain": "   size orientation  prix\n0   100         Sud  1111\n1   200        Nord  3000\n2    50         Est   500",
      "text/html": "<div>\n<style scoped>\n    .dataframe tbody tr th:only-of-type {\n        vertical-align: middle;\n    }\n\n    .dataframe tbody tr th {\n        vertical-align: top;\n    }\n\n    .dataframe thead th {\n        text-align: right;\n    }\n</style>\n<table border=\"1\" class=\"dataframe\">\n  <thead>\n    <tr style=\"text-align: right;\">\n      <th></th>\n      <th>size</th>\n      <th>orientation</th>\n      <th>prix</th>\n    </tr>\n  </thead>\n  <tbody>\n    <tr>\n      <th>0</th>\n      <td>100</td>\n      <td>Sud</td>\n      <td>1111</td>\n    </tr>\n    <tr>\n      <th>1</th>\n      <td>200</td>\n      <td>Nord</td>\n      <td>3000</td>\n    </tr>\n    <tr>\n      <th>2</th>\n      <td>50</td>\n      <td>Est</td>\n      <td>500</td>\n    </tr>\n  </tbody>\n</table>\n</div>"
     },
     "metadata": {}
    }
   ]
  },
  {
   "cell_type": "code",
   "metadata": {
    "tags": [],
    "cell_id": "00005-90dd5e8a-891e-4967-8bc7-8abc1d936f96",
    "deepnote_cell_type": "code"
   },
   "source": "#la colonne orientation est au format \"text\"\n# on est pas content il faut le représenter sous forme numérique\n\n# il y a deux options :\n# Utiliser un encodage catégoriel (Sud -> 0, Nord -> 1, Est -> 2 )\n# Utiliser un encodage \"one hot encoding\"",
   "execution_count": null,
   "outputs": []
  },
  {
   "cell_type": "code",
   "metadata": {
    "tags": [],
    "cell_id": "00006-4f70b4e2-f43b-467c-96f0-593df3ee110e",
    "deepnote_to_be_reexecuted": false,
    "source_hash": "5182f800",
    "execution_start": 1612597375785,
    "execution_millis": 5,
    "deepnote_cell_type": "code"
   },
   "source": "from sklearn.preprocessing import LabelEncoder\n\nencoder = LabelEncoder()\n\nencoder.fit(df['orientation'])\n\n\nresult = encoder.transform(df['orientation'])\nresult\n",
   "execution_count": null,
   "outputs": [
    {
     "output_type": "execute_result",
     "execution_count": 3,
     "data": {
      "text/plain": "array([2, 1, 0])"
     },
     "metadata": {}
    }
   ]
  },
  {
   "cell_type": "code",
   "metadata": {
    "tags": [],
    "cell_id": "00007-bbcd86d7-9f18-4008-8e63-3b896fe7fb47",
    "deepnote_to_be_reexecuted": false,
    "source_hash": "273d1bc3",
    "execution_start": 1612597393032,
    "execution_millis": 6,
    "deepnote_cell_type": "code"
   },
   "source": "df['orientation'] = result\ndf",
   "execution_count": null,
   "outputs": [
    {
     "output_type": "execute_result",
     "execution_count": 4,
     "data": {
      "application/vnd.deepnote.dataframe.v2+json": {
       "row_count": 3,
       "column_count": 3,
       "columns": [
        {
         "name": "size",
         "dtype": "int64",
         "stats": {
          "unique_count": 3,
          "nan_count": 0,
          "min": 50,
          "max": 200,
          "histogram": [
           {
            "bin_start": 50,
            "bin_end": 65,
            "count": 1
           },
           {
            "bin_start": 65,
            "bin_end": 80,
            "count": 0
           },
           {
            "bin_start": 80,
            "bin_end": 95,
            "count": 0
           },
           {
            "bin_start": 95,
            "bin_end": 110,
            "count": 1
           },
           {
            "bin_start": 110,
            "bin_end": 125,
            "count": 0
           },
           {
            "bin_start": 125,
            "bin_end": 140,
            "count": 0
           },
           {
            "bin_start": 140,
            "bin_end": 155,
            "count": 0
           },
           {
            "bin_start": 155,
            "bin_end": 170,
            "count": 0
           },
           {
            "bin_start": 170,
            "bin_end": 185,
            "count": 0
           },
           {
            "bin_start": 185,
            "bin_end": 200,
            "count": 1
           }
          ]
         }
        },
        {
         "name": "orientation",
         "dtype": "int64",
         "stats": {
          "unique_count": 3,
          "nan_count": 0,
          "min": 0,
          "max": 2,
          "histogram": [
           {
            "bin_start": 0,
            "bin_end": 0.2,
            "count": 1
           },
           {
            "bin_start": 0.2,
            "bin_end": 0.4,
            "count": 0
           },
           {
            "bin_start": 0.4,
            "bin_end": 0.6000000000000001,
            "count": 0
           },
           {
            "bin_start": 0.6000000000000001,
            "bin_end": 0.8,
            "count": 0
           },
           {
            "bin_start": 0.8,
            "bin_end": 1,
            "count": 0
           },
           {
            "bin_start": 1,
            "bin_end": 1.2000000000000002,
            "count": 1
           },
           {
            "bin_start": 1.2000000000000002,
            "bin_end": 1.4000000000000001,
            "count": 0
           },
           {
            "bin_start": 1.4000000000000001,
            "bin_end": 1.6,
            "count": 0
           },
           {
            "bin_start": 1.6,
            "bin_end": 1.8,
            "count": 0
           },
           {
            "bin_start": 1.8,
            "bin_end": 2,
            "count": 1
           }
          ]
         }
        },
        {
         "name": "prix",
         "dtype": "int64",
         "stats": {
          "unique_count": 3,
          "nan_count": 0,
          "min": 500,
          "max": 3000,
          "histogram": [
           {
            "bin_start": 500,
            "bin_end": 750,
            "count": 1
           },
           {
            "bin_start": 750,
            "bin_end": 1000,
            "count": 0
           },
           {
            "bin_start": 1000,
            "bin_end": 1250,
            "count": 1
           },
           {
            "bin_start": 1250,
            "bin_end": 1500,
            "count": 0
           },
           {
            "bin_start": 1500,
            "bin_end": 1750,
            "count": 0
           },
           {
            "bin_start": 1750,
            "bin_end": 2000,
            "count": 0
           },
           {
            "bin_start": 2000,
            "bin_end": 2250,
            "count": 0
           },
           {
            "bin_start": 2250,
            "bin_end": 2500,
            "count": 0
           },
           {
            "bin_start": 2500,
            "bin_end": 2750,
            "count": 0
           },
           {
            "bin_start": 2750,
            "bin_end": 3000,
            "count": 1
           }
          ]
         }
        },
        {
         "name": "_deepnote_index_column",
         "dtype": "int64"
        }
       ],
       "rows_top": [
        {
         "size": 100,
         "orientation": 2,
         "prix": 1111,
         "_deepnote_index_column": 0
        },
        {
         "size": 200,
         "orientation": 1,
         "prix": 3000,
         "_deepnote_index_column": 1
        },
        {
         "size": 50,
         "orientation": 0,
         "prix": 500,
         "_deepnote_index_column": 2
        }
       ],
       "rows_bottom": null
      },
      "text/plain": "   size  orientation  prix\n0   100            2  1111\n1   200            1  3000\n2    50            0   500",
      "text/html": "<div>\n<style scoped>\n    .dataframe tbody tr th:only-of-type {\n        vertical-align: middle;\n    }\n\n    .dataframe tbody tr th {\n        vertical-align: top;\n    }\n\n    .dataframe thead th {\n        text-align: right;\n    }\n</style>\n<table border=\"1\" class=\"dataframe\">\n  <thead>\n    <tr style=\"text-align: right;\">\n      <th></th>\n      <th>size</th>\n      <th>orientation</th>\n      <th>prix</th>\n    </tr>\n  </thead>\n  <tbody>\n    <tr>\n      <th>0</th>\n      <td>100</td>\n      <td>2</td>\n      <td>1111</td>\n    </tr>\n    <tr>\n      <th>1</th>\n      <td>200</td>\n      <td>1</td>\n      <td>3000</td>\n    </tr>\n    <tr>\n      <th>2</th>\n      <td>50</td>\n      <td>0</td>\n      <td>500</td>\n    </tr>\n  </tbody>\n</table>\n</div>"
     },
     "metadata": {}
    }
   ]
  },
  {
   "cell_type": "code",
   "metadata": {
    "tags": [],
    "cell_id": "00008-9aa61a51-05c4-4ee2-bc0a-81c9883d483a",
    "deepnote_to_be_reexecuted": false,
    "source_hash": "2493fe9d",
    "execution_millis": 6,
    "execution_start": 1612603226657,
    "deepnote_cell_type": "code"
   },
   "source": "df = pd.DataFrame({\"size\": [100, 200, 50, 50, 50], \"orientation\": ['Sud', 'Nord', 'Sud Est', 'Est', 'Ouest'], \"prix\": [1111, 3000, 500, 600, 520]})\ndf",
   "execution_count": null,
   "outputs": [
    {
     "output_type": "execute_result",
     "execution_count": 7,
     "data": {
      "application/vnd.deepnote.dataframe.v2+json": {
       "row_count": 5,
       "column_count": 3,
       "columns": [
        {
         "name": "size",
         "dtype": "int64",
         "stats": {
          "unique_count": 3,
          "nan_count": 0,
          "min": 50,
          "max": 200,
          "histogram": [
           {
            "bin_start": 50,
            "bin_end": 65,
            "count": 3
           },
           {
            "bin_start": 65,
            "bin_end": 80,
            "count": 0
           },
           {
            "bin_start": 80,
            "bin_end": 95,
            "count": 0
           },
           {
            "bin_start": 95,
            "bin_end": 110,
            "count": 1
           },
           {
            "bin_start": 110,
            "bin_end": 125,
            "count": 0
           },
           {
            "bin_start": 125,
            "bin_end": 140,
            "count": 0
           },
           {
            "bin_start": 140,
            "bin_end": 155,
            "count": 0
           },
           {
            "bin_start": 155,
            "bin_end": 170,
            "count": 0
           },
           {
            "bin_start": 170,
            "bin_end": 185,
            "count": 0
           },
           {
            "bin_start": 185,
            "bin_end": 200,
            "count": 1
           }
          ]
         }
        },
        {
         "name": "orientation",
         "dtype": "object",
         "stats": {
          "unique_count": 5,
          "nan_count": 0,
          "categories": [
           {
            "name": "Sud",
            "count": 1
           },
           {
            "name": "Nord",
            "count": 1
           },
           {
            "name": "3 others",
            "count": 3
           }
          ]
         }
        },
        {
         "name": "prix",
         "dtype": "int64",
         "stats": {
          "unique_count": 5,
          "nan_count": 0,
          "min": 500,
          "max": 3000,
          "histogram": [
           {
            "bin_start": 500,
            "bin_end": 750,
            "count": 3
           },
           {
            "bin_start": 750,
            "bin_end": 1000,
            "count": 0
           },
           {
            "bin_start": 1000,
            "bin_end": 1250,
            "count": 1
           },
           {
            "bin_start": 1250,
            "bin_end": 1500,
            "count": 0
           },
           {
            "bin_start": 1500,
            "bin_end": 1750,
            "count": 0
           },
           {
            "bin_start": 1750,
            "bin_end": 2000,
            "count": 0
           },
           {
            "bin_start": 2000,
            "bin_end": 2250,
            "count": 0
           },
           {
            "bin_start": 2250,
            "bin_end": 2500,
            "count": 0
           },
           {
            "bin_start": 2500,
            "bin_end": 2750,
            "count": 0
           },
           {
            "bin_start": 2750,
            "bin_end": 3000,
            "count": 1
           }
          ]
         }
        },
        {
         "name": "_deepnote_index_column",
         "dtype": "int64"
        }
       ],
       "rows_top": [
        {
         "size": 100,
         "orientation": "Sud",
         "prix": 1111,
         "_deepnote_index_column": 0
        },
        {
         "size": 200,
         "orientation": "Nord",
         "prix": 3000,
         "_deepnote_index_column": 1
        },
        {
         "size": 50,
         "orientation": "Sud Est",
         "prix": 500,
         "_deepnote_index_column": 2
        },
        {
         "size": 50,
         "orientation": "Est",
         "prix": 600,
         "_deepnote_index_column": 3
        },
        {
         "size": 50,
         "orientation": "Ouest",
         "prix": 520,
         "_deepnote_index_column": 4
        }
       ],
       "rows_bottom": null
      },
      "text/plain": "   size orientation  prix\n0   100         Sud  1111\n1   200        Nord  3000\n2    50     Sud Est   500\n3    50         Est   600\n4    50       Ouest   520",
      "text/html": "<div>\n<style scoped>\n    .dataframe tbody tr th:only-of-type {\n        vertical-align: middle;\n    }\n\n    .dataframe tbody tr th {\n        vertical-align: top;\n    }\n\n    .dataframe thead th {\n        text-align: right;\n    }\n</style>\n<table border=\"1\" class=\"dataframe\">\n  <thead>\n    <tr style=\"text-align: right;\">\n      <th></th>\n      <th>size</th>\n      <th>orientation</th>\n      <th>prix</th>\n    </tr>\n  </thead>\n  <tbody>\n    <tr>\n      <th>0</th>\n      <td>100</td>\n      <td>Sud</td>\n      <td>1111</td>\n    </tr>\n    <tr>\n      <th>1</th>\n      <td>200</td>\n      <td>Nord</td>\n      <td>3000</td>\n    </tr>\n    <tr>\n      <th>2</th>\n      <td>50</td>\n      <td>Sud Est</td>\n      <td>500</td>\n    </tr>\n    <tr>\n      <th>3</th>\n      <td>50</td>\n      <td>Est</td>\n      <td>600</td>\n    </tr>\n    <tr>\n      <th>4</th>\n      <td>50</td>\n      <td>Ouest</td>\n      <td>520</td>\n    </tr>\n  </tbody>\n</table>\n</div>"
     },
     "metadata": {}
    }
   ]
  },
  {
   "cell_type": "code",
   "metadata": {
    "tags": [],
    "cell_id": "00009-72319760-d079-4bd1-a4ce-8314129e8a6c",
    "deepnote_to_be_reexecuted": false,
    "source_hash": "3c38cd25",
    "execution_millis": 10,
    "execution_start": 1612603229270,
    "deepnote_cell_type": "code"
   },
   "source": "df = pd.get_dummies(df, prefix=['orientation']) #transforme moi la colonne orientation en one hot encoding (aussi dummies)\ndf",
   "execution_count": null,
   "outputs": [
    {
     "output_type": "execute_result",
     "execution_count": 8,
     "data": {
      "application/vnd.deepnote.dataframe.v2+json": {
       "row_count": 5,
       "column_count": 7,
       "columns": [
        {
         "name": "size",
         "dtype": "int64",
         "stats": {
          "unique_count": 3,
          "nan_count": 0,
          "min": 50,
          "max": 200,
          "histogram": [
           {
            "bin_start": 50,
            "bin_end": 65,
            "count": 3
           },
           {
            "bin_start": 65,
            "bin_end": 80,
            "count": 0
           },
           {
            "bin_start": 80,
            "bin_end": 95,
            "count": 0
           },
           {
            "bin_start": 95,
            "bin_end": 110,
            "count": 1
           },
           {
            "bin_start": 110,
            "bin_end": 125,
            "count": 0
           },
           {
            "bin_start": 125,
            "bin_end": 140,
            "count": 0
           },
           {
            "bin_start": 140,
            "bin_end": 155,
            "count": 0
           },
           {
            "bin_start": 155,
            "bin_end": 170,
            "count": 0
           },
           {
            "bin_start": 170,
            "bin_end": 185,
            "count": 0
           },
           {
            "bin_start": 185,
            "bin_end": 200,
            "count": 1
           }
          ]
         }
        },
        {
         "name": "prix",
         "dtype": "int64",
         "stats": {
          "unique_count": 5,
          "nan_count": 0,
          "min": 500,
          "max": 3000,
          "histogram": [
           {
            "bin_start": 500,
            "bin_end": 750,
            "count": 3
           },
           {
            "bin_start": 750,
            "bin_end": 1000,
            "count": 0
           },
           {
            "bin_start": 1000,
            "bin_end": 1250,
            "count": 1
           },
           {
            "bin_start": 1250,
            "bin_end": 1500,
            "count": 0
           },
           {
            "bin_start": 1500,
            "bin_end": 1750,
            "count": 0
           },
           {
            "bin_start": 1750,
            "bin_end": 2000,
            "count": 0
           },
           {
            "bin_start": 2000,
            "bin_end": 2250,
            "count": 0
           },
           {
            "bin_start": 2250,
            "bin_end": 2500,
            "count": 0
           },
           {
            "bin_start": 2500,
            "bin_end": 2750,
            "count": 0
           },
           {
            "bin_start": 2750,
            "bin_end": 3000,
            "count": 1
           }
          ]
         }
        },
        {
         "name": "orientation_Est",
         "dtype": "uint8",
         "stats": {
          "unique_count": 2,
          "nan_count": 0,
          "min": 0,
          "max": 1,
          "histogram": [
           {
            "bin_start": 0,
            "bin_end": 0.1,
            "count": 4
           },
           {
            "bin_start": 0.1,
            "bin_end": 0.2,
            "count": 0
           },
           {
            "bin_start": 0.2,
            "bin_end": 0.30000000000000004,
            "count": 0
           },
           {
            "bin_start": 0.30000000000000004,
            "bin_end": 0.4,
            "count": 0
           },
           {
            "bin_start": 0.4,
            "bin_end": 0.5,
            "count": 0
           },
           {
            "bin_start": 0.5,
            "bin_end": 0.6000000000000001,
            "count": 0
           },
           {
            "bin_start": 0.6000000000000001,
            "bin_end": 0.7000000000000001,
            "count": 0
           },
           {
            "bin_start": 0.7000000000000001,
            "bin_end": 0.8,
            "count": 0
           },
           {
            "bin_start": 0.8,
            "bin_end": 0.9,
            "count": 0
           },
           {
            "bin_start": 0.9,
            "bin_end": 1,
            "count": 1
           }
          ]
         }
        },
        {
         "name": "orientation_Nord",
         "dtype": "uint8",
         "stats": {
          "unique_count": 2,
          "nan_count": 0,
          "min": 0,
          "max": 1,
          "histogram": [
           {
            "bin_start": 0,
            "bin_end": 0.1,
            "count": 4
           },
           {
            "bin_start": 0.1,
            "bin_end": 0.2,
            "count": 0
           },
           {
            "bin_start": 0.2,
            "bin_end": 0.30000000000000004,
            "count": 0
           },
           {
            "bin_start": 0.30000000000000004,
            "bin_end": 0.4,
            "count": 0
           },
           {
            "bin_start": 0.4,
            "bin_end": 0.5,
            "count": 0
           },
           {
            "bin_start": 0.5,
            "bin_end": 0.6000000000000001,
            "count": 0
           },
           {
            "bin_start": 0.6000000000000001,
            "bin_end": 0.7000000000000001,
            "count": 0
           },
           {
            "bin_start": 0.7000000000000001,
            "bin_end": 0.8,
            "count": 0
           },
           {
            "bin_start": 0.8,
            "bin_end": 0.9,
            "count": 0
           },
           {
            "bin_start": 0.9,
            "bin_end": 1,
            "count": 1
           }
          ]
         }
        },
        {
         "name": "orientation_Ouest",
         "dtype": "uint8",
         "stats": {
          "unique_count": 2,
          "nan_count": 0,
          "min": 0,
          "max": 1,
          "histogram": [
           {
            "bin_start": 0,
            "bin_end": 0.1,
            "count": 4
           },
           {
            "bin_start": 0.1,
            "bin_end": 0.2,
            "count": 0
           },
           {
            "bin_start": 0.2,
            "bin_end": 0.30000000000000004,
            "count": 0
           },
           {
            "bin_start": 0.30000000000000004,
            "bin_end": 0.4,
            "count": 0
           },
           {
            "bin_start": 0.4,
            "bin_end": 0.5,
            "count": 0
           },
           {
            "bin_start": 0.5,
            "bin_end": 0.6000000000000001,
            "count": 0
           },
           {
            "bin_start": 0.6000000000000001,
            "bin_end": 0.7000000000000001,
            "count": 0
           },
           {
            "bin_start": 0.7000000000000001,
            "bin_end": 0.8,
            "count": 0
           },
           {
            "bin_start": 0.8,
            "bin_end": 0.9,
            "count": 0
           },
           {
            "bin_start": 0.9,
            "bin_end": 1,
            "count": 1
           }
          ]
         }
        },
        {
         "name": "orientation_Sud",
         "dtype": "uint8",
         "stats": {
          "unique_count": 2,
          "nan_count": 0,
          "min": 0,
          "max": 1,
          "histogram": [
           {
            "bin_start": 0,
            "bin_end": 0.1,
            "count": 4
           },
           {
            "bin_start": 0.1,
            "bin_end": 0.2,
            "count": 0
           },
           {
            "bin_start": 0.2,
            "bin_end": 0.30000000000000004,
            "count": 0
           },
           {
            "bin_start": 0.30000000000000004,
            "bin_end": 0.4,
            "count": 0
           },
           {
            "bin_start": 0.4,
            "bin_end": 0.5,
            "count": 0
           },
           {
            "bin_start": 0.5,
            "bin_end": 0.6000000000000001,
            "count": 0
           },
           {
            "bin_start": 0.6000000000000001,
            "bin_end": 0.7000000000000001,
            "count": 0
           },
           {
            "bin_start": 0.7000000000000001,
            "bin_end": 0.8,
            "count": 0
           },
           {
            "bin_start": 0.8,
            "bin_end": 0.9,
            "count": 0
           },
           {
            "bin_start": 0.9,
            "bin_end": 1,
            "count": 1
           }
          ]
         }
        },
        {
         "name": "orientation_Sud Est",
         "dtype": "uint8",
         "stats": {
          "unique_count": 2,
          "nan_count": 0,
          "min": 0,
          "max": 1,
          "histogram": [
           {
            "bin_start": 0,
            "bin_end": 0.1,
            "count": 4
           },
           {
            "bin_start": 0.1,
            "bin_end": 0.2,
            "count": 0
           },
           {
            "bin_start": 0.2,
            "bin_end": 0.30000000000000004,
            "count": 0
           },
           {
            "bin_start": 0.30000000000000004,
            "bin_end": 0.4,
            "count": 0
           },
           {
            "bin_start": 0.4,
            "bin_end": 0.5,
            "count": 0
           },
           {
            "bin_start": 0.5,
            "bin_end": 0.6000000000000001,
            "count": 0
           },
           {
            "bin_start": 0.6000000000000001,
            "bin_end": 0.7000000000000001,
            "count": 0
           },
           {
            "bin_start": 0.7000000000000001,
            "bin_end": 0.8,
            "count": 0
           },
           {
            "bin_start": 0.8,
            "bin_end": 0.9,
            "count": 0
           },
           {
            "bin_start": 0.9,
            "bin_end": 1,
            "count": 1
           }
          ]
         }
        },
        {
         "name": "_deepnote_index_column",
         "dtype": "int64"
        }
       ],
       "rows_top": [
        {
         "size": 100,
         "prix": 1111,
         "orientation_Est": 0,
         "orientation_Nord": 0,
         "orientation_Ouest": 0,
         "orientation_Sud": 1,
         "orientation_Sud Est": 0,
         "_deepnote_index_column": 0
        },
        {
         "size": 200,
         "prix": 3000,
         "orientation_Est": 0,
         "orientation_Nord": 1,
         "orientation_Ouest": 0,
         "orientation_Sud": 0,
         "orientation_Sud Est": 0,
         "_deepnote_index_column": 1
        },
        {
         "size": 50,
         "prix": 500,
         "orientation_Est": 0,
         "orientation_Nord": 0,
         "orientation_Ouest": 0,
         "orientation_Sud": 0,
         "orientation_Sud Est": 1,
         "_deepnote_index_column": 2
        },
        {
         "size": 50,
         "prix": 600,
         "orientation_Est": 1,
         "orientation_Nord": 0,
         "orientation_Ouest": 0,
         "orientation_Sud": 0,
         "orientation_Sud Est": 0,
         "_deepnote_index_column": 3
        },
        {
         "size": 50,
         "prix": 520,
         "orientation_Est": 0,
         "orientation_Nord": 0,
         "orientation_Ouest": 1,
         "orientation_Sud": 0,
         "orientation_Sud Est": 0,
         "_deepnote_index_column": 4
        }
       ],
       "rows_bottom": null
      },
      "text/plain": "   size  prix  orientation_Est  orientation_Nord  orientation_Ouest  \\\n0   100  1111                0                 0                  0   \n1   200  3000                0                 1                  0   \n2    50   500                0                 0                  0   \n3    50   600                1                 0                  0   \n4    50   520                0                 0                  1   \n\n   orientation_Sud  orientation_Sud Est  \n0                1                    0  \n1                0                    0  \n2                0                    1  \n3                0                    0  \n4                0                    0  ",
      "text/html": "<div>\n<style scoped>\n    .dataframe tbody tr th:only-of-type {\n        vertical-align: middle;\n    }\n\n    .dataframe tbody tr th {\n        vertical-align: top;\n    }\n\n    .dataframe thead th {\n        text-align: right;\n    }\n</style>\n<table border=\"1\" class=\"dataframe\">\n  <thead>\n    <tr style=\"text-align: right;\">\n      <th></th>\n      <th>size</th>\n      <th>prix</th>\n      <th>orientation_Est</th>\n      <th>orientation_Nord</th>\n      <th>orientation_Ouest</th>\n      <th>orientation_Sud</th>\n      <th>orientation_Sud Est</th>\n    </tr>\n  </thead>\n  <tbody>\n    <tr>\n      <th>0</th>\n      <td>100</td>\n      <td>1111</td>\n      <td>0</td>\n      <td>0</td>\n      <td>0</td>\n      <td>1</td>\n      <td>0</td>\n    </tr>\n    <tr>\n      <th>1</th>\n      <td>200</td>\n      <td>3000</td>\n      <td>0</td>\n      <td>1</td>\n      <td>0</td>\n      <td>0</td>\n      <td>0</td>\n    </tr>\n    <tr>\n      <th>2</th>\n      <td>50</td>\n      <td>500</td>\n      <td>0</td>\n      <td>0</td>\n      <td>0</td>\n      <td>0</td>\n      <td>1</td>\n    </tr>\n    <tr>\n      <th>3</th>\n      <td>50</td>\n      <td>600</td>\n      <td>1</td>\n      <td>0</td>\n      <td>0</td>\n      <td>0</td>\n      <td>0</td>\n    </tr>\n    <tr>\n      <th>4</th>\n      <td>50</td>\n      <td>520</td>\n      <td>0</td>\n      <td>0</td>\n      <td>1</td>\n      <td>0</td>\n      <td>0</td>\n    </tr>\n  </tbody>\n</table>\n</div>"
     },
     "metadata": {}
    }
   ]
  },
  {
   "cell_type": "markdown",
   "source": "mon modèle a plus de variable : au lieu d'une seule information orientation, on va mettre une variable par direction\n\n$ \\hat{y} = prix = \\theta_0 + \\theta_1 * size + \\theta_2 * est? + \\theta_3 * nord ? + \\theta_4 * Ouest? + \\theta_5 * Sud ? $  \n\nsi la maison est au sud\net qu'elle fait 100 en taille\n\non $ \\hat{y} = \\theta_0 + \\theta_1 * size + \\theta_2 * 0 + \\theta_3 * 0 + \\theta_4 * 0 + \\theta_5 * 1$\n\n\nen faisant ça on découple chaque orientation pour qu'il n'y ait pas de relation d'ordre",
   "metadata": {
    "tags": [],
    "cell_id": "00010-2093056d-a8b1-452f-898f-6d443e9fb650",
    "deepnote_cell_type": "markdown"
   }
  },
  {
   "cell_type": "code",
   "metadata": {
    "tags": [],
    "cell_id": "00010-530193e5-6cac-48a3-9408-101bf0f05809",
    "deepnote_to_be_reexecuted": false,
    "source_hash": "f804c160",
    "execution_start": 1612603952079,
    "execution_millis": 53,
    "deepnote_cell_type": "code"
   },
   "source": "df",
   "execution_count": null,
   "outputs": [
    {
     "output_type": "execute_result",
     "execution_count": 9,
     "data": {
      "application/vnd.deepnote.dataframe.v2+json": {
       "row_count": 5,
       "column_count": 7,
       "columns": [
        {
         "name": "size",
         "dtype": "int64",
         "stats": {
          "unique_count": 3,
          "nan_count": 0,
          "min": 50,
          "max": 200,
          "histogram": [
           {
            "bin_start": 50,
            "bin_end": 65,
            "count": 3
           },
           {
            "bin_start": 65,
            "bin_end": 80,
            "count": 0
           },
           {
            "bin_start": 80,
            "bin_end": 95,
            "count": 0
           },
           {
            "bin_start": 95,
            "bin_end": 110,
            "count": 1
           },
           {
            "bin_start": 110,
            "bin_end": 125,
            "count": 0
           },
           {
            "bin_start": 125,
            "bin_end": 140,
            "count": 0
           },
           {
            "bin_start": 140,
            "bin_end": 155,
            "count": 0
           },
           {
            "bin_start": 155,
            "bin_end": 170,
            "count": 0
           },
           {
            "bin_start": 170,
            "bin_end": 185,
            "count": 0
           },
           {
            "bin_start": 185,
            "bin_end": 200,
            "count": 1
           }
          ]
         }
        },
        {
         "name": "prix",
         "dtype": "int64",
         "stats": {
          "unique_count": 5,
          "nan_count": 0,
          "min": 500,
          "max": 3000,
          "histogram": [
           {
            "bin_start": 500,
            "bin_end": 750,
            "count": 3
           },
           {
            "bin_start": 750,
            "bin_end": 1000,
            "count": 0
           },
           {
            "bin_start": 1000,
            "bin_end": 1250,
            "count": 1
           },
           {
            "bin_start": 1250,
            "bin_end": 1500,
            "count": 0
           },
           {
            "bin_start": 1500,
            "bin_end": 1750,
            "count": 0
           },
           {
            "bin_start": 1750,
            "bin_end": 2000,
            "count": 0
           },
           {
            "bin_start": 2000,
            "bin_end": 2250,
            "count": 0
           },
           {
            "bin_start": 2250,
            "bin_end": 2500,
            "count": 0
           },
           {
            "bin_start": 2500,
            "bin_end": 2750,
            "count": 0
           },
           {
            "bin_start": 2750,
            "bin_end": 3000,
            "count": 1
           }
          ]
         }
        },
        {
         "name": "orientation_Est",
         "dtype": "uint8",
         "stats": {
          "unique_count": 2,
          "nan_count": 0,
          "min": 0,
          "max": 1,
          "histogram": [
           {
            "bin_start": 0,
            "bin_end": 0.1,
            "count": 4
           },
           {
            "bin_start": 0.1,
            "bin_end": 0.2,
            "count": 0
           },
           {
            "bin_start": 0.2,
            "bin_end": 0.30000000000000004,
            "count": 0
           },
           {
            "bin_start": 0.30000000000000004,
            "bin_end": 0.4,
            "count": 0
           },
           {
            "bin_start": 0.4,
            "bin_end": 0.5,
            "count": 0
           },
           {
            "bin_start": 0.5,
            "bin_end": 0.6000000000000001,
            "count": 0
           },
           {
            "bin_start": 0.6000000000000001,
            "bin_end": 0.7000000000000001,
            "count": 0
           },
           {
            "bin_start": 0.7000000000000001,
            "bin_end": 0.8,
            "count": 0
           },
           {
            "bin_start": 0.8,
            "bin_end": 0.9,
            "count": 0
           },
           {
            "bin_start": 0.9,
            "bin_end": 1,
            "count": 1
           }
          ]
         }
        },
        {
         "name": "orientation_Nord",
         "dtype": "uint8",
         "stats": {
          "unique_count": 2,
          "nan_count": 0,
          "min": 0,
          "max": 1,
          "histogram": [
           {
            "bin_start": 0,
            "bin_end": 0.1,
            "count": 4
           },
           {
            "bin_start": 0.1,
            "bin_end": 0.2,
            "count": 0
           },
           {
            "bin_start": 0.2,
            "bin_end": 0.30000000000000004,
            "count": 0
           },
           {
            "bin_start": 0.30000000000000004,
            "bin_end": 0.4,
            "count": 0
           },
           {
            "bin_start": 0.4,
            "bin_end": 0.5,
            "count": 0
           },
           {
            "bin_start": 0.5,
            "bin_end": 0.6000000000000001,
            "count": 0
           },
           {
            "bin_start": 0.6000000000000001,
            "bin_end": 0.7000000000000001,
            "count": 0
           },
           {
            "bin_start": 0.7000000000000001,
            "bin_end": 0.8,
            "count": 0
           },
           {
            "bin_start": 0.8,
            "bin_end": 0.9,
            "count": 0
           },
           {
            "bin_start": 0.9,
            "bin_end": 1,
            "count": 1
           }
          ]
         }
        },
        {
         "name": "orientation_Ouest",
         "dtype": "uint8",
         "stats": {
          "unique_count": 2,
          "nan_count": 0,
          "min": 0,
          "max": 1,
          "histogram": [
           {
            "bin_start": 0,
            "bin_end": 0.1,
            "count": 4
           },
           {
            "bin_start": 0.1,
            "bin_end": 0.2,
            "count": 0
           },
           {
            "bin_start": 0.2,
            "bin_end": 0.30000000000000004,
            "count": 0
           },
           {
            "bin_start": 0.30000000000000004,
            "bin_end": 0.4,
            "count": 0
           },
           {
            "bin_start": 0.4,
            "bin_end": 0.5,
            "count": 0
           },
           {
            "bin_start": 0.5,
            "bin_end": 0.6000000000000001,
            "count": 0
           },
           {
            "bin_start": 0.6000000000000001,
            "bin_end": 0.7000000000000001,
            "count": 0
           },
           {
            "bin_start": 0.7000000000000001,
            "bin_end": 0.8,
            "count": 0
           },
           {
            "bin_start": 0.8,
            "bin_end": 0.9,
            "count": 0
           },
           {
            "bin_start": 0.9,
            "bin_end": 1,
            "count": 1
           }
          ]
         }
        },
        {
         "name": "orientation_Sud",
         "dtype": "uint8",
         "stats": {
          "unique_count": 2,
          "nan_count": 0,
          "min": 0,
          "max": 1,
          "histogram": [
           {
            "bin_start": 0,
            "bin_end": 0.1,
            "count": 4
           },
           {
            "bin_start": 0.1,
            "bin_end": 0.2,
            "count": 0
           },
           {
            "bin_start": 0.2,
            "bin_end": 0.30000000000000004,
            "count": 0
           },
           {
            "bin_start": 0.30000000000000004,
            "bin_end": 0.4,
            "count": 0
           },
           {
            "bin_start": 0.4,
            "bin_end": 0.5,
            "count": 0
           },
           {
            "bin_start": 0.5,
            "bin_end": 0.6000000000000001,
            "count": 0
           },
           {
            "bin_start": 0.6000000000000001,
            "bin_end": 0.7000000000000001,
            "count": 0
           },
           {
            "bin_start": 0.7000000000000001,
            "bin_end": 0.8,
            "count": 0
           },
           {
            "bin_start": 0.8,
            "bin_end": 0.9,
            "count": 0
           },
           {
            "bin_start": 0.9,
            "bin_end": 1,
            "count": 1
           }
          ]
         }
        },
        {
         "name": "orientation_Sud Est",
         "dtype": "uint8",
         "stats": {
          "unique_count": 2,
          "nan_count": 0,
          "min": 0,
          "max": 1,
          "histogram": [
           {
            "bin_start": 0,
            "bin_end": 0.1,
            "count": 4
           },
           {
            "bin_start": 0.1,
            "bin_end": 0.2,
            "count": 0
           },
           {
            "bin_start": 0.2,
            "bin_end": 0.30000000000000004,
            "count": 0
           },
           {
            "bin_start": 0.30000000000000004,
            "bin_end": 0.4,
            "count": 0
           },
           {
            "bin_start": 0.4,
            "bin_end": 0.5,
            "count": 0
           },
           {
            "bin_start": 0.5,
            "bin_end": 0.6000000000000001,
            "count": 0
           },
           {
            "bin_start": 0.6000000000000001,
            "bin_end": 0.7000000000000001,
            "count": 0
           },
           {
            "bin_start": 0.7000000000000001,
            "bin_end": 0.8,
            "count": 0
           },
           {
            "bin_start": 0.8,
            "bin_end": 0.9,
            "count": 0
           },
           {
            "bin_start": 0.9,
            "bin_end": 1,
            "count": 1
           }
          ]
         }
        },
        {
         "name": "_deepnote_index_column",
         "dtype": "int64"
        }
       ],
       "rows_top": [
        {
         "size": 100,
         "prix": 1111,
         "orientation_Est": 0,
         "orientation_Nord": 0,
         "orientation_Ouest": 0,
         "orientation_Sud": 1,
         "orientation_Sud Est": 0,
         "_deepnote_index_column": 0
        },
        {
         "size": 200,
         "prix": 3000,
         "orientation_Est": 0,
         "orientation_Nord": 1,
         "orientation_Ouest": 0,
         "orientation_Sud": 0,
         "orientation_Sud Est": 0,
         "_deepnote_index_column": 1
        },
        {
         "size": 50,
         "prix": 500,
         "orientation_Est": 0,
         "orientation_Nord": 0,
         "orientation_Ouest": 0,
         "orientation_Sud": 0,
         "orientation_Sud Est": 1,
         "_deepnote_index_column": 2
        },
        {
         "size": 50,
         "prix": 600,
         "orientation_Est": 1,
         "orientation_Nord": 0,
         "orientation_Ouest": 0,
         "orientation_Sud": 0,
         "orientation_Sud Est": 0,
         "_deepnote_index_column": 3
        },
        {
         "size": 50,
         "prix": 520,
         "orientation_Est": 0,
         "orientation_Nord": 0,
         "orientation_Ouest": 1,
         "orientation_Sud": 0,
         "orientation_Sud Est": 0,
         "_deepnote_index_column": 4
        }
       ],
       "rows_bottom": null
      },
      "text/plain": "   size  prix  orientation_Est  orientation_Nord  orientation_Ouest  \\\n0   100  1111                0                 0                  0   \n1   200  3000                0                 1                  0   \n2    50   500                0                 0                  0   \n3    50   600                1                 0                  0   \n4    50   520                0                 0                  1   \n\n   orientation_Sud  orientation_Sud Est  \n0                1                    0  \n1                0                    0  \n2                0                    1  \n3                0                    0  \n4                0                    0  ",
      "text/html": "<div>\n<style scoped>\n    .dataframe tbody tr th:only-of-type {\n        vertical-align: middle;\n    }\n\n    .dataframe tbody tr th {\n        vertical-align: top;\n    }\n\n    .dataframe thead th {\n        text-align: right;\n    }\n</style>\n<table border=\"1\" class=\"dataframe\">\n  <thead>\n    <tr style=\"text-align: right;\">\n      <th></th>\n      <th>size</th>\n      <th>prix</th>\n      <th>orientation_Est</th>\n      <th>orientation_Nord</th>\n      <th>orientation_Ouest</th>\n      <th>orientation_Sud</th>\n      <th>orientation_Sud Est</th>\n    </tr>\n  </thead>\n  <tbody>\n    <tr>\n      <th>0</th>\n      <td>100</td>\n      <td>1111</td>\n      <td>0</td>\n      <td>0</td>\n      <td>0</td>\n      <td>1</td>\n      <td>0</td>\n    </tr>\n    <tr>\n      <th>1</th>\n      <td>200</td>\n      <td>3000</td>\n      <td>0</td>\n      <td>1</td>\n      <td>0</td>\n      <td>0</td>\n      <td>0</td>\n    </tr>\n    <tr>\n      <th>2</th>\n      <td>50</td>\n      <td>500</td>\n      <td>0</td>\n      <td>0</td>\n      <td>0</td>\n      <td>0</td>\n      <td>1</td>\n    </tr>\n    <tr>\n      <th>3</th>\n      <td>50</td>\n      <td>600</td>\n      <td>1</td>\n      <td>0</td>\n      <td>0</td>\n      <td>0</td>\n      <td>0</td>\n    </tr>\n    <tr>\n      <th>4</th>\n      <td>50</td>\n      <td>520</td>\n      <td>0</td>\n      <td>0</td>\n      <td>1</td>\n      <td>0</td>\n      <td>0</td>\n    </tr>\n  </tbody>\n</table>\n</div>"
     },
     "metadata": {}
    }
   ]
  },
  {
   "cell_type": "code",
   "metadata": {
    "tags": [],
    "cell_id": "00012-aa1fdf13-651f-4908-b78c-5283f82ce127",
    "deepnote_to_be_reexecuted": false,
    "source_hash": "defc99c6",
    "execution_start": 1612603995390,
    "execution_millis": 1,
    "deepnote_cell_type": "code"
   },
   "source": "from sklearn.model_selection import train_test_split\n\n\ndf_train, df_test = train_test_split(df)\n\n",
   "execution_count": null,
   "outputs": []
  },
  {
   "cell_type": "code",
   "metadata": {
    "tags": [],
    "cell_id": "00013-b2664b1c-f9f7-4aaa-8d2f-08f30532add6",
    "deepnote_to_be_reexecuted": false,
    "source_hash": "e7a4a97c",
    "execution_start": 1612603998249,
    "execution_millis": 21,
    "deepnote_cell_type": "code"
   },
   "source": "df_train",
   "execution_count": null,
   "outputs": [
    {
     "output_type": "execute_result",
     "execution_count": 11,
     "data": {
      "application/vnd.deepnote.dataframe.v2+json": {
       "row_count": 3,
       "column_count": 7,
       "columns": [
        {
         "name": "size",
         "dtype": "int64",
         "stats": {
          "unique_count": 3,
          "nan_count": 0,
          "min": 50,
          "max": 200,
          "histogram": [
           {
            "bin_start": 50,
            "bin_end": 65,
            "count": 1
           },
           {
            "bin_start": 65,
            "bin_end": 80,
            "count": 0
           },
           {
            "bin_start": 80,
            "bin_end": 95,
            "count": 0
           },
           {
            "bin_start": 95,
            "bin_end": 110,
            "count": 1
           },
           {
            "bin_start": 110,
            "bin_end": 125,
            "count": 0
           },
           {
            "bin_start": 125,
            "bin_end": 140,
            "count": 0
           },
           {
            "bin_start": 140,
            "bin_end": 155,
            "count": 0
           },
           {
            "bin_start": 155,
            "bin_end": 170,
            "count": 0
           },
           {
            "bin_start": 170,
            "bin_end": 185,
            "count": 0
           },
           {
            "bin_start": 185,
            "bin_end": 200,
            "count": 1
           }
          ]
         }
        },
        {
         "name": "prix",
         "dtype": "int64",
         "stats": {
          "unique_count": 3,
          "nan_count": 0,
          "min": 500,
          "max": 3000,
          "histogram": [
           {
            "bin_start": 500,
            "bin_end": 750,
            "count": 1
           },
           {
            "bin_start": 750,
            "bin_end": 1000,
            "count": 0
           },
           {
            "bin_start": 1000,
            "bin_end": 1250,
            "count": 1
           },
           {
            "bin_start": 1250,
            "bin_end": 1500,
            "count": 0
           },
           {
            "bin_start": 1500,
            "bin_end": 1750,
            "count": 0
           },
           {
            "bin_start": 1750,
            "bin_end": 2000,
            "count": 0
           },
           {
            "bin_start": 2000,
            "bin_end": 2250,
            "count": 0
           },
           {
            "bin_start": 2250,
            "bin_end": 2500,
            "count": 0
           },
           {
            "bin_start": 2500,
            "bin_end": 2750,
            "count": 0
           },
           {
            "bin_start": 2750,
            "bin_end": 3000,
            "count": 1
           }
          ]
         }
        },
        {
         "name": "orientation_Est",
         "dtype": "uint8",
         "stats": {
          "unique_count": 1,
          "nan_count": 0,
          "min": 0,
          "max": 0,
          "histogram": [
           {
            "bin_start": -0.5,
            "bin_end": -0.4,
            "count": 0
           },
           {
            "bin_start": -0.4,
            "bin_end": -0.3,
            "count": 0
           },
           {
            "bin_start": -0.3,
            "bin_end": -0.19999999999999996,
            "count": 0
           },
           {
            "bin_start": -0.19999999999999996,
            "bin_end": -0.09999999999999998,
            "count": 0
           },
           {
            "bin_start": -0.09999999999999998,
            "bin_end": 0,
            "count": 0
           },
           {
            "bin_start": 0,
            "bin_end": 0.10000000000000009,
            "count": 3
           },
           {
            "bin_start": 0.10000000000000009,
            "bin_end": 0.20000000000000007,
            "count": 0
           },
           {
            "bin_start": 0.20000000000000007,
            "bin_end": 0.30000000000000004,
            "count": 0
           },
           {
            "bin_start": 0.30000000000000004,
            "bin_end": 0.4,
            "count": 0
           },
           {
            "bin_start": 0.4,
            "bin_end": 0.5,
            "count": 0
           }
          ]
         }
        },
        {
         "name": "orientation_Nord",
         "dtype": "uint8",
         "stats": {
          "unique_count": 2,
          "nan_count": 0,
          "min": 0,
          "max": 1,
          "histogram": [
           {
            "bin_start": 0,
            "bin_end": 0.1,
            "count": 2
           },
           {
            "bin_start": 0.1,
            "bin_end": 0.2,
            "count": 0
           },
           {
            "bin_start": 0.2,
            "bin_end": 0.30000000000000004,
            "count": 0
           },
           {
            "bin_start": 0.30000000000000004,
            "bin_end": 0.4,
            "count": 0
           },
           {
            "bin_start": 0.4,
            "bin_end": 0.5,
            "count": 0
           },
           {
            "bin_start": 0.5,
            "bin_end": 0.6000000000000001,
            "count": 0
           },
           {
            "bin_start": 0.6000000000000001,
            "bin_end": 0.7000000000000001,
            "count": 0
           },
           {
            "bin_start": 0.7000000000000001,
            "bin_end": 0.8,
            "count": 0
           },
           {
            "bin_start": 0.8,
            "bin_end": 0.9,
            "count": 0
           },
           {
            "bin_start": 0.9,
            "bin_end": 1,
            "count": 1
           }
          ]
         }
        },
        {
         "name": "orientation_Ouest",
         "dtype": "uint8",
         "stats": {
          "unique_count": 1,
          "nan_count": 0,
          "min": 0,
          "max": 0,
          "histogram": [
           {
            "bin_start": -0.5,
            "bin_end": -0.4,
            "count": 0
           },
           {
            "bin_start": -0.4,
            "bin_end": -0.3,
            "count": 0
           },
           {
            "bin_start": -0.3,
            "bin_end": -0.19999999999999996,
            "count": 0
           },
           {
            "bin_start": -0.19999999999999996,
            "bin_end": -0.09999999999999998,
            "count": 0
           },
           {
            "bin_start": -0.09999999999999998,
            "bin_end": 0,
            "count": 0
           },
           {
            "bin_start": 0,
            "bin_end": 0.10000000000000009,
            "count": 3
           },
           {
            "bin_start": 0.10000000000000009,
            "bin_end": 0.20000000000000007,
            "count": 0
           },
           {
            "bin_start": 0.20000000000000007,
            "bin_end": 0.30000000000000004,
            "count": 0
           },
           {
            "bin_start": 0.30000000000000004,
            "bin_end": 0.4,
            "count": 0
           },
           {
            "bin_start": 0.4,
            "bin_end": 0.5,
            "count": 0
           }
          ]
         }
        },
        {
         "name": "orientation_Sud",
         "dtype": "uint8",
         "stats": {
          "unique_count": 2,
          "nan_count": 0,
          "min": 0,
          "max": 1,
          "histogram": [
           {
            "bin_start": 0,
            "bin_end": 0.1,
            "count": 2
           },
           {
            "bin_start": 0.1,
            "bin_end": 0.2,
            "count": 0
           },
           {
            "bin_start": 0.2,
            "bin_end": 0.30000000000000004,
            "count": 0
           },
           {
            "bin_start": 0.30000000000000004,
            "bin_end": 0.4,
            "count": 0
           },
           {
            "bin_start": 0.4,
            "bin_end": 0.5,
            "count": 0
           },
           {
            "bin_start": 0.5,
            "bin_end": 0.6000000000000001,
            "count": 0
           },
           {
            "bin_start": 0.6000000000000001,
            "bin_end": 0.7000000000000001,
            "count": 0
           },
           {
            "bin_start": 0.7000000000000001,
            "bin_end": 0.8,
            "count": 0
           },
           {
            "bin_start": 0.8,
            "bin_end": 0.9,
            "count": 0
           },
           {
            "bin_start": 0.9,
            "bin_end": 1,
            "count": 1
           }
          ]
         }
        },
        {
         "name": "orientation_Sud Est",
         "dtype": "uint8",
         "stats": {
          "unique_count": 2,
          "nan_count": 0,
          "min": 0,
          "max": 1,
          "histogram": [
           {
            "bin_start": 0,
            "bin_end": 0.1,
            "count": 2
           },
           {
            "bin_start": 0.1,
            "bin_end": 0.2,
            "count": 0
           },
           {
            "bin_start": 0.2,
            "bin_end": 0.30000000000000004,
            "count": 0
           },
           {
            "bin_start": 0.30000000000000004,
            "bin_end": 0.4,
            "count": 0
           },
           {
            "bin_start": 0.4,
            "bin_end": 0.5,
            "count": 0
           },
           {
            "bin_start": 0.5,
            "bin_end": 0.6000000000000001,
            "count": 0
           },
           {
            "bin_start": 0.6000000000000001,
            "bin_end": 0.7000000000000001,
            "count": 0
           },
           {
            "bin_start": 0.7000000000000001,
            "bin_end": 0.8,
            "count": 0
           },
           {
            "bin_start": 0.8,
            "bin_end": 0.9,
            "count": 0
           },
           {
            "bin_start": 0.9,
            "bin_end": 1,
            "count": 1
           }
          ]
         }
        },
        {
         "name": "_deepnote_index_column",
         "dtype": "int64"
        }
       ],
       "rows_top": [
        {
         "size": 200,
         "prix": 3000,
         "orientation_Est": 0,
         "orientation_Nord": 1,
         "orientation_Ouest": 0,
         "orientation_Sud": 0,
         "orientation_Sud Est": 0,
         "_deepnote_index_column": 1
        },
        {
         "size": 100,
         "prix": 1111,
         "orientation_Est": 0,
         "orientation_Nord": 0,
         "orientation_Ouest": 0,
         "orientation_Sud": 1,
         "orientation_Sud Est": 0,
         "_deepnote_index_column": 0
        },
        {
         "size": 50,
         "prix": 500,
         "orientation_Est": 0,
         "orientation_Nord": 0,
         "orientation_Ouest": 0,
         "orientation_Sud": 0,
         "orientation_Sud Est": 1,
         "_deepnote_index_column": 2
        }
       ],
       "rows_bottom": null
      },
      "text/plain": "   size  prix  orientation_Est  orientation_Nord  orientation_Ouest  \\\n1   200  3000                0                 1                  0   \n0   100  1111                0                 0                  0   \n2    50   500                0                 0                  0   \n\n   orientation_Sud  orientation_Sud Est  \n1                0                    0  \n0                1                    0  \n2                0                    1  ",
      "text/html": "<div>\n<style scoped>\n    .dataframe tbody tr th:only-of-type {\n        vertical-align: middle;\n    }\n\n    .dataframe tbody tr th {\n        vertical-align: top;\n    }\n\n    .dataframe thead th {\n        text-align: right;\n    }\n</style>\n<table border=\"1\" class=\"dataframe\">\n  <thead>\n    <tr style=\"text-align: right;\">\n      <th></th>\n      <th>size</th>\n      <th>prix</th>\n      <th>orientation_Est</th>\n      <th>orientation_Nord</th>\n      <th>orientation_Ouest</th>\n      <th>orientation_Sud</th>\n      <th>orientation_Sud Est</th>\n    </tr>\n  </thead>\n  <tbody>\n    <tr>\n      <th>1</th>\n      <td>200</td>\n      <td>3000</td>\n      <td>0</td>\n      <td>1</td>\n      <td>0</td>\n      <td>0</td>\n      <td>0</td>\n    </tr>\n    <tr>\n      <th>0</th>\n      <td>100</td>\n      <td>1111</td>\n      <td>0</td>\n      <td>0</td>\n      <td>0</td>\n      <td>1</td>\n      <td>0</td>\n    </tr>\n    <tr>\n      <th>2</th>\n      <td>50</td>\n      <td>500</td>\n      <td>0</td>\n      <td>0</td>\n      <td>0</td>\n      <td>0</td>\n      <td>1</td>\n    </tr>\n  </tbody>\n</table>\n</div>"
     },
     "metadata": {}
    }
   ]
  },
  {
   "cell_type": "code",
   "metadata": {
    "tags": [],
    "cell_id": "00014-38a31941-d181-4293-9485-56ecf09eedfb",
    "deepnote_to_be_reexecuted": false,
    "source_hash": "e9dc025f",
    "execution_start": 1612604003050,
    "execution_millis": 11,
    "deepnote_cell_type": "code"
   },
   "source": "df_test",
   "execution_count": null,
   "outputs": [
    {
     "output_type": "execute_result",
     "execution_count": 12,
     "data": {
      "application/vnd.deepnote.dataframe.v2+json": {
       "row_count": 2,
       "column_count": 7,
       "columns": [
        {
         "name": "size",
         "dtype": "int64",
         "stats": {
          "unique_count": 1,
          "nan_count": 0,
          "min": 50,
          "max": 50,
          "histogram": [
           {
            "bin_start": 49.5,
            "bin_end": 49.6,
            "count": 0
           },
           {
            "bin_start": 49.6,
            "bin_end": 49.7,
            "count": 0
           },
           {
            "bin_start": 49.7,
            "bin_end": 49.8,
            "count": 0
           },
           {
            "bin_start": 49.8,
            "bin_end": 49.9,
            "count": 0
           },
           {
            "bin_start": 49.9,
            "bin_end": 50,
            "count": 0
           },
           {
            "bin_start": 50,
            "bin_end": 50.1,
            "count": 2
           },
           {
            "bin_start": 50.1,
            "bin_end": 50.2,
            "count": 0
           },
           {
            "bin_start": 50.2,
            "bin_end": 50.3,
            "count": 0
           },
           {
            "bin_start": 50.3,
            "bin_end": 50.4,
            "count": 0
           },
           {
            "bin_start": 50.4,
            "bin_end": 50.5,
            "count": 0
           }
          ]
         }
        },
        {
         "name": "prix",
         "dtype": "int64",
         "stats": {
          "unique_count": 2,
          "nan_count": 0,
          "min": 520,
          "max": 600,
          "histogram": [
           {
            "bin_start": 520,
            "bin_end": 528,
            "count": 1
           },
           {
            "bin_start": 528,
            "bin_end": 536,
            "count": 0
           },
           {
            "bin_start": 536,
            "bin_end": 544,
            "count": 0
           },
           {
            "bin_start": 544,
            "bin_end": 552,
            "count": 0
           },
           {
            "bin_start": 552,
            "bin_end": 560,
            "count": 0
           },
           {
            "bin_start": 560,
            "bin_end": 568,
            "count": 0
           },
           {
            "bin_start": 568,
            "bin_end": 576,
            "count": 0
           },
           {
            "bin_start": 576,
            "bin_end": 584,
            "count": 0
           },
           {
            "bin_start": 584,
            "bin_end": 592,
            "count": 0
           },
           {
            "bin_start": 592,
            "bin_end": 600,
            "count": 1
           }
          ]
         }
        },
        {
         "name": "orientation_Est",
         "dtype": "uint8",
         "stats": {
          "unique_count": 2,
          "nan_count": 0,
          "min": 0,
          "max": 1,
          "histogram": [
           {
            "bin_start": 0,
            "bin_end": 0.1,
            "count": 1
           },
           {
            "bin_start": 0.1,
            "bin_end": 0.2,
            "count": 0
           },
           {
            "bin_start": 0.2,
            "bin_end": 0.30000000000000004,
            "count": 0
           },
           {
            "bin_start": 0.30000000000000004,
            "bin_end": 0.4,
            "count": 0
           },
           {
            "bin_start": 0.4,
            "bin_end": 0.5,
            "count": 0
           },
           {
            "bin_start": 0.5,
            "bin_end": 0.6000000000000001,
            "count": 0
           },
           {
            "bin_start": 0.6000000000000001,
            "bin_end": 0.7000000000000001,
            "count": 0
           },
           {
            "bin_start": 0.7000000000000001,
            "bin_end": 0.8,
            "count": 0
           },
           {
            "bin_start": 0.8,
            "bin_end": 0.9,
            "count": 0
           },
           {
            "bin_start": 0.9,
            "bin_end": 1,
            "count": 1
           }
          ]
         }
        },
        {
         "name": "orientation_Nord",
         "dtype": "uint8",
         "stats": {
          "unique_count": 1,
          "nan_count": 0,
          "min": 0,
          "max": 0,
          "histogram": [
           {
            "bin_start": -0.5,
            "bin_end": -0.4,
            "count": 0
           },
           {
            "bin_start": -0.4,
            "bin_end": -0.3,
            "count": 0
           },
           {
            "bin_start": -0.3,
            "bin_end": -0.19999999999999996,
            "count": 0
           },
           {
            "bin_start": -0.19999999999999996,
            "bin_end": -0.09999999999999998,
            "count": 0
           },
           {
            "bin_start": -0.09999999999999998,
            "bin_end": 0,
            "count": 0
           },
           {
            "bin_start": 0,
            "bin_end": 0.10000000000000009,
            "count": 2
           },
           {
            "bin_start": 0.10000000000000009,
            "bin_end": 0.20000000000000007,
            "count": 0
           },
           {
            "bin_start": 0.20000000000000007,
            "bin_end": 0.30000000000000004,
            "count": 0
           },
           {
            "bin_start": 0.30000000000000004,
            "bin_end": 0.4,
            "count": 0
           },
           {
            "bin_start": 0.4,
            "bin_end": 0.5,
            "count": 0
           }
          ]
         }
        },
        {
         "name": "orientation_Ouest",
         "dtype": "uint8",
         "stats": {
          "unique_count": 2,
          "nan_count": 0,
          "min": 0,
          "max": 1,
          "histogram": [
           {
            "bin_start": 0,
            "bin_end": 0.1,
            "count": 1
           },
           {
            "bin_start": 0.1,
            "bin_end": 0.2,
            "count": 0
           },
           {
            "bin_start": 0.2,
            "bin_end": 0.30000000000000004,
            "count": 0
           },
           {
            "bin_start": 0.30000000000000004,
            "bin_end": 0.4,
            "count": 0
           },
           {
            "bin_start": 0.4,
            "bin_end": 0.5,
            "count": 0
           },
           {
            "bin_start": 0.5,
            "bin_end": 0.6000000000000001,
            "count": 0
           },
           {
            "bin_start": 0.6000000000000001,
            "bin_end": 0.7000000000000001,
            "count": 0
           },
           {
            "bin_start": 0.7000000000000001,
            "bin_end": 0.8,
            "count": 0
           },
           {
            "bin_start": 0.8,
            "bin_end": 0.9,
            "count": 0
           },
           {
            "bin_start": 0.9,
            "bin_end": 1,
            "count": 1
           }
          ]
         }
        },
        {
         "name": "orientation_Sud",
         "dtype": "uint8",
         "stats": {
          "unique_count": 1,
          "nan_count": 0,
          "min": 0,
          "max": 0,
          "histogram": [
           {
            "bin_start": -0.5,
            "bin_end": -0.4,
            "count": 0
           },
           {
            "bin_start": -0.4,
            "bin_end": -0.3,
            "count": 0
           },
           {
            "bin_start": -0.3,
            "bin_end": -0.19999999999999996,
            "count": 0
           },
           {
            "bin_start": -0.19999999999999996,
            "bin_end": -0.09999999999999998,
            "count": 0
           },
           {
            "bin_start": -0.09999999999999998,
            "bin_end": 0,
            "count": 0
           },
           {
            "bin_start": 0,
            "bin_end": 0.10000000000000009,
            "count": 2
           },
           {
            "bin_start": 0.10000000000000009,
            "bin_end": 0.20000000000000007,
            "count": 0
           },
           {
            "bin_start": 0.20000000000000007,
            "bin_end": 0.30000000000000004,
            "count": 0
           },
           {
            "bin_start": 0.30000000000000004,
            "bin_end": 0.4,
            "count": 0
           },
           {
            "bin_start": 0.4,
            "bin_end": 0.5,
            "count": 0
           }
          ]
         }
        },
        {
         "name": "orientation_Sud Est",
         "dtype": "uint8",
         "stats": {
          "unique_count": 1,
          "nan_count": 0,
          "min": 0,
          "max": 0,
          "histogram": [
           {
            "bin_start": -0.5,
            "bin_end": -0.4,
            "count": 0
           },
           {
            "bin_start": -0.4,
            "bin_end": -0.3,
            "count": 0
           },
           {
            "bin_start": -0.3,
            "bin_end": -0.19999999999999996,
            "count": 0
           },
           {
            "bin_start": -0.19999999999999996,
            "bin_end": -0.09999999999999998,
            "count": 0
           },
           {
            "bin_start": -0.09999999999999998,
            "bin_end": 0,
            "count": 0
           },
           {
            "bin_start": 0,
            "bin_end": 0.10000000000000009,
            "count": 2
           },
           {
            "bin_start": 0.10000000000000009,
            "bin_end": 0.20000000000000007,
            "count": 0
           },
           {
            "bin_start": 0.20000000000000007,
            "bin_end": 0.30000000000000004,
            "count": 0
           },
           {
            "bin_start": 0.30000000000000004,
            "bin_end": 0.4,
            "count": 0
           },
           {
            "bin_start": 0.4,
            "bin_end": 0.5,
            "count": 0
           }
          ]
         }
        },
        {
         "name": "_deepnote_index_column",
         "dtype": "int64"
        }
       ],
       "rows_top": [
        {
         "size": 50,
         "prix": 520,
         "orientation_Est": 0,
         "orientation_Nord": 0,
         "orientation_Ouest": 1,
         "orientation_Sud": 0,
         "orientation_Sud Est": 0,
         "_deepnote_index_column": 4
        },
        {
         "size": 50,
         "prix": 600,
         "orientation_Est": 1,
         "orientation_Nord": 0,
         "orientation_Ouest": 0,
         "orientation_Sud": 0,
         "orientation_Sud Est": 0,
         "_deepnote_index_column": 3
        }
       ],
       "rows_bottom": null
      },
      "text/plain": "   size  prix  orientation_Est  orientation_Nord  orientation_Ouest  \\\n4    50   520                0                 0                  1   \n3    50   600                1                 0                  0   \n\n   orientation_Sud  orientation_Sud Est  \n4                0                    0  \n3                0                    0  ",
      "text/html": "<div>\n<style scoped>\n    .dataframe tbody tr th:only-of-type {\n        vertical-align: middle;\n    }\n\n    .dataframe tbody tr th {\n        vertical-align: top;\n    }\n\n    .dataframe thead th {\n        text-align: right;\n    }\n</style>\n<table border=\"1\" class=\"dataframe\">\n  <thead>\n    <tr style=\"text-align: right;\">\n      <th></th>\n      <th>size</th>\n      <th>prix</th>\n      <th>orientation_Est</th>\n      <th>orientation_Nord</th>\n      <th>orientation_Ouest</th>\n      <th>orientation_Sud</th>\n      <th>orientation_Sud Est</th>\n    </tr>\n  </thead>\n  <tbody>\n    <tr>\n      <th>4</th>\n      <td>50</td>\n      <td>520</td>\n      <td>0</td>\n      <td>0</td>\n      <td>1</td>\n      <td>0</td>\n      <td>0</td>\n    </tr>\n    <tr>\n      <th>3</th>\n      <td>50</td>\n      <td>600</td>\n      <td>1</td>\n      <td>0</td>\n      <td>0</td>\n      <td>0</td>\n      <td>0</td>\n    </tr>\n  </tbody>\n</table>\n</div>"
     },
     "metadata": {}
    }
   ]
  },
  {
   "cell_type": "code",
   "metadata": {
    "tags": [],
    "cell_id": "00015-1d825f38-1cfc-43f7-989a-225595f213c4",
    "deepnote_to_be_reexecuted": false,
    "source_hash": "9d2c64e7",
    "execution_millis": 8,
    "execution_start": 1612604069593,
    "deepnote_cell_type": "code"
   },
   "source": "from sklearn.linear_model import LinearRegression\nmodel = LinearRegression()\n\nX_train = df_train[['size', 'orientation_Est', 'orientation_Ouest', 'orientation_Nord', 'orientation_Sud']]\ny_train = df_train['prix']\n\nmodel.fit(X_train, y_train)",
   "execution_count": null,
   "outputs": [
    {
     "output_type": "execute_result",
     "execution_count": 15,
     "data": {
      "text/plain": "LinearRegression()"
     },
     "metadata": {}
    }
   ]
  },
  {
   "cell_type": "code",
   "metadata": {
    "tags": [],
    "cell_id": "00016-5368c893-8b11-4191-ae0b-1b0352309039",
    "deepnote_to_be_reexecuted": false,
    "source_hash": "48b44f0b",
    "execution_millis": 2,
    "execution_start": 1612604167747,
    "deepnote_cell_type": "code"
   },
   "source": "#le modèle a été entraîner on va l'évaluer sur le train et sur le test ! !!! \nfrom sklearn.metrics import mean_squared_error\n\nmse_train = mean_squared_error(model.predict(X_train), y_train)\n\nX_test = df_test[['size', 'orientation_Est', 'orientation_Ouest', 'orientation_Nord', 'orientation_Sud']]\ny_test = df_test['prix']\n\n\n#nulle part j'ai fais de fit sur x_test, y_test donc on n'a jamais révélé les réponses du test au modèles\nmse_test = mean_squared_error(model.predict(X_test), y_test)",
   "execution_count": null,
   "outputs": []
  },
  {
   "cell_type": "code",
   "metadata": {
    "tags": [],
    "cell_id": "00017-ff1542be-5ac7-43f0-831e-a729d5587dd9",
    "deepnote_to_be_reexecuted": false,
    "source_hash": "2ccd2e2e",
    "execution_start": 1612604174738,
    "execution_millis": 7,
    "deepnote_cell_type": "code"
   },
   "source": "mse_train, mse_test #bon score sur le train, mauvais score sur le test : généralise pas (apprit par coeur : overfitting :())",
   "execution_count": null,
   "outputs": [
    {
     "output_type": "execute_result",
     "execution_count": 18,
     "data": {
      "text/plain": "(4.006656092053728e-25, 5199.999999999933)"
     },
     "metadata": {}
    }
   ]
  },
  {
   "cell_type": "code",
   "metadata": {
    "tags": [],
    "cell_id": "00018-71941759-d6d0-4344-b661-9d8431f8f48e",
    "deepnote_cell_type": "code"
   },
   "source": "# pour lutter l'apprentissage par coeur il y a plusieurs méthode\n# la première consiste limité la capacité du modèle (la taille du cerveau)\n# la seconde :  plus de donnée d'entraînement => plus dur d'apprendre par coeur\n\n\n",
   "execution_count": null,
   "outputs": []
  },
  {
   "cell_type": "code",
   "metadata": {
    "tags": [],
    "cell_id": "00019-5d1e4cb9-035b-4dad-b5be-d693d89b2387",
    "deepnote_to_be_reexecuted": false,
    "source_hash": "ae7607ba",
    "execution_start": 1612604444356,
    "execution_millis": 15,
    "deepnote_cell_type": "code"
   },
   "source": "# dans sklearn il existe d'autres modèles de régression \n\n#chaque modèle a sa propre formule mathématique \nfrom sklearn.tree import DecisionTreeRegressor\n\nmodel = DecisionTreeRegressor()\n\nmodel.fit(X_train, y_train)\n\n#etc",
   "execution_count": null,
   "outputs": [
    {
     "output_type": "execute_result",
     "execution_count": 19,
     "data": {
      "text/plain": "DecisionTreeRegressor()"
     },
     "metadata": {}
    }
   ]
  },
  {
   "cell_type": "code",
   "metadata": {
    "tags": [],
    "cell_id": "00020-2d52f3ee-301d-4cde-8a43-9164dca00386",
    "deepnote_to_be_reexecuted": false,
    "source_hash": "61b94bb2",
    "execution_millis": 13,
    "execution_start": 1612604494048,
    "deepnote_cell_type": "code"
   },
   "source": "from sklearn.linear_model import BayesianRidge\n\nmodel = BayesianRidge()\nmodel.fit(X_train, y_train)",
   "execution_count": null,
   "outputs": [
    {
     "output_type": "execute_result",
     "execution_count": 21,
     "data": {
      "text/plain": "BayesianRidge()"
     },
     "metadata": {}
    }
   ]
  },
  {
   "cell_type": "code",
   "metadata": {
    "tags": [],
    "cell_id": "00021-2fb3d602-76e6-45fe-b360-012b0bf0c219",
    "deepnote_to_be_reexecuted": false,
    "source_hash": "c916de6f",
    "execution_start": 1612604518575,
    "execution_millis": 72,
    "deepnote_cell_type": "code"
   },
   "source": "from sklearn.ensemble import RandomForestRegressor\n\nmodel = RandomForestRegressor()\nmodel.fit(X_train, y_train)",
   "execution_count": null,
   "outputs": [
    {
     "output_type": "execute_result",
     "execution_count": 22,
     "data": {
      "text/plain": "RandomForestRegressor()"
     },
     "metadata": {}
    }
   ]
  },
  {
   "cell_type": "code",
   "metadata": {
    "tags": [],
    "cell_id": "00022-61d162d8-6d02-4125-8975-5e4caa800dce",
    "deepnote_cell_type": "code"
   },
   "source": "# mais si on veut faire de la classification ? \n\n\n#Le plus simple :\n\nfrom sklearn.linear_model import LogisticRegression # C4EST PAS PARCE QUE Y A MARQUE REGRESSION QUE CEST DE LA REGRESSION : CEST DE LA CLASSIFICATION\n\n\n#classification on prédit une variable discrète : 0, 1, 2 , Ou 3 (chat , chien, girafe, poulet)\n\n",
   "execution_count": null,
   "outputs": []
  },
  {
   "cell_type": "markdown",
   "source": "<a style='text-decoration:none;line-height:16px;display:flex;color:#5B5B62;padding:10px;justify-content:end;' href='https://deepnote.com?utm_source=created-in-deepnote-cell&projectId=25ad01f7-ec4b-4ac8-bce6-a3745ef02c96' target=\"_blank\">\n<img alt='Created in deepnote.com' style='display:inline;max-height:16px;margin:0px;margin-right:7.5px;' src='data:image/svg+xml;base64,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' > </img>\nCreated in <span style='font-weight:600;margin-left:4px;'>Deepnote</span></a>",
   "metadata": {
    "tags": [],
    "created_in_deepnote_cell": true,
    "deepnote_cell_type": "markdown"
   }
  }
 ],
 "nbformat": 4,
 "nbformat_minor": 2,
 "metadata": {
  "orig_nbformat": 2,
  "deepnote_notebook_id": "43943db6-b35d-49ef-8ed6-f6a1c35ead74",
  "deepnote_execution_queue": [],
  "deepnote": {}
 }
}